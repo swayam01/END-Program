{
 "cells": [
  {
   "cell_type": "markdown",
   "metadata": {},
   "source": [
    "### Question1: Write a function using only list filter lambda that can tell whether a number is a Fibonacci number or not."
   ]
  },
  {
   "cell_type": "code",
   "execution_count": 25,
   "metadata": {},
   "outputs": [],
   "source": [
    "import math "
   ]
  },
  {
   "cell_type": "code",
   "execution_count": 26,
   "metadata": {},
   "outputs": [],
   "source": [
    "# A utility function that returns true if x is perfect square \n",
    "PerfectSquare_fn = lambda x: int(math.sqrt(x))*int(math.sqrt(x)) == x"
   ]
  },
  {
   "cell_type": "code",
   "execution_count": 28,
   "metadata": {},
   "outputs": [],
   "source": [
    "# Returns true if n is a Fibinacci Number, else false \n",
    "isFibonacci_fn = lambda n: PerfectSquare_fn(5*n*n + 4) or PerfectSquare_fn(5*n*n - 4) "
   ]
  },
  {
   "cell_type": "code",
   "execution_count": 30,
   "metadata": {},
   "outputs": [
    {
     "name": "stdout",
     "output_type": "stream",
     "text": [
      "1 is a Fibonacci Number\n",
      "2 is a Fibonacci Number\n",
      "3 is a Fibonacci Number\n",
      "4 is not a Fibonacci Number\n",
      "5 is a Fibonacci Number\n",
      "6 is not a Fibonacci Number\n",
      "7 is not a Fibonacci Number\n",
      "8 is a Fibonacci Number\n",
      "9 is not a Fibonacci Number\n",
      "10 is not a Fibonacci Number\n"
     ]
    }
   ],
   "source": [
    "# A utility function to test above functions \n",
    "for i in range(1,11):\n",
    "    if (isFibonacci_fn(i) == True):\n",
    "        print(\"{} is a Fibonacci Number\".format(i))\n",
    "    else: \n",
    "         print(\"{} is not a Fibonacci Number\".format(i))"
   ]
  },
  {
   "cell_type": "markdown",
   "metadata": {},
   "source": [
    "### question2: Using list comprehension (and zip/lambda/etc if required) write five different expressions"
   ]
  },
  {
   "cell_type": "markdown",
   "metadata": {},
   "source": [
    "#### part2.1: add 2 iterables a and b such that a is even and b is odd"
   ]
  },
  {
   "cell_type": "code",
   "execution_count": 42,
   "metadata": {},
   "outputs": [
    {
     "data": {
      "text/plain": [
       "[1, 2, 3, 4, 5, 6, 7, 8, 9]"
      ]
     },
     "execution_count": 42,
     "metadata": {},
     "output_type": "execute_result"
    }
   ],
   "source": [
    "a = list(range(1,10))\n",
    "a"
   ]
  },
  {
   "cell_type": "code",
   "execution_count": 43,
   "metadata": {},
   "outputs": [
    {
     "data": {
      "text/plain": [
       "[11, 12, 13, 14, 15, 16, 17, 18, 19]"
      ]
     },
     "execution_count": 43,
     "metadata": {},
     "output_type": "execute_result"
    }
   ],
   "source": [
    "b = list(range(11,20))\n",
    "b"
   ]
  },
  {
   "cell_type": "code",
   "execution_count": 44,
   "metadata": {},
   "outputs": [],
   "source": [
    "even_fn = lambda num: (num % 2) == 0\n",
    "odd_fn = lambda num: (num % 2) != 0"
   ]
  },
  {
   "cell_type": "code",
   "execution_count": 47,
   "metadata": {},
   "outputs": [],
   "source": [
    "even_lst = list(filter(even_fn,a))\n",
    "odd_lst = list(filter(odd_fn,b))"
   ]
  },
  {
   "cell_type": "code",
   "execution_count": 52,
   "metadata": {},
   "outputs": [
    {
     "data": {
      "text/plain": [
       "[13, 17, 21, 25]"
      ]
     },
     "execution_count": 52,
     "metadata": {},
     "output_type": "execute_result"
    }
   ],
   "source": [
    "[sum(x) for x in zip(even_lst, odd_lst)]"
   ]
  },
  {
   "cell_type": "markdown",
   "metadata": {},
   "source": [
    "#### part2.2: strips every vowel from a string provided (tsai>>t s)"
   ]
  },
  {
   "cell_type": "code",
   "execution_count": 61,
   "metadata": {},
   "outputs": [],
   "source": [
    "inp = 'the school of ai aka tsai is awesome'"
   ]
  },
  {
   "cell_type": "code",
   "execution_count": 62,
   "metadata": {},
   "outputs": [],
   "source": [
    "import re\n",
    "antiVowel_fn = lambda s: re.sub(r'[AEIOU]', '', s, flags=re.IGNORECASE)"
   ]
  },
  {
   "cell_type": "code",
   "execution_count": 63,
   "metadata": {},
   "outputs": [
    {
     "data": {
      "text/plain": [
       "'th schl f  k ts s wsm'"
      ]
     },
     "execution_count": 63,
     "metadata": {},
     "output_type": "execute_result"
    }
   ],
   "source": [
    "antiVowel_fn(inp)"
   ]
  },
  {
   "cell_type": "markdown",
   "metadata": {},
   "source": [
    "#### part2.3: acts like a ReLU function for a 1D array"
   ]
  },
  {
   "cell_type": "code",
   "execution_count": 77,
   "metadata": {},
   "outputs": [],
   "source": [
    "import random\n",
    "x = random.sample(range(-10, 30), 5)"
   ]
  },
  {
   "cell_type": "code",
   "execution_count": 78,
   "metadata": {},
   "outputs": [
    {
     "data": {
      "text/plain": [
       "[-9, 22, -4, -6, 18]"
      ]
     },
     "execution_count": 78,
     "metadata": {},
     "output_type": "execute_result"
    }
   ],
   "source": [
    "x"
   ]
  },
  {
   "cell_type": "code",
   "execution_count": 79,
   "metadata": {},
   "outputs": [
    {
     "data": {
      "text/plain": [
       "[0, 22, 0, 0, 18]"
      ]
     },
     "execution_count": 79,
     "metadata": {},
     "output_type": "execute_result"
    }
   ],
   "source": [
    "[0 if i < 0 else i for i in x]"
   ]
  },
  {
   "cell_type": "markdown",
   "metadata": {},
   "source": [
    "#### part2.4: acts like a sigmoid function for a 1D array"
   ]
  },
  {
   "cell_type": "code",
   "execution_count": 87,
   "metadata": {},
   "outputs": [],
   "source": [
    "import random\n",
    "y = random.sample(range(1, 10), 5)"
   ]
  },
  {
   "cell_type": "code",
   "execution_count": 88,
   "metadata": {},
   "outputs": [
    {
     "data": {
      "text/plain": [
       "[3, 4, 2, 8, 5]"
      ]
     },
     "execution_count": 88,
     "metadata": {},
     "output_type": "execute_result"
    }
   ],
   "source": [
    "y"
   ]
  },
  {
   "cell_type": "code",
   "execution_count": 89,
   "metadata": {},
   "outputs": [],
   "source": [
    "sigmoid_fn = lambda x: 1 / (1 + math.exp(-x))"
   ]
  },
  {
   "cell_type": "code",
   "execution_count": 90,
   "metadata": {},
   "outputs": [
    {
     "data": {
      "text/plain": [
       "[0.9525741268224334,\n",
       " 0.9820137900379085,\n",
       " 0.8807970779778823,\n",
       " 0.9996646498695336,\n",
       " 0.9933071490757153]"
      ]
     },
     "execution_count": 90,
     "metadata": {},
     "output_type": "execute_result"
    }
   ],
   "source": [
    "list(map(sigmoid_fn,y))"
   ]
  },
  {
   "cell_type": "markdown",
   "metadata": {},
   "source": [
    "#### part2.5: takes a small character string and shifts all characters by 5 (handle boundary conditions) tsai>>yxfn"
   ]
  },
  {
   "cell_type": "code",
   "execution_count": 337,
   "metadata": {},
   "outputs": [
    {
     "data": {
      "text/plain": [
       "['e', 't', 'q', 't']"
      ]
     },
     "execution_count": 337,
     "metadata": {},
     "output_type": "execute_result"
    }
   ],
   "source": [
    "[chr(97 + (4 - (ord('z') - ord(item))))  if ord(item) + 5 > ord('z') else chr(ord(item) + 5) for item in 'zolo']"
   ]
  },
  {
   "cell_type": "markdown",
   "metadata": {},
   "source": [
    "### Question3: A list comprehension expression that takes a ~200 word paragraph (write your own paragraph to check), and checks whether it has any of the swear words mentioned in https://github.com/RobertJGabriel/Google-profanity-words/blob/master/list.txt"
   ]
  },
  {
   "cell_type": "code",
   "execution_count": 319,
   "metadata": {},
   "outputs": [],
   "source": [
    "text = \"\"\"What the fuck did you just fucking say about me, you little bitch? \\\n",
    "I'll have you know I graduated top of my class in the Navy Seals, and\\\n",
    "I've been involved in numerous secret raids on Al-Quaeda, and I have over \\\n",
    "300 confirmed kills. I am trained in gorilla warfare and I'm the top sniper\\\n",
    "in the entire US armed forces. You are nothing to me but just another target.\\\n",
    "I will wipe you the fuck out with precision the likes of which has never been \\\n",
    "seen before on this Earth, mark my fucking words. You think you can get away with\\\n",
    "saying that shit to me over the Internet? Think again, fucker. As we speak \\\n",
    "I am contacting my secret network of spies across the USA and your IP is being\\\n",
    "traced right now so you better prepare for the storm, maggot. \\\n",
    "The storm that wipes out the pathetic little thing you call your life.\\\n",
    "You're fucking dead, kid.\\\n",
    "I will shit fury all over you and you will drown in it. \\\n",
    "You're fucking dead, kiddo.\"\"\""
   ]
  },
  {
   "cell_type": "code",
   "execution_count": 320,
   "metadata": {},
   "outputs": [],
   "source": [
    "with open('list.txt') as f:\n",
    "    content = f.readlines()"
   ]
  },
  {
   "cell_type": "code",
   "execution_count": 321,
   "metadata": {},
   "outputs": [],
   "source": [
    "# remove whitespace at the end of each line\n",
    "content = [x.strip() for x in content] "
   ]
  },
  {
   "cell_type": "code",
   "execution_count": 322,
   "metadata": {},
   "outputs": [
    {
     "data": {
      "text/plain": [
       "['4r5e',\n",
       " '5h1t',\n",
       " '5hit',\n",
       " 'a55',\n",
       " 'anal',\n",
       " 'anus',\n",
       " 'ar5e',\n",
       " 'arrse',\n",
       " 'arse',\n",
       " 'ass',\n",
       " 'ass-fucker',\n",
       " 'asses',\n",
       " 'assfucker',\n",
       " 'assfukka',\n",
       " 'asshole',\n",
       " 'assholes',\n",
       " 'asswhole',\n",
       " 'a_s_s',\n",
       " 'b!tch',\n",
       " 'b00bs',\n",
       " 'b17ch',\n",
       " 'b1tch',\n",
       " 'ballbag',\n",
       " 'balls',\n",
       " 'ballsack',\n",
       " 'bastard',\n",
       " 'beastial',\n",
       " 'beastiality',\n",
       " 'bellend',\n",
       " 'bestial',\n",
       " 'bestiality',\n",
       " 'bi+ch',\n",
       " 'biatch',\n",
       " 'bitch',\n",
       " 'bitcher',\n",
       " 'bitchers',\n",
       " 'bitches',\n",
       " 'bitchin',\n",
       " 'bitching',\n",
       " 'bloody',\n",
       " 'blow job',\n",
       " 'blowjob',\n",
       " 'blowjobs',\n",
       " 'boiolas',\n",
       " 'bollock',\n",
       " 'bollok',\n",
       " 'boner',\n",
       " 'boob',\n",
       " 'boobs',\n",
       " 'booobs',\n",
       " 'boooobs',\n",
       " 'booooobs',\n",
       " 'booooooobs',\n",
       " 'breasts',\n",
       " 'buceta',\n",
       " 'bugger',\n",
       " 'bum',\n",
       " 'bunny fucker',\n",
       " 'butt',\n",
       " 'butthole',\n",
       " 'buttmunch',\n",
       " 'buttplug',\n",
       " 'c0ck',\n",
       " 'c0cksucker',\n",
       " 'carpet muncher',\n",
       " 'cawk',\n",
       " 'chink',\n",
       " 'cipa',\n",
       " 'cl1t',\n",
       " 'clit',\n",
       " 'clitoris',\n",
       " 'clits',\n",
       " 'cnut',\n",
       " 'cock',\n",
       " 'cock-sucker',\n",
       " 'cockface',\n",
       " 'cockhead',\n",
       " 'cockmunch',\n",
       " 'cockmuncher',\n",
       " 'cocks',\n",
       " 'cocksuck',\n",
       " 'cocksucked',\n",
       " 'cocksucker',\n",
       " 'cocksucking',\n",
       " 'cocksucks',\n",
       " 'cocksuka',\n",
       " 'cocksukka',\n",
       " 'cok',\n",
       " 'cokmuncher',\n",
       " 'coksucka',\n",
       " 'coon',\n",
       " 'cox',\n",
       " 'crap',\n",
       " 'cum',\n",
       " 'cummer',\n",
       " 'cumming',\n",
       " 'cums',\n",
       " 'cumshot',\n",
       " 'cunilingus',\n",
       " 'cunillingus',\n",
       " 'cunnilingus',\n",
       " 'cunt',\n",
       " 'cuntlick',\n",
       " 'cuntlicker',\n",
       " 'cuntlicking',\n",
       " 'cunts',\n",
       " 'cyalis',\n",
       " 'cyberfuc',\n",
       " 'cyberfuck',\n",
       " 'cyberfucked',\n",
       " 'cyberfucker',\n",
       " 'cyberfuckers',\n",
       " 'cyberfucking',\n",
       " 'd1ck',\n",
       " 'damn',\n",
       " 'dick',\n",
       " 'dickhead',\n",
       " 'dildo',\n",
       " 'dildos',\n",
       " 'dink',\n",
       " 'dinks',\n",
       " 'dirsa',\n",
       " 'dlck',\n",
       " 'dog-fucker',\n",
       " 'doggin',\n",
       " 'dogging',\n",
       " 'donkeyribber',\n",
       " 'doosh',\n",
       " 'duche',\n",
       " 'dyke',\n",
       " 'ejaculate',\n",
       " 'ejaculated',\n",
       " 'ejaculates',\n",
       " 'ejaculating',\n",
       " 'ejaculatings',\n",
       " 'ejaculation',\n",
       " 'ejakulate',\n",
       " 'f u c k',\n",
       " 'f u c k e r',\n",
       " 'f4nny',\n",
       " 'fag',\n",
       " 'fagging',\n",
       " 'faggitt',\n",
       " 'faggot',\n",
       " 'faggs',\n",
       " 'fagot',\n",
       " 'fagots',\n",
       " 'fags',\n",
       " 'fanny',\n",
       " 'fannyflaps',\n",
       " 'fannyfucker',\n",
       " 'fanyy',\n",
       " 'fatass',\n",
       " 'fcuk',\n",
       " 'fcuker',\n",
       " 'fcuking',\n",
       " 'feck',\n",
       " 'fecker',\n",
       " 'felching',\n",
       " 'fellate',\n",
       " 'fellatio',\n",
       " 'fingerfuck',\n",
       " 'fingerfucked',\n",
       " 'fingerfucker',\n",
       " 'fingerfuckers',\n",
       " 'fingerfucking',\n",
       " 'fingerfucks',\n",
       " 'fistfuck',\n",
       " 'fistfucked',\n",
       " 'fistfucker',\n",
       " 'fistfuckers',\n",
       " 'fistfucking',\n",
       " 'fistfuckings',\n",
       " 'fistfucks',\n",
       " 'flange',\n",
       " 'fook',\n",
       " 'fooker',\n",
       " 'fuck',\n",
       " 'fucka',\n",
       " 'fucked',\n",
       " 'fucker',\n",
       " 'fuckers',\n",
       " 'fuckhead',\n",
       " 'fuckheads',\n",
       " 'fuckin',\n",
       " 'fucking',\n",
       " 'fuckings',\n",
       " 'fuckingshitmotherfucker',\n",
       " 'fuckme',\n",
       " 'fucks',\n",
       " 'fuckwhit',\n",
       " 'fuckwit',\n",
       " 'fudge packer',\n",
       " 'fudgepacker',\n",
       " 'fuk',\n",
       " 'fuker',\n",
       " 'fukker',\n",
       " 'fukkin',\n",
       " 'fuks',\n",
       " 'fukwhit',\n",
       " 'fukwit',\n",
       " 'fux',\n",
       " 'fux0r',\n",
       " 'f_u_c_k',\n",
       " 'gangbang',\n",
       " 'gangbanged',\n",
       " 'gangbangs',\n",
       " 'gaylord',\n",
       " 'gaysex',\n",
       " 'goatse',\n",
       " 'God',\n",
       " 'god-dam',\n",
       " 'god-damned',\n",
       " 'goddamn',\n",
       " 'goddamned',\n",
       " 'hardcoresex',\n",
       " 'hell',\n",
       " 'heshe',\n",
       " 'hoar',\n",
       " 'hoare',\n",
       " 'hoer',\n",
       " 'homo',\n",
       " 'hore',\n",
       " 'horniest',\n",
       " 'horny',\n",
       " 'hotsex',\n",
       " 'jack-off',\n",
       " 'jackoff',\n",
       " 'jap',\n",
       " 'jerk-off',\n",
       " 'jism',\n",
       " 'jiz',\n",
       " 'jizm',\n",
       " 'jizz',\n",
       " 'kawk',\n",
       " 'knob',\n",
       " 'knobead',\n",
       " 'knobed',\n",
       " 'knobend',\n",
       " 'knobhead',\n",
       " 'knobjocky',\n",
       " 'knobjokey',\n",
       " 'kock',\n",
       " 'kondum',\n",
       " 'kondums',\n",
       " 'kum',\n",
       " 'kummer',\n",
       " 'kumming',\n",
       " 'kums',\n",
       " 'kunilingus',\n",
       " 'l3i+ch',\n",
       " 'l3itch',\n",
       " 'labia',\n",
       " 'lmfao',\n",
       " 'lust',\n",
       " 'lusting',\n",
       " 'm0f0',\n",
       " 'm0fo',\n",
       " 'm45terbate',\n",
       " 'ma5terb8',\n",
       " 'ma5terbate',\n",
       " 'masochist',\n",
       " 'master-bate',\n",
       " 'masterb8',\n",
       " 'masterbat*',\n",
       " 'masterbat3',\n",
       " 'masterbate',\n",
       " 'masterbation',\n",
       " 'masterbations',\n",
       " 'masturbate',\n",
       " 'mo-fo',\n",
       " 'mof0',\n",
       " 'mofo',\n",
       " 'mothafuck',\n",
       " 'mothafucka',\n",
       " 'mothafuckas',\n",
       " 'mothafuckaz',\n",
       " 'mothafucked',\n",
       " 'mothafucker',\n",
       " 'mothafuckers',\n",
       " 'mothafuckin',\n",
       " 'mothafucking',\n",
       " 'mothafuckings',\n",
       " 'mothafucks',\n",
       " 'mother fucker',\n",
       " 'motherfuck',\n",
       " 'motherfucked',\n",
       " 'motherfucker',\n",
       " 'motherfuckers',\n",
       " 'motherfuckin',\n",
       " 'motherfucking',\n",
       " 'motherfuckings',\n",
       " 'motherfuckka',\n",
       " 'motherfucks',\n",
       " 'muff',\n",
       " 'mutha',\n",
       " 'muthafecker',\n",
       " 'muthafuckker',\n",
       " 'muther',\n",
       " 'mutherfucker',\n",
       " 'n1gga',\n",
       " 'n1gger',\n",
       " 'nazi',\n",
       " 'nigg3r',\n",
       " 'nigg4h',\n",
       " 'nigga',\n",
       " 'niggah',\n",
       " 'niggas',\n",
       " 'niggaz',\n",
       " 'nigger',\n",
       " 'niggers',\n",
       " 'nob',\n",
       " 'nob jokey',\n",
       " 'nobhead',\n",
       " 'nobjocky',\n",
       " 'nobjokey',\n",
       " 'numbnuts',\n",
       " 'nutsack',\n",
       " 'orgasim',\n",
       " 'orgasims',\n",
       " 'orgasm',\n",
       " 'orgasms',\n",
       " 'p0rn',\n",
       " 'pawn',\n",
       " 'pecker',\n",
       " 'penis',\n",
       " 'penisfucker',\n",
       " 'phonesex',\n",
       " 'phuck',\n",
       " 'phuk',\n",
       " 'phuked',\n",
       " 'phuking',\n",
       " 'phukked',\n",
       " 'phukking',\n",
       " 'phuks',\n",
       " 'phuq',\n",
       " 'pigfucker',\n",
       " 'pimpis',\n",
       " 'piss',\n",
       " 'pissed',\n",
       " 'pisser',\n",
       " 'pissers',\n",
       " 'pisses',\n",
       " 'pissflaps',\n",
       " 'pissin',\n",
       " 'pissing',\n",
       " 'pissoff',\n",
       " 'poop',\n",
       " 'porn',\n",
       " 'porno',\n",
       " 'pornography',\n",
       " 'pornos',\n",
       " 'prick',\n",
       " 'pricks',\n",
       " 'pron',\n",
       " 'pube',\n",
       " 'pusse',\n",
       " 'pussi',\n",
       " 'pussies',\n",
       " 'pussy',\n",
       " 'pussys',\n",
       " 'rectum',\n",
       " 'retard',\n",
       " 'rimjaw',\n",
       " 'rimming',\n",
       " 's hit',\n",
       " 's.o.b.',\n",
       " 'sadist',\n",
       " 'schlong',\n",
       " 'screwing',\n",
       " 'scroat',\n",
       " 'scrote',\n",
       " 'scrotum',\n",
       " 'semen',\n",
       " 'sex',\n",
       " 'sh!+',\n",
       " 'sh!t',\n",
       " 'sh1t',\n",
       " 'shag',\n",
       " 'shagger',\n",
       " 'shaggin',\n",
       " 'shagging',\n",
       " 'shemale',\n",
       " 'shi+',\n",
       " 'shit',\n",
       " 'shitdick',\n",
       " 'shite',\n",
       " 'shited',\n",
       " 'shitey',\n",
       " 'shitfuck',\n",
       " 'shitfull',\n",
       " 'shithead',\n",
       " 'shiting',\n",
       " 'shitings',\n",
       " 'shits',\n",
       " 'shitted',\n",
       " 'shitter',\n",
       " 'shitters',\n",
       " 'shitting',\n",
       " 'shittings',\n",
       " 'shitty',\n",
       " 'skank',\n",
       " 'slut',\n",
       " 'sluts',\n",
       " 'smegma',\n",
       " 'smut',\n",
       " 'snatch',\n",
       " 'son-of-a-bitch',\n",
       " 'spac',\n",
       " 'spunk',\n",
       " 's_h_i_t',\n",
       " 't1tt1e5',\n",
       " 't1tties',\n",
       " 'teets',\n",
       " 'teez',\n",
       " 'testical',\n",
       " 'testicle',\n",
       " 'tit',\n",
       " 'titfuck',\n",
       " 'tits',\n",
       " 'titt',\n",
       " 'tittie5',\n",
       " 'tittiefucker',\n",
       " 'titties',\n",
       " 'tittyfuck',\n",
       " 'tittywank',\n",
       " 'titwank',\n",
       " 'tosser',\n",
       " 'turd',\n",
       " 'tw4t',\n",
       " 'twat',\n",
       " 'twathead',\n",
       " 'twatty',\n",
       " 'twunt',\n",
       " 'twunter',\n",
       " 'v14gra',\n",
       " 'v1gra',\n",
       " 'vagina',\n",
       " 'viagra',\n",
       " 'vulva',\n",
       " 'w00se',\n",
       " 'wang',\n",
       " 'wank',\n",
       " 'wanker',\n",
       " 'wanky',\n",
       " 'whoar',\n",
       " 'whore',\n",
       " 'willies',\n",
       " 'willy',\n",
       " 'xrated',\n",
       " 'xxx']"
      ]
     },
     "execution_count": 322,
     "metadata": {},
     "output_type": "execute_result"
    }
   ],
   "source": [
    "content"
   ]
  },
  {
   "cell_type": "code",
   "execution_count": 323,
   "metadata": {},
   "outputs": [
    {
     "data": {
      "text/plain": [
       "\"What the fuck did you just fucking say about me, you little bitch? I'll have you know I graduated top of my class in the Navy Seals, andI've been involved in numerous secret raids on Al-Quaeda, and I have over 300 confirmed kills. I am trained in gorilla warfare and I'm the top sniperin the entire US armed forces. You are nothing to me but just another target.I will wipe you the fuck out with precision the likes of which has never been seen before on this Earth, mark my fucking words. You think you can get away withsaying that shit to me over the Internet? Think again, fucker. As we speak I am contacting my secret network of spies across the USA and your IP is beingtraced right now so you better prepare for the storm, maggot. The storm that wipes out the pathetic little thing you call your life.You're fucking dead, kid.I will shit fury all over you and you will drown in it. You're fucking dead, kiddo.\""
      ]
     },
     "execution_count": 323,
     "metadata": {},
     "output_type": "execute_result"
    }
   ],
   "source": [
    "text"
   ]
  },
  {
   "cell_type": "code",
   "execution_count": 324,
   "metadata": {},
   "outputs": [],
   "source": [
    "from nltk import word_tokenize\n",
    "word = word_tokenize(text)"
   ]
  },
  {
   "cell_type": "code",
   "execution_count": 326,
   "metadata": {},
   "outputs": [
    {
     "data": {
      "text/plain": [
       "['fuck',\n",
       " 'fucking',\n",
       " 'bitch',\n",
       " 'fuck',\n",
       " 'fucking',\n",
       " 'shit',\n",
       " 'fucker',\n",
       " 'fucking',\n",
       " 'shit',\n",
       " 'fucking']"
      ]
     },
     "execution_count": 326,
     "metadata": {},
     "output_type": "execute_result"
    }
   ],
   "source": [
    "[words for words in word if words in content]"
   ]
  },
  {
   "cell_type": "markdown",
   "metadata": {},
   "source": [
    "### Question4: Using reduce functions"
   ]
  },
  {
   "cell_type": "markdown",
   "metadata": {},
   "source": [
    "#### part4.1: add only even numbers in a list"
   ]
  },
  {
   "cell_type": "code",
   "execution_count": 201,
   "metadata": {},
   "outputs": [],
   "source": [
    "from functools import reduce"
   ]
  },
  {
   "cell_type": "code",
   "execution_count": 308,
   "metadata": {},
   "outputs": [],
   "source": [
    "lst = list(filter(lambda x: x % 2 == 0, [1, 3, 5, 6,9,11,8]))"
   ]
  },
  {
   "cell_type": "code",
   "execution_count": 309,
   "metadata": {},
   "outputs": [
    {
     "data": {
      "text/plain": [
       "[6, 8]"
      ]
     },
     "execution_count": 309,
     "metadata": {},
     "output_type": "execute_result"
    }
   ],
   "source": [
    "reduce(lambda a, b: a + b,lst)"
   ]
  },
  {
   "cell_type": "markdown",
   "metadata": {},
   "source": [
    "#### part4.2: find the biggest character in a string"
   ]
  },
  {
   "cell_type": "code",
   "execution_count": 213,
   "metadata": {},
   "outputs": [],
   "source": [
    "char = 'zolo'"
   ]
  },
  {
   "cell_type": "code",
   "execution_count": 285,
   "metadata": {},
   "outputs": [],
   "source": [
    "fn = lambda x,y: x if ord(x)>ord(y) else y"
   ]
  },
  {
   "cell_type": "code",
   "execution_count": 286,
   "metadata": {},
   "outputs": [
    {
     "data": {
      "text/plain": [
       "'z'"
      ]
     },
     "execution_count": 286,
     "metadata": {},
     "output_type": "execute_result"
    }
   ],
   "source": [
    "reduce(fn,char)"
   ]
  },
  {
   "cell_type": "markdown",
   "metadata": {},
   "source": [
    "#### part4.3: adds every 3rd number in a list"
   ]
  },
  {
   "cell_type": "code",
   "execution_count": 315,
   "metadata": {},
   "outputs": [],
   "source": [
    "n = 3\n",
    "mylist = [1, 3, 5, 6, 8, 10, 34, 2, 0, 3][(n-1)::n]"
   ]
  },
  {
   "cell_type": "code",
   "execution_count": 316,
   "metadata": {},
   "outputs": [
    {
     "data": {
      "text/plain": [
       "15"
      ]
     },
     "execution_count": 316,
     "metadata": {},
     "output_type": "execute_result"
    }
   ],
   "source": [
    "reduce(lambda x,y: x+y,mylist)"
   ]
  },
  {
   "cell_type": "markdown",
   "metadata": {},
   "source": [
    "### Question5: Using randint, random.choice and list comprehensions, write an expression that generates 15 random KADDAADDDD number plates, where KA is fixed, D stands for a digit, and A stands for Capital alphabets. 10<<DD<<99 & 1000<<DDDD<<9999"
   ]
  },
  {
   "cell_type": "code",
   "execution_count": 327,
   "metadata": {},
   "outputs": [
    {
     "data": {
      "text/plain": [
       "['KA35QF6262',\n",
       " 'KA91HJ5676',\n",
       " 'KA43CL1737',\n",
       " 'KA38BK9721',\n",
       " 'KA36HB4347',\n",
       " 'KA93OM4400',\n",
       " 'KA21ME5381',\n",
       " 'KA16GH8100',\n",
       " 'KA95XS6853',\n",
       " 'KA33ZG4782',\n",
       " 'KA20VJ1538',\n",
       " 'KA46WR8127',\n",
       " 'KA40AE7049',\n",
       " 'KA75PW5576',\n",
       " 'KA99ME7116']"
      ]
     },
     "execution_count": 327,
     "metadata": {},
     "output_type": "execute_result"
    }
   ],
   "source": [
    "['KA' + str(random.randint(10,99)) + chr(random.randint(65,90)) + \n",
    " chr(random.randint(65,90)) + str(random.randint(1000,9999)) for i in range(15)]"
   ]
  },
  {
   "cell_type": "markdown",
   "metadata": {},
   "source": [
    "### Question6 : Write the above again from scratch where KA can be changed to DL, and 1000/9999 ranges can be provided."
   ]
  },
  {
   "cell_type": "code",
   "execution_count": 328,
   "metadata": {},
   "outputs": [
    {
     "name": "stdout",
     "output_type": "stream",
     "text": [
      "KA or DL?KA\n",
      "Enter DDDD in range 1000-99991001\n",
      "KA85MO1001\n",
      "KA or DL?DL\n",
      "Enter DDDD in range 1000-99992001\n",
      "DL89VM2001\n",
      "KA or DL?DL\n",
      "Enter DDDD in range 1000-999920001\n",
      "wrong input. Enter DDDD in range 1000-9999\n",
      "Enter DDDD in range 1000-99999998\n",
      "DL97RY9998\n",
      "KA or DL?DL\n",
      "Enter DDDD in range 1000-99998545\n",
      "DL12CR8545\n",
      "KA or DL?DL\n",
      "Enter DDDD in range 1000-99994587\n",
      "DL19CG4587\n",
      "KA or DL?KA\n",
      "Enter DDDD in range 1000-99997521\n",
      "KA90HS7521\n",
      "KA or DL?DL\n",
      "Enter DDDD in range 1000-99997854\n",
      "DL63WJ7854\n",
      "KA or DL?KA\n",
      "Enter DDDD in range 1000-99994523\n",
      "KA68KM4523\n",
      "KA or DL?DL\n",
      "Enter DDDD in range 1000-99997536\n",
      "DL74NV7536\n",
      "KA or DL?KA\n",
      "Enter DDDD in range 1000-99997598\n",
      "KA39YO7598\n",
      "KA or DL?KA\n",
      "Enter DDDD in range 1000-99997541\n",
      "KA83PU7541\n",
      "KA or DL?LA\n",
      "wrong input. Enter KA or DL\n",
      "KA or DL?KA\n",
      "Enter DDDD in range 1000-99997890\n",
      "KA45SV7890\n",
      "KA or DL?DL\n",
      "Enter DDDD in range 1000-99997318\n",
      "DL86ZS7318\n",
      "KA or DL?DL\n",
      "Enter DDDD in range 1000-99997496\n",
      "DL58CE7496\n",
      "KA or DL?KA\n",
      "Enter DDDD in range 1000-99991452\n",
      "KA75YH1452\n"
     ]
    }
   ],
   "source": [
    "for i in range(15):\n",
    "    while True:\n",
    "        KA_DL = input('KA or DL?')\n",
    "        if KA_DL in ('KA', 'DL'):\n",
    "            break\n",
    "        else:\n",
    "            print('wrong input. Enter KA or DL')\n",
    "            \n",
    "    while True:            \n",
    "        DDDD = int(input('Enter DDDD in range 1000-9999'))\n",
    "        if DDDD in list(range(1000,9999)):\n",
    "            break\n",
    "        else:\n",
    "            print('wrong input. Enter DDDD in range 1000-9999')\n",
    "    \n",
    "    print(KA_DL + str(random.randint(10,99)) + chr(random.randint(65,90)) + \n",
    "         chr(random.randint(65,90)) + str(DDDD))"
   ]
  },
  {
   "cell_type": "code",
   "execution_count": null,
   "metadata": {},
   "outputs": [],
   "source": []
  }
 ],
 "metadata": {
  "kernelspec": {
   "display_name": "Python 3",
   "language": "python",
   "name": "python3"
  },
  "language_info": {
   "codemirror_mode": {
    "name": "ipython",
    "version": 3
   },
   "file_extension": ".py",
   "mimetype": "text/x-python",
   "name": "python",
   "nbconvert_exporter": "python",
   "pygments_lexer": "ipython3",
   "version": "3.5.6"
  }
 },
 "nbformat": 4,
 "nbformat_minor": 2
}
