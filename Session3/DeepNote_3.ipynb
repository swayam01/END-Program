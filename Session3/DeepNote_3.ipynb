{
 "cells": [
  {
   "cell_type": "markdown",
   "metadata": {
    "cell_id": "00000-8ac19b83-976b-4527-a60d-233776e57843",
    "tags": []
   },
   "source": [
    "# The Python Type Hierarchy\n",
    "\n",
    "## Numbers\n",
    "1. Integral - Integers and Booleans\n",
    "2. Non-Integral - Floats, Complex, Decimals and Fractions\n",
    "\n",
    "* Booleans are also integral numbers, they are actually integers\n",
    "* Floats are implemented as doubles in the underlying C\n",
    "* Floats and decimals are used to represent natural numbers, but decimals give us more control over the precision of these numbers\n",
    "* Fractions An interesting way of dealing with numbers (22/7). A number like ⅓ is an irrational number and cannot be float/decimal in any prog language"
   ]
  },
  {
   "cell_type": "markdown",
   "metadata": {
    "cell_id": "00001-b44ef9b6-e07b-49f9-9511-d9cd4e27e7a5",
    "tags": []
   },
   "source": [
    "## Collections\n",
    "\n",
    "### Sequences\n",
    "1. Mutable - Lists\n",
    "2. Immutable - Tuples and Strings\n",
    "\n",
    "### Sets\n",
    "1. Mutable - Sets\n",
    "2. Immutable - Frozensets\n",
    "\n",
    "### Mappings\n",
    "1. Dictionaries\n",
    "\n",
    "Collections:\n",
    "\n",
    "Tuples are immutable variants of lists\n",
    "Strings is also a sequence type\n",
    "Dictionaries and sets are related,\n",
    "* they are implemented very similarly\n",
    "* both are basically hashmaps\n",
    "* only diff.. sets are not key-value pair.. but a dictionary which has only keys and no values"
   ]
  },
  {
   "cell_type": "markdown",
   "metadata": {
    "cell_id": "00002-465bfc51-06b2-4992-be53-ac77e73addb8",
    "tags": []
   },
   "source": [
    "## Callables \n",
    "\n",
    "1. User Defined Functions\n",
    "2. Generators\n",
    "3. Classes\n",
    "4. Instance Methods\n",
    "5. Class Instances (_\\_call__())\n",
    "6. Built-in Functions (e.g. len(), open())\n",
    "7. Built-in Methods (e.g. my_list.append(x))\n",
    "\n",
    "## Singleton Objects\n",
    "1. None\n",
    "2. -5 to 256 integers\n",
    "3. small strings\n",
    "\n",
    "* Callables - anything you can invoke, you can call.. function is a callable for example..\n",
    "* a generator is something we can use for iteration\n",
    "* Instance methods are just functions but inside a class… and they become instance method once the class gets instantiated\n",
    "* class instances that are callable.. define __call__ () which makes the Class Instance callable\n",
    "* Built-in methods are very similar to Instance Methods\n",
    "* None is an object that exists, and whenever you set a variable to None, it always points to the same memory location\n"
   ]
  },
  {
   "cell_type": "markdown",
   "metadata": {
    "cell_id": "00003-7d76e118-108b-4333-baa4-41f0d284d9d8",
    "tags": []
   },
   "source": [
    "## Multi-line Statement and Strings\n",
    "\n",
    "A python program basically is a text file, a text document, that contains a physical line of code\n",
    "\n",
    "* You write your code over multiple lines.. you use enter key to move to a new line, called a physical new line.\n",
    "* That code is then parsed by the Python compiler and it combines certain lines of code into \"logical lines of code\" which are then tokenized.\n",
    "* They are tokenized so the interpreter can interpret it and actually execute it. \n",
    "* So there is a difference between a physical newline and logical newlines. \n",
    "\n",
    "### Implicit removal/line-breaks\n",
    "\n",
    "There are expressions which support implicit removal of line-breaks:\n",
    "* list\n",
    "* tuple\n",
    "* dictionary\n",
    "* set\n",
    "* function arguments\n",
    "\n",
    "### Explicit\n",
    "\n",
    "Sometimes Python will not remove our newline character, and in those cases, we need to explicitly inform Python to do so on our behalf using the \"\\\" backslack character. \n",
    "\n",
    "### Multi-line String Literals\n",
    "\n",
    "Multi-line string literals can be created using triple delimiters (' or \")"
   ]
  },
  {
   "cell_type": "code",
   "execution_count": 1,
   "metadata": {
    "cell_id": "00000-0280e115-e778-444b-b4a4-69286a45e13c",
    "execution_millis": 7,
    "execution_start": 1603763029941,
    "output_cleared": false,
    "source_hash": "a69f51b3",
    "tags": []
   },
   "outputs": [
    {
     "name": "stdout",
     "output_type": "stream",
     "text": [
      "The type and value of a are <class 'list'> and [1, 2, 3]\n"
     ]
    }
   ],
   "source": [
    "a = [1, 2, 3]\n",
    "print(f'The type and value of a are {type(a)} and {a}')"
   ]
  },
  {
   "cell_type": "code",
   "execution_count": 2,
   "metadata": {
    "cell_id": "00005-cf49e354-bde8-4df2-b43e-1b57c834bb6c",
    "execution_millis": 3,
    "execution_start": 1603763050287,
    "output_cleared": false,
    "source_hash": "9e102ea5",
    "tags": []
   },
   "outputs": [
    {
     "data": {
      "text/plain": [
       "[1, 2, 3, 4, 5]"
      ]
     },
     "execution_count": 2,
     "metadata": {},
     "output_type": "execute_result"
    }
   ],
   "source": [
    "a = [1, 2, \n",
    "    3, 4, 5]\n",
    "\n",
    "a"
   ]
  },
  {
   "cell_type": "code",
   "execution_count": 3,
   "metadata": {
    "cell_id": "00006-09823fab-c82c-4b13-847b-9e392e8a16d8",
    "execution_millis": 2,
    "execution_start": 1603763059554,
    "output_cleared": false,
    "source_hash": "5df6ee3b",
    "tags": []
   },
   "outputs": [
    {
     "ename": "SyntaxError",
     "evalue": "invalid syntax (<ipython-input-3-08fd625f785d>, line 2)",
     "output_type": "error",
     "traceback": [
      "\u001b[0;36m  File \u001b[0;32m\"<ipython-input-3-08fd625f785d>\"\u001b[0;36m, line \u001b[0;32m2\u001b[0m\n\u001b[0;31m    2]\u001b[0m\n\u001b[0m    ^\u001b[0m\n\u001b[0;31mSyntaxError\u001b[0m\u001b[0;31m:\u001b[0m invalid syntax\n"
     ]
    }
   ],
   "source": [
    "a = [1 #comment, \n",
    "    2]"
   ]
  },
  {
   "cell_type": "code",
   "execution_count": 4,
   "metadata": {
    "cell_id": "00007-e266d362-37fc-4949-868f-f59e08f8515f",
    "execution_millis": 1,
    "execution_start": 1603763064413,
    "output_cleared": false,
    "source_hash": "b312fe58",
    "tags": []
   },
   "outputs": [],
   "source": [
    "a = [1, #comment\n",
    "    2]"
   ]
  },
  {
   "cell_type": "code",
   "execution_count": 5,
   "metadata": {
    "cell_id": "00008-8fb491d5-d9a2-46fa-8b33-4a8231aca71f",
    "execution_millis": 2,
    "execution_start": 1603763069468,
    "output_cleared": false,
    "source_hash": "f0d5bab8",
    "tags": []
   },
   "outputs": [],
   "source": [
    "a = [1 #comment\n",
    "    ,2]"
   ]
  },
  {
   "cell_type": "code",
   "execution_count": 6,
   "metadata": {
    "cell_id": "00009-4f7e9739-d495-4155-a8b0-e126bc3c0bc1",
    "execution_millis": 3,
    "execution_start": 1603763074301,
    "output_cleared": false,
    "source_hash": "ec698c81",
    "tags": []
   },
   "outputs": [
    {
     "name": "stdout",
     "output_type": "stream",
     "text": [
      "(1, 2, 3)\n"
     ]
    }
   ],
   "source": [
    "a = (1 #comment\n",
    "    ,2 #comment\n",
    "    ,3)\n",
    "print(a)"
   ]
  },
  {
   "cell_type": "code",
   "execution_count": 7,
   "metadata": {
    "cell_id": "00010-babcfdb6-c4b3-4b8e-b78e-3158c071c6ff",
    "execution_millis": 1,
    "execution_start": 1603763126361,
    "output_cleared": false,
    "source_hash": "404cec2f",
    "tags": []
   },
   "outputs": [
    {
     "ename": "SyntaxError",
     "evalue": "unexpected EOF while parsing (<ipython-input-7-0db7460aac79>, line 2)",
     "output_type": "error",
     "traceback": [
      "\u001b[0;36m  File \u001b[0;32m\"<ipython-input-7-0db7460aac79>\"\u001b[0;36m, line \u001b[0;32m2\u001b[0m\n\u001b[0;31m    ,'key2': 2 #value of key 2}\u001b[0m\n\u001b[0m                               ^\u001b[0m\n\u001b[0;31mSyntaxError\u001b[0m\u001b[0;31m:\u001b[0m unexpected EOF while parsing\n"
     ]
    }
   ],
   "source": [
    "a = {'key1': 1 #value of key 1\n",
    "    ,'key2': 2 #value of key 2}"
   ]
  },
  {
   "cell_type": "code",
   "execution_count": 8,
   "metadata": {
    "cell_id": "00011-5db395de-877f-405e-84cb-4fba26d40354",
    "execution_millis": 2,
    "execution_start": 1603763132772,
    "output_cleared": false,
    "source_hash": "f85c63e2",
    "tags": []
   },
   "outputs": [],
   "source": [
    "a = {'key1': 1 #value of key 1\n",
    "    ,'key2': 2 #value of key 2\n",
    "    ,}"
   ]
  },
  {
   "cell_type": "code",
   "execution_count": 9,
   "metadata": {
    "cell_id": "00012-b055e0b7-8598-4800-8ec4-707ea1312ca8",
    "execution_millis": 1,
    "execution_start": 1603763160362,
    "output_cleared": false,
    "source_hash": "9645637e",
    "tags": []
   },
   "outputs": [
    {
     "ename": "SyntaxError",
     "evalue": "invalid syntax (<ipython-input-9-6eed77e07e74>, line 4)",
     "output_type": "error",
     "traceback": [
      "\u001b[0;36m  File \u001b[0;32m\"<ipython-input-9-6eed77e07e74>\"\u001b[0;36m, line \u001b[0;32m4\u001b[0m\n\u001b[0;31m    print(f\"The batch size for the {model_name}{model_version} is {batch_size}\")\u001b[0m\n\u001b[0m    ^\u001b[0m\n\u001b[0;31mSyntaxError\u001b[0m\u001b[0;31m:\u001b[0m invalid syntax\n"
     ]
    }
   ],
   "source": [
    "def my_func(batch_size, #this is the batch size\n",
    "            model_name, #this is the model\n",
    "            model_version #this is the model version):\n",
    "    print(f\"The batch size for the {model_name}{model_version} is {batch_size}\")\n",
    "\n",
    "my_func(32, \"BERT\", \"34\")"
   ]
  },
  {
   "cell_type": "code",
   "execution_count": 10,
   "metadata": {
    "cell_id": "00013-884cfdbb-fa51-4404-bbc4-adb4cf79172b",
    "execution_millis": 1,
    "execution_start": 1603763193701,
    "output_cleared": false,
    "source_hash": "78b7c024",
    "tags": []
   },
   "outputs": [
    {
     "name": "stdout",
     "output_type": "stream",
     "text": [
      "The batch size for the BERT34 is 32\n"
     ]
    }
   ],
   "source": [
    "def my_func(batch_size, #this is the batch size\n",
    "            model_name, #this is the model\n",
    "            model_version #this is the model version\n",
    "            ):\n",
    "    print(f\"The batch size for the {model_name}{model_version} is {batch_size}\")\n",
    "\n",
    "my_func(32, \"BERT\", \"34\")"
   ]
  },
  {
   "cell_type": "code",
   "execution_count": 11,
   "metadata": {
    "cell_id": "00014-d7eb94d8-8a4e-4ba0-ba4d-67d536d827eb",
    "execution_millis": 1,
    "execution_start": 1603763223305,
    "output_cleared": false,
    "source_hash": "c8a061c8",
    "tags": []
   },
   "outputs": [
    {
     "ename": "NameError",
     "evalue": "name 'v' is not defined",
     "output_type": "error",
     "traceback": [
      "\u001b[0;31m---------------------------------------------------------------------------\u001b[0m",
      "\u001b[0;31mNameError\u001b[0m                                 Traceback (most recent call last)",
      "\u001b[0;32m<ipython-input-11-d0aa4386ac53>\u001b[0m in \u001b[0;36m<module>\u001b[0;34m\u001b[0m\n\u001b[0;32m----> 1\u001b[0;31m \u001b[0mv\u001b[0m\u001b[0;34m\u001b[0m\u001b[0;34m\u001b[0m\u001b[0m\n\u001b[0m",
      "\u001b[0;31mNameError\u001b[0m: name 'v' is not defined"
     ]
    }
   ],
   "source": [
    "v"
   ]
  },
  {
   "cell_type": "code",
   "execution_count": 12,
   "metadata": {
    "cell_id": "00015-169c5e57-f336-4f57-8153-5b37ce7f32f2",
    "execution_millis": 4,
    "execution_start": 1603763229131,
    "output_cleared": false,
    "source_hash": "4ab23d8a",
    "tags": []
   },
   "outputs": [],
   "source": [
    "a = 10\n",
    "b = 20\n",
    "c = 30\n",
    "d = 40\n",
    "e = 50"
   ]
  },
  {
   "cell_type": "code",
   "execution_count": 13,
   "metadata": {
    "cell_id": "00016-5c91d116-133a-449b-a76e-0cdc1e6bb20a",
    "execution_millis": 3,
    "execution_start": 1603763236197,
    "output_cleared": false,
    "source_hash": "6e3fdb20",
    "tags": []
   },
   "outputs": [
    {
     "name": "stdout",
     "output_type": "stream",
     "text": [
      "That condition jungle is confusing!\n"
     ]
    }
   ],
   "source": [
    "if a < b and b*c > a*e and c*a < d*b:\n",
    "    print(\"That condition jungle is confusing!\")"
   ]
  },
  {
   "cell_type": "code",
   "execution_count": 14,
   "metadata": {
    "cell_id": "00017-93f79189-d9b0-4aec-baa6-bad9ca825d96",
    "execution_millis": 2,
    "execution_start": 1603763290238,
    "output_cleared": false,
    "source_hash": "edcd4704",
    "tags": []
   },
   "outputs": [
    {
     "name": "stdout",
     "output_type": "stream",
     "text": [
      "That conditions jungle is confusing!\n"
     ]
    }
   ],
   "source": [
    "if a < b \\\n",
    "and b*c > a*e \\\n",
    "and c*a < d*b:\n",
    "#you can choose not to indent it as well\n",
    "    print(\"That conditions jungle is confusing!\")"
   ]
  },
  {
   "cell_type": "code",
   "execution_count": 15,
   "metadata": {
    "cell_id": "00018-3057443d-53ec-4358-b647-1b0353945eea",
    "execution_millis": 3,
    "execution_start": 1603763297660,
    "output_cleared": false,
    "source_hash": "cae21477",
    "tags": []
   },
   "outputs": [
    {
     "ename": "SyntaxError",
     "evalue": "unexpected character after line continuation character (<ipython-input-15-ea8f61b43ad0>, line 2)",
     "output_type": "error",
     "traceback": [
      "\u001b[0;36m  File \u001b[0;32m\"<ipython-input-15-ea8f61b43ad0>\"\u001b[0;36m, line \u001b[0;32m2\u001b[0m\n\u001b[0;31m    and b*c > a*e \\\u001b[0m\n\u001b[0m                    \n^\u001b[0m\n\u001b[0;31mSyntaxError\u001b[0m\u001b[0;31m:\u001b[0m unexpected character after line continuation character\n"
     ]
    }
   ],
   "source": [
    "if a < b \\\n",
    " and b*c > a*e \\ \n",
    "  and c*a < d*b:\n",
    "# Can you tell me why won't this run?\n",
    "    print(\"That conditions jungle is confusing!\")"
   ]
  },
  {
   "cell_type": "code",
   "execution_count": 16,
   "metadata": {
    "cell_id": "00019-8840790a-9b04-4bdb-8a6d-11dcaad91eaa",
    "execution_millis": 1,
    "execution_start": 1603763308453,
    "output_cleared": false,
    "source_hash": "37d4e132",
    "tags": []
   },
   "outputs": [
    {
     "data": {
      "text/plain": [
       "'This is a string'"
      ]
     },
     "execution_count": 16,
     "metadata": {},
     "output_type": "execute_result"
    }
   ],
   "source": [
    "a = '''This is a string'''\n",
    "a"
   ]
  },
  {
   "cell_type": "code",
   "execution_count": 17,
   "metadata": {
    "cell_id": "00020-b9417576-02f5-4184-bc1b-6e4737f1bdcf",
    "execution_millis": 4,
    "execution_start": 1603763313514,
    "output_cleared": false,
    "source_hash": "43f9db2d",
    "tags": []
   },
   "outputs": [
    {
     "data": {
      "text/plain": [
       "'This \\nis a string'"
      ]
     },
     "execution_count": 17,
     "metadata": {},
     "output_type": "execute_result"
    }
   ],
   "source": [
    "a = '''This \n",
    "is a string'''\n",
    "a"
   ]
  },
  {
   "cell_type": "markdown",
   "metadata": {
    "cell_id": "00021-a93e98b2-fe9c-4a23-b480-63e0276f03ae",
    "tags": []
   },
   "source": [
    "### Identifier names:\n",
    "* are **case sensitive**. All of these are **different** identifiers:\n",
    "    * my_var\n",
    "    * my_Var\n",
    "    * my_vaR\n",
    "\n",
    "* **must** start with an underscore (_) or letters (a-z, A-Z)\n",
    "    * followed by any number of underscores, letters or digits (0-9)\n",
    "    * all of these are legal names:\n",
    "        * var\n",
    "        * my_var\n",
    "        * index1\n",
    "        * index_1\n",
    "        * _var\n",
    "        * __var\n",
    "        * _\\_lt__\n",
    "* **cannot be reserved words**:\n",
    "    * None, True, False\n",
    "    * and, or, not\n",
    "    * if, else, elif\n",
    "    * for, while, break, continue, pass\n",
    "    * def, lambda, global, nonlocal, return, yield\n",
    "    * del, in, is, assert, class\n",
    "    * try, except, finally, raise\n",
    "    * import, from, with, as\n",
    "\n",
    "\n",
    "\n",
    "## Other Conventions from PEP8 Style Guide\n",
    "\n",
    "* **Packages** - short, all-lowercase names, Preferably no underscores:\n",
    "    * e.g. utilities\n",
    "* **Modules** - short, all-lowercase names, can have underscores:\n",
    "    * e.g. db_utils, dbutils\n",
    "* **Classes** - CapWords (upper camel case) convension:\n",
    "    * e.g. DataAugmentation\n",
    "* **Functions** - lowercase, words separated by underscores (snake_case):\n",
    "    * e.g. reduce_lr_on_plateau\n",
    "* **Variables** - lowercase, words separated by underscores (snake_case):\n",
    "    * e.g. learning_rate\n",
    "* **Constants** - all uppercase, words separated by underscores: \n",
    "    * e.g. BATCH_SIZE\n",
    "\n",
    "\n",
    "## Conditionals\n",
    "\n",
    "if / else / elif"
   ]
  },
  {
   "cell_type": "code",
   "execution_count": 18,
   "metadata": {
    "cell_id": "00021-bec7959e-f8e2-4a41-a097-7fe7e42a3f5e",
    "execution_millis": 2,
    "execution_start": 1603763854949,
    "output_cleared": false,
    "source_hash": "9b1fd2a2",
    "tags": []
   },
   "outputs": [
    {
     "name": "stdout",
     "output_type": "stream",
     "text": [
      "a < 5\n"
     ]
    }
   ],
   "source": [
    "a = 2\n",
    "\n",
    "if a < 5:\n",
    "    print(\"a < 5\")\n",
    "else:\n",
    "    print(\"a >= 5\")"
   ]
  },
  {
   "cell_type": "code",
   "execution_count": 19,
   "metadata": {
    "cell_id": "00023-867dfea0-b0d5-49cb-b501-567a2b7353fa",
    "execution_millis": 2,
    "execution_start": 1603763859722,
    "output_cleared": false,
    "source_hash": "fd45eb8d",
    "tags": []
   },
   "outputs": [
    {
     "name": "stdout",
     "output_type": "stream",
     "text": [
      "a >= 10\n"
     ]
    }
   ],
   "source": [
    "# nested Ifs\n",
    "a = 10\n",
    "\n",
    "if a < 5:\n",
    "    print(\"a < 5\")\n",
    "else:\n",
    "    if a < 10:\n",
    "        print(\"5 <= a < 10\")\n",
    "    else:\n",
    "        print(\"a >= 10\")"
   ]
  },
  {
   "cell_type": "markdown",
   "metadata": {
    "cell_id": "00024-4eb0bcd1-699c-4824-bbe8-958ec6cdfe81",
    "tags": []
   },
   "source": [
    "## There is an easier to do this in other languages.. switch, but it is not there in Python\n",
    "Closest we have is \"elif\""
   ]
  },
  {
   "cell_type": "code",
   "execution_count": 20,
   "metadata": {
    "cell_id": "00024-d2d0d521-863b-47cd-8984-58fc29d72aa7",
    "execution_millis": 2,
    "execution_start": 1603763877523,
    "output_cleared": false,
    "source_hash": "bb7fd57",
    "tags": []
   },
   "outputs": [
    {
     "name": "stdout",
     "output_type": "stream",
     "text": [
      "a >= 15\n"
     ]
    }
   ],
   "source": [
    "a = 52\n",
    "\n",
    "if a < 5:\n",
    "    print(\"a < 5\")\n",
    "elif a < 10:\n",
    "    print(\"5 <= a < 10\")\n",
    "elif a < 15:\n",
    "    print(\"10 <= a < 15\")\n",
    "else:\n",
    "    print(\"a >= 15\")"
   ]
  },
  {
   "cell_type": "markdown",
   "metadata": {
    "cell_id": "00026-b7060b41-80ee-4b0d-975d-4e56d15d64f9",
    "tags": []
   },
   "source": [
    "## Conditional Operator or Ternary Operator\n",
    "x if (condition is true) else Y"
   ]
  },
  {
   "cell_type": "code",
   "execution_count": 21,
   "metadata": {
    "cell_id": "00026-921c48d2-e24c-4b57-b90b-8f6ac499c7bb",
    "execution_millis": 2,
    "execution_start": 1603763897211,
    "output_cleared": false,
    "source_hash": "c51a97a6",
    "tags": []
   },
   "outputs": [
    {
     "name": "stdout",
     "output_type": "stream",
     "text": [
      "a > 5\n"
     ]
    }
   ],
   "source": [
    "a = 25\n",
    "\n",
    "if a < 5:\n",
    "    b = 'a < 5'\n",
    "else:\n",
    "    b = 'a > 5'\n",
    "print(b)\n"
   ]
  },
  {
   "cell_type": "code",
   "execution_count": 22,
   "metadata": {
    "cell_id": "00028-32e54c21-2416-400c-bd4f-cc474b076058",
    "execution_millis": 4,
    "execution_start": 1603763903363,
    "output_cleared": false,
    "source_hash": "13eb08b",
    "tags": []
   },
   "outputs": [
    {
     "name": "stdout",
     "output_type": "stream",
     "text": [
      "a >= 5\n"
     ]
    }
   ],
   "source": [
    "# Alternatively\n",
    "\n",
    "b = 'a < 5' if a < 5 else 'a >= 5'\n",
    "print(b)"
   ]
  },
  {
   "cell_type": "code",
   "execution_count": null,
   "metadata": {
    "cell_id": "00029-c88ef1be-1672-4dcd-9206-387284ba6cc4",
    "execution_millis": 2,
    "execution_start": 1603763910961,
    "output_cleared": false,
    "source_hash": "818c0d9f",
    "tags": []
   },
   "outputs": [
    {
     "data": {
      "text/plain": [
       "'a >= 5'"
      ]
     },
     "execution_count": 36,
     "metadata": {},
     "output_type": "execute_result"
    }
   ],
   "source": [
    "'a < 5' if a < 5 else 'a >= 5'"
   ]
  },
  {
   "cell_type": "code",
   "execution_count": 23,
   "metadata": {
    "cell_id": "00030-04bee906-4e96-4c07-aae2-77e179a70366",
    "execution_millis": 3,
    "execution_start": 1603763925487,
    "output_cleared": false,
    "source_hash": "675ba714",
    "tags": []
   },
   "outputs": [
    {
     "name": "stdout",
     "output_type": "stream",
     "text": [
      "Man! This is working!\n"
     ]
    }
   ],
   "source": [
    "# will this fail\n",
    "\n",
    "k = 5\n",
    "\n",
    "if k > 6 and this_can_literally_be_anything_but_wouldnt_matter:\n",
    "    print (\"This won't work!\")\n",
    "else:\n",
    "    print (\"Man! This is working!\")"
   ]
  },
  {
   "cell_type": "code",
   "execution_count": 24,
   "metadata": {
    "cell_id": "00031-73a245f7-8e7d-44bf-a04a-23b9124365db",
    "execution_millis": 1,
    "execution_start": 1603763933597,
    "output_cleared": false,
    "source_hash": "4f73a861",
    "tags": []
   },
   "outputs": [
    {
     "name": "stdout",
     "output_type": "stream",
     "text": [
      "This will work!\n"
     ]
    }
   ],
   "source": [
    "# will this fail\n",
    "\n",
    "k = 5\n",
    "\n",
    "if k > 3 or this_can_literally_be_anything_but_wouldnt_matter:\n",
    "    print (\"This will work!\")\n",
    "else:\n",
    "    print (\"This will pakka fail!\")"
   ]
  },
  {
   "cell_type": "markdown",
   "metadata": {
    "cell_id": "00032-cd83e096-edb4-4b36-966f-6305004c2953",
    "tags": []
   },
   "source": [
    "## Functions\n",
    "\n",
    "* A function is a block of code which only runs when it is called\n",
    "* You can pass data, known as parameters, into a function\n",
    "* A function can return data as a result"
   ]
  },
  {
   "cell_type": "code",
   "execution_count": 25,
   "metadata": {
    "cell_id": "00032-42ddb690-90c2-4a5f-b661-4482a3a90dbf",
    "execution_millis": 1,
    "execution_start": 1603763970557,
    "output_cleared": false,
    "source_hash": "a823bc0",
    "tags": []
   },
   "outputs": [
    {
     "data": {
      "text/plain": [
       "3"
      ]
     },
     "execution_count": 25,
     "metadata": {},
     "output_type": "execute_result"
    }
   ],
   "source": [
    "s = [1, 2, 3]\n",
    "#build in function\n",
    "len(s)"
   ]
  },
  {
   "cell_type": "code",
   "execution_count": 26,
   "metadata": {
    "cell_id": "00034-10885b4c-b6de-4966-9a18-b32ff246687b",
    "execution_millis": 1,
    "execution_start": 1603764004649,
    "output_cleared": false,
    "source_hash": "d9255388",
    "tags": []
   },
   "outputs": [
    {
     "data": {
      "text/plain": [
       "2.0"
      ]
     },
     "execution_count": 26,
     "metadata": {},
     "output_type": "execute_result"
    }
   ],
   "source": [
    "# importing something specific from a module\n",
    "from math import sqrt\n",
    "\n",
    "sqrt(4)"
   ]
  },
  {
   "cell_type": "code",
   "execution_count": 27,
   "metadata": {
    "cell_id": "00035-7cb85cb5-e69c-4857-91ee-780cdc0d6717",
    "execution_millis": 3,
    "execution_start": 1603764132414,
    "output_cleared": false,
    "source_hash": "7898cfd6",
    "tags": []
   },
   "outputs": [
    {
     "data": {
      "text/plain": [
       "3.141592653589793"
      ]
     },
     "execution_count": 27,
     "metadata": {},
     "output_type": "execute_result"
    }
   ],
   "source": [
    "# whole module get you access to everything in that module\n",
    "import math\n",
    "math.pi"
   ]
  },
  {
   "cell_type": "code",
   "execution_count": 28,
   "metadata": {
    "cell_id": "00038-04f96dc5-49ce-406f-81b3-0ed1cec25a2a",
    "execution_millis": 3,
    "execution_start": 1603764141734,
    "output_cleared": false,
    "source_hash": "5be5dba1",
    "tags": []
   },
   "outputs": [
    {
     "data": {
      "text/plain": [
       "<function __main__.func_1()>"
      ]
     },
     "execution_count": 28,
     "metadata": {},
     "output_type": "execute_result"
    }
   ],
   "source": [
    "# functions are objects that contain some stuff/ our code\n",
    "\n",
    "def func_1():\n",
    "    print(\"running func_1\")\n",
    "\n",
    "# now we can invoke this function, which would run the code inside. \n",
    "\n",
    "# you can't call it like this\n",
    "func_1"
   ]
  },
  {
   "cell_type": "code",
   "execution_count": 29,
   "metadata": {
    "cell_id": "00037-4c4a0c0a-b75f-4ac1-9dea-7b2a792c20f1",
    "execution_millis": 1,
    "execution_start": 1603764147705,
    "output_cleared": false,
    "source_hash": "6118353a",
    "tags": []
   },
   "outputs": [
    {
     "name": "stdout",
     "output_type": "stream",
     "text": [
      "running func_1\n"
     ]
    }
   ],
   "source": [
    "# above it the function object. To invoke the function\n",
    "\n",
    "func_1()"
   ]
  },
  {
   "cell_type": "code",
   "execution_count": 30,
   "metadata": {
    "cell_id": "00038-97633027-5f71-4c38-926b-5333cd61586c",
    "execution_millis": 5,
    "execution_start": 1603764152194,
    "output_cleared": false,
    "source_hash": "891749d8",
    "tags": []
   },
   "outputs": [],
   "source": [
    "# function variables\n",
    "\n",
    "def func_2(a, b):\n",
    "    return a*b\n",
    "\n",
    "# you notice types are not defined for Python, \n",
    "# there are no static types in python if you want you can put annotation"
   ]
  },
  {
   "cell_type": "code",
   "execution_count": 31,
   "metadata": {
    "cell_id": "00039-92f53005-d782-4799-940d-313182aaf044",
    "execution_millis": 4,
    "execution_start": 1603764165011,
    "output_cleared": false,
    "source_hash": "38cc2d5b",
    "tags": []
   },
   "outputs": [
    {
     "data": {
      "text/plain": [
       "9937.756000000001"
      ]
     },
     "execution_count": 31,
     "metadata": {},
     "output_type": "execute_result"
    }
   ],
   "source": [
    "def func_2(a: int, b: int): # this int is just a documentation think, \n",
    "#has nothing to do with the interpretor\n",
    "    return (a*b)\n",
    "\n",
    "func_2(1.618, 6142)"
   ]
  },
  {
   "cell_type": "code",
   "execution_count": 32,
   "metadata": {
    "cell_id": "00040-a5ac53f5-4963-41ad-8f18-752869adc28c",
    "execution_millis": 4,
    "execution_start": 1603764170770,
    "output_cleared": false,
    "source_hash": "5e93719",
    "tags": []
   },
   "outputs": [
    {
     "data": {
      "text/plain": [
       "'cholbe na! cholbe na! cholbe na! '"
      ]
     },
     "execution_count": 32,
     "metadata": {},
     "output_type": "execute_result"
    }
   ],
   "source": [
    "# infact we can also pass in a string!\n",
    "func_2('cholbe na! ', 3)"
   ]
  },
  {
   "cell_type": "code",
   "execution_count": null,
   "metadata": {
    "cell_id": "00041-6c814b1e-4c2b-4cc5-9435-80a17d960b04",
    "execution_millis": 2,
    "execution_start": 1603764176117,
    "output_cleared": false,
    "source_hash": "bf18b85a",
    "tags": []
   },
   "outputs": [
    {
     "data": {
      "text/plain": [
       "['bilkul bhi cholbe na',\n",
       " 'ekdum bhi cholbe na',\n",
       " 'guaranteed cholbe na',\n",
       " 'bilkul bhi cholbe na',\n",
       " 'ekdum bhi cholbe na',\n",
       " 'guaranteed cholbe na',\n",
       " 'bilkul bhi cholbe na',\n",
       " 'ekdum bhi cholbe na',\n",
       " 'guaranteed cholbe na',\n",
       " 'bilkul bhi cholbe na',\n",
       " 'ekdum bhi cholbe na',\n",
       " 'guaranteed cholbe na']"
      ]
     },
     "execution_count": 56,
     "metadata": {},
     "output_type": "execute_result"
    }
   ],
   "source": [
    "# we can call a list as well!\n",
    "l = ['bilkul bhi cholbe na', 'ekdum bhi cholbe na', 'guaranteed cholbe na']\n",
    "\n",
    "func_2(l, 4)"
   ]
  },
  {
   "cell_type": "markdown",
   "metadata": {
    "cell_id": "00042-1fd9d8bf-3dff-407a-8526-0b1a1f73b734",
    "tags": []
   },
   "source": [
    "Above is an example of polymorphism: \n",
    "**Polymorphism** is an object-oriented programming concept that refers to the ability of a variable, \n",
    "Function or object to take on multiple forms\n",
    "\n",
    "This this used to guide a user on how to \"ideally\" use the function"
   ]
  },
  {
   "cell_type": "code",
   "execution_count": 33,
   "metadata": {
    "cell_id": "00042-3fae3386-4157-4dd0-a87f-8b2919ba8a4e",
    "execution_millis": 2,
    "execution_start": 1603764215405,
    "output_cleared": false,
    "source_hash": "564acb2c",
    "tags": []
   },
   "outputs": [],
   "source": [
    "# will this fail\n",
    "\n",
    "def func_3():\n",
    "    return func_4()\n",
    "\n",
    "def func_4():\n",
    "    return 'running func_4'\n",
    "\n",
    "# of course, Python doesn't care about what is defined till the function is invoked as it is just creating fn. "
   ]
  },
  {
   "cell_type": "code",
   "execution_count": 34,
   "metadata": {
    "cell_id": "00044-0b6f72aa-e9ca-4eee-9645-6f1dda2ae30b",
    "execution_millis": 3,
    "execution_start": 1603764221299,
    "output_cleared": false,
    "source_hash": "899c5b01",
    "tags": []
   },
   "outputs": [
    {
     "data": {
      "text/plain": [
       "'running func_4'"
      ]
     },
     "execution_count": 34,
     "metadata": {},
     "output_type": "execute_result"
    }
   ],
   "source": [
    "func_3()"
   ]
  },
  {
   "cell_type": "code",
   "execution_count": 35,
   "metadata": {
    "cell_id": "00045-2d8593a4-483b-47f6-8dc4-d5b06e326861",
    "execution_millis": 6,
    "execution_start": 1603764229287,
    "output_cleared": false,
    "source_hash": "4026dbfa",
    "tags": []
   },
   "outputs": [
    {
     "ename": "NameError",
     "evalue": "name 'func_6' is not defined",
     "output_type": "error",
     "traceback": [
      "\u001b[0;31m---------------------------------------------------------------------------\u001b[0m",
      "\u001b[0;31mNameError\u001b[0m                                 Traceback (most recent call last)",
      "\u001b[0;32m<ipython-input-35-beb77cd31a8c>\u001b[0m in \u001b[0;36m<module>\u001b[0;34m\u001b[0m\n\u001b[1;32m      4\u001b[0m     \u001b[0;32mreturn\u001b[0m \u001b[0mfunc_6\u001b[0m\u001b[0;34m(\u001b[0m\u001b[0;34m)\u001b[0m\u001b[0;34m\u001b[0m\u001b[0;34m\u001b[0m\u001b[0m\n\u001b[1;32m      5\u001b[0m \u001b[0;34m\u001b[0m\u001b[0m\n\u001b[0;32m----> 6\u001b[0;31m \u001b[0mfunc_5\u001b[0m\u001b[0;34m(\u001b[0m\u001b[0;34m)\u001b[0m\u001b[0;34m\u001b[0m\u001b[0;34m\u001b[0m\u001b[0m\n\u001b[0m\u001b[1;32m      7\u001b[0m \u001b[0;34m\u001b[0m\u001b[0m\n\u001b[1;32m      8\u001b[0m \u001b[0;32mdef\u001b[0m \u001b[0mfunc_6\u001b[0m\u001b[0;34m(\u001b[0m\u001b[0;34m)\u001b[0m\u001b[0;34m:\u001b[0m\u001b[0;34m\u001b[0m\u001b[0;34m\u001b[0m\u001b[0m\n",
      "\u001b[0;32m<ipython-input-35-beb77cd31a8c>\u001b[0m in \u001b[0;36mfunc_5\u001b[0;34m()\u001b[0m\n\u001b[1;32m      2\u001b[0m \u001b[0;34m\u001b[0m\u001b[0m\n\u001b[1;32m      3\u001b[0m \u001b[0;32mdef\u001b[0m \u001b[0mfunc_5\u001b[0m\u001b[0;34m(\u001b[0m\u001b[0;34m)\u001b[0m\u001b[0;34m:\u001b[0m\u001b[0;34m\u001b[0m\u001b[0;34m\u001b[0m\u001b[0m\n\u001b[0;32m----> 4\u001b[0;31m     \u001b[0;32mreturn\u001b[0m \u001b[0mfunc_6\u001b[0m\u001b[0;34m(\u001b[0m\u001b[0;34m)\u001b[0m\u001b[0;34m\u001b[0m\u001b[0;34m\u001b[0m\u001b[0m\n\u001b[0m\u001b[1;32m      5\u001b[0m \u001b[0;34m\u001b[0m\u001b[0m\n\u001b[1;32m      6\u001b[0m \u001b[0mfunc_5\u001b[0m\u001b[0;34m(\u001b[0m\u001b[0;34m)\u001b[0m\u001b[0;34m\u001b[0m\u001b[0;34m\u001b[0m\u001b[0m\n",
      "\u001b[0;31mNameError\u001b[0m: name 'func_6' is not defined"
     ]
    }
   ],
   "source": [
    "# will this fail?\n",
    "\n",
    "def func_5():\n",
    "    return func_6()\n",
    "\n",
    "func_5()\n",
    "\n",
    "def func_6():\n",
    "    return 'running func_6'"
   ]
  },
  {
   "cell_type": "markdown",
   "metadata": {
    "cell_id": "00046-ace6c7e1-e05a-4d7c-abf2-312d10face51",
    "tags": []
   },
   "source": [
    "## Lambda Functions"
   ]
  },
  {
   "cell_type": "code",
   "execution_count": 36,
   "metadata": {
    "cell_id": "00046-b6cada5e-3598-4515-a845-33ca9a29f8cc",
    "execution_millis": 1,
    "execution_start": 1603764253409,
    "output_cleared": false,
    "source_hash": "bff2cb14",
    "tags": []
   },
   "outputs": [
    {
     "data": {
      "text/plain": [
       "function"
      ]
     },
     "execution_count": 36,
     "metadata": {},
     "output_type": "execute_result"
    }
   ],
   "source": [
    "type(func_3)"
   ]
  },
  {
   "cell_type": "code",
   "execution_count": 37,
   "metadata": {
    "cell_id": "00048-cc86ae78-cdea-48e9-b18d-8d79b1ade198",
    "execution_millis": 1,
    "execution_start": 1603764256835,
    "output_cleared": false,
    "source_hash": "efbd64c5",
    "tags": []
   },
   "outputs": [
    {
     "data": {
      "text/plain": [
       "'running func_4'"
      ]
     },
     "execution_count": 37,
     "metadata": {},
     "output_type": "execute_result"
    }
   ],
   "source": [
    "new_func = func_3\n",
    "new_func()"
   ]
  },
  {
   "cell_type": "code",
   "execution_count": null,
   "metadata": {
    "cell_id": "00049-a506bf21-7192-4f0b-94e4-7d76791bc0af",
    "execution_millis": 2,
    "execution_start": 1603764262774,
    "output_cleared": false,
    "source_hash": "24312d64",
    "tags": []
   },
   "outputs": [
    {
     "data": {
      "text/plain": [
       "<function __main__.<lambda>(x)>"
      ]
     },
     "execution_count": 62,
     "metadata": {},
     "output_type": "execute_result"
    }
   ],
   "source": [
    "# lambda function does something similar, but doesn't assign any name. Inline, anonymous, to pass fn\n",
    "\n",
    "lambda x: x **2"
   ]
  },
  {
   "cell_type": "code",
   "execution_count": null,
   "metadata": {
    "cell_id": "00050-b9a50976-aefa-498c-9d37-e1d0850c95cf",
    "execution_millis": 0,
    "execution_start": 1603764267714,
    "output_cleared": false,
    "source_hash": "d81ac22a",
    "tags": []
   },
   "outputs": [],
   "source": [
    "fn1 = lambda x: x**2"
   ]
  },
  {
   "cell_type": "code",
   "execution_count": null,
   "metadata": {
    "cell_id": "00051-03f97116-17a6-4885-a063-a23bfdfb4d40",
    "execution_millis": 3,
    "execution_start": 1603764273218,
    "output_cleared": false,
    "source_hash": "64120fa",
    "tags": []
   },
   "outputs": [
    {
     "data": {
      "text/plain": [
       "9"
      ]
     },
     "execution_count": 64,
     "metadata": {},
     "output_type": "execute_result"
    }
   ],
   "source": [
    "fn1(3)"
   ]
  },
  {
   "cell_type": "markdown",
   "metadata": {
    "cell_id": "00052-05d0c20c-3e09-459d-a8a0-92031f42b713",
    "tags": []
   },
   "source": [
    "## Loops\n",
    "\n",
    "* The while loop\n",
    "* Break, Continue and Try Statement\n",
    "* The for loop\n",
    "* Enumerate"
   ]
  },
  {
   "cell_type": "code",
   "execution_count": 38,
   "metadata": {
    "cell_id": "00052-732d4bb6-13b1-44ec-babb-a07ca9e45fa6",
    "execution_millis": 1,
    "execution_start": 1603764551277,
    "output_cleared": false,
    "source_hash": "b71bf2d3",
    "tags": []
   },
   "outputs": [
    {
     "name": "stdout",
     "output_type": "stream",
     "text": [
      "0\n",
      "1\n",
      "2\n",
      "3\n",
      "4\n"
     ]
    }
   ],
   "source": [
    "# something which repeats a block of code as long as condition is true\n",
    "\n",
    "i = 0\n",
    "\n",
    "while i < 5:\n",
    "    print(i)\n",
    "    i += 1"
   ]
  },
  {
   "cell_type": "code",
   "execution_count": 39,
   "metadata": {
    "cell_id": "00054-482e0b33-8663-46ab-a846-77b6711b3a71",
    "execution_millis": 2,
    "execution_start": 1603764656925,
    "output_cleared": false,
    "source_hash": "b817e50f",
    "tags": []
   },
   "outputs": [
    {
     "name": "stdout",
     "output_type": "stream",
     "text": [
      "5\n"
     ]
    }
   ],
   "source": [
    "# with i = 5 it won't run, but what if we need it to run at least once?\n",
    "# we  do not have do...while in Python\n",
    "# but we have a very simple alternative\n",
    "\n",
    "\n",
    "\n",
    "i = 5\n",
    "\n",
    "while True: # infinite loop\n",
    "    print(i)\n",
    "    if i >= 5:\n",
    "        break\n",
    "        print(\"I won't even get printed\")\n",
    "\n",
    "\n"
   ]
  },
  {
   "cell_type": "code",
   "execution_count": 40,
   "metadata": {
    "cell_id": "00055-0aca8d40-c689-4b49-876c-4e8e0a75c139",
    "execution_millis": 3874,
    "execution_start": 1603764673302,
    "output_cleared": false,
    "source_hash": "154db11d",
    "tags": []
   },
   "outputs": [
    {
     "name": "stdout",
     "output_type": "stream",
     "text": [
      "Please enter your name:sh*lpa\n",
      "Please enter your name:sh1lpa\n",
      "Please enter your name:shilpaaaaaaaaaaaaaaaaaaaa\n",
      "Hello shilpaaaaaaaaaaaaaaaaaaaa\n"
     ]
    }
   ],
   "source": [
    "# use case.. we want name which is valid.. 2 chars.. no digits.. etc.. \n",
    "\n",
    "min_length = 2\n",
    "\n",
    "name = input(\"Please enter your name:\")\n",
    "while not (len(name) >= min_length and name.isprintable() and name.isalpha()):\n",
    "    name = input(\"Please enter your name:\")\n",
    "\n",
    "print(f\"Hello {name}\")"
   ]
  },
  {
   "cell_type": "code",
   "execution_count": 41,
   "metadata": {
    "cell_id": "00056-6b76c26d-d55a-42ab-b27d-48cc20773fe1",
    "execution_millis": 6192,
    "execution_start": 1603764683257,
    "output_cleared": false,
    "source_hash": "762c2edb",
    "tags": []
   },
   "outputs": [
    {
     "name": "stdout",
     "output_type": "stream",
     "text": [
      "Please enter your name:klklklkl\n",
      "Hello klklklkl\n"
     ]
    }
   ],
   "source": [
    "# alternative\n",
    "\n",
    "while True:\n",
    "    name = input(\"Please enter your name:\")\n",
    "\n",
    "    if (len(name) >= min_length and name.isprintable() and name.isalpha()):\n",
    "        break\n",
    "\n",
    "print(f\"Hello {name}\")"
   ]
  },
  {
   "cell_type": "markdown",
   "metadata": {
    "cell_id": "00057-488665f3-2631-4607-bfa1-c2e6695b392c",
    "tags": []
   },
   "source": [
    "## Continue statement\n",
    "stops the current iteration and goes back to first line"
   ]
  },
  {
   "cell_type": "code",
   "execution_count": 42,
   "metadata": {
    "cell_id": "00057-8b0dd142-8def-44de-acc1-c24ddbff4ac5",
    "execution_millis": 4,
    "execution_start": 1603764708526,
    "output_cleared": false,
    "source_hash": "56c23c24",
    "tags": []
   },
   "outputs": [
    {
     "name": "stdout",
     "output_type": "stream",
     "text": [
      "1\n",
      "3\n",
      "5\n",
      "7\n",
      "9\n"
     ]
    }
   ],
   "source": [
    "a = 0\n",
    "\n",
    "while a < 10:\n",
    "    a += 1\n",
    "    if a%2 == 0:\n",
    "        continue\n",
    "    print(a)"
   ]
  },
  {
   "cell_type": "markdown",
   "metadata": {
    "cell_id": "00059-4d3bbf76-5844-4f18-9ab9-5fbcc0f91222",
    "tags": []
   },
   "source": [
    "## Else in while\n",
    "when while ran normally, did not use break, then it will use Else"
   ]
  },
  {
   "cell_type": "code",
   "execution_count": 43,
   "metadata": {
    "cell_id": "00059-7599c51c-6758-43af-b1ba-a2d31f170af5",
    "execution_millis": 2,
    "execution_start": 1603764768681,
    "output_cleared": false,
    "source_hash": "a31ebcb5",
    "tags": []
   },
   "outputs": [
    {
     "name": "stdout",
     "output_type": "stream",
     "text": [
      "[1, 2, 3, 10]\n"
     ]
    }
   ],
   "source": [
    "# let's check if 10 is there in the list, if not, add it\n",
    "l = [1, 2, 3]\n",
    "\n",
    "val = 10\n",
    "\n",
    "found = False\n",
    "idx = 0\n",
    "while idx < len(l):\n",
    "    if l[idx] == val:\n",
    "        found = True\n",
    "        break\n",
    "    idx += 1\n",
    "\n",
    "if not found:\n",
    "    l.append(val)\n",
    "print(l)"
   ]
  },
  {
   "cell_type": "code",
   "execution_count": 44,
   "metadata": {
    "cell_id": "00061-29cd7081-2749-4950-8de2-cd99241a13a0",
    "execution_millis": 3,
    "execution_start": 1603764771816,
    "output_cleared": false,
    "source_hash": "933e8f7e",
    "tags": []
   },
   "outputs": [
    {
     "name": "stdout",
     "output_type": "stream",
     "text": [
      "[1, 2, 3, 10]\n"
     ]
    }
   ],
   "source": [
    "# better way\n",
    "\n",
    "l = [1, 2, 3]\n",
    "val = 10\n",
    "idx = 0\n",
    "\n",
    "while idx < len(l):\n",
    "    if l[idx] == val:\n",
    "        break\n",
    "    idx += 1\n",
    "else: # won't run if break was encountered\n",
    "    l.append(val)\n",
    "print(l)"
   ]
  },
  {
   "cell_type": "markdown",
   "metadata": {
    "cell_id": "00062-3b60760d-0c83-4deb-9763-55c0494f756e",
    "tags": []
   },
   "source": [
    "## Try, except and Finally"
   ]
  },
  {
   "cell_type": "code",
   "execution_count": 45,
   "metadata": {
    "cell_id": "00062-80120049-c77c-4322-b979-a6e4b48f56ad",
    "execution_millis": 1,
    "execution_start": 1603764807597,
    "output_cleared": false,
    "source_hash": "6e781bc2",
    "tags": []
   },
   "outputs": [
    {
     "name": "stdout",
     "output_type": "stream",
     "text": [
      "this always executes\n"
     ]
    }
   ],
   "source": [
    "a = 10\n",
    "b = 1 # then try with 0\n",
    "\n",
    "try:\n",
    "    a/b\n",
    "except ZeroDivisionError:\n",
    "    print('Dividion by 0')\n",
    "finally:\n",
    "    print('this always executes')"
   ]
  },
  {
   "cell_type": "code",
   "execution_count": 46,
   "metadata": {
    "cell_id": "00064-2db46153-f678-4d23-ba88-5379d76b52c6",
    "execution_millis": 1,
    "execution_start": 1603764820758,
    "output_cleared": false,
    "source_hash": "9275ca2",
    "tags": []
   },
   "outputs": [
    {
     "name": "stdout",
     "output_type": "stream",
     "text": [
      "_______________________\n",
      "1, 1 - always executes\n",
      "1, 1 - main loop\n",
      "_______________________\n",
      "division by zero a 2 b 0\n",
      "2, 0 - always executes\n",
      "_______________________\n",
      "3, -1 - always executes\n",
      "3, -1 - main loop\n",
      "_______________________\n",
      "4, -2 - always executes\n",
      "4, -2 - main loop\n"
     ]
    }
   ],
   "source": [
    "a = 0\n",
    "b = 2\n",
    "\n",
    "while a < 4:\n",
    "    print(\"_______________________\")\n",
    "    a += 1\n",
    "    b -= 1\n",
    "    try:\n",
    "        a/b\n",
    "    except ZeroDivisionError:\n",
    "        print(f'division by zero a {a} b {b}')\n",
    "        continue\n",
    "    finally:\n",
    "        print('{0}, {1} - always executes'.format(a, b))\n",
    "    print('{0}, {1} - main loop'.format(a, b))\n",
    "    "
   ]
  },
  {
   "cell_type": "code",
   "execution_count": 47,
   "metadata": {
    "cell_id": "00065-3978eb08-9a9e-45a0-b2ab-8b53044ac429",
    "execution_millis": 2,
    "execution_start": 1603764929193,
    "output_cleared": false,
    "source_hash": "e02c07dc",
    "tags": []
   },
   "outputs": [
    {
     "name": "stdout",
     "output_type": "stream",
     "text": [
      "_______________________\n",
      "1, 9 - always executes\n",
      "1, 9 - main loop\n",
      "_______________________\n",
      "2, 8 - always executes\n",
      "2, 8 - main loop\n",
      "_______________________\n",
      "3, 7 - always executes\n",
      "3, 7 - main loop\n",
      "_______________________\n",
      "4, 6 - always executes\n",
      "4, 6 - main loop\n",
      "I did not encounted break\n"
     ]
    }
   ],
   "source": [
    "# changing break\n",
    "a = 0\n",
    "b = 10 #try for 2\n",
    "\n",
    "while a < 4:\n",
    "    print(\"_______________________\")\n",
    "    a += 1\n",
    "    b -= 1\n",
    "    try:\n",
    "        a/b\n",
    "    except ZeroDivisionError:\n",
    "        print(f'division by zero a {a} b {b}')\n",
    "        break\n",
    "    finally:\n",
    "        print('{0}, {1} - always executes'.format(a, b))\n",
    "    print('{0}, {1} - main loop'.format(a, b))\n",
    "else:\n",
    "    print(\"I did not encounted break\")"
   ]
  },
  {
   "cell_type": "markdown",
   "metadata": {
    "cell_id": "00066-b734799b-df2d-44aa-a10a-96862e4b084a",
    "tags": []
   },
   "source": [
    "## The For Loop\n",
    "\n",
    "Other languages for(int i = 0; i < 5; i++) {code} but there is no such thing in Python\n",
    "\n",
    "##### In Python, an iterable is an object capable of returning values one at a time\n",
    "There are many objects in Python which are iterable, string, tuple, list, dictionaries\n",
    "In Python for loop gets a value next in the iterable. "
   ]
  },
  {
   "cell_type": "code",
   "execution_count": 48,
   "metadata": {
    "cell_id": "00066-c6ed53f1-eb02-4202-a863-530ed4f7c6e5",
    "execution_millis": 2,
    "execution_start": 1603764973597,
    "output_cleared": false,
    "source_hash": "fbf4436e",
    "tags": []
   },
   "outputs": [
    {
     "name": "stdout",
     "output_type": "stream",
     "text": [
      "0\n",
      "1\n",
      "2\n",
      "3\n",
      "4\n"
     ]
    }
   ],
   "source": [
    "# eqivalent of other for in Python\n",
    "\n",
    "i = 0\n",
    "while i < 5:\n",
    "    print(i)\n",
    "    i += 1\n",
    "i = None"
   ]
  },
  {
   "cell_type": "code",
   "execution_count": 49,
   "metadata": {
    "cell_id": "00066-accd525f-7e64-47b1-85e0-e3d8f5384f27",
    "execution_millis": 3,
    "execution_start": 1603764979843,
    "output_cleared": false,
    "source_hash": "a0180568",
    "tags": []
   },
   "outputs": [
    {
     "name": "stdout",
     "output_type": "stream",
     "text": [
      "0\n",
      "1\n",
      "2\n",
      "3\n",
      "4\n"
     ]
    }
   ],
   "source": [
    "# In Python for loops are there to iterate over iterable. It is more like for_each on other languages\n",
    "for i in range(5):\n",
    "    print(i)"
   ]
  },
  {
   "cell_type": "code",
   "execution_count": 50,
   "metadata": {
    "cell_id": "00069-f92ffd94-03ff-4315-b28e-eeae78fc61af",
    "execution_millis": 2,
    "execution_start": 1603764985869,
    "output_cleared": false,
    "source_hash": "cc912aaa",
    "tags": []
   },
   "outputs": [
    {
     "name": "stdout",
     "output_type": "stream",
     "text": [
      "1\n",
      "2\n",
      "3\n",
      "4\n"
     ]
    }
   ],
   "source": [
    "for i in [1, 2, 3, 4]:\n",
    "    print(i)"
   ]
  },
  {
   "cell_type": "code",
   "execution_count": 51,
   "metadata": {
    "cell_id": "00070-ddd38d74-7e59-4712-b3ba-918ea0b51ad1",
    "execution_millis": 4,
    "execution_start": 1603764989922,
    "output_cleared": false,
    "source_hash": "d9efa5da",
    "tags": []
   },
   "outputs": [
    {
     "name": "stdout",
     "output_type": "stream",
     "text": [
      "t\n",
      "h\n",
      "e\n",
      " \n",
      "s\n",
      "c\n",
      "h\n",
      "o\n",
      "o\n",
      "l\n",
      " \n",
      "o\n",
      "f\n",
      " \n",
      "a\n",
      "i\n"
     ]
    }
   ],
   "source": [
    "for i in 'the school of ai':\n",
    "    print(i)"
   ]
  },
  {
   "cell_type": "code",
   "execution_count": 52,
   "metadata": {
    "cell_id": "00071-11b92008-6720-4805-895f-0b0d3d6831e5",
    "execution_millis": 2,
    "execution_start": 1603764996478,
    "output_cleared": false,
    "source_hash": "887aca4e",
    "tags": []
   },
   "outputs": [
    {
     "name": "stdout",
     "output_type": "stream",
     "text": [
      "(1, 2)\n",
      "(3, 4)\n",
      "(5, 6)\n"
     ]
    }
   ],
   "source": [
    "for x in [(1, 2), (3, 4), (5, 6)]:\n",
    "    print(x)"
   ]
  },
  {
   "cell_type": "code",
   "execution_count": 53,
   "metadata": {
    "cell_id": "00072-0750fb1a-1a44-4fe2-b674-305735360df6",
    "execution_millis": 3,
    "execution_start": 1603765001156,
    "output_cleared": false,
    "source_hash": "a2248e8b",
    "tags": []
   },
   "outputs": [
    {
     "name": "stdout",
     "output_type": "stream",
     "text": [
      "1\n",
      "3\n",
      "5\n"
     ]
    }
   ],
   "source": [
    "for x, y in [(1, 2), (3, 4), (5, 6)]: #unpacking\n",
    "    print(x)"
   ]
  },
  {
   "cell_type": "code",
   "execution_count": 54,
   "metadata": {
    "cell_id": "00074-55db9c6c-4cbb-4e20-9b7e-d3b984b09bf6",
    "execution_millis": 2,
    "execution_start": 1603765091756,
    "output_cleared": false,
    "source_hash": "305535a8",
    "tags": []
   },
   "outputs": [
    {
     "name": "stdout",
     "output_type": "stream",
     "text": [
      "0\n",
      "1\n",
      "2\n",
      "3\n",
      "4\n",
      "i was never 3\n"
     ]
    }
   ],
   "source": [
    "# instead of break try continue below\n",
    "\n",
    "for i in range(5):\n",
    "    if i*2 == 3:\n",
    "        break\n",
    "    print(i)\n",
    "else:\n",
    "    print(\"i was never 3\")"
   ]
  },
  {
   "cell_type": "code",
   "execution_count": 55,
   "metadata": {
    "cell_id": "00075-b57305f9-1697-480c-957a-3705613a0707",
    "execution_millis": 3,
    "execution_start": 1603765097651,
    "output_cleared": false,
    "source_hash": "75445b49",
    "tags": []
   },
   "outputs": [
    {
     "name": "stdout",
     "output_type": "stream",
     "text": [
      "_________________\n",
      "always run\n",
      "in the main loop 0\n",
      "_________________\n",
      "always run\n",
      "in the main loop 1\n",
      "_________________\n",
      "always run\n",
      "in the main loop 2\n",
      "_________________\n",
      "Divided by 0\n",
      "always run\n",
      "_________________\n",
      "always run\n",
      "in the main loop 4\n"
     ]
    }
   ],
   "source": [
    "for i in range(5):\n",
    "    print(\"_________________\")\n",
    "    try:\n",
    "        10/(i-3)\n",
    "    except ZeroDivisionError:\n",
    "        print(\"Divided by 0\")\n",
    "        continue\n",
    "    finally:\n",
    "        print(\"always run\")\n",
    "    print(\"in the main loop \" + str(i))\n"
   ]
  },
  {
   "cell_type": "code",
   "execution_count": 56,
   "metadata": {
    "cell_id": "00076-ff0182d9-5c2a-4a64-8350-ce6595a1dff2",
    "execution_millis": 2,
    "execution_start": 1603765132009,
    "output_cleared": false,
    "source_hash": "291d358d",
    "tags": []
   },
   "outputs": [],
   "source": [
    "# what about indexes?\n",
    "\n",
    "# we can't talk about first index of sets and dictionaries, \n",
    "# but string \"hello\".. we can talk about index"
   ]
  },
  {
   "cell_type": "code",
   "execution_count": 57,
   "metadata": {
    "cell_id": "00076-eeedf600-f7c2-489e-be57-f9c37b5eda8e",
    "execution_millis": 1,
    "execution_start": 1603765143501,
    "output_cleared": false,
    "source_hash": "cd53590b",
    "tags": []
   },
   "outputs": [
    {
     "name": "stdout",
     "output_type": "stream",
     "text": [
      "0 h\n",
      "1 e\n",
      "2 l\n",
      "3 l\n",
      "4 o\n"
     ]
    }
   ],
   "source": [
    "s = \"hello\"\n",
    "i = 0\n",
    "for c in s:\n",
    "    print(i, c)\n",
    "    i += 1"
   ]
  },
  {
   "cell_type": "code",
   "execution_count": 58,
   "metadata": {
    "cell_id": "00077-cb3ca047-efd5-4f23-86f5-d325b012ffa1",
    "execution_millis": 3,
    "execution_start": 1603765149993,
    "output_cleared": false,
    "source_hash": "343f7ee6",
    "tags": []
   },
   "outputs": [
    {
     "name": "stdout",
     "output_type": "stream",
     "text": [
      "0 h\n",
      "1 e\n",
      "2 l\n",
      "3 l\n",
      "4 o\n"
     ]
    }
   ],
   "source": [
    "for i in range(len(s)):\n",
    "    print(i, s[i])\n",
    "    "
   ]
  },
  {
   "cell_type": "code",
   "execution_count": 59,
   "metadata": {
    "cell_id": "00078-78f76f36-c154-4c1a-8f33-ada97769f94a",
    "execution_millis": 3,
    "execution_start": 1603765155435,
    "output_cleared": false,
    "source_hash": "cc124dea",
    "tags": []
   },
   "outputs": [
    {
     "name": "stdout",
     "output_type": "stream",
     "text": [
      "0 h\n",
      "1 e\n",
      "2 l\n",
      "3 l\n",
      "4 o\n"
     ]
    }
   ],
   "source": [
    "# Enumerate\n",
    "s = \"hello\"\n",
    "\n",
    "for i, c in enumerate(s):\n",
    "    print(i, c)"
   ]
  },
  {
   "cell_type": "markdown",
   "metadata": {
    "cell_id": "00079-ee7c64b7-677c-4bcc-a8d1-7904e6860f09",
    "tags": []
   },
   "source": [
    "## Classes\n",
    "\n",
    "You should already be familiar with all of this"
   ]
  },
  {
   "cell_type": "code",
   "execution_count": 60,
   "metadata": {
    "cell_id": "00079-e8efee1a-00d2-4305-9551-328745053f1f",
    "execution_millis": 2,
    "execution_start": 1603765192567,
    "output_cleared": false,
    "source_hash": "4f0b7723",
    "tags": []
   },
   "outputs": [],
   "source": [
    "class Rectangle: # keyword \n",
    "    def __init__(we_can_call_this_anything_but_self_is_convension):   # initializer, runs once an instance/object is created. \n",
    "    # First argument of the method is the object itself\n",
    "        pass\n"
   ]
  },
  {
   "cell_type": "code",
   "execution_count": 61,
   "metadata": {
    "cell_id": "00081-7f408918-c0de-4caf-8dfd-02b4933c1020",
    "execution_millis": 1,
    "execution_start": 1603765211387,
    "output_cleared": false,
    "source_hash": "6ba443ad",
    "tags": []
   },
   "outputs": [],
   "source": [
    "class Rectangle(): # keyword \n",
    "    def __init__(self, x):   # initializer, runs once an instance/object is created. \n",
    "        self.x = x\n",
    "    \n"
   ]
  },
  {
   "cell_type": "code",
   "execution_count": 62,
   "metadata": {
    "cell_id": "00082-edb982e2-25a4-445f-8546-59a7acead0e7",
    "execution_millis": 3,
    "execution_start": 1603765216332,
    "output_cleared": false,
    "source_hash": "58b40d4a",
    "tags": []
   },
   "outputs": [
    {
     "data": {
      "text/plain": [
       "10"
      ]
     },
     "execution_count": 62,
     "metadata": {},
     "output_type": "execute_result"
    }
   ],
   "source": [
    "r1 = Rectangle(10)\n",
    "r1.x\n",
    "r2 = Rectangle(100)\n",
    "r2.x\n",
    "r1.x"
   ]
  },
  {
   "cell_type": "code",
   "execution_count": 63,
   "metadata": {
    "cell_id": "00083-1e539ccd-bb1a-4f3f-975b-95663681caa4",
    "execution_millis": 1,
    "execution_start": 1603765238085,
    "output_cleared": false,
    "source_hash": "e41e4d23",
    "tags": []
   },
   "outputs": [],
   "source": [
    "class Rectangle:  \n",
    "    def __init__(self, width, height):\n",
    "        self.width = width\n",
    "        self.height = height\n"
   ]
  },
  {
   "cell_type": "code",
   "execution_count": 64,
   "metadata": {
    "cell_id": "00084-7b66913d-991b-465c-b834-07e47d4f4b5a",
    "execution_millis": 3,
    "execution_start": 1603765243196,
    "output_cleared": false,
    "source_hash": "fcbebabd",
    "tags": []
   },
   "outputs": [],
   "source": [
    "r1 = Rectangle(10, 20)"
   ]
  },
  {
   "cell_type": "code",
   "execution_count": 65,
   "metadata": {
    "cell_id": "00085-7fa6a985-1012-4d41-820c-6e8e6d401b67",
    "execution_millis": 3,
    "execution_start": 1603765247672,
    "output_cleared": false,
    "source_hash": "78b4b95e",
    "tags": []
   },
   "outputs": [],
   "source": [
    "# let's add methods\n",
    "class Rectangle:  \n",
    "    def __init__(tsai, width, height):\n",
    "        tsai.width = width #properties\n",
    "        tsai.height = height\n",
    "    def area(tsai): #method\n",
    "        return tsai.width * tsai.height\n",
    "    def perimeter(tsai):\n",
    "        return 2 * (tsai.width + tsai.height)"
   ]
  },
  {
   "cell_type": "code",
   "execution_count": 66,
   "metadata": {
    "cell_id": "00086-14ce4552-e05f-4a4a-9fb5-33f3f0f08e08",
    "execution_millis": 3,
    "execution_start": 1603765253055,
    "output_cleared": false,
    "source_hash": "c724bd56",
    "tags": []
   },
   "outputs": [
    {
     "data": {
      "text/plain": [
       "200"
      ]
     },
     "execution_count": 66,
     "metadata": {},
     "output_type": "execute_result"
    }
   ],
   "source": [
    "r1 = Rectangle(10, 20)\n",
    "r1.area()"
   ]
  },
  {
   "cell_type": "code",
   "execution_count": 67,
   "metadata": {
    "cell_id": "00087-606fcfa3-be9a-42fb-80a0-3237b0109080",
    "execution_millis": 2,
    "execution_start": 1603765259433,
    "output_cleared": false,
    "source_hash": "4261269f",
    "tags": []
   },
   "outputs": [
    {
     "data": {
      "text/plain": [
       "'<__main__.Rectangle object at 0x7fa0544ad6a0>'"
      ]
     },
     "execution_count": 67,
     "metadata": {},
     "output_type": "execute_result"
    }
   ],
   "source": [
    "# string representation\n",
    "\n",
    "str(r1)"
   ]
  },
  {
   "cell_type": "code",
   "execution_count": 68,
   "metadata": {
    "cell_id": "00088-3b5c8e1e-5db8-4489-a4f8-75148d5d71c0",
    "execution_millis": 7,
    "execution_start": 1603765265085,
    "output_cleared": false,
    "source_hash": "87ddb3d4",
    "tags": []
   },
   "outputs": [
    {
     "data": {
      "text/plain": [
       "'0x7fa0544ad6a0'"
      ]
     },
     "execution_count": 68,
     "metadata": {},
     "output_type": "execute_result"
    }
   ],
   "source": [
    "hex(id(r1))"
   ]
  },
  {
   "cell_type": "code",
   "execution_count": 69,
   "metadata": {
    "cell_id": "00089-f0e8eec7-f661-4607-9d18-36450b86c92d",
    "execution_millis": 0,
    "execution_start": 1603765343203,
    "output_cleared": false,
    "source_hash": "54faab87",
    "tags": []
   },
   "outputs": [],
   "source": [
    "# we might need a better representation\n",
    "class Rectangle:  \n",
    "    def __init__(tsai, width, height):\n",
    "        tsai.width = width #properties\n",
    "        tsai.height = height\n",
    "    def area(tsai): #method\n",
    "        return tsai.width * tsai.height\n",
    "    def perimeter(tsai):\n",
    "        return 2 * (tsai.width + tsai.height)\n",
    "    def to_string(self):\n",
    "        return 'Rectangle: width={0}, height={1}'.format(self.width, self.height)"
   ]
  },
  {
   "cell_type": "code",
   "execution_count": 70,
   "metadata": {
    "cell_id": "00090-99006668-c38c-40ce-893d-53960d530c25",
    "execution_millis": 2,
    "execution_start": 1603765346285,
    "output_cleared": false,
    "source_hash": "78a0d4c0",
    "tags": []
   },
   "outputs": [
    {
     "data": {
      "text/plain": [
       "'<__main__.Rectangle object at 0x7fa05444e5b0>'"
      ]
     },
     "execution_count": 70,
     "metadata": {},
     "output_type": "execute_result"
    }
   ],
   "source": [
    "r1 = Rectangle(10, 20)\n",
    "str(r1)"
   ]
  },
  {
   "cell_type": "code",
   "execution_count": 71,
   "metadata": {
    "cell_id": "00091-2824bc06-ccf3-487f-ba7b-e95bd3ffcd02",
    "execution_millis": 3,
    "execution_start": 1603765351691,
    "output_cleared": false,
    "source_hash": "84005e1e",
    "tags": []
   },
   "outputs": [
    {
     "data": {
      "text/plain": [
       "'Rectangle: width=10, height=20'"
      ]
     },
     "execution_count": 71,
     "metadata": {},
     "output_type": "execute_result"
    }
   ],
   "source": [
    "r1.to_string() # this needs to be __str__ "
   ]
  },
  {
   "cell_type": "code",
   "execution_count": 72,
   "metadata": {
    "cell_id": "00092-50556018-394b-459e-a90c-13f16bfd402b",
    "execution_millis": 4,
    "execution_start": 1603765359526,
    "output_cleared": false,
    "source_hash": "d00caaf0",
    "tags": []
   },
   "outputs": [
    {
     "data": {
      "text/plain": [
       "<__main__.Rectangle at 0x7fa05444e5b0>"
      ]
     },
     "execution_count": 72,
     "metadata": {},
     "output_type": "execute_result"
    }
   ],
   "source": [
    "r1"
   ]
  },
  {
   "cell_type": "code",
   "execution_count": 73,
   "metadata": {
    "cell_id": "00093-32fdefc2-9164-405b-b907-a5415f62beb1",
    "execution_millis": 2,
    "execution_start": 1603765365529,
    "output_cleared": false,
    "source_hash": "e58b6f5e",
    "tags": []
   },
   "outputs": [],
   "source": [
    "class Rectangle:  \n",
    "    def __init__(tsai, width, height):\n",
    "        tsai.width = width #properties\n",
    "        tsai.height = height\n",
    "    def area(tsai): #method\n",
    "        return tsai.width * tsai.height\n",
    "    def perimeter(tsai):\n",
    "        return 2 * (tsai.width + tsai.height)\n",
    "    def __str__(self):\n",
    "        return 'Rectangle: width={0}, height={1}'.format(self.width, self.height)\n",
    "    def __repr__(self):\n",
    "        return 'Rectangle({0}, {1})'.format(self.width, self.height)"
   ]
  },
  {
   "cell_type": "code",
   "execution_count": 74,
   "metadata": {
    "cell_id": "00094-de131587-0b88-43af-8eea-18d878db7e27",
    "execution_millis": 1,
    "execution_start": 1603765374360,
    "output_cleared": false,
    "source_hash": "fcbebabd",
    "tags": []
   },
   "outputs": [],
   "source": [
    "r1 = Rectangle(10, 20)"
   ]
  },
  {
   "cell_type": "code",
   "execution_count": 75,
   "metadata": {
    "cell_id": "00095-863005e6-b2e4-440a-b910-3f5cc9c4742b",
    "execution_millis": 2,
    "execution_start": 1603765378664,
    "output_cleared": false,
    "source_hash": "71dee5af",
    "tags": []
   },
   "outputs": [
    {
     "data": {
      "text/plain": [
       "'Rectangle: width=10, height=20'"
      ]
     },
     "execution_count": 75,
     "metadata": {},
     "output_type": "execute_result"
    }
   ],
   "source": [
    "str(r1)"
   ]
  },
  {
   "cell_type": "code",
   "execution_count": 76,
   "metadata": {
    "cell_id": "00096-89934634-dd3c-4ec0-b9d2-33f3a8fa116d",
    "execution_millis": 3,
    "execution_start": 1603765383227,
    "output_cleared": false,
    "source_hash": "d00caaf0",
    "tags": []
   },
   "outputs": [
    {
     "data": {
      "text/plain": [
       "Rectangle(10, 20)"
      ]
     },
     "execution_count": 76,
     "metadata": {},
     "output_type": "execute_result"
    }
   ],
   "source": [
    "r1"
   ]
  },
  {
   "cell_type": "code",
   "execution_count": 77,
   "metadata": {
    "cell_id": "00097-04f7e333-dd23-4283-b365-628fdbac994b",
    "execution_millis": 5,
    "execution_start": 1603765388844,
    "output_cleared": false,
    "source_hash": "ffe9d1e1",
    "tags": []
   },
   "outputs": [],
   "source": [
    "r2 = Rectangle(10, 20)"
   ]
  },
  {
   "cell_type": "code",
   "execution_count": 78,
   "metadata": {
    "cell_id": "00098-50aa3886-a31f-4ad7-b450-a7cb39804cba",
    "execution_millis": 3,
    "execution_start": 1603765392939,
    "output_cleared": false,
    "source_hash": "900025d0",
    "tags": []
   },
   "outputs": [
    {
     "data": {
      "text/plain": [
       "True"
      ]
     },
     "execution_count": 78,
     "metadata": {},
     "output_type": "execute_result"
    }
   ],
   "source": [
    "r1 is not r2"
   ]
  },
  {
   "cell_type": "code",
   "execution_count": 79,
   "metadata": {
    "cell_id": "00099-6d445ef1-8675-4b58-9b72-8b2960082d59",
    "execution_millis": 16,
    "execution_start": 1603765397725,
    "output_cleared": false,
    "source_hash": "14701457",
    "tags": []
   },
   "outputs": [
    {
     "data": {
      "text/plain": [
       "False"
      ]
     },
     "execution_count": 79,
     "metadata": {},
     "output_type": "execute_result"
    }
   ],
   "source": [
    "r1 == r2\n"
   ]
  },
  {
   "cell_type": "code",
   "execution_count": 80,
   "metadata": {
    "cell_id": "00100-2e7ef608-a016-4890-85c9-729539b0f3f1",
    "execution_millis": 1,
    "execution_start": 1603765404282,
    "output_cleared": false,
    "source_hash": "5e645fa",
    "tags": []
   },
   "outputs": [],
   "source": [
    "class Rectangle:  \n",
    "    def __init__(tsai, width, height):\n",
    "        tsai.width = width #properties\n",
    "        tsai.height = height\n",
    "    def area(tsai): #method\n",
    "        return tsai.width * tsai.height\n",
    "    def perimeter(tsai):\n",
    "        return 2 * (tsai.width + tsai.height)\n",
    "    def __str__(self):\n",
    "        return 'Rectangle: width={0}, height={1}'.format(self.width, self.height)\n",
    "    def __repr__(self):\n",
    "        return 'Rectangle({0}, {1})'.format(self.width, self.height)\n",
    "    def __eq__(self, other):\n",
    "        return self.width == other.width and self.height == other.height\n",
    "        # or (self.width, self.height) == (other.width, other.height)"
   ]
  },
  {
   "cell_type": "code",
   "execution_count": 81,
   "metadata": {
    "cell_id": "00101-5c6925d6-f799-4d47-bebd-8ae08f0fb278",
    "execution_millis": 2,
    "execution_start": 1603765409597,
    "output_cleared": false,
    "source_hash": "950bb8ab",
    "tags": []
   },
   "outputs": [],
   "source": [
    "r1 = Rectangle(10, 20)\n",
    "r2 = Rectangle(10, 20)"
   ]
  },
  {
   "cell_type": "code",
   "execution_count": 82,
   "metadata": {
    "cell_id": "00102-718e81a8-1e07-431f-a0cb-d982be2b29a4",
    "execution_millis": 13,
    "execution_start": 1603765413700,
    "output_cleared": false,
    "source_hash": "ef68ff36",
    "tags": []
   },
   "outputs": [
    {
     "data": {
      "text/plain": [
       "True"
      ]
     },
     "execution_count": 82,
     "metadata": {},
     "output_type": "execute_result"
    }
   ],
   "source": [
    "r1 == r2"
   ]
  },
  {
   "cell_type": "code",
   "execution_count": 83,
   "metadata": {
    "cell_id": "00103-cedb5719-2ad6-4dd4-a1f2-ef3dc1c38ec9",
    "execution_millis": 1,
    "execution_start": 1603765441797,
    "output_cleared": false,
    "source_hash": "a2606bcc",
    "tags": []
   },
   "outputs": [
    {
     "ename": "AttributeError",
     "evalue": "'int' object has no attribute 'width'",
     "output_type": "error",
     "traceback": [
      "\u001b[0;31m---------------------------------------------------------------------------\u001b[0m",
      "\u001b[0;31mAttributeError\u001b[0m                            Traceback (most recent call last)",
      "\u001b[0;32m<ipython-input-83-7b227cedb3f6>\u001b[0m in \u001b[0;36m<module>\u001b[0;34m\u001b[0m\n\u001b[0;32m----> 1\u001b[0;31m \u001b[0mr1\u001b[0m \u001b[0;34m==\u001b[0m \u001b[0;36m100\u001b[0m\u001b[0;34m\u001b[0m\u001b[0;34m\u001b[0m\u001b[0m\n\u001b[0m",
      "\u001b[0;32m<ipython-input-80-4c00786509cf>\u001b[0m in \u001b[0;36m__eq__\u001b[0;34m(self, other)\u001b[0m\n\u001b[1;32m     12\u001b[0m         \u001b[0;32mreturn\u001b[0m \u001b[0;34m'Rectangle({0}, {1})'\u001b[0m\u001b[0;34m.\u001b[0m\u001b[0mformat\u001b[0m\u001b[0;34m(\u001b[0m\u001b[0mself\u001b[0m\u001b[0;34m.\u001b[0m\u001b[0mwidth\u001b[0m\u001b[0;34m,\u001b[0m \u001b[0mself\u001b[0m\u001b[0;34m.\u001b[0m\u001b[0mheight\u001b[0m\u001b[0;34m)\u001b[0m\u001b[0;34m\u001b[0m\u001b[0;34m\u001b[0m\u001b[0m\n\u001b[1;32m     13\u001b[0m     \u001b[0;32mdef\u001b[0m \u001b[0m__eq__\u001b[0m\u001b[0;34m(\u001b[0m\u001b[0mself\u001b[0m\u001b[0;34m,\u001b[0m \u001b[0mother\u001b[0m\u001b[0;34m)\u001b[0m\u001b[0;34m:\u001b[0m\u001b[0;34m\u001b[0m\u001b[0;34m\u001b[0m\u001b[0m\n\u001b[0;32m---> 14\u001b[0;31m         \u001b[0;32mreturn\u001b[0m \u001b[0mself\u001b[0m\u001b[0;34m.\u001b[0m\u001b[0mwidth\u001b[0m \u001b[0;34m==\u001b[0m \u001b[0mother\u001b[0m\u001b[0;34m.\u001b[0m\u001b[0mwidth\u001b[0m \u001b[0;32mand\u001b[0m \u001b[0mself\u001b[0m\u001b[0;34m.\u001b[0m\u001b[0mheight\u001b[0m \u001b[0;34m==\u001b[0m \u001b[0mother\u001b[0m\u001b[0;34m.\u001b[0m\u001b[0mheight\u001b[0m\u001b[0;34m\u001b[0m\u001b[0;34m\u001b[0m\u001b[0m\n\u001b[0m\u001b[1;32m     15\u001b[0m         \u001b[0;31m# or (self.width, self.height) == (other.width, other.height)\u001b[0m\u001b[0;34m\u001b[0m\u001b[0;34m\u001b[0m\u001b[0;34m\u001b[0m\u001b[0m\n",
      "\u001b[0;31mAttributeError\u001b[0m: 'int' object has no attribute 'width'"
     ]
    }
   ],
   "source": [
    "r1 == 100"
   ]
  },
  {
   "cell_type": "code",
   "execution_count": 84,
   "metadata": {
    "cell_id": "00104-b49e3c13-2899-45b0-a03b-71bbc8d6cd07",
    "execution_millis": 0,
    "execution_start": 1603765464227,
    "output_cleared": false,
    "source_hash": "739939ae",
    "tags": []
   },
   "outputs": [],
   "source": [
    "# if isinstance (other, Rectange): thatline .\n",
    "# else: return False"
   ]
  },
  {
   "cell_type": "code",
   "execution_count": 85,
   "metadata": {
    "cell_id": "00105-24ae2e28-03a8-4637-b758-2d9c57332e5b",
    "execution_millis": 2,
    "execution_start": 1603765469001,
    "output_cleared": false,
    "source_hash": "af267616",
    "tags": []
   },
   "outputs": [],
   "source": [
    "class Rectangle:  \n",
    "    def __init__(tsai, width, height):\n",
    "        tsai.width = width #properties\n",
    "        tsai.height = height\n",
    "    def area(tsai): #method\n",
    "        return tsai.width * tsai.height\n",
    "    def perimeter(tsai):\n",
    "        return 2 * (tsai.width + tsai.height)\n",
    "    def __str__(self):\n",
    "        return 'Rectangle: width={0}, height={1}'.format(self.width, self.height)\n",
    "    def __repr__(self):\n",
    "        return 'Rectangle({0}, {1})'.format(self.width, self.height)\n",
    "    def __eq__(self, other):\n",
    "        if isinstance(other, Rectangle):\n",
    "            return self.width == other.width and self.height == other.height\n",
    "        else:\n",
    "            return False\n",
    "    def __lt__(self, other):\n",
    "        if isinstance(other, Rectangle):\n",
    "            return self.area() < other.area()\n",
    "        else:\n",
    "            return NotImplemented"
   ]
  },
  {
   "cell_type": "code",
   "execution_count": 86,
   "metadata": {
    "cell_id": "00106-6202ce33-fd50-4e49-957f-f74b1e176fad",
    "execution_millis": 3,
    "execution_start": 1603765475011,
    "output_cleared": false,
    "source_hash": "2f89279",
    "tags": []
   },
   "outputs": [],
   "source": [
    "r1 = Rectangle(10, 20)\n",
    "r2 = Rectangle(100, 200)"
   ]
  },
  {
   "cell_type": "code",
   "execution_count": 87,
   "metadata": {
    "cell_id": "00107-9b916f96-41a0-4203-898a-9f057264a9cf",
    "execution_millis": 2,
    "execution_start": 1603765482797,
    "output_cleared": false,
    "source_hash": "a2606bcc",
    "tags": []
   },
   "outputs": [
    {
     "data": {
      "text/plain": [
       "False"
      ]
     },
     "execution_count": 87,
     "metadata": {},
     "output_type": "execute_result"
    }
   ],
   "source": [
    "r1 == 100"
   ]
  },
  {
   "cell_type": "code",
   "execution_count": 88,
   "metadata": {
    "cell_id": "00108-2d907c9f-6914-4396-a749-b5db90cb7b3c",
    "execution_millis": 5,
    "execution_start": 1603765486529,
    "output_cleared": false,
    "source_hash": "ccf291c6",
    "tags": []
   },
   "outputs": [
    {
     "data": {
      "text/plain": [
       "True"
      ]
     },
     "execution_count": 88,
     "metadata": {},
     "output_type": "execute_result"
    }
   ],
   "source": [
    "r1 < r2"
   ]
  },
  {
   "cell_type": "code",
   "execution_count": 89,
   "metadata": {
    "cell_id": "00109-6571495c-2c7d-4138-a5df-56f79d7cc4f2",
    "execution_millis": 1,
    "execution_start": 1603765492354,
    "output_cleared": false,
    "source_hash": "4684f00a",
    "tags": []
   },
   "outputs": [
    {
     "data": {
      "text/plain": [
       "True"
      ]
     },
     "execution_count": 89,
     "metadata": {},
     "output_type": "execute_result"
    }
   ],
   "source": [
    "r2 > r1 # what will happen now?"
   ]
  },
  {
   "cell_type": "code",
   "execution_count": 90,
   "metadata": {
    "cell_id": "00110-dff5bf32-32ac-4635-aa69-8f8ba144fb4e",
    "execution_millis": 1,
    "execution_start": 1603765497987,
    "output_cleared": false,
    "source_hash": "23b598f0",
    "tags": []
   },
   "outputs": [],
   "source": [
    "# properties\n",
    "class Rectangle:  \n",
    "    def __init__(tsai, width, height):\n",
    "        tsai.width = width #properties\n",
    "        tsai.height = height\n",
    "    def area(tsai): #method\n",
    "        return tsai.width * tsai.height\n",
    "    def perimeter(tsai):\n",
    "        return 2 * (tsai.width + tsai.height)\n",
    "    def __str__(self):\n",
    "        return 'Rectangle: width={0}, height={1}'.format(self.width, self.height)\n",
    "    def __repr__(self):\n",
    "        return 'Rectangle({0}, {1})'.format(self.width, self.height)"
   ]
  },
  {
   "cell_type": "code",
   "execution_count": 91,
   "metadata": {
    "cell_id": "00111-98d8e33c-bea1-43d0-a8c6-62b9f0c95461",
    "execution_millis": 4,
    "execution_start": 1603765503625,
    "output_cleared": false,
    "source_hash": "a9fb85d1",
    "tags": []
   },
   "outputs": [],
   "source": [
    "r1 = Rectangle(10, 20)\n",
    "r1.width = 100"
   ]
  },
  {
   "cell_type": "code",
   "execution_count": 92,
   "metadata": {
    "cell_id": "00112-61465513-6e8e-4043-887d-652f2416c277",
    "execution_millis": 2,
    "execution_start": 1603765507284,
    "output_cleared": false,
    "source_hash": "4637432c",
    "tags": []
   },
   "outputs": [],
   "source": [
    "# but\n",
    "r1.width = -100"
   ]
  },
  {
   "cell_type": "code",
   "execution_count": 93,
   "metadata": {
    "cell_id": "00113-4c912251-1bec-4df6-9746-b4aed2c20805",
    "execution_millis": 3,
    "execution_start": 1603765513002,
    "output_cleared": false,
    "source_hash": "62d9dfde",
    "tags": []
   },
   "outputs": [],
   "source": [
    "# convention\n",
    "class Rectangle:  \n",
    "    def __init__(tsai, width, height):\n",
    "        tsai._width = width #pseudo private\n",
    "        tsai._height = height\n",
    "\n",
    "    def get_width(self):\n",
    "        return self._width\n",
    "\n",
    "    def set_width(self, width):\n",
    "        if width <=0:\n",
    "            raise ValueError(\"Width must be positive\")\n",
    "        else:\n",
    "            self._width = width\n",
    "\n",
    "    def get_height(self):\n",
    "        return self._height\n",
    "    \n",
    "    def set_height(self, height):\n",
    "        if height <=0:\n",
    "            raise ValueError(\"Width must be positive\")\n",
    "        else:\n",
    "            self._height = height\n",
    "\n",
    "    def area(tsai): #method\n",
    "        return tsai._width * tsai._height\n",
    "\n",
    "    def perimeter(tsai):\n",
    "        return 2 * (tsai._width + tsai._height)\n",
    "    \n",
    "    def __str__(self):\n",
    "        return 'Rectangle: width={0}, height={1}'.format(self._width, self._height)\n",
    "\n",
    "    def __eq__(self, other):\n",
    "        if isinstance(other, Rectangle):\n",
    "            return self._width == other._width and self._height == other._height\n",
    "        else:\n",
    "            return False"
   ]
  },
  {
   "cell_type": "code",
   "execution_count": 94,
   "metadata": {
    "cell_id": "00114-d71133a3-731e-44f5-b5e0-9abe6e471574",
    "execution_millis": 3,
    "execution_start": 1603765520263,
    "output_cleared": false,
    "source_hash": "faed84bd",
    "tags": []
   },
   "outputs": [],
   "source": [
    "r1 = Rectangle(10, 20)\n",
    "r1.width = -100\n"
   ]
  },
  {
   "cell_type": "code",
   "execution_count": 95,
   "metadata": {
    "cell_id": "00115-77f94d63-fdb5-4e5b-961c-44717958402b",
    "execution_millis": 4,
    "execution_start": 1603765588661,
    "output_cleared": false,
    "source_hash": "abf7003b",
    "tags": []
   },
   "outputs": [
    {
     "name": "stdout",
     "output_type": "stream",
     "text": [
      "10\n",
      "-100\n"
     ]
    },
    {
     "data": {
      "text/plain": [
       "10"
      ]
     },
     "execution_count": 95,
     "metadata": {},
     "output_type": "execute_result"
    }
   ],
   "source": [
    "print(r1._width)\n",
    "print(r1.width)\n",
    "r1.get_width()\n",
    "\n",
    "# but we just broke the r1.width compatibility with old code!!"
   ]
  },
  {
   "cell_type": "code",
   "execution_count": null,
   "metadata": {
    "cell_id": "00116-3c54f1d3-23ab-4f68-a9f9-0263181e651b",
    "execution_millis": 3,
    "execution_start": 1603765601272,
    "output_cleared": false,
    "source_hash": "f78c62b7",
    "tags": []
   },
   "outputs": [],
   "source": [
    "# without breaking the compatibility ??\n",
    "class Rectangle:  \n",
    "    def __init__(self, width, height):\n",
    "        self._width = width #properties\n",
    "        self._height = height\n",
    "\n",
    "    @property\n",
    "    def width(self):\n",
    "        return self._width\n",
    "    \n",
    "    @property\n",
    "    def height(self):\n",
    "        return self._height\n",
    "\n",
    "    def area(self): #method\n",
    "        return self.width * self.height\n",
    "    def perimeter(self):\n",
    "        return 2 * (self.width + self.height)\n",
    "    def __str__(self):\n",
    "        return 'Rectangle: width={0}, height={1}'.format(self.width, self.height)\n",
    "    def __repr__(self):\n",
    "        return 'Rectangle({0}, {1})'.format(self.width, self.height)\n",
    "    def __eq__(self, other):\n",
    "        if isinstance(other, Rectangle):\n",
    "            return self.width == other.width and self.height == other.height\n",
    "        else:\n",
    "            return False"
   ]
  },
  {
   "cell_type": "code",
   "execution_count": null,
   "metadata": {
    "cell_id": "00117-cf1da8cf-a706-46c4-ba98-cff2248ae327",
    "execution_millis": 2,
    "execution_start": 1603765607408,
    "output_cleared": false,
    "source_hash": "cef57abe",
    "tags": []
   },
   "outputs": [
    {
     "data": {
      "text/plain": [
       "10"
      ]
     },
     "execution_count": 136,
     "metadata": {},
     "output_type": "execute_result"
    }
   ],
   "source": [
    "r1 = Rectangle(10, 20)\n",
    "r1.width"
   ]
  },
  {
   "cell_type": "code",
   "execution_count": null,
   "metadata": {
    "cell_id": "00118-43a85d5b-7bd6-45cf-a7b8-9ef2c2dbc742",
    "execution_millis": 7,
    "execution_start": 1603765612240,
    "output_cleared": false,
    "source_hash": "7ffc69bc",
    "tags": []
   },
   "outputs": [
    {
     "ename": "AttributeError",
     "evalue": "can't set attribute",
     "output_type": "error",
     "traceback": [
      "\u001b[0;31m---------------------------------------------------------------------------\u001b[0m",
      "\u001b[0;31mAttributeError\u001b[0m                            Traceback (most recent call last)",
      "\u001b[0;32m<ipython-input-137-7febe5f9cdf2>\u001b[0m in \u001b[0;36m<module>\u001b[0;34m\u001b[0m\n\u001b[0;32m----> 1\u001b[0;31m \u001b[0mr1\u001b[0m\u001b[0;34m.\u001b[0m\u001b[0mwidth\u001b[0m \u001b[0;34m=\u001b[0m \u001b[0;34m-\u001b[0m\u001b[0;36m100\u001b[0m\u001b[0;34m\u001b[0m\u001b[0;34m\u001b[0m\u001b[0m\n\u001b[0m",
      "\u001b[0;31mAttributeError\u001b[0m: can't set attribute"
     ]
    }
   ],
   "source": [
    "r1.width = -100"
   ]
  },
  {
   "cell_type": "code",
   "execution_count": null,
   "metadata": {
    "cell_id": "00119-6f59b82d-6e7a-4cff-a875-cdd8420638fc",
    "execution_millis": 2,
    "execution_start": 1603765620321,
    "output_cleared": false,
    "source_hash": "5a2f3d82",
    "tags": []
   },
   "outputs": [],
   "source": [
    "class Rectangle:  \n",
    "    def __init__(self, width, height):\n",
    "        self._width = width #properties\n",
    "        self._height = height\n",
    "\n",
    "    @property\n",
    "    def width(self):\n",
    "        return self._width\n",
    "\n",
    "    @width.setter\n",
    "    def width(self, width):\n",
    "        if width <=0:\n",
    "            raise ValueError(\"Width must be positive\")\n",
    "        else:\n",
    "            self._width = width\n",
    "\n",
    "    \n",
    "    @property\n",
    "    def height(self):\n",
    "        return self._height\n",
    "\n",
    "    @height.setter\n",
    "    def height(self, height):\n",
    "        if height <=0:\n",
    "            raise ValueError(\"Height must be positive\")\n",
    "        else:\n",
    "            self._height = height\n",
    "\n",
    "    def __str__(self):\n",
    "        return 'Rectangle: width={0}, height={1}'.format(self.width, self.height)\n",
    "    def __repr__(self):\n",
    "        return 'Rectangle({0}, {1})'.format(self.width, self.height)\n"
   ]
  },
  {
   "cell_type": "code",
   "execution_count": null,
   "metadata": {
    "cell_id": "00120-adf06a35-bd81-4ee7-845a-ad325582926c",
    "execution_millis": 4,
    "execution_start": 1603765631921,
    "output_cleared": false,
    "source_hash": "a38431fc",
    "tags": []
   },
   "outputs": [
    {
     "data": {
      "text/plain": [
       "(10, 20)"
      ]
     },
     "execution_count": 139,
     "metadata": {},
     "output_type": "execute_result"
    }
   ],
   "source": [
    "r1 = Rectangle(10, 20)\n",
    "r1.width, r1.height"
   ]
  },
  {
   "cell_type": "code",
   "execution_count": null,
   "metadata": {
    "cell_id": "00121-730b87fe-f812-4493-94ac-62e21f8f79c9",
    "execution_millis": 4,
    "execution_start": 1603765635628,
    "output_cleared": false,
    "source_hash": "d43b06c5",
    "tags": []
   },
   "outputs": [],
   "source": [
    "r1.width = 100"
   ]
  },
  {
   "cell_type": "markdown",
   "metadata": {
    "cell_id": "00122-0c44be3e-7f37-47c4-8958-c75dc5f00c93",
    "tags": []
   },
   "source": [
    "## Variables and Objects"
   ]
  },
  {
   "cell_type": "code",
   "execution_count": 96,
   "metadata": {
    "cell_id": "00122-11c2bae8-c8a3-4a48-a0c7-8f15dd509212",
    "execution_millis": 2,
    "execution_start": 1603766420737,
    "output_cleared": false,
    "source_hash": "7ef59a0",
    "tags": []
   },
   "outputs": [
    {
     "name": "stdout",
     "output_type": "stream",
     "text": [
      "10\n"
     ]
    }
   ],
   "source": [
    "my_var = 10 # 10 is saved somewhere is memory, and my_var is a reference to 10\n",
    "print(my_var) # what just happened, python looked at my_var.. then it looked at what my_var\n",
    "# is refencing, it found that memory address, it went to the memory\n",
    "# retreived the data from the memory and brought it back so we can display it in our code"
   ]
  },
  {
   "cell_type": "code",
   "execution_count": 97,
   "metadata": {
    "cell_id": "00124-7e9af6fb-2efa-42a8-a459-f8e916e5356d",
    "execution_millis": 1,
    "execution_start": 1603766429085,
    "output_cleared": false,
    "source_hash": "460ab8e3",
    "tags": []
   },
   "outputs": [
    {
     "data": {
      "text/plain": [
       "93833161154144"
      ]
     },
     "execution_count": 97,
     "metadata": {},
     "output_type": "execute_result"
    }
   ],
   "source": [
    "id(10)"
   ]
  },
  {
   "cell_type": "code",
   "execution_count": 98,
   "metadata": {
    "cell_id": "00125-97e23c6d-06c5-43b0-9cd5-691a3cf1309b",
    "execution_millis": 2,
    "execution_start": 1603766443242,
    "output_cleared": false,
    "source_hash": "a46b4469",
    "tags": []
   },
   "outputs": [
    {
     "data": {
      "text/plain": [
       "93833161154144"
      ]
     },
     "execution_count": 98,
     "metadata": {},
     "output_type": "execute_result"
    }
   ],
   "source": [
    "id(my_var)"
   ]
  },
  {
   "cell_type": "code",
   "execution_count": 99,
   "metadata": {
    "cell_id": "00126-22954bb9-05cb-4971-8c55-fd05033e1aa7",
    "execution_millis": 2,
    "execution_start": 1603766461253,
    "output_cleared": false,
    "source_hash": "d367aee2",
    "tags": []
   },
   "outputs": [
    {
     "name": "stdout",
     "output_type": "stream",
     "text": [
      "93833161154144\n",
      "140326585280432\n"
     ]
    }
   ],
   "source": [
    "greeting = \"hello\"\n",
    "print(id(my_var))\n",
    "print(id(greeting))\n",
    "# you can see above they are not \"immediately after each other\""
   ]
  },
  {
   "cell_type": "code",
   "execution_count": 100,
   "metadata": {
    "cell_id": "00127-1057610c-6bf5-47de-89cd-d76122a0ad1c",
    "execution_millis": 2,
    "execution_start": 1603766488969,
    "output_cleared": false,
    "source_hash": "49390a13",
    "tags": []
   },
   "outputs": [
    {
     "data": {
      "text/plain": [
       "('0x55573c3d1e60', int)"
      ]
     },
     "execution_count": 100,
     "metadata": {},
     "output_type": "execute_result"
    }
   ],
   "source": [
    "a = 10\n",
    "hex(id(a)), type(a)"
   ]
  },
  {
   "cell_type": "code",
   "execution_count": 101,
   "metadata": {
    "cell_id": "00128-c1cb0529-4b91-40fc-a29c-4c0913604003",
    "execution_millis": 2,
    "execution_start": 1603766494602,
    "output_cleared": false,
    "source_hash": "a37c9a3",
    "tags": []
   },
   "outputs": [
    {
     "name": "stdout",
     "output_type": "stream",
     "text": [
      "0x55573c3d1e60\n",
      "0x55573c3d1f00\n",
      "0x55573c3d1f20\n"
     ]
    }
   ],
   "source": [
    "print(hex(id(a)))\n",
    "a = 15\n",
    "print(hex(id(a)))\n",
    "a = a + 1\n",
    "print(hex(id(a)))"
   ]
  },
  {
   "cell_type": "code",
   "execution_count": 102,
   "metadata": {
    "cell_id": "00129-8fd0a91b-967f-44e0-a943-d12b51612624",
    "execution_millis": 4,
    "execution_start": 1603766500613,
    "output_cleared": false,
    "source_hash": "2c0e29c1",
    "tags": []
   },
   "outputs": [
    {
     "name": "stdout",
     "output_type": "stream",
     "text": [
      "0x55573c3d1e60\n",
      "0x55573c3d1e60\n",
      "True\n",
      "True\n"
     ]
    }
   ],
   "source": [
    "a = 10\n",
    "b = 10\n",
    "print(hex(id(a)))\n",
    "print(hex(id(b)))\n",
    "print(a == b)\n",
    "print(a is b)"
   ]
  },
  {
   "cell_type": "markdown",
   "metadata": {
    "cell_id": "00130-d31bbae6-0b5f-4a56-9be8-19352a3be96c",
    "tags": []
   },
   "source": [
    "## Object Mutability"
   ]
  },
  {
   "cell_type": "code",
   "execution_count": 103,
   "metadata": {
    "cell_id": "00130-9808dded-0a24-41c5-acf8-2bb4bafced3e",
    "execution_millis": 2,
    "execution_start": 1603766523709,
    "output_cleared": false,
    "source_hash": "9b695edf",
    "tags": []
   },
   "outputs": [
    {
     "data": {
      "text/plain": [
       "list"
      ]
     },
     "execution_count": 103,
     "metadata": {},
     "output_type": "execute_result"
    }
   ],
   "source": [
    "my_list = [1, 2, 3]\n",
    "type(my_list)"
   ]
  },
  {
   "cell_type": "code",
   "execution_count": 104,
   "metadata": {
    "cell_id": "00132-1156dfbe-804a-4880-bfe3-f8d54817cc1b",
    "execution_millis": 3,
    "execution_start": 1603766527551,
    "output_cleared": false,
    "source_hash": "d9a24fbb",
    "tags": []
   },
   "outputs": [
    {
     "data": {
      "text/plain": [
       "140326585170560"
      ]
     },
     "execution_count": 104,
     "metadata": {},
     "output_type": "execute_result"
    }
   ],
   "source": [
    "id(my_list)"
   ]
  },
  {
   "cell_type": "code",
   "execution_count": 105,
   "metadata": {
    "cell_id": "00133-204df7fe-4578-4257-9a41-81d43920ec7d",
    "execution_millis": 1,
    "execution_start": 1603766537375,
    "output_cleared": false,
    "source_hash": "a2e305cf",
    "tags": []
   },
   "outputs": [
    {
     "data": {
      "text/plain": [
       "140326585170560"
      ]
     },
     "execution_count": 105,
     "metadata": {},
     "output_type": "execute_result"
    }
   ],
   "source": [
    "my_list.append(4)\n",
    "id(my_list) # address hasn't changed"
   ]
  },
  {
   "cell_type": "code",
   "execution_count": 106,
   "metadata": {
    "cell_id": "00134-d1185284-10fd-4149-b7db-63afeaef1b60",
    "execution_millis": 1,
    "execution_start": 1603766549270,
    "output_cleared": false,
    "source_hash": "8edd2e0",
    "tags": []
   },
   "outputs": [
    {
     "data": {
      "text/plain": [
       "140326585280128"
      ]
     },
     "execution_count": 106,
     "metadata": {},
     "output_type": "execute_result"
    }
   ],
   "source": [
    "my_list_1 = [1, 2, 3]\n",
    "id(my_list_1) # not going to be same as above"
   ]
  },
  {
   "cell_type": "code",
   "execution_count": 107,
   "metadata": {
    "cell_id": "00135-11ae627b-0aea-4658-ac2f-0743f991529c",
    "execution_millis": 4,
    "execution_start": 1603766558154,
    "output_cleared": false,
    "source_hash": "556cd17c",
    "tags": []
   },
   "outputs": [],
   "source": [
    "my_list_1 = my_list_1 + [4] # concatenation"
   ]
  },
  {
   "cell_type": "code",
   "execution_count": 108,
   "metadata": {
    "cell_id": "00136-4e942e83-f052-45fc-9381-b28ce0fa7279",
    "execution_millis": 4,
    "execution_start": 1603766562695,
    "output_cleared": false,
    "source_hash": "a56a1e3d",
    "tags": []
   },
   "outputs": [
    {
     "data": {
      "text/plain": [
       "140326585280512"
      ]
     },
     "execution_count": 108,
     "metadata": {},
     "output_type": "execute_result"
    }
   ],
   "source": [
    "id(my_list_1) # not going to be same as above"
   ]
  },
  {
   "cell_type": "code",
   "execution_count": 109,
   "metadata": {
    "cell_id": "00137-fe1d7439-1b42-4c2e-8c3b-0d852dbac5a4",
    "execution_millis": 4,
    "execution_start": 1603766568193,
    "output_cleared": false,
    "source_hash": "8c195864",
    "tags": []
   },
   "outputs": [
    {
     "data": {
      "text/plain": [
       "{'key1': 1, 'key2': 'a'}"
      ]
     },
     "execution_count": 109,
     "metadata": {},
     "output_type": "execute_result"
    }
   ],
   "source": [
    "my_dict = dict(key1=1, key2 = 'a')\n",
    "my_dict"
   ]
  },
  {
   "cell_type": "code",
   "execution_count": 110,
   "metadata": {
    "cell_id": "00138-527b6e1b-44c1-47a1-a9a6-9ef9a1616020",
    "execution_millis": 2,
    "execution_start": 1603766575454,
    "output_cleared": false,
    "source_hash": "62486636",
    "tags": []
   },
   "outputs": [
    {
     "data": {
      "text/plain": [
       "140326585647168"
      ]
     },
     "execution_count": 110,
     "metadata": {},
     "output_type": "execute_result"
    }
   ],
   "source": [
    "id(my_dict)"
   ]
  },
  {
   "cell_type": "code",
   "execution_count": 111,
   "metadata": {
    "cell_id": "00139-9f1147f1-7358-422b-b03e-5e7787d203fc",
    "execution_millis": 4,
    "execution_start": 1603766578857,
    "output_cleared": false,
    "source_hash": "c8d5662e",
    "tags": []
   },
   "outputs": [],
   "source": [
    "my_dict['key3'] = 'tsai'"
   ]
  },
  {
   "cell_type": "code",
   "execution_count": 112,
   "metadata": {
    "cell_id": "00140-2bfb4d2c-1146-41b1-9491-f8568b582c02",
    "execution_millis": 3,
    "execution_start": 1603766584172,
    "output_cleared": false,
    "source_hash": "21049052",
    "tags": []
   },
   "outputs": [
    {
     "data": {
      "text/plain": [
       "{'key1': 1, 'key2': 'a', 'key3': 'tsai'}"
      ]
     },
     "execution_count": 112,
     "metadata": {},
     "output_type": "execute_result"
    }
   ],
   "source": [
    "my_dict"
   ]
  },
  {
   "cell_type": "code",
   "execution_count": 113,
   "metadata": {
    "cell_id": "00141-b9cd23b1-e8ec-49ab-9f27-a6ff24e35a98",
    "execution_millis": 4,
    "execution_start": 1603766589264,
    "output_cleared": false,
    "source_hash": "62486636",
    "tags": []
   },
   "outputs": [
    {
     "data": {
      "text/plain": [
       "140326585647168"
      ]
     },
     "execution_count": 113,
     "metadata": {},
     "output_type": "execute_result"
    }
   ],
   "source": [
    "id(my_dict)"
   ]
  },
  {
   "cell_type": "code",
   "execution_count": 114,
   "metadata": {
    "cell_id": "00142-f7032f57-ab20-4151-bcdc-3ef68097f284",
    "execution_millis": 1,
    "execution_start": 1603766596103,
    "output_cleared": false,
    "source_hash": "e9f36465",
    "tags": []
   },
   "outputs": [
    {
     "data": {
      "text/plain": [
       "140326585672832"
      ]
     },
     "execution_count": 114,
     "metadata": {},
     "output_type": "execute_result"
    }
   ],
   "source": [
    "t = (1, 2, 3)\n",
    "id(t)"
   ]
  },
  {
   "cell_type": "code",
   "execution_count": 115,
   "metadata": {
    "cell_id": "00143-2b82f570-fb3b-4d90-8651-83d3aa70fbb5",
    "execution_millis": 4,
    "execution_start": 1603766600071,
    "output_cleared": false,
    "source_hash": "3fa4bc03",
    "tags": []
   },
   "outputs": [
    {
     "data": {
      "text/plain": [
       "1"
      ]
     },
     "execution_count": 115,
     "metadata": {},
     "output_type": "execute_result"
    }
   ],
   "source": [
    "t[0] # referencing the first element of a tuple"
   ]
  },
  {
   "cell_type": "code",
   "execution_count": 116,
   "metadata": {
    "cell_id": "00144-2bcd5cd1-e085-411a-be05-c7f85a7c7008",
    "execution_millis": 2,
    "execution_start": 1603766603993,
    "output_cleared": false,
    "source_hash": "2d5e24e4",
    "tags": []
   },
   "outputs": [
    {
     "data": {
      "text/plain": [
       "93833161153856"
      ]
     },
     "execution_count": 116,
     "metadata": {},
     "output_type": "execute_result"
    }
   ],
   "source": [
    "id(t[0])"
   ]
  },
  {
   "cell_type": "code",
   "execution_count": 117,
   "metadata": {
    "cell_id": "00145-76647b68-3ff8-4d65-940b-4c07d5fe5dd7",
    "execution_millis": 6,
    "execution_start": 1603766608445,
    "output_cleared": false,
    "source_hash": "db5a78a",
    "tags": []
   },
   "outputs": [
    {
     "data": {
      "text/plain": [
       "93833161153856"
      ]
     },
     "execution_count": 117,
     "metadata": {},
     "output_type": "execute_result"
    }
   ],
   "source": [
    "m = 1\n",
    "id(m)"
   ]
  },
  {
   "cell_type": "markdown",
   "metadata": {
    "cell_id": "00146-7678a56c-33fa-4ea1-b92b-be5dd49d941f",
    "tags": []
   },
   "source": [
    "## Function Arguments and Mutability"
   ]
  },
  {
   "cell_type": "code",
   "execution_count": 118,
   "metadata": {
    "cell_id": "00146-39712649-1d06-4bc0-8fa3-7a853ec6796a",
    "execution_millis": 2,
    "execution_start": 1603766646781,
    "output_cleared": false,
    "source_hash": "7f9de7d1",
    "tags": []
   },
   "outputs": [],
   "source": [
    "def process(s):\n",
    "    print(f'Initial s mem-add = {id(s)}')\n",
    "    s = s + ' world' # concatenating\n",
    "    print(f'Final s mem-add = {id(s)}')"
   ]
  },
  {
   "cell_type": "code",
   "execution_count": 119,
   "metadata": {
    "cell_id": "00148-75f6afa6-c0fc-41b0-ad89-17225863243a",
    "execution_millis": 5,
    "execution_start": 1603766652048,
    "output_cleared": false,
    "source_hash": "a882d6f3",
    "tags": []
   },
   "outputs": [
    {
     "name": "stdout",
     "output_type": "stream",
     "text": [
      "my_var mem-add = 140326585280432\n"
     ]
    }
   ],
   "source": [
    "my_var = 'hello'\n",
    "print(f'my_var mem-add = {id(my_var)}')"
   ]
  },
  {
   "cell_type": "code",
   "execution_count": 120,
   "metadata": {
    "cell_id": "00149-5943bcb3-3f06-4b46-a714-ece8512e91b5",
    "execution_millis": 2,
    "execution_start": 1603766656745,
    "output_cleared": false,
    "source_hash": "e70e4cf",
    "tags": []
   },
   "outputs": [
    {
     "name": "stdout",
     "output_type": "stream",
     "text": [
      "Initial s mem-add = 140326585280432\n",
      "Final s mem-add = 140326584820656\n"
     ]
    }
   ],
   "source": [
    "process(my_var)"
   ]
  },
  {
   "cell_type": "code",
   "execution_count": 121,
   "metadata": {
    "cell_id": "00150-d0845c15-ab8c-4d99-8b4b-2a8e937b9cc5",
    "execution_millis": 4,
    "execution_start": 1603766663098,
    "output_cleared": false,
    "source_hash": "5af39338",
    "tags": []
   },
   "outputs": [
    {
     "name": "stdout",
     "output_type": "stream",
     "text": [
      "my_var mem-add = 140326585280432\n",
      "hello\n"
     ]
    }
   ],
   "source": [
    "print(f'my_var mem-add = {id(my_var)}')\n",
    "print(my_var) # immutable!"
   ]
  },
  {
   "cell_type": "code",
   "execution_count": 122,
   "metadata": {
    "cell_id": "00151-5d2ae027-1a4d-4ee8-892a-92fcbe0515de",
    "execution_millis": 1,
    "execution_start": 1603766715239,
    "output_cleared": false,
    "source_hash": "a8ab4319",
    "tags": []
   },
   "outputs": [],
   "source": [
    "def modify_list(lst):\n",
    "    print(f'Initial lst mem-add = {id(lst)}')\n",
    "    lst.append(100)\n",
    "    print(f'Final lst mem-add = {id(lst)}')"
   ]
  },
  {
   "cell_type": "code",
   "execution_count": 123,
   "metadata": {
    "cell_id": "00152-f02e2f9e-9836-4162-813d-b487cbe6ea8f",
    "execution_millis": 1,
    "execution_start": 1603766719010,
    "output_cleared": false,
    "source_hash": "23970480",
    "tags": []
   },
   "outputs": [
    {
     "name": "stdout",
     "output_type": "stream",
     "text": [
      "[1, 2, 3]\n",
      "my_list mem-add = 140326585248512\n",
      "Initial lst mem-add = 140326585248512\n",
      "Final lst mem-add = 140326585248512\n",
      "[1, 2, 3, 100]\n",
      "my_list mem-add = 140326585248512\n"
     ]
    }
   ],
   "source": [
    "my_list = [1, 2, 3]\n",
    "print(my_list)\n",
    "print(f'my_list mem-add = {id(my_list)}')\n",
    "modify_list(my_list)\n",
    "print(my_list)\n",
    "print(f'my_list mem-add = {id(my_list)}')"
   ]
  },
  {
   "cell_type": "code",
   "execution_count": 124,
   "metadata": {
    "cell_id": "00153-9a884c5e-dd82-4b37-8c93-8ef10bae90b7",
    "execution_millis": 0,
    "execution_start": 1603766758110,
    "output_cleared": false,
    "source_hash": "dbac3348",
    "tags": []
   },
   "outputs": [
    {
     "name": "stdout",
     "output_type": "stream",
     "text": [
      "140326585279232\n",
      "140326585279232\n"
     ]
    }
   ],
   "source": [
    "a = [1, 2, 3]\n",
    "b = a # shared reference\n",
    "print(id(a))\n",
    "print(id(b))"
   ]
  },
  {
   "cell_type": "code",
   "execution_count": 125,
   "metadata": {
    "cell_id": "00154-5185e987-660b-4d0d-b295-8c7cb3786997",
    "execution_millis": 4,
    "execution_start": 1603766761481,
    "output_cleared": false,
    "source_hash": "90ac6bda",
    "tags": []
   },
   "outputs": [
    {
     "name": "stdout",
     "output_type": "stream",
     "text": [
      "140326585279232\n",
      "140326585279232\n",
      "a: [1, 2, 3, '4']\n",
      "b: [1, 2, 3, '4']\n"
     ]
    }
   ],
   "source": [
    "b.append('4')\n",
    "print(id(a))\n",
    "print(id(b))\n",
    "print(f'a: {a}')\n",
    "print(f'b: {b}')"
   ]
  },
  {
   "cell_type": "code",
   "execution_count": 127,
   "metadata": {
    "cell_id": "00155-a6b36542-5636-4016-801d-e1ac33aab2d5",
    "execution_millis": 1,
    "execution_start": 1603766771675,
    "output_cleared": false,
    "source_hash": "76698f3b",
    "tags": []
   },
   "outputs": [
    {
     "name": "stdout",
     "output_type": "stream",
     "text": [
      "93833161154144\n",
      "93833161154144\n"
     ]
    }
   ],
   "source": [
    "a = 10\n",
    "b = 10\n",
    "print(id(a))\n",
    "print(id(b))"
   ]
  },
  {
   "cell_type": "code",
   "execution_count": 128,
   "metadata": {
    "cell_id": "00156-41d46bec-62e9-4583-bd47-5d3b365baf3f",
    "execution_millis": 2,
    "execution_start": 1603766776310,
    "output_cleared": false,
    "source_hash": "1f125bd",
    "tags": []
   },
   "outputs": [
    {
     "name": "stdout",
     "output_type": "stream",
     "text": [
      "a is b True\n",
      "a == b True\n"
     ]
    }
   ],
   "source": [
    "print(f'a is b {a is b}')\n",
    "print(f'a == b {a == b}')"
   ]
  },
  {
   "cell_type": "code",
   "execution_count": 129,
   "metadata": {
    "cell_id": "00157-33458c71-ff93-46de-a0bf-12627faf464a",
    "execution_millis": 5,
    "execution_start": 1603766780827,
    "output_cleared": false,
    "source_hash": "37199a33",
    "tags": []
   },
   "outputs": [
    {
     "name": "stdout",
     "output_type": "stream",
     "text": [
      "140326584840304\n",
      "140326584840272\n",
      "a is b False\n",
      "a == b True\n"
     ]
    }
   ],
   "source": [
    "a = 500\n",
    "b = 500\n",
    "print(id(a))\n",
    "print(id(b))\n",
    "print(f'a is b {a is b}')\n",
    "print(f'a == b {a == b}')"
   ]
  },
  {
   "cell_type": "code",
   "execution_count": 130,
   "metadata": {
    "cell_id": "00158-625f4240-a16b-4ca0-9f3c-32d4046d2de5",
    "execution_millis": 1,
    "execution_start": 1603766788554,
    "output_cleared": false,
    "source_hash": "eeb864cd",
    "tags": []
   },
   "outputs": [
    {
     "name": "stdout",
     "output_type": "stream",
     "text": [
      "140326585959424\n",
      "140326585882816\n",
      "a is b False\n",
      "a == b True\n"
     ]
    }
   ],
   "source": [
    "a = [1, 2, 3]\n",
    "b = [1, 2, 3]\n",
    "print(id(a))\n",
    "print(id(b))\n",
    "print(f'a is b {a is b}')\n",
    "print(f'a == b {a == b}')"
   ]
  },
  {
   "cell_type": "code",
   "execution_count": 131,
   "metadata": {
    "cell_id": "00159-acdf3ef8-6aab-4b63-aa0d-33d8dfcf2c79",
    "execution_millis": 7,
    "execution_start": 1603766792986,
    "output_cleared": false,
    "source_hash": "b2c8f48f",
    "tags": []
   },
   "outputs": [
    {
     "name": "stdout",
     "output_type": "stream",
     "text": [
      "140326585121728\n",
      "140326585262528\n",
      "a is b False\n",
      "a == b True\n"
     ]
    }
   ],
   "source": [
    "a = 1, 2, 3\n",
    "b = 1, 2, 3\n",
    "print(id(a))\n",
    "print(id(b))\n",
    "print(f'a is b {a is b}')\n",
    "print(f'a == b {a == b}')"
   ]
  },
  {
   "cell_type": "code",
   "execution_count": 132,
   "metadata": {
    "cell_id": "00160-acfecbaa-99db-4e26-8578-660958eddd51",
    "execution_millis": 4,
    "execution_start": 1603766797862,
    "output_cleared": false,
    "source_hash": "d810bfa7",
    "tags": []
   },
   "outputs": [
    {
     "name": "stdout",
     "output_type": "stream",
     "text": [
      "93833161154144\n",
      "140326586089424\n",
      "a is b False\n",
      "a == b True\n"
     ]
    }
   ],
   "source": [
    "a = 10\n",
    "b = 10.0\n",
    "print(id(a))\n",
    "print(id(b))\n",
    "print(f'a is b {a is b}')\n",
    "print(f'a == b {a == b}')"
   ]
  },
  {
   "cell_type": "code",
   "execution_count": 133,
   "metadata": {
    "cell_id": "00161-420e306a-0f2c-45b8-8a0a-ede4076fdfe5",
    "execution_millis": 3,
    "execution_start": 1603766804024,
    "output_cleared": false,
    "source_hash": "55119082",
    "tags": []
   },
   "outputs": [
    {
     "name": "stdout",
     "output_type": "stream",
     "text": [
      "140326584840496\n",
      "140326585220080\n",
      "a is b False\n",
      "a == b True\n"
     ]
    }
   ],
   "source": [
    "a = 10 + 0j\n",
    "b = 10.0\n",
    "print(id(a))\n",
    "print(id(b))\n",
    "print(f'a is b {a is b}')\n",
    "print(f'a == b {a == b}')"
   ]
  },
  {
   "cell_type": "code",
   "execution_count": 134,
   "metadata": {
    "cell_id": "00162-b99d9dd8-4f75-4f1c-ad5a-6ed6931bc53b",
    "execution_millis": 2,
    "execution_start": 1603766814813,
    "output_cleared": false,
    "source_hash": "dcef97f9",
    "tags": []
   },
   "outputs": [
    {
     "name": "stdout",
     "output_type": "stream",
     "text": [
      "140326585266096\n",
      "140326585266096\n",
      "a is b True\n",
      "a == b True\n"
     ]
    }
   ],
   "source": [
    "a = 'tsai'\n",
    "b = 'tsai'\n",
    "print(id(a))\n",
    "print(id(b))\n",
    "print(f'a is b {a is b}')\n",
    "print(f'a == b {a == b}')"
   ]
  },
  {
   "cell_type": "code",
   "execution_count": 135,
   "metadata": {
    "cell_id": "00163-36e7260b-3112-4fb3-b0ae-3db7df0aa0aa",
    "execution_millis": 2,
    "execution_start": 1603766867718,
    "output_cleared": false,
    "source_hash": "83e5def9",
    "tags": []
   },
   "outputs": [
    {
     "name": "stdout",
     "output_type": "stream",
     "text": [
      "140326585263536 140326585263536 140326585264304\n"
     ]
    }
   ],
   "source": [
    "# force string interning\n",
    "import sys\n",
    "a = sys.intern(\"hello world\")\n",
    "b = sys.intern(\"hello world\")\n",
    "c = \"hello world\"\n",
    "print(id(a),id(b),id(c)) "
   ]
  },
  {
   "cell_type": "code",
   "execution_count": 136,
   "metadata": {
    "cell_id": "00164-c042e684-436e-45cd-a5a6-a365c2e08c9d",
    "execution_millis": 1,
    "execution_start": 1603766897509,
    "output_cleared": false,
    "source_hash": "ab6ec96e",
    "tags": []
   },
   "outputs": [],
   "source": [
    "# let's do a dirty benchmark\n",
    "\n",
    "def compare_using_equals(n):\n",
    "    a = 'a long string that is not intered' * 200\n",
    "    b = 'a long string that is not intered' * 200\n",
    "    for i in range(n):\n",
    "        if a == b:\n",
    "            pass\n",
    "\n",
    "\n",
    "def compare_using_interning(n):\n",
    "    a = sys.intern('a long string that is not intered' * 200)\n",
    "    b = sys.intern('a long string that is not intered' * 200)\n",
    "    for i in range(n):\n",
    "        if a is b:\n",
    "            pass"
   ]
  },
  {
   "cell_type": "code",
   "execution_count": 137,
   "metadata": {
    "cell_id": "00165-891c013b-5e09-440f-b864-810ed5ce602b",
    "execution_millis": 1354,
    "execution_start": 1603767076503,
    "output_cleared": false,
    "source_hash": "2fcc9d29",
    "tags": []
   },
   "outputs": [
    {
     "data": {
      "text/plain": [
       "1.2644330379989697"
      ]
     },
     "execution_count": 137,
     "metadata": {},
     "output_type": "execute_result"
    }
   ],
   "source": [
    "from timeit import timeit\n",
    "\n",
    "timeit('compare_using_equals(10_000_000)', number=1, globals=globals())"
   ]
  },
  {
   "cell_type": "code",
   "execution_count": 138,
   "metadata": {
    "cell_id": "00166-06485903-57eb-4afa-9490-fad8b5f75fa1",
    "execution_millis": 285,
    "execution_start": 1603767079733,
    "output_cleared": false,
    "source_hash": "5e05a096",
    "tags": []
   },
   "outputs": [
    {
     "data": {
      "text/plain": [
       "0.2696711709977535"
      ]
     },
     "execution_count": 138,
     "metadata": {},
     "output_type": "execute_result"
    }
   ],
   "source": [
    "timeit('compare_using_interning(10_000_000)', number=1, globals=globals())"
   ]
  },
  {
   "cell_type": "markdown",
   "metadata": {
    "cell_id": "00167-d234bc4e-3568-4281-b71d-87b0936aefee",
    "tags": []
   },
   "source": [
    "## Positional and Keyword Arguments"
   ]
  },
  {
   "cell_type": "code",
   "execution_count": 139,
   "metadata": {
    "cell_id": "00172-0bae3e75-1a21-4261-9383-99804fce7c63",
    "execution_millis": 2,
    "execution_start": 1603767310349,
    "output_cleared": false,
    "source_hash": "428a74ef",
    "tags": []
   },
   "outputs": [
    {
     "name": "stdout",
     "output_type": "stream",
     "text": [
      "a = 1, b = 2, c = 3\n"
     ]
    }
   ],
   "source": [
    "def my_func(a, b, c):\n",
    "    print(f'a = {a}, b = {b}, c = {c}')\n",
    "my_func(1, 2, 3)"
   ]
  },
  {
   "cell_type": "code",
   "execution_count": 140,
   "metadata": {
    "cell_id": "00169-f0e4c6d7-0514-4256-bdfe-2a5f0a705afa",
    "execution_millis": 8,
    "execution_start": 1603767321316,
    "output_cleared": false,
    "source_hash": "18ded7aa",
    "tags": []
   },
   "outputs": [
    {
     "ename": "TypeError",
     "evalue": "my_func() missing 1 required positional argument: 'c'",
     "output_type": "error",
     "traceback": [
      "\u001b[0;31m---------------------------------------------------------------------------\u001b[0m",
      "\u001b[0;31mTypeError\u001b[0m                                 Traceback (most recent call last)",
      "\u001b[0;32m<ipython-input-140-83d7654de17a>\u001b[0m in \u001b[0;36m<module>\u001b[0;34m\u001b[0m\n\u001b[1;32m      1\u001b[0m \u001b[0;31m# cannot call my_func with less than 3 arguments\u001b[0m\u001b[0;34m\u001b[0m\u001b[0;34m\u001b[0m\u001b[0;34m\u001b[0m\u001b[0m\n\u001b[0;32m----> 2\u001b[0;31m \u001b[0mmy_func\u001b[0m\u001b[0;34m(\u001b[0m\u001b[0;36m1\u001b[0m\u001b[0;34m,\u001b[0m \u001b[0;36m2\u001b[0m\u001b[0;34m)\u001b[0m\u001b[0;34m\u001b[0m\u001b[0;34m\u001b[0m\u001b[0m\n\u001b[0m",
      "\u001b[0;31mTypeError\u001b[0m: my_func() missing 1 required positional argument: 'c'"
     ]
    }
   ],
   "source": [
    "# cannot call my_func with less than 3 arguments\n",
    "my_func(1, 2)"
   ]
  },
  {
   "cell_type": "code",
   "execution_count": 141,
   "metadata": {
    "cell_id": "00170-13a40619-8e25-4ed3-8c98-ac8a8f9ff6fa",
    "execution_millis": 0,
    "execution_start": 1604028604770,
    "output_cleared": false,
    "source_hash": "8c5f9d35",
    "tags": []
   },
   "outputs": [
    {
     "ename": "SyntaxError",
     "evalue": "non-default argument follows default argument (<ipython-input-141-49cc5d5600a0>, line 3)",
     "output_type": "error",
     "traceback": [
      "\u001b[0;36m  File \u001b[0;32m\"<ipython-input-141-49cc5d5600a0>\"\u001b[0;36m, line \u001b[0;32m3\u001b[0m\n\u001b[0;31m    def my_func(a, b = 2, c):\u001b[0m\n\u001b[0m                ^\u001b[0m\n\u001b[0;31mSyntaxError\u001b[0m\u001b[0;31m:\u001b[0m non-default argument follows default argument\n"
     ]
    }
   ],
   "source": [
    "# to avoid this, we can add a default value\n",
    "\n",
    "def my_func(a, b = 2, c):\n",
    "    print(f'a = {a}, b = {b}, c = {c}')"
   ]
  },
  {
   "cell_type": "code",
   "execution_count": 142,
   "metadata": {
    "cell_id": "00171-f7e04398-3757-46f3-9c48-4c0b12fa19eb",
    "execution_millis": 1,
    "execution_start": 1603767386829,
    "output_cleared": false,
    "source_hash": "69b82d8",
    "tags": []
   },
   "outputs": [],
   "source": [
    "# every param after default param must have default pararm\n",
    "\n",
    "def my_func(a, b = 2, c = 3):\n",
    "    print(f'a = {a}, b = {b}, c = {c}')"
   ]
  },
  {
   "cell_type": "code",
   "execution_count": 143,
   "metadata": {
    "cell_id": "00172-edec64a2-d1ad-48fa-8b8f-4b8f47b788aa",
    "execution_millis": 5,
    "execution_start": 1603767438956,
    "output_cleared": false,
    "source_hash": "bf44892e",
    "tags": []
   },
   "outputs": [
    {
     "name": "stdout",
     "output_type": "stream",
     "text": [
      "a = 10, b = 20, c = 30\n",
      "a = 10, b = 20, c = 3\n",
      "a = 10, b = 2, c = 3\n"
     ]
    },
    {
     "data": {
      "text/plain": [
       "(None, None, None)"
      ]
     },
     "execution_count": 143,
     "metadata": {},
     "output_type": "execute_result"
    }
   ],
   "source": [
    "my_func(10, 20, 30), my_func(10, 20), my_func(10)"
   ]
  },
  {
   "cell_type": "code",
   "execution_count": 144,
   "metadata": {
    "cell_id": "00173-405acb0d-1de0-4e37-b352-3bf88ad5658d",
    "execution_millis": 1,
    "execution_start": 1603767462838,
    "output_cleared": false,
    "source_hash": "877d962b",
    "tags": []
   },
   "outputs": [
    {
     "name": "stdout",
     "output_type": "stream",
     "text": [
      "a = 10, b = 20, c = 30\n"
     ]
    }
   ],
   "source": [
    "# Keyword arguments\n",
    "\n",
    "def my_func(a, b = 2, c = 3):\n",
    "    print(f'a = {a}, b = {b}, c = {c}')\n",
    "\n",
    "my_func(c = 30, b = 20, a = 10) #order does not matter, names must match"
   ]
  },
  {
   "cell_type": "code",
   "execution_count": 145,
   "metadata": {
    "cell_id": "00174-7d8bc72f-fdd9-4b1d-b7f5-574bab51561d",
    "execution_millis": 4,
    "execution_start": 1603767471313,
    "output_cleared": false,
    "source_hash": "f9050a9d",
    "tags": []
   },
   "outputs": [
    {
     "name": "stdout",
     "output_type": "stream",
     "text": [
      "a = 30, b = 20, c = 10\n",
      "a = 10, b = 2, c = 30\n"
     ]
    },
    {
     "data": {
      "text/plain": [
       "(None, None)"
      ]
     },
     "execution_count": 145,
     "metadata": {},
     "output_type": "execute_result"
    }
   ],
   "source": [
    "my_func(30, b = 20, c = 10), my_func(10, c = 30)"
   ]
  },
  {
   "cell_type": "code",
   "execution_count": 146,
   "metadata": {
    "cell_id": "00175-81bea590-bdba-43b5-8c9b-bd4ee37902cc",
    "execution_millis": 2,
    "execution_start": 1603767483285,
    "output_cleared": false,
    "source_hash": "81c58b8d",
    "tags": []
   },
   "outputs": [
    {
     "data": {
      "text/plain": [
       "tuple"
      ]
     },
     "execution_count": 146,
     "metadata": {},
     "output_type": "execute_result"
    }
   ],
   "source": [
    "a = 1, 2, 3\n",
    "type(a)"
   ]
  },
  {
   "cell_type": "code",
   "execution_count": 147,
   "metadata": {
    "cell_id": "00176-e97d4616-fa5c-4def-a1e4-f853b4ca55b9",
    "execution_millis": 1,
    "execution_start": 1603767511725,
    "output_cleared": false,
    "source_hash": "aa7e2c43",
    "tags": []
   },
   "outputs": [
    {
     "name": "stdout",
     "output_type": "stream",
     "text": [
      "<class 'tuple'>\n",
      "<class 'int'>\n"
     ]
    }
   ],
   "source": [
    "a = (1, 2, 3) #round parenthesis are optional\n",
    "print(type(a))\n",
    "a = (1) #inspired from above, but \n",
    "print(type(a))"
   ]
  },
  {
   "cell_type": "code",
   "execution_count": 148,
   "metadata": {
    "cell_id": "00177-094904c2-8382-4d80-baf7-73e1184bbf0b",
    "execution_millis": 4,
    "execution_start": 1603767502824,
    "output_cleared": false,
    "source_hash": "cbdb8a17",
    "tags": []
   },
   "outputs": [
    {
     "data": {
      "text/plain": [
       "tuple"
      ]
     },
     "execution_count": 148,
     "metadata": {},
     "output_type": "execute_result"
    }
   ],
   "source": [
    "a = 1, \n",
    "type(a)"
   ]
  },
  {
   "cell_type": "code",
   "execution_count": 149,
   "metadata": {
    "cell_id": "00178-34670ed0-0525-4464-8e6a-3667255fddb6",
    "execution_millis": 4,
    "execution_start": 1603767524783,
    "output_cleared": false,
    "source_hash": "9a992b0e",
    "tags": []
   },
   "outputs": [
    {
     "data": {
      "text/plain": [
       "tuple"
      ]
     },
     "execution_count": 149,
     "metadata": {},
     "output_type": "execute_result"
    }
   ],
   "source": [
    "# but for empty tuple\n",
    "a = ()\n",
    "type(a)"
   ]
  },
  {
   "cell_type": "code",
   "execution_count": 150,
   "metadata": {
    "cell_id": "00179-093e023f-3ca3-413f-b216-c0df48eb2952",
    "execution_millis": 1,
    "execution_start": 1603767535017,
    "output_cleared": false,
    "source_hash": "e2c6a7e",
    "tags": []
   },
   "outputs": [
    {
     "ename": "SyntaxError",
     "evalue": "invalid syntax (<ipython-input-150-81b0afecd544>, line 2)",
     "output_type": "error",
     "traceback": [
      "\u001b[0;36m  File \u001b[0;32m\"<ipython-input-150-81b0afecd544>\"\u001b[0;36m, line \u001b[0;32m2\u001b[0m\n\u001b[0;31m    a = ,\u001b[0m\n\u001b[0m        ^\u001b[0m\n\u001b[0;31mSyntaxError\u001b[0m\u001b[0;31m:\u001b[0m invalid syntax\n"
     ]
    }
   ],
   "source": [
    "# these are invalid \n",
    "a = ,\n",
    "a = (,)"
   ]
  },
  {
   "cell_type": "markdown",
   "metadata": {
    "cell_id": "00180-a5214a2d-e951-4096-a2b7-802691ecb2e6",
    "tags": []
   },
   "source": [
    "## Unpacking"
   ]
  },
  {
   "cell_type": "code",
   "execution_count": 151,
   "metadata": {
    "cell_id": "00180-5a0bb9c7-efe0-4ce2-9217-77b4dd4fa23e",
    "execution_millis": 4,
    "execution_start": 1603767559134,
    "output_cleared": false,
    "source_hash": "eda81ab5",
    "tags": []
   },
   "outputs": [
    {
     "data": {
      "text/plain": [
       "(1, 'a', 3.14)"
      ]
     },
     "execution_count": 151,
     "metadata": {},
     "output_type": "execute_result"
    }
   ],
   "source": [
    "a, b, c = 1, 'a', 3.14\n",
    "a, b, c"
   ]
  },
  {
   "cell_type": "code",
   "execution_count": 152,
   "metadata": {
    "cell_id": "00182-53016eb3-d0cb-4b96-a55f-de8e78ab318e",
    "execution_millis": 42,
    "execution_start": 1603767566877,
    "output_cleared": false,
    "source_hash": "7c5326ae",
    "tags": []
   },
   "outputs": [
    {
     "data": {
      "text/plain": [
       "3.14"
      ]
     },
     "execution_count": 152,
     "metadata": {},
     "output_type": "execute_result"
    }
   ],
   "source": [
    "(a, b, c) = [1, 'a', 3.14]\n",
    "c"
   ]
  },
  {
   "cell_type": "code",
   "execution_count": 153,
   "metadata": {
    "cell_id": "00183-148c2356-eb78-47f8-a4ea-f97465a00901",
    "execution_millis": 1,
    "execution_start": 1603767571467,
    "output_cleared": false,
    "source_hash": "a3fa52f",
    "tags": []
   },
   "outputs": [
    {
     "data": {
      "text/plain": [
       "('a', 3.14)"
      ]
     },
     "execution_count": 153,
     "metadata": {},
     "output_type": "execute_result"
    }
   ],
   "source": [
    "(a, b, c) = (1, 'a', 3.14)\n",
    "b, c"
   ]
  },
  {
   "cell_type": "code",
   "execution_count": 154,
   "metadata": {
    "cell_id": "00184-48632e41-1fae-46b3-8d30-394690c653c9",
    "execution_millis": 2,
    "execution_start": 1603767577206,
    "output_cleared": false,
    "source_hash": "9e64dc98",
    "tags": []
   },
   "outputs": [
    {
     "name": "stdout",
     "output_type": "stream",
     "text": [
      "a = 4, b = aaa, c = 1.0\n"
     ]
    }
   ],
   "source": [
    "(a, b, c) = (1*4, 'a'*3, 3.14/3.14) #right hand side gets evaluated first and gets assigned to a temp tuple in the memory and then it gets used\n",
    "print(f'a = {a}, b = {b}, c = {c}')"
   ]
  },
  {
   "cell_type": "code",
   "execution_count": 155,
   "metadata": {
    "cell_id": "00185-cfc0a7df-d4fa-4463-b4ef-176ff80cbdf4",
    "execution_millis": 5,
    "execution_start": 1603767583200,
    "output_cleared": false,
    "source_hash": "39b99a98",
    "tags": []
   },
   "outputs": [],
   "source": [
    "a, b, c = 10, {1, 2}, ['a', 'b']"
   ]
  },
  {
   "cell_type": "code",
   "execution_count": 156,
   "metadata": {
    "cell_id": "00186-af2e3271-a8fc-46c9-9a29-4ac056734fc2",
    "execution_millis": 9,
    "execution_start": 1603767587483,
    "output_cleared": false,
    "source_hash": "62f5f693",
    "tags": []
   },
   "outputs": [
    {
     "data": {
      "text/plain": [
       "({1, 2}, 'b')"
      ]
     },
     "execution_count": 156,
     "metadata": {},
     "output_type": "execute_result"
    }
   ],
   "source": [
    "b, c[1]"
   ]
  },
  {
   "cell_type": "code",
   "execution_count": 157,
   "metadata": {
    "cell_id": "00187-17208fd6-a2fe-40e4-b68e-2c90e91c4081",
    "execution_millis": 2,
    "execution_start": 1603767593929,
    "output_cleared": false,
    "source_hash": "e8df47d9",
    "tags": []
   },
   "outputs": [],
   "source": [
    "# swapping variables\n",
    "a, b = 10, 20\n",
    "\n",
    "b, a = a, b"
   ]
  },
  {
   "cell_type": "code",
   "execution_count": 158,
   "metadata": {
    "cell_id": "00188-dabe5145-d532-4e47-b059-546aa0d157e3",
    "execution_millis": 5,
    "execution_start": 1603767598346,
    "output_cleared": false,
    "source_hash": "13b5a0d0",
    "tags": []
   },
   "outputs": [
    {
     "name": "stdout",
     "output_type": "stream",
     "text": [
      "93833161154144 93833161154464\n",
      "93833161154144 93833161154464\n"
     ]
    }
   ],
   "source": [
    "a, b = 10, 20\n",
    "print(id(a), id(b))\n",
    "b, a = a, b\n",
    "print(id(b), id(a))"
   ]
  },
  {
   "cell_type": "code",
   "execution_count": 159,
   "metadata": {
    "cell_id": "00189-7c308377-87ab-48a4-a7d8-4d6fbf0507ae",
    "execution_millis": 2,
    "execution_start": 1603767611203,
    "output_cleared": false,
    "source_hash": "468ead80",
    "tags": []
   },
   "outputs": [
    {
     "name": "stdout",
     "output_type": "stream",
     "text": [
      "U\n",
      "M\n",
      "B\n",
      "R\n",
      "E\n",
      "L\n",
      "L\n",
      "A\n",
      " \n",
      "A\n",
      "C\n",
      "A\n",
      "D\n",
      "E\n",
      "M\n",
      "Y\n"
     ]
    }
   ],
   "source": [
    "# we can unpack any iterable type\n",
    "for e in 'UMBRELLA ACADEMY':\n",
    "    print(e)"
   ]
  },
  {
   "cell_type": "code",
   "execution_count": 160,
   "metadata": {
    "cell_id": "00190-9fad5355-d3c0-4cdf-b9b8-21202f533a60",
    "execution_millis": 1,
    "execution_start": 1603767619566,
    "output_cleared": false,
    "source_hash": "b828454",
    "tags": []
   },
   "outputs": [
    {
     "data": {
      "text/plain": [
       "('G', 'O')"
      ]
     },
     "execution_count": 160,
     "metadata": {},
     "output_type": "execute_result"
    }
   ],
   "source": [
    "a, b, c, d = 'POGO'\n",
    "\n",
    "c, d"
   ]
  },
  {
   "cell_type": "code",
   "execution_count": 161,
   "metadata": {
    "cell_id": "00191-505b0378-6952-4321-922b-61a1afda95b2",
    "execution_millis": 2,
    "execution_start": 1603767625702,
    "output_cleared": false,
    "source_hash": "1fe54768",
    "tags": []
   },
   "outputs": [
    {
     "data": {
      "text/plain": [
       "'X'"
      ]
     },
     "execution_count": 161,
     "metadata": {},
     "output_type": "execute_result"
    }
   ],
   "source": [
    "# dict and sets are unordered\n",
    "\n",
    "s = 'XYZ'\n",
    "\n",
    "s[0]\n",
    "\n"
   ]
  },
  {
   "cell_type": "code",
   "execution_count": 162,
   "metadata": {
    "cell_id": "00192-60ec2e81-f80b-4400-bce5-498dcbb05cbb",
    "execution_millis": 1,
    "execution_start": 1603767630786,
    "output_cleared": false,
    "source_hash": "b94f4809",
    "tags": []
   },
   "outputs": [
    {
     "ename": "TypeError",
     "evalue": "'set' object is not subscriptable",
     "output_type": "error",
     "traceback": [
      "\u001b[0;31m---------------------------------------------------------------------------\u001b[0m",
      "\u001b[0;31mTypeError\u001b[0m                                 Traceback (most recent call last)",
      "\u001b[0;32m<ipython-input-162-e495bef66bca>\u001b[0m in \u001b[0;36m<module>\u001b[0;34m\u001b[0m\n\u001b[1;32m      1\u001b[0m \u001b[0ms\u001b[0m \u001b[0;34m=\u001b[0m \u001b[0;34m{\u001b[0m\u001b[0;36m1\u001b[0m\u001b[0;34m,\u001b[0m \u001b[0;36m2\u001b[0m\u001b[0;34m,\u001b[0m \u001b[0;36m3\u001b[0m\u001b[0;34m}\u001b[0m\u001b[0;34m\u001b[0m\u001b[0;34m\u001b[0m\u001b[0m\n\u001b[1;32m      2\u001b[0m \u001b[0;34m\u001b[0m\u001b[0m\n\u001b[0;32m----> 3\u001b[0;31m \u001b[0ms\u001b[0m\u001b[0;34m[\u001b[0m\u001b[0;36m0\u001b[0m\u001b[0;34m]\u001b[0m\u001b[0;34m\u001b[0m\u001b[0;34m\u001b[0m\u001b[0m\n\u001b[0m",
      "\u001b[0;31mTypeError\u001b[0m: 'set' object is not subscriptable"
     ]
    }
   ],
   "source": [
    "s = {1, 2, 3}\n",
    "\n",
    "s[0]"
   ]
  },
  {
   "cell_type": "code",
   "execution_count": 163,
   "metadata": {
    "cell_id": "00193-1e0f83e9-870b-4974-81df-c2e5d1f00dd1",
    "execution_millis": 1,
    "execution_start": 1603767641306,
    "output_cleared": false,
    "source_hash": "66fc5dec",
    "tags": []
   },
   "outputs": [
    {
     "name": "stdout",
     "output_type": "stream",
     "text": [
      "{'v', 'c', '19', 'd', 'i', 'o'}\n"
     ]
    }
   ],
   "source": [
    "s = {'c', 'o', 'v', 'i', 'd', '19'}\n",
    "print(s)"
   ]
  },
  {
   "cell_type": "code",
   "execution_count": 164,
   "metadata": {
    "cell_id": "00194-0fd6d5a4-12a3-43c4-b155-70fb3a7d848d",
    "execution_millis": 6,
    "execution_start": 1603767650675,
    "output_cleared": false,
    "source_hash": "aede3327",
    "tags": []
   },
   "outputs": [
    {
     "name": "stdout",
     "output_type": "stream",
     "text": [
      "v\n",
      "c\n",
      "19\n",
      "d\n",
      "i\n",
      "o\n"
     ]
    }
   ],
   "source": [
    "for e in s:\n",
    "    print(e)"
   ]
  },
  {
   "cell_type": "code",
   "execution_count": 165,
   "metadata": {
    "cell_id": "00195-1cb0671a-1fdc-4968-a834-0518a61e2027",
    "execution_millis": 1,
    "execution_start": 1603767661540,
    "output_cleared": false,
    "source_hash": "8327e730",
    "tags": []
   },
   "outputs": [
    {
     "data": {
      "text/plain": [
       "('v', 'c', '19')"
      ]
     },
     "execution_count": 165,
     "metadata": {},
     "output_type": "execute_result"
    }
   ],
   "source": [
    "a, b, c, d, e, f = s\n",
    "\n",
    "a, b, c"
   ]
  },
  {
   "cell_type": "code",
   "execution_count": 166,
   "metadata": {
    "cell_id": "00196-c57e1843-bd93-4e85-ab9f-6f0601ad8a5d",
    "execution_millis": 2,
    "execution_start": 1603767673990,
    "output_cleared": false,
    "source_hash": "cce8f49b",
    "tags": []
   },
   "outputs": [
    {
     "name": "stdout",
     "output_type": "stream",
     "text": [
      "key1\n",
      "key2\n",
      "key3\n"
     ]
    }
   ],
   "source": [
    "d = {'key1': 1, 'key2': 2, 'key3': 'c'}\n",
    "for e in d:\n",
    "    print(e)"
   ]
  },
  {
   "cell_type": "code",
   "execution_count": 167,
   "metadata": {
    "cell_id": "00197-a589cf30-e02e-4f99-b55a-cef4c76de192",
    "execution_millis": 0,
    "execution_start": 1603767697225,
    "output_cleared": false,
    "source_hash": "9568e5d6",
    "tags": []
   },
   "outputs": [],
   "source": [
    "# this order is guaranteed in 3.6+ "
   ]
  },
  {
   "cell_type": "code",
   "execution_count": 168,
   "metadata": {
    "cell_id": "00198-0afc81cc-e566-4291-a773-e736ea213a3e",
    "execution_millis": 1,
    "execution_start": 1603767701033,
    "output_cleared": false,
    "source_hash": "55c5f84e",
    "tags": []
   },
   "outputs": [],
   "source": [
    "d = {'a': 1, 'b': 2, 'c': 'c', 'd': 4}"
   ]
  },
  {
   "cell_type": "code",
   "execution_count": 169,
   "metadata": {
    "cell_id": "00199-114187af-cba7-43e7-844b-836e69f3f728",
    "execution_millis": 2,
    "execution_start": 1603767710578,
    "output_cleared": false,
    "source_hash": "c8b7522a",
    "tags": []
   },
   "outputs": [
    {
     "data": {
      "text/plain": [
       "'d'"
      ]
     },
     "execution_count": 169,
     "metadata": {},
     "output_type": "execute_result"
    }
   ],
   "source": [
    "a, b, c, d = d\n",
    "\n",
    "d"
   ]
  },
  {
   "cell_type": "code",
   "execution_count": 170,
   "metadata": {
    "cell_id": "00200-52e80d83-3199-4ae3-addc-d64e6f35f880",
    "execution_millis": 2,
    "execution_start": 1603767732528,
    "output_cleared": false,
    "source_hash": "c18b19d9",
    "tags": []
   },
   "outputs": [
    {
     "data": {
      "text/plain": [
       "(1, 2)"
      ]
     },
     "execution_count": 170,
     "metadata": {},
     "output_type": "execute_result"
    }
   ],
   "source": [
    "d = {a: 1, 'b': 2, 'c': 3, 'd': 4}\n",
    "a, b, c, d = d.values()\n",
    "a, b, "
   ]
  },
  {
   "cell_type": "code",
   "execution_count": 171,
   "metadata": {
    "cell_id": "00201-12c093cf-7bbd-4ce0-af6b-725997f449f6",
    "execution_millis": 2,
    "execution_start": 1603767744621,
    "output_cleared": false,
    "source_hash": "7323c693",
    "tags": []
   },
   "outputs": [
    {
     "data": {
      "text/plain": [
       "{'p': 1, 'y': 2, 't': 3, 'h': 5, 'o': 6, 'n': 7}"
      ]
     },
     "execution_count": 171,
     "metadata": {},
     "output_type": "execute_result"
    }
   ],
   "source": [
    "d1 = {'p': 1, 'y': 2}\n",
    "d2 = {'t': 3, 'h': 4}\n",
    "d3 = {'h': 5, 'o': 6, 'n': 7}\n",
    "d = {**d1, **d2, **d3}\n",
    "d"
   ]
  },
  {
   "cell_type": "code",
   "execution_count": 172,
   "metadata": {
    "cell_id": "00202-11a5ab60-da48-45c1-bcba-d14b5967bac6",
    "execution_millis": 5,
    "execution_start": 1603767761062,
    "output_cleared": false,
    "source_hash": "e738ebce",
    "tags": []
   },
   "outputs": [
    {
     "data": {
      "text/plain": [
       "[2, 3, 4, 5, 6]"
      ]
     },
     "execution_count": 172,
     "metadata": {},
     "output_type": "execute_result"
    }
   ],
   "source": [
    "l = [1, 2, 3, 4, 5, 6]\n",
    "a = l[0]\n",
    "b = l[1:]\n",
    "b"
   ]
  },
  {
   "cell_type": "code",
   "execution_count": 173,
   "metadata": {
    "cell_id": "00203-69556a91-386b-4cc9-ac21-365034197560",
    "execution_millis": 3,
    "execution_start": 1603767766906,
    "output_cleared": false,
    "source_hash": "61fa1925",
    "tags": []
   },
   "outputs": [
    {
     "name": "stdout",
     "output_type": "stream",
     "text": [
      "a is 1 and b is [2, 3, 4, 5, 6]\n"
     ]
    }
   ],
   "source": [
    "l = [1, 2, 3, 4, 5, 6]\n",
    "a, *b = l\n",
    "print(f'a is {a} and b is {b}')"
   ]
  },
  {
   "cell_type": "code",
   "execution_count": 174,
   "metadata": {
    "cell_id": "00204-53880111-ff2d-4459-b598-df0f5079de17",
    "execution_millis": 2,
    "execution_start": 1603767789348,
    "output_cleared": false,
    "source_hash": "24c091cf",
    "tags": []
   },
   "outputs": [
    {
     "name": "stdout",
     "output_type": "stream",
     "text": [
      "a is p and b is ['y', 't', 'h', 'o', 'n'] and b will be a list\n"
     ]
    }
   ],
   "source": [
    "s = 'python'\n",
    "a, *b = s\n",
    "print(f'a is {a} and b is {b} and b will be a list')"
   ]
  },
  {
   "cell_type": "code",
   "execution_count": 175,
   "metadata": {
    "cell_id": "00205-13229c1a-4eec-461b-a61a-6f712c0f9b74",
    "execution_millis": 1,
    "execution_start": 1603767792824,
    "output_cleared": false,
    "source_hash": "4a6b707",
    "tags": []
   },
   "outputs": [
    {
     "name": "stdout",
     "output_type": "stream",
     "text": [
      "a is a and b is ['b', 'c']\n"
     ]
    }
   ],
   "source": [
    "t = ('a', 'b', 'c')\n",
    "a, *b = t\n",
    "print(f'a is {a} and b is {b}')"
   ]
  },
  {
   "cell_type": "code",
   "execution_count": 176,
   "metadata": {
    "cell_id": "00206-1afc9c9b-ed9f-464b-a025-fc070c9ef156",
    "execution_millis": 2,
    "execution_start": 1603767801600,
    "output_cleared": false,
    "source_hash": "83347ec0",
    "tags": []
   },
   "outputs": [
    {
     "name": "stdout",
     "output_type": "stream",
     "text": [
      "a is p and b is ['y', 't', 'h', 'o', 'n']\n"
     ]
    }
   ],
   "source": [
    "[a, *b] = \"python\" #unpacking into list of tuple.. doesn't matter as we'd be refercing variable names only\n",
    "print(f'a is {a} and b is {b}')"
   ]
  },
  {
   "cell_type": "code",
   "execution_count": 177,
   "metadata": {
    "cell_id": "00207-5d95a4c0-56e9-4a00-a188-a370c8828442",
    "execution_millis": 1,
    "execution_start": 1603767810513,
    "output_cleared": false,
    "source_hash": "8444e3e3",
    "tags": []
   },
   "outputs": [
    {
     "name": "stdout",
     "output_type": "stream",
     "text": [
      "a is p, b is y, and c is ['t', 'h', 'o', 'n']\n"
     ]
    }
   ],
   "source": [
    "a, b, *c = \"python\"\n",
    "print(f'a is {a}, b is {b}, and c is {c}')"
   ]
  },
  {
   "cell_type": "code",
   "execution_count": 178,
   "metadata": {
    "cell_id": "00208-926d14e2-2970-4eeb-859c-36f57b9b9945",
    "execution_millis": 1,
    "execution_start": 1603767815825,
    "output_cleared": false,
    "source_hash": "266f708f",
    "tags": []
   },
   "outputs": [
    {
     "name": "stdout",
     "output_type": "stream",
     "text": [
      "a is p, b is y, c is ['t', 'h', 'o'], and d is n\n"
     ]
    }
   ],
   "source": [
    "a, b, *c, d = \"python\"\n",
    "print(f'a is {a}, b is {b}, c is {c}, and d is {d}')"
   ]
  },
  {
   "cell_type": "code",
   "execution_count": 179,
   "metadata": {
    "cell_id": "00209-7c0ec179-ef3e-45ae-96f7-424ed87b6d15",
    "execution_millis": 0,
    "execution_start": 1603767838466,
    "output_cleared": false,
    "source_hash": "775c1fdf",
    "tags": []
   },
   "outputs": [
    {
     "name": "stdout",
     "output_type": "stream",
     "text": [
      "a is p, b is y, c is tho, d is n\n"
     ]
    }
   ],
   "source": [
    "s = 'python'\n",
    "\n",
    "# using slicing\n",
    "\n",
    "a, b, c, d = s[0], s[1], s[2:-1], s[-1]\n",
    "\n",
    "print(f'a is {a}, b is {b}, c is {c}, d is {d}')"
   ]
  },
  {
   "cell_type": "code",
   "execution_count": 180,
   "metadata": {
    "cell_id": "00210-903b4c28-3b41-4a19-bc49-e74a9722ea92",
    "execution_millis": 1,
    "execution_start": 1603767839972,
    "output_cleared": false,
    "source_hash": "a5047afd",
    "tags": []
   },
   "outputs": [
    {
     "data": {
      "text/plain": [
       "['t', 'h', 'o']"
      ]
     },
     "execution_count": 180,
     "metadata": {},
     "output_type": "execute_result"
    }
   ],
   "source": [
    "*c, = c\n",
    "c"
   ]
  },
  {
   "cell_type": "code",
   "execution_count": 181,
   "metadata": {
    "cell_id": "00211-843ef1dd-d439-4eaf-89e9-27cd639f8f77",
    "execution_millis": 1,
    "execution_start": 1603767859843,
    "output_cleared": false,
    "source_hash": "94230f94",
    "tags": []
   },
   "outputs": [
    {
     "data": {
      "text/plain": [
       "[1, 2, 3, 4, 5, 6]"
      ]
     },
     "execution_count": 181,
     "metadata": {},
     "output_type": "execute_result"
    }
   ],
   "source": [
    "l1 = [1, 2, 3]\n",
    "l2 = [4, 5, 6]\n",
    "\n",
    "l = [*l1, *l2]\n",
    "\n",
    "l"
   ]
  },
  {
   "cell_type": "code",
   "execution_count": 183,
   "metadata": {
    "cell_id": "00212-a8e6c3eb-7639-4a87-b482-d8096060ab56",
    "execution_millis": 1,
    "execution_start": 1603767865142,
    "output_cleared": false,
    "source_hash": "ea47eb4e",
    "tags": []
   },
   "outputs": [
    {
     "data": {
      "text/plain": [
       "[1, 2, 3, 'a', 'b', 'c']"
      ]
     },
     "execution_count": 183,
     "metadata": {},
     "output_type": "execute_result"
    }
   ],
   "source": [
    "l1 = [1, 2, 3]\n",
    "s = 'abc'\n",
    "\n",
    "[*l1, *s]"
   ]
  },
  {
   "cell_type": "code",
   "execution_count": 184,
   "metadata": {
    "cell_id": "00213-d4ac4a9d-8ef5-4b20-b8c4-619b7e354e16",
    "execution_millis": 4,
    "execution_start": 1603767870127,
    "output_cleared": false,
    "source_hash": "ff85bedd",
    "tags": []
   },
   "outputs": [
    {
     "data": {
      "text/plain": [
       "[1, 2, 3, 'x', 'z', 'y']"
      ]
     },
     "execution_count": 184,
     "metadata": {},
     "output_type": "execute_result"
    }
   ],
   "source": [
    "l1 = [1, 2, 3]\n",
    "s1 = {'x', 'y', 'z'}\n",
    "\n",
    "[*l1, *s1]"
   ]
  },
  {
   "cell_type": "code",
   "execution_count": 186,
   "metadata": {
    "cell_id": "00214-989982b8-1be8-49b0-b212-7285ad001510",
    "execution_millis": 6,
    "execution_start": 1603767874703,
    "output_cleared": false,
    "source_hash": "c955c121",
    "tags": []
   },
   "outputs": [
    {
     "data": {
      "text/plain": [
       "['a', 'b', 'c', 'c', 'd', 'e']"
      ]
     },
     "execution_count": 186,
     "metadata": {},
     "output_type": "execute_result"
    }
   ],
   "source": [
    "s1 = 'abc'\n",
    "s2 = 'cde'\n",
    "[*s1, *s2]"
   ]
  },
  {
   "cell_type": "code",
   "execution_count": 187,
   "metadata": {
    "cell_id": "00215-63704f47-5499-4229-ac8c-7a1ee3f6fb67",
    "execution_millis": 2,
    "execution_start": 1603767883990,
    "output_cleared": false,
    "source_hash": "af883b23",
    "tags": []
   },
   "outputs": [
    {
     "data": {
      "text/plain": [
       "{'a', 'b', 'c', 'd', 'e'}"
      ]
     },
     "execution_count": 187,
     "metadata": {},
     "output_type": "execute_result"
    }
   ],
   "source": [
    "{*s1, *s2} # no repeated characters"
   ]
  },
  {
   "cell_type": "code",
   "execution_count": 189,
   "metadata": {
    "cell_id": "00216-f6cfe67b-d2e2-4e46-b464-cbfe8a98271d",
    "execution_millis": 1,
    "execution_start": 1603767897690,
    "output_cleared": false,
    "source_hash": "ac013c48",
    "tags": []
   },
   "outputs": [
    {
     "ename": "TypeError",
     "evalue": "unsupported operand type(s) for +: 'set' and 'set'",
     "output_type": "error",
     "traceback": [
      "\u001b[0;31m---------------------------------------------------------------------------\u001b[0m",
      "\u001b[0;31mTypeError\u001b[0m                                 Traceback (most recent call last)",
      "\u001b[0;32m<ipython-input-189-0450d1e8a57f>\u001b[0m in \u001b[0;36m<module>\u001b[0;34m\u001b[0m\n\u001b[1;32m      1\u001b[0m \u001b[0ms1\u001b[0m \u001b[0;34m=\u001b[0m \u001b[0;34m{\u001b[0m\u001b[0;36m1\u001b[0m\u001b[0;34m,\u001b[0m \u001b[0;36m2\u001b[0m\u001b[0;34m,\u001b[0m \u001b[0;36m3\u001b[0m\u001b[0;34m}\u001b[0m\u001b[0;34m\u001b[0m\u001b[0;34m\u001b[0m\u001b[0m\n\u001b[1;32m      2\u001b[0m \u001b[0ms2\u001b[0m \u001b[0;34m=\u001b[0m \u001b[0;34m{\u001b[0m\u001b[0;36m3\u001b[0m\u001b[0;34m,\u001b[0m \u001b[0;36m4\u001b[0m\u001b[0;34m,\u001b[0m \u001b[0;36m5\u001b[0m\u001b[0;34m}\u001b[0m\u001b[0;34m\u001b[0m\u001b[0;34m\u001b[0m\u001b[0m\n\u001b[0;32m----> 3\u001b[0;31m \u001b[0ms1\u001b[0m \u001b[0;34m+\u001b[0m \u001b[0ms2\u001b[0m\u001b[0;34m\u001b[0m\u001b[0;34m\u001b[0m\u001b[0m\n\u001b[0m",
      "\u001b[0;31mTypeError\u001b[0m: unsupported operand type(s) for +: 'set' and 'set'"
     ]
    }
   ],
   "source": [
    "s1 = {1, 2, 3}\n",
    "s2 = {3, 4, 5}\n",
    "s1 + s2"
   ]
  },
  {
   "cell_type": "code",
   "execution_count": 190,
   "metadata": {
    "cell_id": "00217-3eb13d19-a314-4675-abbe-bbf4e05a2932",
    "execution_millis": 6,
    "execution_start": 1603767905552,
    "output_cleared": false,
    "source_hash": "9e1f95c9",
    "tags": []
   },
   "outputs": [
    {
     "data": {
      "text/plain": [
       "{1, 2, 3, 4, 5}"
      ]
     },
     "execution_count": 190,
     "metadata": {},
     "output_type": "execute_result"
    }
   ],
   "source": [
    "{*s1, *s2}"
   ]
  },
  {
   "cell_type": "code",
   "execution_count": 191,
   "metadata": {
    "cell_id": "00218-4f873727-c406-444b-8731-b6124fdfd464",
    "execution_millis": 3,
    "execution_start": 1603767909565,
    "output_cleared": false,
    "source_hash": "4cff1b41",
    "tags": []
   },
   "outputs": [
    {
     "data": {
      "text/plain": [
       "{1, 2, 3, 4, 5}"
      ]
     },
     "execution_count": 191,
     "metadata": {},
     "output_type": "execute_result"
    }
   ],
   "source": [
    "s1.union(s2)"
   ]
  },
  {
   "cell_type": "code",
   "execution_count": 192,
   "metadata": {
    "cell_id": "00219-012df3ca-dbf9-47bf-88a1-4ec7ffee8e2b",
    "execution_millis": 34,
    "execution_start": 1603767917441,
    "output_cleared": false,
    "source_hash": "4b2e2934",
    "tags": []
   },
   "outputs": [
    {
     "data": {
      "text/plain": [
       "{1, 2, 3, 4, 5, 6, 7, 8, 9}"
      ]
     },
     "execution_count": 192,
     "metadata": {},
     "output_type": "execute_result"
    }
   ],
   "source": [
    "s1 = {1, 2, 3}\n",
    "s2 = {3, 4, 5}\n",
    "s3 = {6, 7, 8}\n",
    "s4 = {9, 4, 3}\n",
    "s1.union(s2).union(s3).union(s4)"
   ]
  },
  {
   "cell_type": "code",
   "execution_count": 193,
   "metadata": {
    "cell_id": "00220-3f9932f1-47f3-4457-9d19-15a8cab2365a",
    "execution_millis": 2,
    "execution_start": 1603767921378,
    "output_cleared": false,
    "source_hash": "e4755c8f",
    "tags": []
   },
   "outputs": [
    {
     "data": {
      "text/plain": [
       "{1, 2, 3, 4, 5, 6, 7, 8, 9}"
      ]
     },
     "execution_count": 193,
     "metadata": {},
     "output_type": "execute_result"
    }
   ],
   "source": [
    "s1.union(s2, s3, s4)"
   ]
  },
  {
   "cell_type": "code",
   "execution_count": 194,
   "metadata": {
    "cell_id": "00221-c52b15e4-9657-4231-a41f-22dec829e2db",
    "execution_millis": 2,
    "execution_start": 1603767926677,
    "output_cleared": false,
    "source_hash": "e111d8b0",
    "tags": []
   },
   "outputs": [
    {
     "data": {
      "text/plain": [
       "{1, 2, 3, 4, 5, 6, 7, 8, 9}"
      ]
     },
     "execution_count": 194,
     "metadata": {},
     "output_type": "execute_result"
    }
   ],
   "source": [
    "{*s1, *s2, *s3, *s4}"
   ]
  },
  {
   "cell_type": "code",
   "execution_count": 195,
   "metadata": {
    "cell_id": "00222-dd9ca2c4-2dd4-4866-8240-9d775123f0c7",
    "execution_millis": 1,
    "execution_start": 1603767932167,
    "output_cleared": false,
    "source_hash": "cf571f36",
    "tags": []
   },
   "outputs": [],
   "source": [
    "d1 = {'key1': 1, 'key2': 2}\n",
    "d2 = {'key2': 3, 'key3': 4}"
   ]
  },
  {
   "cell_type": "code",
   "execution_count": 196,
   "metadata": {
    "cell_id": "00223-311b3d1f-c8a1-4045-bfbc-4bd3d9734664",
    "execution_millis": 5,
    "execution_start": 1603767937070,
    "output_cleared": false,
    "source_hash": "b4bcee85",
    "tags": []
   },
   "outputs": [
    {
     "data": {
      "text/plain": [
       "{'key1', 'key2', 'key3'}"
      ]
     },
     "execution_count": 196,
     "metadata": {},
     "output_type": "execute_result"
    }
   ],
   "source": [
    "{*d1, *d2} # but just the keys"
   ]
  },
  {
   "cell_type": "code",
   "execution_count": 197,
   "metadata": {
    "cell_id": "00224-48d58413-0ddf-4850-a4b1-3db347214106",
    "execution_millis": 2,
    "execution_start": 1603767943164,
    "output_cleared": false,
    "source_hash": "7ea45931",
    "tags": []
   },
   "outputs": [
    {
     "data": {
      "text/plain": [
       "{'key1': 1, 'key2': 3, 'key3': 4}"
      ]
     },
     "execution_count": 197,
     "metadata": {},
     "output_type": "execute_result"
    }
   ],
   "source": [
    "{**d1, **d2} # ordering matters"
   ]
  },
  {
   "cell_type": "code",
   "execution_count": 198,
   "metadata": {
    "cell_id": "00225-26d5e1ad-ae0b-4822-89a4-5d842be8832a",
    "execution_millis": 5,
    "execution_start": 1603767950936,
    "output_cleared": false,
    "source_hash": "202657bd",
    "tags": []
   },
   "outputs": [
    {
     "data": {
      "text/plain": [
       "{'key2': 2, 'key3': 4, 'key1': 1}"
      ]
     },
     "execution_count": 198,
     "metadata": {},
     "output_type": "execute_result"
    }
   ],
   "source": [
    "{**d2, **d1}"
   ]
  },
  {
   "cell_type": "code",
   "execution_count": 199,
   "metadata": {
    "cell_id": "00226-3d92fc96-9f06-4717-96de-512dbab42bcc",
    "execution_millis": 1,
    "execution_start": 1603767955289,
    "output_cleared": false,
    "source_hash": "2e1edb74",
    "tags": []
   },
   "outputs": [
    {
     "data": {
      "text/plain": [
       "{'a': 1, 'b': 2, 'key1': 1, 'key2': 2, 'c': 3}"
      ]
     },
     "execution_count": 199,
     "metadata": {},
     "output_type": "execute_result"
    }
   ],
   "source": [
    "{'a': 1, 'b': 2, **d1, 'c': 3}"
   ]
  },
  {
   "cell_type": "code",
   "execution_count": 200,
   "metadata": {
    "cell_id": "00227-f0fa019f-7fea-442e-b0e4-8c7d3e32ba2b",
    "execution_millis": 5,
    "execution_start": 1603767964634,
    "output_cleared": false,
    "source_hash": "9de8d4e9",
    "tags": []
   },
   "outputs": [
    {
     "data": {
      "text/plain": [
       "'Y'"
      ]
     },
     "execution_count": 200,
     "metadata": {},
     "output_type": "execute_result"
    }
   ],
   "source": [
    "a, b, (c, d) = [1, 2, 'XY']\n",
    "d"
   ]
  },
  {
   "cell_type": "code",
   "execution_count": 201,
   "metadata": {
    "cell_id": "00228-e30c53f5-4d61-42fc-a7f9-49bb1029277e",
    "execution_millis": 1,
    "execution_start": 1603767971459,
    "output_cleared": false,
    "source_hash": "acf8cb22",
    "tags": []
   },
   "outputs": [
    {
     "name": "stdout",
     "output_type": "stream",
     "text": [
      "1 [2, 3, 4] p y ['t', 'h', 'o', 'n']\n"
     ]
    }
   ],
   "source": [
    "l =  [1, 2, 3, 4, 'python']\n",
    "\n",
    "a, *b, (c, d, *e) = l\n",
    "\n",
    "print(a, b, c, d, e)"
   ]
  },
  {
   "cell_type": "code",
   "execution_count": 202,
   "metadata": {
    "cell_id": "00229-049e009f-4f31-4f40-963f-651beb9ad67a",
    "execution_millis": 2,
    "execution_start": 1603771962153,
    "output_cleared": false,
    "source_hash": "d0cd8c6",
    "tags": []
   },
   "outputs": [],
   "source": [
    "a, b, *c = 10, 20, 'a', 'b'\n"
   ]
  },
  {
   "cell_type": "code",
   "execution_count": 203,
   "metadata": {
    "cell_id": "00230-2e2c0773-75f0-4b16-8914-17bf3d13ecd8",
    "execution_millis": 1,
    "execution_start": 1603771967508,
    "output_cleared": false,
    "source_hash": "957caa7e",
    "tags": []
   },
   "outputs": [
    {
     "data": {
      "text/plain": [
       "['a', 'b']"
      ]
     },
     "execution_count": 203,
     "metadata": {},
     "output_type": "execute_result"
    }
   ],
   "source": [
    "c"
   ]
  },
  {
   "cell_type": "code",
   "execution_count": 204,
   "metadata": {
    "cell_id": "00231-540e6a6d-cdc8-4cfb-8bfe-cbdabb360377",
    "execution_millis": 4,
    "execution_start": 1603771971721,
    "output_cleared": false,
    "source_hash": "3f100906",
    "tags": []
   },
   "outputs": [],
   "source": [
    "def func1(a, b, *c):\n",
    "    print(a)\n",
    "    print(b)\n",
    "    print(c)"
   ]
  },
  {
   "cell_type": "code",
   "execution_count": 205,
   "metadata": {
    "cell_id": "00232-930647e6-fb98-499d-8abb-da2b2b692f1f",
    "execution_millis": 2,
    "execution_start": 1603771977130,
    "output_cleared": false,
    "source_hash": "685848b2",
    "tags": []
   },
   "outputs": [
    {
     "name": "stdout",
     "output_type": "stream",
     "text": [
      "10\n",
      "20\n",
      "()\n"
     ]
    }
   ],
   "source": [
    "func1(10, 20) # optional"
   ]
  },
  {
   "cell_type": "code",
   "execution_count": 206,
   "metadata": {
    "cell_id": "00233-2647ba54-9969-4a40-86d0-f018fd31add9",
    "execution_millis": 2,
    "execution_start": 1603771983621,
    "output_cleared": false,
    "source_hash": "f1540b89",
    "tags": []
   },
   "outputs": [
    {
     "name": "stdout",
     "output_type": "stream",
     "text": [
      "10\n",
      "20\n",
      "(30, 40)\n"
     ]
    }
   ],
   "source": [
    "func1(10, 20, 30, 40)"
   ]
  },
  {
   "cell_type": "code",
   "execution_count": 207,
   "metadata": {
    "cell_id": "00234-17dba44b-56c6-4254-b046-a606e6ca9a13",
    "execution_millis": 7,
    "execution_start": 1603771996189,
    "output_cleared": false,
    "source_hash": "deb1987c",
    "tags": []
   },
   "outputs": [
    {
     "name": "stdout",
     "output_type": "stream",
     "text": [
      "10\n",
      "20\n",
      "('a', 'b')\n"
     ]
    }
   ],
   "source": [
    "func1(a, b, *c)"
   ]
  },
  {
   "cell_type": "code",
   "execution_count": 208,
   "metadata": {
    "cell_id": "00235-678bfa6a-08ad-45cf-a3b1-ebad60a2903a",
    "execution_millis": 1,
    "execution_start": 1603772006126,
    "output_cleared": false,
    "source_hash": "234e9fe4",
    "tags": []
   },
   "outputs": [
    {
     "name": "stdout",
     "output_type": "stream",
     "text": [
      "10\n",
      "20\n",
      "(30, 40)\n"
     ]
    }
   ],
   "source": [
    "# general form\n",
    "\n",
    "def func1(a, b, *args):\n",
    "    print(a)\n",
    "    print(b)\n",
    "    print(args)\n",
    "func1(10, 20, 30, 40)"
   ]
  },
  {
   "cell_type": "code",
   "execution_count": 209,
   "metadata": {
    "cell_id": "00236-10d4a8d9-fc41-40d2-ad90-2d45c04c9b73",
    "execution_millis": 2,
    "execution_start": 1603772014273,
    "output_cleared": false,
    "source_hash": "8a7fdf73",
    "tags": []
   },
   "outputs": [],
   "source": [
    "# use case.. calculate the average of all the numbers\n",
    "\n",
    "def avg(*args):\n",
    "    print(args)"
   ]
  },
  {
   "cell_type": "code",
   "execution_count": 210,
   "metadata": {
    "cell_id": "00237-7ceab51f-89d4-4d4e-b4db-558564b9210b",
    "execution_millis": 5,
    "execution_start": 1603772023158,
    "output_cleared": false,
    "source_hash": "e290b915",
    "tags": []
   },
   "outputs": [
    {
     "name": "stdout",
     "output_type": "stream",
     "text": [
      "()\n",
      "(10, 20)\n"
     ]
    },
    {
     "data": {
      "text/plain": [
       "(None, None)"
      ]
     },
     "execution_count": 210,
     "metadata": {},
     "output_type": "execute_result"
    }
   ],
   "source": [
    "avg(), avg(10, 20)"
   ]
  },
  {
   "cell_type": "code",
   "execution_count": 211,
   "metadata": {
    "cell_id": "00238-fbe7e13a-0b79-429e-b88b-16c02cf91444",
    "execution_millis": 0,
    "execution_start": 1604029766446,
    "output_cleared": false,
    "source_hash": "ecf1be8b",
    "tags": []
   },
   "outputs": [
    {
     "ename": "SyntaxError",
     "evalue": "invalid syntax (<ipython-input-211-9ee8835c9a69>, line 1)",
     "output_type": "error",
     "traceback": [
      "\u001b[0;36m  File \u001b[0;32m\"<ipython-input-211-9ee8835c9a69>\"\u001b[0;36m, line \u001b[0;32m1\u001b[0m\n\u001b[0;31m    def func\u001b[0m\n\u001b[0m            ^\u001b[0m\n\u001b[0;31mSyntaxError\u001b[0m\u001b[0;31m:\u001b[0m invalid syntax\n"
     ]
    }
   ],
   "source": [
    "def func"
   ]
  },
  {
   "cell_type": "code",
   "execution_count": 212,
   "metadata": {
    "cell_id": "00239-e0fad384-9b70-43d5-b5e0-aa5f042ccc3e",
    "execution_millis": 9,
    "execution_start": 1603772044907,
    "output_cleared": false,
    "source_hash": "c880ec",
    "tags": []
   },
   "outputs": [
    {
     "name": "stdout",
     "output_type": "stream",
     "text": [
      "()\n"
     ]
    }
   ],
   "source": [
    "avg()"
   ]
  },
  {
   "cell_type": "code",
   "execution_count": 213,
   "metadata": {
    "cell_id": "00240-c0eb055b-1e7a-4ea5-9954-3be9fa1e5ba0",
    "execution_millis": 6,
    "execution_start": 1603772051792,
    "output_cleared": false,
    "source_hash": "a7c8034f",
    "tags": []
   },
   "outputs": [
    {
     "data": {
      "text/plain": [
       "0"
      ]
     },
     "execution_count": 213,
     "metadata": {},
     "output_type": "execute_result"
    }
   ],
   "source": [
    "def avg(*args):\n",
    "    count = len(args)\n",
    "    total = sum(args)\n",
    "    return count and total/count\n",
    "\n",
    "avg()"
   ]
  },
  {
   "cell_type": "code",
   "execution_count": 214,
   "metadata": {
    "cell_id": "00241-055c327a-ee50-482f-afd0-2fcf6b8ea9c7",
    "execution_millis": 6,
    "execution_start": 1603772080449,
    "output_cleared": false,
    "source_hash": "e8be1f58",
    "tags": []
   },
   "outputs": [
    {
     "ename": "NameError",
     "evalue": "name 'i_am_a_unkown_variable' is not defined",
     "output_type": "error",
     "traceback": [
      "\u001b[0;31m---------------------------------------------------------------------------\u001b[0m",
      "\u001b[0;31mNameError\u001b[0m                                 Traceback (most recent call last)",
      "\u001b[0;32m<ipython-input-214-e57ec0d90a24>\u001b[0m in \u001b[0;36m<module>\u001b[0;34m\u001b[0m\n\u001b[0;32m----> 1\u001b[0;31m \u001b[0;36m10\u001b[0m \u001b[0;34m==\u001b[0m \u001b[0;36m10\u001b[0m \u001b[0;32mand\u001b[0m \u001b[0mi_am_a_unkown_variable\u001b[0m\u001b[0;34m\u001b[0m\u001b[0;34m\u001b[0m\u001b[0m\n\u001b[0m",
      "\u001b[0;31mNameError\u001b[0m: name 'i_am_a_unkown_variable' is not defined"
     ]
    }
   ],
   "source": [
    "10 == 10 and i_am_a_unkown_variable"
   ]
  },
  {
   "cell_type": "code",
   "execution_count": 215,
   "metadata": {
    "cell_id": "00242-7bea7b1b-aa85-40d2-95bb-57fca60859d5",
    "execution_millis": 3,
    "execution_start": 1603772088884,
    "output_cleared": false,
    "source_hash": "f93a45fa",
    "tags": []
   },
   "outputs": [
    {
     "data": {
      "text/plain": [
       "False"
      ]
     },
     "execution_count": 215,
     "metadata": {},
     "output_type": "execute_result"
    }
   ],
   "source": [
    "10 == 20 and i_am_a_unkown_variable"
   ]
  },
  {
   "cell_type": "code",
   "execution_count": 216,
   "metadata": {
    "cell_id": "00243-148c23eb-b0fc-43cb-8467-81d736e24659",
    "execution_millis": 2,
    "execution_start": 1603772132181,
    "output_cleared": false,
    "source_hash": "16b3864e",
    "tags": []
   },
   "outputs": [
    {
     "name": "stdout",
     "output_type": "stream",
     "text": [
      "10\n",
      "20\n",
      "(30, 40)\n"
     ]
    }
   ],
   "source": [
    "l = [10, 20, 30, 40]\n",
    "\n",
    "def func1(a, b, *args):\n",
    "    print(a)\n",
    "    print(b)\n",
    "    print(args)\n",
    "l = [10, 20, 30, 40]\n",
    "func1(*l)\n"
   ]
  },
  {
   "cell_type": "code",
   "execution_count": 217,
   "metadata": {
    "cell_id": "00244-04422495-49eb-4a68-be32-0cf342727dc7",
    "execution_millis": 1,
    "execution_start": 1603772146599,
    "output_cleared": false,
    "source_hash": "cdad3933",
    "tags": []
   },
   "outputs": [],
   "source": [
    "# keyword arguments\n",
    "\n",
    "def func1(a, b, c):\n",
    "    print(a, b, c)"
   ]
  },
  {
   "cell_type": "code",
   "execution_count": 218,
   "metadata": {
    "cell_id": "00245-8dc940a2-e63b-409d-8985-ac0a08d63b34",
    "execution_millis": 2,
    "execution_start": 1603772155925,
    "output_cleared": false,
    "source_hash": "8471e1ed",
    "tags": []
   },
   "outputs": [
    {
     "name": "stdout",
     "output_type": "stream",
     "text": [
      "1 2 3\n",
      "1 2 3\n"
     ]
    }
   ],
   "source": [
    "func1(1, 2, 3)\n",
    "\n",
    "func1(a = 1, c = 3, b = 2) #once you start using named arguments, you have to continue using named arguments"
   ]
  },
  {
   "cell_type": "code",
   "execution_count": 219,
   "metadata": {
    "cell_id": "00246-785f450b-7778-47ba-a3d1-02219a070597",
    "execution_millis": 2,
    "execution_start": 1603772174640,
    "output_cleared": false,
    "source_hash": "2ae4d9cb",
    "tags": []
   },
   "outputs": [
    {
     "name": "stdout",
     "output_type": "stream",
     "text": [
      "1 2 (3, 4, 5)\n"
     ]
    }
   ],
   "source": [
    "# forcing named\n",
    "\n",
    "def func1(a, b, *args):\n",
    "    print(a, b, args)\n",
    "func1(1, 2, 3, 4, 5)"
   ]
  },
  {
   "cell_type": "code",
   "execution_count": 220,
   "metadata": {
    "cell_id": "00247-14a35397-b27b-4556-9053-1df07f251776",
    "execution_millis": 0,
    "execution_start": 1603772185718,
    "output_cleared": false,
    "source_hash": "d684cdd9",
    "tags": []
   },
   "outputs": [
    {
     "ename": "TypeError",
     "evalue": "func1() missing 1 required keyword-only argument: 'd'",
     "output_type": "error",
     "traceback": [
      "\u001b[0;31m---------------------------------------------------------------------------\u001b[0m",
      "\u001b[0;31mTypeError\u001b[0m                                 Traceback (most recent call last)",
      "\u001b[0;32m<ipython-input-220-641a75c6eef2>\u001b[0m in \u001b[0;36m<module>\u001b[0;34m\u001b[0m\n\u001b[1;32m      2\u001b[0m     \u001b[0mprint\u001b[0m\u001b[0;34m(\u001b[0m\u001b[0ma\u001b[0m\u001b[0;34m,\u001b[0m \u001b[0mb\u001b[0m\u001b[0;34m,\u001b[0m \u001b[0margs\u001b[0m\u001b[0;34m,\u001b[0m \u001b[0md\u001b[0m\u001b[0;34m)\u001b[0m\u001b[0;34m\u001b[0m\u001b[0;34m\u001b[0m\u001b[0m\n\u001b[1;32m      3\u001b[0m \u001b[0;34m\u001b[0m\u001b[0m\n\u001b[0;32m----> 4\u001b[0;31m \u001b[0mfunc1\u001b[0m\u001b[0;34m(\u001b[0m\u001b[0;36m1\u001b[0m\u001b[0;34m,\u001b[0m \u001b[0;36m2\u001b[0m\u001b[0;34m,\u001b[0m \u001b[0;36m3\u001b[0m\u001b[0;34m,\u001b[0m \u001b[0;36m4\u001b[0m\u001b[0;34m,\u001b[0m \u001b[0;36m5\u001b[0m\u001b[0;34m)\u001b[0m\u001b[0;34m\u001b[0m\u001b[0;34m\u001b[0m\u001b[0m\n\u001b[0m",
      "\u001b[0;31mTypeError\u001b[0m: func1() missing 1 required keyword-only argument: 'd'"
     ]
    }
   ],
   "source": [
    "def func1(a, b, *args, d):\n",
    "    print(a, b, args, d)\n",
    "\n",
    "func1(1, 2, 3, 4, 5)\n"
   ]
  },
  {
   "cell_type": "code",
   "execution_count": 221,
   "metadata": {
    "cell_id": "00248-4f6fc1bb-10eb-4f5e-b093-4e94c0c112fd",
    "execution_millis": 2,
    "execution_start": 1603772190610,
    "output_cleared": false,
    "source_hash": "b3bf79dd",
    "tags": []
   },
   "outputs": [
    {
     "name": "stdout",
     "output_type": "stream",
     "text": [
      "1 2 (3, 4) 5\n"
     ]
    }
   ],
   "source": [
    "func1(1, 2, 3, 4, d = 5)"
   ]
  },
  {
   "cell_type": "code",
   "execution_count": 222,
   "metadata": {
    "cell_id": "00249-f13a46b3-7197-497b-bb51-8ee8dd0cf60b",
    "execution_millis": 6,
    "execution_start": 1603772205784,
    "output_cleared": false,
    "source_hash": "90499bb8",
    "tags": []
   },
   "outputs": [
    {
     "ename": "TypeError",
     "evalue": "func1() takes 0 positional arguments but 2 positional arguments (and 1 keyword-only argument) were given",
     "output_type": "error",
     "traceback": [
      "\u001b[0;31m---------------------------------------------------------------------------\u001b[0m",
      "\u001b[0;31mTypeError\u001b[0m                                 Traceback (most recent call last)",
      "\u001b[0;32m<ipython-input-222-d24786eb5a1a>\u001b[0m in \u001b[0;36m<module>\u001b[0;34m\u001b[0m\n\u001b[1;32m      4\u001b[0m     \u001b[0mprint\u001b[0m\u001b[0;34m(\u001b[0m\u001b[0md\u001b[0m\u001b[0;34m)\u001b[0m\u001b[0;34m\u001b[0m\u001b[0;34m\u001b[0m\u001b[0m\n\u001b[1;32m      5\u001b[0m \u001b[0;34m\u001b[0m\u001b[0m\n\u001b[0;32m----> 6\u001b[0;31m \u001b[0mfunc1\u001b[0m\u001b[0;34m(\u001b[0m\u001b[0;36m1\u001b[0m\u001b[0;34m,\u001b[0m \u001b[0;36m2\u001b[0m\u001b[0;34m,\u001b[0m \u001b[0md\u001b[0m \u001b[0;34m=\u001b[0m \u001b[0;36m3\u001b[0m\u001b[0;34m)\u001b[0m\u001b[0;34m\u001b[0m\u001b[0;34m\u001b[0m\u001b[0m\n\u001b[0m",
      "\u001b[0;31mTypeError\u001b[0m: func1() takes 0 positional arguments but 2 positional arguments (and 1 keyword-only argument) were given"
     ]
    }
   ],
   "source": [
    "# no positional arguments\n",
    "\n",
    "def func1(*, d):\n",
    "    print(d)\n",
    "\n",
    "func1(1, 2, d = 3)"
   ]
  },
  {
   "cell_type": "code",
   "execution_count": 223,
   "metadata": {
    "cell_id": "00250-b648be5c-2c0c-4b0f-8655-e0f261c00f40",
    "execution_millis": 2,
    "execution_start": 1603772224534,
    "output_cleared": false,
    "source_hash": "8cf7ce53",
    "tags": []
   },
   "outputs": [
    {
     "name": "stdout",
     "output_type": "stream",
     "text": [
      "200\n"
     ]
    }
   ],
   "source": [
    "func1(d = 200)"
   ]
  },
  {
   "cell_type": "code",
   "execution_count": 224,
   "metadata": {
    "cell_id": "00251-9f5e565c-d685-4d0b-b606-26ed9fc819bc",
    "execution_millis": 6,
    "execution_start": 1603772234085,
    "output_cleared": false,
    "source_hash": "2e7c9702",
    "tags": []
   },
   "outputs": [
    {
     "ename": "TypeError",
     "evalue": "func() takes 2 positional arguments but 3 positional arguments (and 1 keyword-only argument) were given",
     "output_type": "error",
     "traceback": [
      "\u001b[0;31m---------------------------------------------------------------------------\u001b[0m",
      "\u001b[0;31mTypeError\u001b[0m                                 Traceback (most recent call last)",
      "\u001b[0;32m<ipython-input-224-fb4018295b56>\u001b[0m in \u001b[0;36m<module>\u001b[0;34m\u001b[0m\n\u001b[1;32m      2\u001b[0m     \u001b[0mprint\u001b[0m\u001b[0;34m(\u001b[0m\u001b[0ma\u001b[0m\u001b[0;34m,\u001b[0m \u001b[0mb\u001b[0m\u001b[0;34m,\u001b[0m \u001b[0md\u001b[0m\u001b[0;34m)\u001b[0m\u001b[0;34m\u001b[0m\u001b[0;34m\u001b[0m\u001b[0m\n\u001b[1;32m      3\u001b[0m \u001b[0;34m\u001b[0m\u001b[0m\n\u001b[0;32m----> 4\u001b[0;31m \u001b[0mfunc\u001b[0m\u001b[0;34m(\u001b[0m\u001b[0;36m1\u001b[0m\u001b[0;34m,\u001b[0m \u001b[0;36m2\u001b[0m\u001b[0;34m,\u001b[0m \u001b[0;36m3\u001b[0m\u001b[0;34m,\u001b[0m \u001b[0md\u001b[0m \u001b[0;34m=\u001b[0m \u001b[0;36m4\u001b[0m\u001b[0;34m)\u001b[0m\u001b[0;34m\u001b[0m\u001b[0;34m\u001b[0m\u001b[0m\n\u001b[0m",
      "\u001b[0;31mTypeError\u001b[0m: func() takes 2 positional arguments but 3 positional arguments (and 1 keyword-only argument) were given"
     ]
    }
   ],
   "source": [
    "def func(a, b, *, d):\n",
    "    print(a, b, d)\n",
    "\n",
    "func(1, 2, 3, d = 4)"
   ]
  },
  {
   "cell_type": "code",
   "execution_count": 225,
   "metadata": {
    "cell_id": "00252-424634b8-c2ad-404a-85d8-d5d0e557b312",
    "execution_millis": 1,
    "execution_start": 1603772244294,
    "output_cleared": false,
    "source_hash": "b122be07",
    "tags": []
   },
   "outputs": [
    {
     "name": "stdout",
     "output_type": "stream",
     "text": [
      "1 2 4\n"
     ]
    }
   ],
   "source": [
    "\n",
    "func(1, 2, d = 4)"
   ]
  },
  {
   "cell_type": "code",
   "execution_count": 226,
   "metadata": {
    "cell_id": "00253-b0dfabcf-8eaf-45c2-9808-32b1e23e5140",
    "execution_millis": 2,
    "execution_start": 1603772297937,
    "output_cleared": false,
    "source_hash": "a5a02f00",
    "tags": []
   },
   "outputs": [
    {
     "name": "stdout",
     "output_type": "stream",
     "text": [
      "5 4 (3, 2, 1) 0 5\n"
     ]
    }
   ],
   "source": [
    "def func(a, b = 20, *args, d = 0, e):\n",
    "    print(a, b, args, d, e)\n",
    "\n",
    "func(5, 4, 3, 2, 1, e = 5)\n"
   ]
  },
  {
   "cell_type": "markdown",
   "metadata": {
    "cell_id": "00254-98dc92bd-32ce-4c13-a07e-b65c54c66687",
    "tags": []
   },
   "source": [
    "## **kwargs"
   ]
  },
  {
   "cell_type": "code",
   "execution_count": 227,
   "metadata": {
    "cell_id": "00254-f5bfd514-0b80-4f04-adcf-9205b4cb8c40",
    "execution_millis": 2,
    "execution_start": 1603772321445,
    "output_cleared": false,
    "source_hash": "6e6a8754",
    "tags": []
   },
   "outputs": [
    {
     "name": "stdout",
     "output_type": "stream",
     "text": [
      "{'a': 1, 'b': 2, 'c': 3}\n"
     ]
    }
   ],
   "source": [
    "def func(**others):\n",
    "    print(others)\n",
    "\n",
    "func(a = 1, b = 2, c = 3)"
   ]
  },
  {
   "cell_type": "code",
   "execution_count": 228,
   "metadata": {
    "cell_id": "00256-3d54213f-af1e-40c5-b33a-a4de560cdc53",
    "execution_millis": 2,
    "execution_start": 1603772336088,
    "output_cleared": false,
    "source_hash": "124de415",
    "tags": []
   },
   "outputs": [
    {
     "name": "stdout",
     "output_type": "stream",
     "text": [
      "{'a': 1, 'b': 2, 'c': 3}\n"
     ]
    }
   ],
   "source": [
    "d = {'a': 1, 'b': 2, 'c': 3}\n",
    "\n",
    "func(**d)"
   ]
  },
  {
   "cell_type": "code",
   "execution_count": 229,
   "metadata": {
    "cell_id": "00257-eba01e92-c11a-4afe-a72c-aada01a5915e",
    "execution_millis": 2,
    "execution_start": 1603772346259,
    "output_cleared": false,
    "source_hash": "a8a0904",
    "tags": []
   },
   "outputs": [],
   "source": [
    "# Combined \n",
    "\n",
    "def func(*args, **kwargs):\n",
    "    print(args)\n",
    "    print(kwargs)"
   ]
  },
  {
   "cell_type": "code",
   "execution_count": 230,
   "metadata": {
    "cell_id": "00258-a7e52009-1425-4a27-8b32-ff74b3190ea4",
    "execution_millis": 3,
    "execution_start": 1603772352147,
    "output_cleared": false,
    "source_hash": "69f633b6",
    "tags": []
   },
   "outputs": [
    {
     "name": "stdout",
     "output_type": "stream",
     "text": [
      "(1, 2, 3, 4)\n",
      "{'a': 1, 'b': 2, 'c': 3}\n"
     ]
    }
   ],
   "source": [
    "func(1, 2, 3, 4, a = 1, b = 2, c = 3)"
   ]
  },
  {
   "cell_type": "code",
   "execution_count": 231,
   "metadata": {
    "cell_id": "00259-72655ecd-5142-43df-9081-c44ffc608bdf",
    "execution_millis": 7,
    "execution_start": 1603772357259,
    "output_cleared": false,
    "source_hash": "704379d9",
    "tags": []
   },
   "outputs": [
    {
     "ename": "SyntaxError",
     "evalue": "positional argument follows keyword argument (<ipython-input-231-05f15bc7978c>, line 1)",
     "output_type": "error",
     "traceback": [
      "\u001b[0;36m  File \u001b[0;32m\"<ipython-input-231-05f15bc7978c>\"\u001b[0;36m, line \u001b[0;32m1\u001b[0m\n\u001b[0;31m    func(1, 2, 3, 4, a = 1, b = 2, c = 3, 4)\u001b[0m\n\u001b[0m                                          ^\u001b[0m\n\u001b[0;31mSyntaxError\u001b[0m\u001b[0;31m:\u001b[0m positional argument follows keyword argument\n"
     ]
    }
   ],
   "source": [
    "func(1, 2, 3, 4, a = 1, b = 2, c = 3, 4)"
   ]
  },
  {
   "cell_type": "code",
   "execution_count": 232,
   "metadata": {
    "cell_id": "00260-02d315dd-233a-4c4b-a502-83fcdd369dad",
    "execution_millis": 0,
    "execution_start": 1603772367302,
    "output_cleared": false,
    "source_hash": "596ceaca",
    "tags": []
   },
   "outputs": [
    {
     "ename": "SyntaxError",
     "evalue": "named arguments must follow bare * (<ipython-input-232-d4e9a1d412fe>, line 1)",
     "output_type": "error",
     "traceback": [
      "\u001b[0;36m  File \u001b[0;32m\"<ipython-input-232-d4e9a1d412fe>\"\u001b[0;36m, line \u001b[0;32m1\u001b[0m\n\u001b[0;31m    def func(a, b, *, **kwargs):\u001b[0m\n\u001b[0m                      ^\u001b[0m\n\u001b[0;31mSyntaxError\u001b[0m\u001b[0;31m:\u001b[0m named arguments must follow bare *\n"
     ]
    }
   ],
   "source": [
    "def func(a, b, *, **kwargs):\n",
    "    print(a)\n",
    "    print(b)\n",
    "    print(kwargs)"
   ]
  },
  {
   "cell_type": "code",
   "execution_count": 233,
   "metadata": {
    "cell_id": "00261-1c849300-dbca-4469-a11f-ee53e66958b6",
    "execution_millis": 1,
    "execution_start": 1603772398453,
    "output_cleared": false,
    "source_hash": "bf21cd9c",
    "tags": []
   },
   "outputs": [],
   "source": [
    "def func(a, b, *, d, **kwargs):\n",
    "    print(a)\n",
    "    print(b)\n",
    "    print(d)\n",
    "    print(kwargs)"
   ]
  },
  {
   "cell_type": "code",
   "execution_count": 234,
   "metadata": {
    "cell_id": "00262-15566c04-e3ab-4bfc-91b9-3d7486f5a7ca",
    "execution_millis": 2,
    "execution_start": 1603772404840,
    "output_cleared": false,
    "source_hash": "7fb34ec8",
    "tags": []
   },
   "outputs": [
    {
     "name": "stdout",
     "output_type": "stream",
     "text": [
      "1\n",
      "2\n",
      "100\n",
      "{'x': 100, 'y': 100}\n"
     ]
    }
   ],
   "source": [
    "func(1, 2, x = 100, y = 100, d = 100)"
   ]
  },
  {
   "cell_type": "markdown",
   "metadata": {
    "cell_id": "00263-3f77ab77-56a2-4a56-a020-7b35ac6075a4",
    "tags": []
   },
   "source": [
    "## Lambda Functions"
   ]
  },
  {
   "cell_type": "code",
   "execution_count": 235,
   "metadata": {
    "cell_id": "00263-3125f22a-ee30-4ad3-b456-1c3d59a3c6bd",
    "execution_millis": 1,
    "execution_start": 1603772565184,
    "output_cleared": false,
    "source_hash": "f96282f7",
    "tags": []
   },
   "outputs": [],
   "source": [
    "def sq(x): \n",
    "    return x ** 2"
   ]
  },
  {
   "cell_type": "code",
   "execution_count": 236,
   "metadata": {
    "cell_id": "00265-4acc745f-87cf-41b3-bf79-e00a9a1d814f",
    "execution_millis": 1,
    "execution_start": 1603772567704,
    "output_cleared": false,
    "source_hash": "bd6f1f93",
    "tags": []
   },
   "outputs": [
    {
     "data": {
      "text/plain": [
       "function"
      ]
     },
     "execution_count": 236,
     "metadata": {},
     "output_type": "execute_result"
    }
   ],
   "source": [
    "type(sq)"
   ]
  },
  {
   "cell_type": "code",
   "execution_count": 237,
   "metadata": {
    "cell_id": "00266-56cbe555-b0de-4ec4-ba9d-a114496b2f81",
    "execution_millis": 3,
    "execution_start": 1603772573192,
    "output_cleared": false,
    "source_hash": "8b44919f",
    "tags": []
   },
   "outputs": [
    {
     "data": {
      "text/plain": [
       "<function __main__.sq(x)>"
      ]
     },
     "execution_count": 237,
     "metadata": {},
     "output_type": "execute_result"
    }
   ],
   "source": [
    "sq"
   ]
  },
  {
   "cell_type": "code",
   "execution_count": 238,
   "metadata": {
    "cell_id": "00267-af6f1779-e517-456c-9871-d34eb7d5d4fa",
    "execution_millis": 2,
    "execution_start": 1603772577154,
    "output_cleared": false,
    "source_hash": "d154801f",
    "tags": []
   },
   "outputs": [
    {
     "data": {
      "text/plain": [
       "<function __main__.<lambda>(x)>"
      ]
     },
     "execution_count": 238,
     "metadata": {},
     "output_type": "execute_result"
    }
   ],
   "source": [
    "lambda x: x**2"
   ]
  },
  {
   "cell_type": "code",
   "execution_count": 239,
   "metadata": {
    "cell_id": "00268-cc45db5e-55fb-4d0c-967b-da1a9564f3ef",
    "execution_millis": 2,
    "execution_start": 1603772590504,
    "output_cleared": false,
    "source_hash": "eacbf135",
    "tags": []
   },
   "outputs": [],
   "source": [
    "g = lambda x, y = 10: x + y"
   ]
  },
  {
   "cell_type": "code",
   "execution_count": 240,
   "metadata": {
    "cell_id": "00269-f6f3e206-fe61-415e-a571-39da0588dd20",
    "execution_millis": 2,
    "execution_start": 1603772595738,
    "output_cleared": false,
    "source_hash": "3da404fc",
    "tags": []
   },
   "outputs": [
    {
     "data": {
      "text/plain": [
       "<function __main__.<lambda>(x, y=10)>"
      ]
     },
     "execution_count": 240,
     "metadata": {},
     "output_type": "execute_result"
    }
   ],
   "source": [
    "g"
   ]
  },
  {
   "cell_type": "code",
   "execution_count": 241,
   "metadata": {
    "cell_id": "00270-a05eb382-a7fe-495f-83ff-bf6ccf5b612b",
    "execution_millis": 1,
    "execution_start": 1603772603165,
    "output_cleared": false,
    "source_hash": "25d54c1",
    "tags": []
   },
   "outputs": [
    {
     "data": {
      "text/plain": [
       "3"
      ]
     },
     "execution_count": 241,
     "metadata": {},
     "output_type": "execute_result"
    }
   ],
   "source": [
    "g(1, 2)"
   ]
  },
  {
   "cell_type": "code",
   "execution_count": 242,
   "metadata": {
    "cell_id": "00271-58d7a0d7-c0ee-45eb-8cc1-6722a47d4be5",
    "execution_millis": 2,
    "execution_start": 1603772622810,
    "output_cleared": false,
    "source_hash": "5d2d1488",
    "tags": []
   },
   "outputs": [],
   "source": [
    "f = lambda x, *args, y, **kwargs: print(x, args, y, kwargs)"
   ]
  },
  {
   "cell_type": "code",
   "execution_count": 243,
   "metadata": {
    "cell_id": "00272-48b7c1b3-f94c-426b-a72d-91ed89d96337",
    "execution_millis": 2,
    "execution_start": 1603772627539,
    "output_cleared": false,
    "source_hash": "9c72b252",
    "tags": []
   },
   "outputs": [
    {
     "name": "stdout",
     "output_type": "stream",
     "text": [
      "1 ('a', 'b') 10 {'a': 100, 'b': 200}\n"
     ]
    }
   ],
   "source": [
    "f(1, 'a', 'b', y= 10, a = 100, b = 200)"
   ]
  },
  {
   "cell_type": "code",
   "execution_count": 244,
   "metadata": {
    "cell_id": "00273-9c4f59ba-5d05-4382-926f-8bba310afc5e",
    "execution_millis": 1,
    "execution_start": 1603772653134,
    "output_cleared": false,
    "source_hash": "52905c4f",
    "tags": []
   },
   "outputs": [],
   "source": [
    "# passing function as argument\n",
    "\n",
    "def apply_func(x, fn):\n",
    "    return fn(x)"
   ]
  },
  {
   "cell_type": "code",
   "execution_count": 245,
   "metadata": {
    "cell_id": "00274-205c34a5-f500-4408-a293-d8f782d0a7c7",
    "execution_millis": 6,
    "execution_start": 1603772658610,
    "output_cleared": false,
    "source_hash": "7d3ff491",
    "tags": []
   },
   "outputs": [
    {
     "data": {
      "text/plain": [
       "9"
      ]
     },
     "execution_count": 245,
     "metadata": {},
     "output_type": "execute_result"
    }
   ],
   "source": [
    "apply_func(3, sq)"
   ]
  },
  {
   "cell_type": "code",
   "execution_count": 246,
   "metadata": {
    "cell_id": "00275-0301c6d5-de39-4ce0-924b-b0d6292a4c0a",
    "execution_millis": 2,
    "execution_start": 1603772666549,
    "output_cleared": false,
    "source_hash": "4cd7a9a1",
    "tags": []
   },
   "outputs": [
    {
     "data": {
      "text/plain": [
       "9"
      ]
     },
     "execution_count": 246,
     "metadata": {},
     "output_type": "execute_result"
    }
   ],
   "source": [
    "apply_func(3, lambda x: x**2)"
   ]
  },
  {
   "cell_type": "code",
   "execution_count": 247,
   "metadata": {
    "cell_id": "00276-04615882-6ad4-4c9d-9baf-659b467e42cc",
    "execution_millis": 6,
    "execution_start": 1603772671807,
    "output_cleared": false,
    "source_hash": "ea275ff2",
    "tags": []
   },
   "outputs": [
    {
     "data": {
      "text/plain": [
       "81"
      ]
     },
     "execution_count": 247,
     "metadata": {},
     "output_type": "execute_result"
    }
   ],
   "source": [
    "apply_func(3, lambda x: x**4)"
   ]
  },
  {
   "cell_type": "code",
   "execution_count": 248,
   "metadata": {
    "cell_id": "00277-dec50421-2a50-4d08-9b85-75e25714ffc6",
    "execution_millis": 0,
    "execution_start": 1603772684208,
    "output_cleared": false,
    "source_hash": "8018255",
    "tags": []
   },
   "outputs": [],
   "source": [
    "def apply_func(fn, *args, **kwargs):\n",
    "    return fn(*args, **kwargs)"
   ]
  },
  {
   "cell_type": "code",
   "execution_count": 249,
   "metadata": {
    "cell_id": "00278-874fc4d6-a2ae-49d5-bf85-5fe9fd471e83",
    "execution_millis": 2,
    "execution_start": 1603772688638,
    "output_cleared": false,
    "source_hash": "a022dc31",
    "tags": []
   },
   "outputs": [
    {
     "data": {
      "text/plain": [
       "9"
      ]
     },
     "execution_count": 249,
     "metadata": {},
     "output_type": "execute_result"
    }
   ],
   "source": [
    "apply_func(sq, 3)"
   ]
  },
  {
   "cell_type": "code",
   "execution_count": 250,
   "metadata": {
    "cell_id": "00279-28662d9b-1c8d-4acc-9d99-992b3db2af78",
    "execution_millis": 2,
    "execution_start": 1603772694758,
    "output_cleared": false,
    "source_hash": "cf8a25d5",
    "tags": []
   },
   "outputs": [
    {
     "data": {
      "text/plain": [
       "3"
      ]
     },
     "execution_count": 250,
     "metadata": {},
     "output_type": "execute_result"
    }
   ],
   "source": [
    "apply_func(lambda x, y: x + y, 1, 2)"
   ]
  },
  {
   "cell_type": "code",
   "execution_count": 251,
   "metadata": {
    "cell_id": "00280-20fed232-486d-4d32-aba8-a183ad042a8f",
    "execution_millis": 2,
    "execution_start": 1603772733286,
    "output_cleared": false,
    "source_hash": "981fff4",
    "tags": []
   },
   "outputs": [
    {
     "data": {
      "text/plain": [
       "21"
      ]
     },
     "execution_count": 251,
     "metadata": {},
     "output_type": "execute_result"
    }
   ],
   "source": [
    "apply_func(lambda x, *, y: x + y, 1, y = 20)"
   ]
  },
  {
   "cell_type": "code",
   "execution_count": 252,
   "metadata": {
    "cell_id": "00281-00869046-30de-4a88-9fcd-4acf8e448948",
    "execution_millis": 2,
    "execution_start": 1603772742283,
    "output_cleared": false,
    "source_hash": "b0942380",
    "tags": []
   },
   "outputs": [
    {
     "data": {
      "text/plain": [
       "15"
      ]
     },
     "execution_count": 252,
     "metadata": {},
     "output_type": "execute_result"
    }
   ],
   "source": [
    "apply_func(lambda *args: sum(args), 1, 2, 3, 4, 5)"
   ]
  },
  {
   "cell_type": "markdown",
   "metadata": {
    "cell_id": "00282-964746b9-13d6-49ea-bbc1-de4ecce219b3",
    "tags": []
   },
   "source": [
    " ### Lambdas and sorting"
   ]
  },
  {
   "cell_type": "code",
   "execution_count": 253,
   "metadata": {
    "cell_id": "00282-b9f93382-8eaf-4326-8f4c-85c358089150",
    "execution_millis": 1,
    "execution_start": 1603772801040,
    "output_cleared": false,
    "source_hash": "2da83b81",
    "tags": []
   },
   "outputs": [
    {
     "data": {
      "text/plain": [
       "[1, 2, 3, 4, 4, 5, 6]"
      ]
     },
     "execution_count": 253,
     "metadata": {},
     "output_type": "execute_result"
    }
   ],
   "source": [
    "l = [1, 4, 6, 3, 4, 5, 2]\n",
    "\n",
    "sorted(l) # not in place sort, i.e. l has not changed"
   ]
  },
  {
   "cell_type": "code",
   "execution_count": 254,
   "metadata": {
    "cell_id": "00284-3eb9bb70-64c8-4052-9cde-d7c0d1f7b02f",
    "execution_millis": 2,
    "execution_start": 1603772805606,
    "output_cleared": false,
    "source_hash": "66e02963",
    "tags": []
   },
   "outputs": [
    {
     "data": {
      "text/plain": [
       "[1, 4, 6, 3, 4, 5, 2]"
      ]
     },
     "execution_count": 254,
     "metadata": {},
     "output_type": "execute_result"
    }
   ],
   "source": [
    "l"
   ]
  },
  {
   "cell_type": "code",
   "execution_count": 255,
   "metadata": {
    "cell_id": "00285-10e57a5f-46c3-4143-b99a-b9b3290d9f01",
    "execution_millis": 2,
    "execution_start": 1603772826733,
    "output_cleared": false,
    "source_hash": "9c4e68ab",
    "tags": []
   },
   "outputs": [
    {
     "data": {
      "text/plain": [
       "['B', 'D', 'a', 'c']"
      ]
     },
     "execution_count": 255,
     "metadata": {},
     "output_type": "execute_result"
    }
   ],
   "source": [
    "l = ['c', 'B', 'D', 'a']\n",
    "sorted(l)"
   ]
  },
  {
   "cell_type": "code",
   "execution_count": 256,
   "metadata": {
    "cell_id": "00286-a3db840e-aafa-4c9f-8182-6529d0ae7cab",
    "execution_millis": 2,
    "execution_start": 1603772830428,
    "output_cleared": false,
    "source_hash": "715f981",
    "tags": []
   },
   "outputs": [
    {
     "data": {
      "text/plain": [
       "(97, 65)"
      ]
     },
     "execution_count": 256,
     "metadata": {},
     "output_type": "execute_result"
    }
   ],
   "source": [
    "ord('a'), ord('A')"
   ]
  },
  {
   "cell_type": "code",
   "execution_count": 257,
   "metadata": {
    "cell_id": "00287-1913ea70-1077-4e09-a4f0-0f2e42813a50",
    "execution_millis": 6,
    "execution_start": 1603772838440,
    "output_cleared": false,
    "source_hash": "b46c56a6",
    "tags": []
   },
   "outputs": [
    {
     "data": {
      "text/plain": [
       "['a', 'B', 'c', 'D']"
      ]
     },
     "execution_count": 257,
     "metadata": {},
     "output_type": "execute_result"
    }
   ],
   "source": [
    "sorted(l, key=lambda x: x.upper())"
   ]
  },
  {
   "cell_type": "code",
   "execution_count": 258,
   "metadata": {
    "cell_id": "00288-a108b207-68e3-4eeb-a920-5680769cd798",
    "execution_millis": 1,
    "execution_start": 1603772867294,
    "output_cleared": false,
    "source_hash": "e8a3b8c2",
    "tags": []
   },
   "outputs": [
    {
     "data": {
      "text/plain": [
       "['ghi', 'abc', 'def']"
      ]
     },
     "execution_count": 258,
     "metadata": {},
     "output_type": "execute_result"
    }
   ],
   "source": [
    "d = {'def': 300, 'abc': 200, 'ghi': 100}\n",
    "\n",
    "sorted(d, key = lambda e: d[e])"
   ]
  },
  {
   "cell_type": "code",
   "execution_count": 259,
   "metadata": {
    "cell_id": "00289-6f73f1a7-0fca-4095-abfe-14fe4bce846f",
    "execution_millis": 1,
    "execution_start": 1603772882357,
    "output_cleared": false,
    "source_hash": "b799094b",
    "tags": []
   },
   "outputs": [
    {
     "ename": "TypeError",
     "evalue": "'<' not supported between instances of 'complex' and 'complex'",
     "output_type": "error",
     "traceback": [
      "\u001b[0;31m---------------------------------------------------------------------------\u001b[0m",
      "\u001b[0;31mTypeError\u001b[0m                                 Traceback (most recent call last)",
      "\u001b[0;32m<ipython-input-259-e886c79ffe99>\u001b[0m in \u001b[0;36m<module>\u001b[0;34m\u001b[0m\n\u001b[1;32m      1\u001b[0m \u001b[0ml\u001b[0m \u001b[0;34m=\u001b[0m \u001b[0;34m[\u001b[0m\u001b[0;36m3\u001b[0m \u001b[0;34m+\u001b[0m \u001b[0;36m3j\u001b[0m\u001b[0;34m,\u001b[0m \u001b[0;36m1\u001b[0m \u001b[0;34m-\u001b[0m \u001b[0;36m1j\u001b[0m\u001b[0;34m,\u001b[0m \u001b[0;36m0\u001b[0m\u001b[0;34m,\u001b[0m \u001b[0;36m3\u001b[0m \u001b[0;34m+\u001b[0m \u001b[0;36m0j\u001b[0m\u001b[0;34m]\u001b[0m\u001b[0;34m\u001b[0m\u001b[0;34m\u001b[0m\u001b[0m\n\u001b[0;32m----> 2\u001b[0;31m \u001b[0msorted\u001b[0m\u001b[0;34m(\u001b[0m\u001b[0ml\u001b[0m\u001b[0;34m)\u001b[0m\u001b[0;34m\u001b[0m\u001b[0;34m\u001b[0m\u001b[0m\n\u001b[0m",
      "\u001b[0;31mTypeError\u001b[0m: '<' not supported between instances of 'complex' and 'complex'"
     ]
    }
   ],
   "source": [
    "l = [3 + 3j, 1 - 1j, 0, 3 + 0j]\n",
    "sorted(l)"
   ]
  },
  {
   "cell_type": "code",
   "execution_count": 260,
   "metadata": {
    "cell_id": "00290-3a3a5ef6-2fde-4ec6-ae38-4a5f9848eb98",
    "execution_millis": 6,
    "execution_start": 1603772891740,
    "output_cleared": false,
    "source_hash": "49f114f1",
    "tags": []
   },
   "outputs": [
    {
     "data": {
      "text/plain": [
       "[0, (1-1j), (3+0j), (3+3j)]"
      ]
     },
     "execution_count": 260,
     "metadata": {},
     "output_type": "execute_result"
    }
   ],
   "source": [
    "sorted(l, key = lambda x : (x.real)**2 + (x.imag)**2)"
   ]
  },
  {
   "cell_type": "code",
   "execution_count": 261,
   "metadata": {
    "cell_id": "00291-d37dae75-a5ee-4b85-941b-310a63a71223",
    "execution_millis": 1,
    "execution_start": 1603772906086,
    "output_cleared": false,
    "source_hash": "8ebdd1a2",
    "tags": []
   },
   "outputs": [
    {
     "data": {
      "text/plain": [
       "[9, 6, 8, 4, 3, 7, 1, 5, 2]"
      ]
     },
     "execution_count": 261,
     "metadata": {},
     "output_type": "execute_result"
    }
   ],
   "source": [
    "l = [1, 2, 3, 4, 5, 6, 7, 8, 9]\n",
    "\n",
    "import random\n",
    "sorted(l, key = lambda x: random.random())"
   ]
  },
  {
   "cell_type": "markdown",
   "metadata": {
    "cell_id": "00292-4e29b248-dc1b-4708-b0f4-5a31a9805deb",
    "tags": []
   },
   "source": [
    "## Functional Introspection"
   ]
  },
  {
   "cell_type": "code",
   "execution_count": 262,
   "metadata": {
    "cell_id": "00292-97da1493-52b2-4bea-87be-db9d63009881",
    "execution_millis": 1,
    "execution_start": 1603772927884,
    "output_cleared": false,
    "source_hash": "7be00a4a",
    "tags": []
   },
   "outputs": [],
   "source": [
    "def my_func(a: \"mandatory positional\", \n",
    "            b: \"optional positional\" = 1, \n",
    "            c = 2, \n",
    "            *args: \"add extra positional here\", \n",
    "            kw1, \n",
    "            kw2=100, \n",
    "            kw3=200, \n",
    "            **kwargs: \"provide extra kw-only here\") -> \"does nothing\":\n",
    "    \"\"\"This function does nothing but has tons of \n",
    "    parameters\"\"\"\n",
    "    i = 10\n",
    "    j = 20\n"
   ]
  },
  {
   "cell_type": "code",
   "execution_count": 263,
   "metadata": {
    "cell_id": "00294-53da6231-4401-4c0b-b2ac-f432c0f9cefb",
    "execution_millis": 1,
    "execution_start": 1603772932674,
    "output_cleared": false,
    "source_hash": "cd154f18",
    "tags": []
   },
   "outputs": [
    {
     "data": {
      "text/plain": [
       "'This function does nothing but has tons of \\n    parameters'"
      ]
     },
     "execution_count": 263,
     "metadata": {},
     "output_type": "execute_result"
    }
   ],
   "source": [
    "my_func.__doc__"
   ]
  },
  {
   "cell_type": "code",
   "execution_count": 264,
   "metadata": {
    "cell_id": "00295-9ea71181-2d8e-4780-ae17-ca574f825ec1",
    "execution_millis": 2,
    "execution_start": 1603772938261,
    "output_cleared": false,
    "source_hash": "d80ce988",
    "tags": []
   },
   "outputs": [
    {
     "data": {
      "text/plain": [
       "{'a': 'mandatory positional',\n",
       " 'b': 'optional positional',\n",
       " 'args': 'add extra positional here',\n",
       " 'kwargs': 'provide extra kw-only here',\n",
       " 'return': 'does nothing'}"
      ]
     },
     "execution_count": 264,
     "metadata": {},
     "output_type": "execute_result"
    }
   ],
   "source": [
    "my_func.__annotations__"
   ]
  },
  {
   "cell_type": "code",
   "execution_count": 265,
   "metadata": {
    "cell_id": "00296-3b35ba93-4e64-477e-aa42-6ccad05f34ef",
    "execution_millis": 8,
    "execution_start": 1603772987873,
    "output_cleared": false,
    "source_hash": "f1d799ed",
    "tags": []
   },
   "outputs": [
    {
     "data": {
      "text/plain": [
       "['__annotations__',\n",
       " '__call__',\n",
       " '__class__',\n",
       " '__closure__',\n",
       " '__code__',\n",
       " '__defaults__',\n",
       " '__delattr__',\n",
       " '__dict__',\n",
       " '__dir__',\n",
       " '__doc__',\n",
       " '__eq__',\n",
       " '__format__',\n",
       " '__ge__',\n",
       " '__get__',\n",
       " '__getattribute__',\n",
       " '__globals__',\n",
       " '__gt__',\n",
       " '__hash__',\n",
       " '__init__',\n",
       " '__init_subclass__',\n",
       " '__kwdefaults__',\n",
       " '__le__',\n",
       " '__lt__',\n",
       " '__module__',\n",
       " '__name__',\n",
       " '__ne__',\n",
       " '__new__',\n",
       " '__qualname__',\n",
       " '__reduce__',\n",
       " '__reduce_ex__',\n",
       " '__repr__',\n",
       " '__setattr__',\n",
       " '__sizeof__',\n",
       " '__str__',\n",
       " '__subclasshook__',\n",
       " 'short_desc']"
      ]
     },
     "execution_count": 265,
     "metadata": {},
     "output_type": "execute_result"
    }
   ],
   "source": [
    "my_func.short_desc = \"this function does nothing\"\n",
    "dir(my_func)"
   ]
  },
  {
   "cell_type": "code",
   "execution_count": 266,
   "metadata": {
    "cell_id": "00297-2095b977-9711-4a23-b482-36255d0b47ea",
    "execution_millis": 2,
    "execution_start": 1603773030717,
    "output_cleared": false,
    "source_hash": "70ab7e94",
    "tags": []
   },
   "outputs": [
    {
     "name": "stdout",
     "output_type": "stream",
     "text": [
      "def my_func(a: \"mandatory positional\", \n",
      "            b: \"optional positional\" = 1, \n",
      "            c = 2, \n",
      "            *args: \"add extra positional here\", \n",
      "            kw1, \n",
      "            kw2=100, \n",
      "            kw3=200, \n",
      "            **kwargs: \"provide extra kw-only here\") -> \"does nothing\":\n",
      "    \"\"\"This function does nothing but has tons of \n",
      "    parameters\"\"\"\n",
      "    i = 10\n",
      "    j = 20\n",
      "\n"
     ]
    }
   ],
   "source": [
    "import inspect\n",
    "\n",
    "print(inspect.getsource(my_func))"
   ]
  },
  {
   "cell_type": "markdown",
   "metadata": {
    "cell_id": "00298-c52e52f2-2489-470b-82ed-02269097a708",
    "tags": []
   },
   "source": [
    "## Map"
   ]
  },
  {
   "cell_type": "code",
   "execution_count": 267,
   "metadata": {
    "cell_id": "00298-fc275d27-f02a-40d2-a5f9-cbc866a08311",
    "execution_millis": 2,
    "execution_start": 1603773089645,
    "output_cleared": false,
    "source_hash": "9d3b016f",
    "tags": []
   },
   "outputs": [
    {
     "data": {
      "text/plain": [
       "6"
      ]
     },
     "execution_count": 267,
     "metadata": {},
     "output_type": "execute_result"
    }
   ],
   "source": [
    "def fact(n):\n",
    "    return 1 if n < 2 else n * fact(n - 1)\n",
    "\n",
    "fact(3)"
   ]
  },
  {
   "cell_type": "code",
   "execution_count": 268,
   "metadata": {
    "cell_id": "00300-db258971-ab52-421b-8cc5-f130a52b5a65",
    "execution_millis": 2,
    "execution_start": 1603773110716,
    "output_cleared": false,
    "source_hash": "a07f265f",
    "tags": []
   },
   "outputs": [
    {
     "name": "stdout",
     "output_type": "stream",
     "text": [
      "<map object at 0x7fa05444e9d0>\n"
     ]
    }
   ],
   "source": [
    "results = map(fact, range(6))\n",
    "print(results)"
   ]
  },
  {
   "cell_type": "code",
   "execution_count": 271,
   "metadata": {
    "cell_id": "00301-7ab12f26-0a5f-440f-8a0e-e1ea50d0fb85",
    "execution_millis": 0,
    "execution_start": 1603773118158,
    "output_cleared": false,
    "source_hash": "aba3ec1a",
    "tags": []
   },
   "outputs": [],
   "source": [
    "for x in results:\n",
    "    print(x)"
   ]
  },
  {
   "cell_type": "code",
   "execution_count": 272,
   "metadata": {
    "cell_id": "00302-7120b0d5-6b07-4538-9e21-2cc414c9b1de",
    "execution_millis": 7,
    "execution_start": 1603773135008,
    "output_cleared": false,
    "source_hash": "e6842c94",
    "tags": []
   },
   "outputs": [],
   "source": [
    "for x in results:\n",
    "    print(x)\n",
    "\n",
    "# nothing! this wasn't a case in Python2, this is in python3. Map, Filter \n",
    "# zip did not return lists, but generators, things weren't calculated\n",
    "# when we requested elemkents, then they were calculated\n",
    "# we could have asked for only few of them"
   ]
  },
  {
   "cell_type": "code",
   "execution_count": 273,
   "metadata": {
    "cell_id": "00303-012735ab-f305-42f3-b1a6-a0433f56d82e",
    "execution_millis": 6,
    "execution_start": 1603773140314,
    "output_cleared": false,
    "source_hash": "affe459",
    "tags": []
   },
   "outputs": [
    {
     "data": {
      "text/plain": [
       "[1, 1, 2, 6, 24, 120]"
      ]
     },
     "execution_count": 273,
     "metadata": {},
     "output_type": "execute_result"
    }
   ],
   "source": [
    "results = list(map(fact, range(6)))\n",
    "results"
   ]
  },
  {
   "cell_type": "code",
   "execution_count": 274,
   "metadata": {
    "cell_id": "00304-813b1ede-4867-4c49-8ae7-9da37c7af562",
    "execution_millis": 3,
    "execution_start": 1603773171502,
    "output_cleared": false,
    "source_hash": "c47f905b",
    "tags": []
   },
   "outputs": [
    {
     "data": {
      "text/plain": [
       "[11, 22, 33]"
      ]
     },
     "execution_count": 274,
     "metadata": {},
     "output_type": "execute_result"
    }
   ],
   "source": [
    "l1 = [1, 2, 3, 4, 5]\n",
    "l2 = [10, 20, 30]\n",
    "\n",
    "list(map(lambda x, y: x + y, l1, l2))"
   ]
  },
  {
   "cell_type": "code",
   "execution_count": 275,
   "metadata": {
    "cell_id": "00305-3e6eaf12-3ad2-4d2c-aa24-432d2f740a73",
    "execution_millis": 1,
    "execution_start": 1603773189870,
    "output_cleared": false,
    "source_hash": "e3d93d8",
    "tags": []
   },
   "outputs": [
    {
     "name": "stdout",
     "output_type": "stream",
     "text": [
      "['11p', '22y', '33t']\n"
     ]
    }
   ],
   "source": [
    "l1 = [1, 2, 3, 4, 5]\n",
    "l2 = [10, 20, 30]\n",
    "l3 = 'pythonish'\n",
    "print(list(map(lambda x, y, z: str(x + y) + z, l1, l2, l3)))"
   ]
  },
  {
   "cell_type": "code",
   "execution_count": 276,
   "metadata": {
    "cell_id": "00306-d611366d-ca72-43da-ab1e-90b45067e8b6",
    "execution_millis": 1,
    "execution_start": 1603773196600,
    "output_cleared": false,
    "source_hash": "9690be31",
    "tags": []
   },
   "outputs": [],
   "source": [
    "l1 = [1, 2, 3, 4, 5]\n",
    "l2 = [10, 20, 30]\n",
    "l3 = 100, 200, 300, 400\n",
    "\n",
    "results = map(lambda x, y: x+y, l1, l2, l3)"
   ]
  },
  {
   "cell_type": "code",
   "execution_count": 277,
   "metadata": {
    "cell_id": "00307-6e9fb983-c81e-41f8-9b67-2e8edcdfb41e",
    "execution_millis": 1,
    "execution_start": 1603773211537,
    "output_cleared": false,
    "source_hash": "9a07a790",
    "tags": []
   },
   "outputs": [
    {
     "ename": "TypeError",
     "evalue": "<lambda>() takes 2 positional arguments but 3 were given",
     "output_type": "error",
     "traceback": [
      "\u001b[0;31m---------------------------------------------------------------------------\u001b[0m",
      "\u001b[0;31mTypeError\u001b[0m                                 Traceback (most recent call last)",
      "\u001b[0;32m<ipython-input-277-083fbcee450c>\u001b[0m in \u001b[0;36m<module>\u001b[0;34m\u001b[0m\n\u001b[1;32m      1\u001b[0m \u001b[0;31m# now error comes in\u001b[0m\u001b[0;34m\u001b[0m\u001b[0;34m\u001b[0m\u001b[0;34m\u001b[0m\u001b[0m\n\u001b[0;32m----> 2\u001b[0;31m \u001b[0;32mfor\u001b[0m \u001b[0mx\u001b[0m \u001b[0;32min\u001b[0m \u001b[0mresults\u001b[0m\u001b[0;34m:\u001b[0m\u001b[0;34m\u001b[0m\u001b[0;34m\u001b[0m\u001b[0m\n\u001b[0m\u001b[1;32m      3\u001b[0m     \u001b[0mprint\u001b[0m\u001b[0;34m(\u001b[0m\u001b[0mx\u001b[0m\u001b[0;34m)\u001b[0m\u001b[0;34m\u001b[0m\u001b[0;34m\u001b[0m\u001b[0m\n",
      "\u001b[0;31mTypeError\u001b[0m: <lambda>() takes 2 positional arguments but 3 were given"
     ]
    }
   ],
   "source": [
    "# now error comes in\n",
    "for x in results: \n",
    "    print(x)"
   ]
  },
  {
   "cell_type": "markdown",
   "metadata": {
    "cell_id": "00308-b4a83fe4-4cf8-4999-8c4e-a2adc498187a",
    "tags": []
   },
   "source": [
    "## Filter"
   ]
  },
  {
   "cell_type": "code",
   "execution_count": 278,
   "metadata": {
    "cell_id": "00308-b97dd2b7-dcd7-457a-a4e0-d5a71d8a984c",
    "execution_millis": 6,
    "execution_start": 1603773228328,
    "output_cleared": false,
    "source_hash": "c4c4947e",
    "tags": []
   },
   "outputs": [
    {
     "data": {
      "text/plain": [
       "[0, 3, 6, 9, 12, 15, 18, 21, 24]"
      ]
     },
     "execution_count": 278,
     "metadata": {},
     "output_type": "execute_result"
    }
   ],
   "source": [
    "list(filter(lambda x: x % 3 == 0, range(25)))"
   ]
  },
  {
   "cell_type": "code",
   "execution_count": 279,
   "metadata": {
    "cell_id": "00310-80dd8143-0739-4649-b1f0-8eb0d7d79080",
    "execution_millis": 2,
    "execution_start": 1603773238889,
    "output_cleared": false,
    "source_hash": "18b14fe8",
    "tags": []
   },
   "outputs": [
    {
     "data": {
      "text/plain": [
       "[1, 'a', True]"
      ]
     },
     "execution_count": 279,
     "metadata": {},
     "output_type": "execute_result"
    }
   ],
   "source": [
    "list(filter(None, [0, 1, 'a', '', None, True, False]))"
   ]
  },
  {
   "cell_type": "code",
   "execution_count": 280,
   "metadata": {
    "cell_id": "00311-82741ebf-4a55-4e65-a1e2-26dd77f5a550",
    "execution_millis": 2,
    "execution_start": 1603773316817,
    "output_cleared": false,
    "source_hash": "e99e9b80",
    "tags": []
   },
   "outputs": [
    {
     "data": {
      "text/plain": [
       "['t', 'h', 's', 'c', 'h', 'l', 'f']"
      ]
     },
     "execution_count": 280,
     "metadata": {},
     "output_type": "execute_result"
    }
   ],
   "source": [
    "list(filter(lambda c: c not in['a', 'e', 'i', 'o', 'u'], 'theschoolofai'))"
   ]
  },
  {
   "cell_type": "markdown",
   "metadata": {
    "cell_id": "00312-3b96bfa3-46f4-4c10-9f5c-b41e24388382",
    "tags": []
   },
   "source": [
    "## Zip"
   ]
  },
  {
   "cell_type": "code",
   "execution_count": 281,
   "metadata": {
    "cell_id": "00312-b2bc9007-9e8c-4406-aa04-6917d4ec880e",
    "execution_millis": 0,
    "execution_start": 1603773338366,
    "output_cleared": false,
    "source_hash": "5642433e",
    "tags": []
   },
   "outputs": [
    {
     "name": "stdout",
     "output_type": "stream",
     "text": [
      "<zip object at 0x7fa0543fb300>\n"
     ]
    }
   ],
   "source": [
    "l1 = [1, 2, 3, 4]\n",
    "l2 = [10, 20, 30, 40]\n",
    "l3 = 'python'\n",
    "results = zip(l1, l2, l3)\n",
    "print(results)\n"
   ]
  },
  {
   "cell_type": "code",
   "execution_count": 282,
   "metadata": {
    "cell_id": "00314-3ba42685-fa56-42d2-816b-df58e7768103",
    "execution_millis": 2,
    "execution_start": 1603773345728,
    "output_cleared": false,
    "source_hash": "aba3ec1a",
    "tags": []
   },
   "outputs": [
    {
     "name": "stdout",
     "output_type": "stream",
     "text": [
      "(1, 10, 'p')\n",
      "(2, 20, 'y')\n",
      "(3, 30, 't')\n",
      "(4, 40, 'h')\n"
     ]
    }
   ],
   "source": [
    "for x in results:\n",
    "    print(x)"
   ]
  },
  {
   "cell_type": "code",
   "execution_count": 283,
   "metadata": {
    "cell_id": "00315-4e184eed-e9a7-4116-b37e-ce1e2d61b280",
    "execution_millis": 2,
    "execution_start": 1603773351182,
    "output_cleared": false,
    "source_hash": "3d5f2188",
    "tags": []
   },
   "outputs": [],
   "source": [
    "for x in results: # a generator\n",
    "    print(x)"
   ]
  },
  {
   "cell_type": "code",
   "execution_count": 284,
   "metadata": {
    "cell_id": "00316-fef7a225-8f01-4d7c-9593-eea5812160ae",
    "execution_millis": 1,
    "execution_start": 1603773361270,
    "output_cleared": false,
    "source_hash": "48ab326b",
    "tags": []
   },
   "outputs": [
    {
     "name": "stdout",
     "output_type": "stream",
     "text": [
      "[(0, 'p'), (1, 'y'), (2, 't'), (3, 'h'), (4, 'o'), (5, 'n')]\n"
     ]
    }
   ],
   "source": [
    "print(list(zip(range(1000000000), 'python')))"
   ]
  },
  {
   "cell_type": "markdown",
   "metadata": {
    "cell_id": "00317-2c4187d9-006a-4249-8080-cdcd1c7f1fb6",
    "tags": []
   },
   "source": [
    "## List Comprehension"
   ]
  },
  {
   "cell_type": "code",
   "execution_count": 285,
   "metadata": {
    "cell_id": "00317-b14cbb68-1046-4f02-940b-19341b32f886",
    "execution_millis": 1,
    "execution_start": 1603773540279,
    "output_cleared": false,
    "source_hash": "6bd791a8",
    "tags": []
   },
   "outputs": [
    {
     "name": "stdout",
     "output_type": "stream",
     "text": [
      "[1, 1, 2, 6, 24, 120, 720, 5040, 40320, 362880]\n"
     ]
    }
   ],
   "source": [
    "result = [fact(n) for n in range(10)]\n",
    "print(result)"
   ]
  },
  {
   "cell_type": "code",
   "execution_count": 286,
   "metadata": {
    "cell_id": "00319-fde9cce2-219c-4825-9d99-d5a792df73bc",
    "execution_millis": 2,
    "execution_start": 1603773553304,
    "output_cleared": false,
    "source_hash": "c3a52788",
    "tags": []
   },
   "outputs": [
    {
     "name": "stdout",
     "output_type": "stream",
     "text": [
      "<generator object <genexpr> at 0x7fa05440d120>\n"
     ]
    }
   ],
   "source": [
    "results = (fact(n) for n in range(10)) #now it is deferred\n",
    "print(results)"
   ]
  },
  {
   "cell_type": "code",
   "execution_count": 287,
   "metadata": {
    "cell_id": "00320-272753b5-c576-4846-b3fe-213fcdab16fd",
    "execution_millis": 2,
    "execution_start": 1603773560261,
    "output_cleared": false,
    "source_hash": "aba3ec1a",
    "tags": []
   },
   "outputs": [
    {
     "name": "stdout",
     "output_type": "stream",
     "text": [
      "1\n",
      "1\n",
      "2\n",
      "6\n",
      "24\n",
      "120\n",
      "720\n",
      "5040\n",
      "40320\n",
      "362880\n"
     ]
    }
   ],
   "source": [
    "for x in results:\n",
    "    print(x)"
   ]
  },
  {
   "cell_type": "code",
   "execution_count": 288,
   "metadata": {
    "cell_id": "00321-23c91ce1-0b3d-40e8-bbbb-49125bcc9e7c",
    "execution_millis": 0,
    "execution_start": 1603773566890,
    "output_cleared": false,
    "source_hash": "aba3ec1a",
    "tags": []
   },
   "outputs": [],
   "source": [
    "for x in results:\n",
    "    print(x)"
   ]
  },
  {
   "cell_type": "code",
   "execution_count": 289,
   "metadata": {
    "cell_id": "00322-aa508d9d-f9e2-4f24-a7c1-bf005ba864ea",
    "execution_millis": 13,
    "execution_start": 1603773582242,
    "output_cleared": false,
    "source_hash": "1fd51fbf",
    "tags": []
   },
   "outputs": [
    {
     "data": {
      "text/plain": [
       "[11, 22, 33, 44]"
      ]
     },
     "execution_count": 289,
     "metadata": {},
     "output_type": "execute_result"
    }
   ],
   "source": [
    "l1 = [1, 2, 3, 4, 5, 6]\n",
    "l2 = [10, 20, 30, 40]\n",
    "\n",
    "list(map(lambda x, y:x + y, l1, l2))"
   ]
  },
  {
   "cell_type": "code",
   "execution_count": 290,
   "metadata": {
    "cell_id": "00323-f57e4b71-a4e1-4baa-8e1d-b918a78b9f3e",
    "execution_millis": 1,
    "execution_start": 1603773597078,
    "output_cleared": false,
    "source_hash": "ce00cce3",
    "tags": []
   },
   "outputs": [
    {
     "data": {
      "text/plain": [
       "[11, 22, 33, 44]"
      ]
     },
     "execution_count": 290,
     "metadata": {},
     "output_type": "execute_result"
    }
   ],
   "source": [
    "[x + y for x, y in zip(l1, l2)]"
   ]
  },
  {
   "cell_type": "code",
   "execution_count": 291,
   "metadata": {
    "cell_id": "00324-06693378-99e2-4aa9-ab6f-3a10b5cefa65",
    "execution_millis": 2,
    "execution_start": 1603773607828,
    "output_cleared": false,
    "source_hash": "b424c552",
    "tags": []
   },
   "outputs": [
    {
     "data": {
      "text/plain": [
       "[22, 44]"
      ]
     },
     "execution_count": 291,
     "metadata": {},
     "output_type": "execute_result"
    }
   ],
   "source": [
    "list(filter(lambda x: x%2 ==0, map(lambda x, y:x + y, l1, l2)))"
   ]
  },
  {
   "cell_type": "code",
   "execution_count": 292,
   "metadata": {
    "cell_id": "00325-da14d598-e67b-47ab-a732-78aaa14c3cf8",
    "execution_millis": 2,
    "execution_start": 1603773620110,
    "output_cleared": false,
    "source_hash": "17df17a6",
    "tags": []
   },
   "outputs": [
    {
     "data": {
      "text/plain": [
       "[22, 44]"
      ]
     },
     "execution_count": 292,
     "metadata": {},
     "output_type": "execute_result"
    }
   ],
   "source": [
    "[x + y for x, y in zip(l1, l2) if (x + y) %2 == 0]"
   ]
  },
  {
   "cell_type": "markdown",
   "metadata": {
    "cell_id": "00326-343eb47f-0e19-499c-857a-d855a105b679",
    "tags": []
   },
   "source": [
    "## Reduce"
   ]
  },
  {
   "cell_type": "code",
   "execution_count": 293,
   "metadata": {
    "cell_id": "00326-75a954fd-fcb9-4ae8-8fd2-31b164add98c",
    "execution_millis": 1,
    "execution_start": 1603773702522,
    "output_cleared": false,
    "source_hash": "e91b77cd",
    "tags": []
   },
   "outputs": [],
   "source": [
    "from functools import reduce\n"
   ]
  },
  {
   "cell_type": "code",
   "execution_count": 294,
   "metadata": {
    "cell_id": "00328-1d2f4f21-eaf1-4eb3-abab-0c2ffe7b8ec8",
    "execution_millis": 2,
    "execution_start": 1603773740825,
    "output_cleared": false,
    "source_hash": "5bd223f3",
    "tags": []
   },
   "outputs": [
    {
     "data": {
      "text/plain": [
       "10"
      ]
     },
     "execution_count": 294,
     "metadata": {},
     "output_type": "execute_result"
    }
   ],
   "source": [
    "reduce(lambda a, b: a + b, {1,2, 3, 4})"
   ]
  },
  {
   "cell_type": "code",
   "execution_count": 295,
   "metadata": {
    "cell_id": "00329-56d4abb5-a514-4acc-b4d7-50e6d97170b1",
    "execution_millis": 2,
    "execution_start": 1603773748670,
    "output_cleared": false,
    "source_hash": "eb677cda",
    "tags": []
   },
   "outputs": [
    {
     "data": {
      "text/plain": [
       "1428"
      ]
     },
     "execution_count": 295,
     "metadata": {},
     "output_type": "execute_result"
    }
   ],
   "source": [
    "l = [1, 2, 3, 7, 34]\n",
    "\n",
    "reduce(lambda a, b: a*b, l)"
   ]
  },
  {
   "cell_type": "code",
   "execution_count": 296,
   "metadata": {
    "cell_id": "00330-a4c3e589-0023-475a-b2db-dbd5b7cf935e",
    "execution_millis": 3,
    "execution_start": 1603773764109,
    "output_cleared": false,
    "source_hash": "8ed4bed6",
    "tags": []
   },
   "outputs": [
    {
     "data": {
      "text/plain": [
       "[1, 2, 3, 4, 5]"
      ]
     },
     "execution_count": 296,
     "metadata": {},
     "output_type": "execute_result"
    }
   ],
   "source": [
    "#lets calculate factorial again\n",
    "list(range(1, 5 + 1))"
   ]
  },
  {
   "cell_type": "code",
   "execution_count": 297,
   "metadata": {
    "cell_id": "00331-616ea4b3-f3a8-43af-9670-63983f15b0f0",
    "execution_millis": 6,
    "execution_start": 1603773769733,
    "output_cleared": false,
    "source_hash": "2e82a1e8",
    "tags": []
   },
   "outputs": [
    {
     "data": {
      "text/plain": [
       "120"
      ]
     },
     "execution_count": 297,
     "metadata": {},
     "output_type": "execute_result"
    }
   ],
   "source": [
    "reduce(lambda a, b: a*b, range(1, 5 +1))"
   ]
  },
  {
   "cell_type": "markdown",
   "metadata": {
    "cell_id": "00332-a5dfca12-dfaa-4ab6-a6c9-02828e62d287",
    "tags": []
   },
   "source": [
    "## Dictionaries"
   ]
  },
  {
   "cell_type": "code",
   "execution_count": 298,
   "metadata": {
    "cell_id": "00332-5c48f6f4-860e-4bd2-b3e1-710a6ccbac7e",
    "execution_millis": 0,
    "execution_start": 1603774576522,
    "output_cleared": false,
    "source_hash": "8fec271f",
    "tags": []
   },
   "outputs": [
    {
     "data": {
      "text/plain": [
       "sys.version_info(major=3, minor=8, micro=5, releaselevel='final', serial=0)"
      ]
     },
     "execution_count": 298,
     "metadata": {},
     "output_type": "execute_result"
    }
   ],
   "source": [
    "from sys import version_info\n",
    "\n",
    "version_info\n",
    "\n",
    "# 3.7 gaurantees dicitionary ordering.."
   ]
  },
  {
   "cell_type": "code",
   "execution_count": 299,
   "metadata": {
    "cell_id": "00334-beed6e27-a2e7-464f-8c8e-10aa0af5342f",
    "execution_millis": 2,
    "execution_start": 1603774588225,
    "output_cleared": false,
    "source_hash": "e107a97f",
    "tags": []
   },
   "outputs": [
    {
     "data": {
      "text/plain": [
       "(dict_keys(['b', 'a']), dict_values([1, 2]), dict_items([('b', 1), ('a', 2)]))"
      ]
     },
     "execution_count": 299,
     "metadata": {},
     "output_type": "execute_result"
    }
   ],
   "source": [
    "d = {'b': 1, 'a': 2}\n",
    "\n",
    "d.keys(), d.values(), d.items()"
   ]
  },
  {
   "cell_type": "code",
   "execution_count": 300,
   "metadata": {
    "cell_id": "00335-5b51018f-9c8b-4766-83b2-477846f2ad3c",
    "execution_millis": 1,
    "execution_start": 1603774592554,
    "output_cleared": false,
    "source_hash": "f4c6148e",
    "tags": []
   },
   "outputs": [
    {
     "data": {
      "text/plain": [
       "(dict_keys(['b', 'a', 'x']),\n",
       " dict_values([1, 2, 3]),\n",
       " dict_items([('b', 1), ('a', 2), ('x', 3)]))"
      ]
     },
     "execution_count": 300,
     "metadata": {},
     "output_type": "execute_result"
    }
   ],
   "source": [
    "d['x'] = 3\n",
    "\n",
    "d.keys(), d.values(), d.items()"
   ]
  },
  {
   "cell_type": "code",
   "execution_count": 301,
   "metadata": {
    "cell_id": "00336-9cc7f7c9-a591-4963-a541-89a02131ee88",
    "execution_millis": 1,
    "execution_start": 1603774596247,
    "output_cleared": false,
    "source_hash": "ef15963c",
    "tags": []
   },
   "outputs": [
    {
     "data": {
      "text/plain": [
       "(dict_keys(['b', 'x']), dict_values([1, 3]), dict_items([('b', 1), ('x', 3)]))"
      ]
     },
     "execution_count": 301,
     "metadata": {},
     "output_type": "execute_result"
    }
   ],
   "source": [
    "del d['a']\n",
    "\n",
    "d.keys(), d.values(), d.items()"
   ]
  },
  {
   "cell_type": "code",
   "execution_count": 302,
   "metadata": {
    "cell_id": "00337-d41a6db3-7024-4854-a3ca-78f43030f598",
    "execution_millis": 7,
    "execution_start": 1603774600536,
    "output_cleared": false,
    "source_hash": "874f736b",
    "tags": []
   },
   "outputs": [
    {
     "data": {
      "text/plain": [
       "(dict_keys(['b', 'x', 'a']),\n",
       " dict_values([1, 3, 1]),\n",
       " dict_items([('b', 1), ('x', 3), ('a', 1)]))"
      ]
     },
     "execution_count": 302,
     "metadata": {},
     "output_type": "execute_result"
    }
   ],
   "source": [
    "d['a'] = 1\n",
    "\n",
    "d.keys(), d.values(), d.items()"
   ]
  },
  {
   "cell_type": "code",
   "execution_count": 303,
   "metadata": {
    "cell_id": "00338-cdc587ef-c0db-46df-81eb-02552cd5f4ca",
    "execution_millis": 2,
    "execution_start": 1603774616525,
    "output_cleared": false,
    "source_hash": "85d1d4ee",
    "tags": []
   },
   "outputs": [
    {
     "data": {
      "text/plain": [
       "(dict_keys(['a', 'b', 'd', 'c']),\n",
       " dict_values([100, 200, 300, 400]),\n",
       " dict_items([('a', 100), ('b', 200), ('d', 300), ('c', 400)]))"
      ]
     },
     "execution_count": 303,
     "metadata": {},
     "output_type": "execute_result"
    }
   ],
   "source": [
    "d1 = {'a': 1, 'b': 200}\n",
    "\n",
    "d2 = {'a': 100, 'd': 300, 'c': 400}\n",
    "\n",
    "d1.update(d2)\n",
    "\n",
    "d1.keys(), d1.values(), d1.items()"
   ]
  },
  {
   "cell_type": "code",
   "execution_count": 304,
   "metadata": {
    "cell_id": "00339-16c970f6-d69a-4575-87d2-3e434b9d84bc",
    "execution_millis": 2,
    "execution_start": 1603774630806,
    "output_cleared": false,
    "source_hash": "3ce323a0",
    "tags": []
   },
   "outputs": [
    {
     "name": "stdout",
     "output_type": "stream",
     "text": [
      "{'a': 1, 'b': 2, 'c': 3}\n",
      "{'b': 2, 'c': 3, 'a': 1}\n"
     ]
    }
   ],
   "source": [
    "d = {'a': 1, 'b': 2, 'c': 3}\n",
    "\n",
    "print(d)\n",
    "d['a'] = d.pop('a')\n",
    "print(d)"
   ]
  },
  {
   "cell_type": "code",
   "execution_count": 305,
   "metadata": {
    "cell_id": "00340-22c6a9c0-6848-498d-a29e-d17369ee97c4",
    "execution_millis": 8,
    "execution_start": 1603774636543,
    "output_cleared": false,
    "source_hash": "35ff03d9",
    "tags": []
   },
   "outputs": [
    {
     "name": "stdout",
     "output_type": "stream",
     "text": [
      "start: {'a': 1, 'b': 2, 'c': 3, 'x': 100, 'y': 200}\n",
      "moved c to end: {'a': 1, 'b': 2, 'x': 100, 'y': 200, 'c': 3}\n",
      "moved c to front: {'c': 3, 'a': 1, 'b': 2, 'x': 100, 'y': 200}\n"
     ]
    }
   ],
   "source": [
    "# move to front\n",
    "# move_to_end(last=False)\n",
    "\n",
    "d = {'a': 1, 'b': 2, 'c': 3, 'x': 100, 'y': 200}\n",
    "print('start:', d)\n",
    "\n",
    "d['c'] = d.pop('c')\n",
    "\n",
    "print('moved c to end:', d)\n",
    "\n",
    "for i in range(len(d) - 1):\n",
    "    key = next(iter(d.keys()))\n",
    "    d[key] = d.pop(key)\n",
    "print('moved c to front:',d)"
   ]
  },
  {
   "cell_type": "code",
   "execution_count": 306,
   "metadata": {
    "cell_id": "00341-fad85fda-3649-43b8-977e-de1aa4083cb3",
    "execution_millis": 1,
    "execution_start": 1603774641665,
    "output_cleared": false,
    "source_hash": "8c693653",
    "tags": []
   },
   "outputs": [
    {
     "name": "stdout",
     "output_type": "stream",
     "text": [
      "start: {'a': 1, 'b': 2, 'c': 3, 'x': 100, 'y': 200}\n",
      "poped the last item: {'a': 1, 'b': 2, 'c': 3, 'x': 100}\n"
     ]
    }
   ],
   "source": [
    "# pop last item\n",
    "\n",
    "d = {'a': 1, 'b': 2, 'c': 3, 'x': 100, 'y': 200}\n",
    "print('start:', d)\n",
    "d.popitem()\n",
    "print('poped the last item:', d)\n"
   ]
  },
  {
   "cell_type": "code",
   "execution_count": 307,
   "metadata": {
    "cell_id": "00342-f1393439-6a86-4236-878b-266d16fdc854",
    "execution_millis": 1,
    "execution_start": 1603774647266,
    "output_cleared": false,
    "source_hash": "b3e42287",
    "tags": []
   },
   "outputs": [
    {
     "name": "stdout",
     "output_type": "stream",
     "text": [
      "start: {'a': 1, 'b': 2, 'c': 3, 'x': 100, 'y': 200}\n",
      "a\n",
      "poped the first item: {'b': 2, 'c': 3, 'x': 100, 'y': 200}\n"
     ]
    }
   ],
   "source": [
    "# pop first item\n",
    "\n",
    "d = {'a': 1, 'b': 2, 'c': 3, 'x': 100, 'y': 200}\n",
    "print('start:', d)\n",
    "key = next(iter(d.keys()))\n",
    "print(key)\n",
    "d.pop(key)\n",
    "print('poped the first item:', d)\n"
   ]
  },
  {
   "cell_type": "markdown",
   "metadata": {
    "cell_id": "00343-0ac83403-6edc-4678-bd27-203e248837a1",
    "tags": []
   },
   "source": [
    "## f-Strings"
   ]
  },
  {
   "cell_type": "code",
   "execution_count": 308,
   "metadata": {
    "cell_id": "00343-70634481-578c-42cc-a8fd-db253bbde5d7",
    "execution_millis": 1,
    "execution_start": 1603774683261,
    "output_cleared": false,
    "source_hash": "56f21ba2",
    "tags": []
   },
   "outputs": [
    {
     "data": {
      "text/plain": [
       "'10 % 3 = 1'"
      ]
     },
     "execution_count": 308,
     "metadata": {},
     "output_type": "execute_result"
    }
   ],
   "source": [
    "'{} % {} = {}'.format(10, 3, 10%3)"
   ]
  },
  {
   "cell_type": "code",
   "execution_count": 309,
   "metadata": {
    "cell_id": "00345-56e7f70a-f717-4e73-8725-1184ae87401e",
    "execution_millis": 3,
    "execution_start": 1603774686670,
    "output_cleared": false,
    "source_hash": "67ab8b8a",
    "tags": []
   },
   "outputs": [
    {
     "data": {
      "text/plain": [
       "'10 % 3 = 1'"
      ]
     },
     "execution_count": 309,
     "metadata": {},
     "output_type": "execute_result"
    }
   ],
   "source": [
    "'{1} % {2} = {0}'.format(10%3, 10, 3)"
   ]
  },
  {
   "cell_type": "code",
   "execution_count": 310,
   "metadata": {
    "cell_id": "00346-fdc63c3c-33a1-475d-9073-0ffa2d95704f",
    "execution_millis": 1,
    "execution_start": 1603774691438,
    "output_cleared": false,
    "source_hash": "d1cf14f",
    "tags": []
   },
   "outputs": [
    {
     "data": {
      "text/plain": [
       "'10 % 3 = 1'"
      ]
     },
     "execution_count": 310,
     "metadata": {},
     "output_type": "execute_result"
    }
   ],
   "source": [
    "'{a} % {b} = {mod}'.format(mod = 10%3, a=10, b=3)"
   ]
  },
  {
   "cell_type": "code",
   "execution_count": 311,
   "metadata": {
    "cell_id": "00347-719df8af-c58e-45b4-a0c3-9f05c7703846",
    "execution_millis": 2,
    "execution_start": 1603774740601,
    "output_cleared": false,
    "source_hash": "820085f8",
    "tags": []
   },
   "outputs": [
    {
     "data": {
      "text/plain": [
       "'10 %3 = 1'"
      ]
     },
     "execution_count": 311,
     "metadata": {},
     "output_type": "execute_result"
    }
   ],
   "source": [
    "# but too much of typing\n",
    "\n",
    "a = 10\n",
    "b = 3\n",
    "\n",
    "f'{a} %{b} = {a % b}' "
   ]
  },
  {
   "cell_type": "code",
   "execution_count": 312,
   "metadata": {
    "cell_id": "00348-86e022aa-77fc-4b10-85d9-39bf79893ab4",
    "execution_millis": 1,
    "execution_start": 1603774755703,
    "output_cleared": false,
    "source_hash": "6a7daddf",
    "tags": []
   },
   "outputs": [
    {
     "data": {
      "text/plain": [
       "'3.3333333333333335'"
      ]
     },
     "execution_count": 312,
     "metadata": {},
     "output_type": "execute_result"
    }
   ],
   "source": [
    "f'{a/b}'"
   ]
  },
  {
   "cell_type": "code",
   "execution_count": 313,
   "metadata": {
    "cell_id": "00349-3b0f6a6e-e9a5-47a0-a0ad-1c747c075d7f",
    "execution_millis": 2,
    "execution_start": 1603774755766,
    "output_cleared": false,
    "source_hash": "85100c53",
    "tags": []
   },
   "outputs": [
    {
     "data": {
      "text/plain": [
       "'3.33333'"
      ]
     },
     "execution_count": 313,
     "metadata": {},
     "output_type": "execute_result"
    }
   ],
   "source": [
    "f'{a/b:0.5f}'\n"
   ]
  },
  {
   "cell_type": "code",
   "execution_count": 314,
   "metadata": {
    "cell_id": "00350-faec6809-78e6-45c8-b7fe-cc380966718e",
    "execution_millis": 8,
    "execution_start": 1603774761445,
    "output_cleared": false,
    "source_hash": "b8bef9df",
    "tags": []
   },
   "outputs": [
    {
     "data": {
      "text/plain": [
       "'Python rocks!'"
      ]
     },
     "execution_count": 314,
     "metadata": {},
     "output_type": "execute_result"
    }
   ],
   "source": [
    "name = 'Python'\n",
    "\n",
    "f'{name} rocks!'\n"
   ]
  },
  {
   "cell_type": "code",
   "execution_count": 315,
   "metadata": {
    "cell_id": "00351-69af2612-7587-4e29-af54-e684b75b7362",
    "execution_millis": 1,
    "execution_start": 1603774766485,
    "output_cleared": false,
    "source_hash": "96600869",
    "tags": []
   },
   "outputs": [
    {
     "name": "stdout",
     "output_type": "stream",
     "text": [
      "10\n",
      "100\n"
     ]
    }
   ],
   "source": [
    "# abuse\n",
    "\n",
    "sq = lambda x: x**2\n",
    "\n",
    "a = 10\n",
    "b =1\n",
    "print(f'{sq(a) if b > 5 else a}')\n",
    "b = 10\n",
    "print(f'{sq(a) if b > 5 else a}')"
   ]
  },
  {
   "cell_type": "code",
   "execution_count": 316,
   "metadata": {
    "cell_id": "00352-d669cc0b-c6bb-4065-8d06-dd44c08f012b",
    "execution_millis": 2,
    "execution_start": 1603774771271,
    "output_cleared": false,
    "source_hash": "88aca098",
    "tags": []
   },
   "outputs": [
    {
     "name": "stdout",
     "output_type": "stream",
     "text": [
      "10\n",
      "100\n"
     ]
    }
   ],
   "source": [
    "b =1\n",
    "print(f'{(lambda x: x**2)(a) if b > 5 else a}')\n",
    "b = 10\n",
    "print(f'{(lambda x: x**2)(a) if b > 5 else a}')"
   ]
  },
  {
   "cell_type": "markdown",
   "metadata": {
    "cell_id": "00353-e1506ba4-ee5c-40aa-9a71-7bb4787e5b0c",
    "tags": []
   },
   "source": [
    "# Random Seeds\n",
    "\n",
    "The random module provides a variety of functions related to (pseudo) random numbers. \n",
    "\n",
    "The problem when you use random numbers in your code is that it can be difficult to debug because the same rasndom number sequence is not the same from run to run of your program. If your code fails somewhere in the middle of a run it is difficult to make the problem repeatable. Debugging intermittent and non-repeatable failures is one of the worst things to do!\n",
    "\n",
    "Fortunately, when using the random module, we can set the seedf for the random underlying random number generator. \n",
    "\n",
    "Random numbers are not truly random. They are generated in such a way that the numbers appear random and evenly distributed, but in fact they are being generated using a specific algorithm. \n",
    "\n",
    "That algorithm depends on a seed value. That seed value will determine the exact sequence of randomly generated numbers (so as you can see, it's not truly random). Setting different seeds will result in different random sequences, but setting the seed to the same value will result in the same sequence bring generated. \n",
    "\n",
    "By, default, the seed uses the system time, hence every time you run your program a different seed is set. But we can easily set the seed to something specific - very useful for debugging purposes."
   ]
  },
  {
   "cell_type": "code",
   "execution_count": 317,
   "metadata": {
    "cell_id": "00353-deba4878-e9bf-443d-8a7e-307cc6026383",
    "execution_millis": 1,
    "execution_start": 1603774785375,
    "output_cleared": false,
    "source_hash": "89047012",
    "tags": []
   },
   "outputs": [],
   "source": [
    "import random"
   ]
  },
  {
   "cell_type": "code",
   "execution_count": 318,
   "metadata": {
    "cell_id": "00355-fd3574ea-d8ef-4b1d-8fd4-758bc2ca6ef7",
    "execution_millis": 3,
    "execution_start": 1603774789189,
    "output_cleared": false,
    "source_hash": "6bd1185b",
    "tags": []
   },
   "outputs": [
    {
     "name": "stdout",
     "output_type": "stream",
     "text": [
      "15 0.589825803036253\n",
      "10 0.06911692141402681\n",
      "16 0.6727498767183411\n",
      "16 0.18012851625449788\n",
      "10 0.1564741269554345\n",
      "11 0.1990469541487574\n",
      "14 0.5794524965526909\n",
      "14 0.24741583364698683\n",
      "19 0.8249716210153841\n",
      "14 0.9296664338794638\n"
     ]
    }
   ],
   "source": [
    "for _ in range(10):\n",
    "    print(random.randint(10, 20), random.random())"
   ]
  },
  {
   "cell_type": "code",
   "execution_count": 319,
   "metadata": {
    "cell_id": "00356-67e78415-81c9-480d-b9a1-7d5ae40b7e77",
    "execution_millis": 3,
    "execution_start": 1603774792567,
    "output_cleared": false,
    "source_hash": "6bd1185b",
    "tags": []
   },
   "outputs": [
    {
     "name": "stdout",
     "output_type": "stream",
     "text": [
      "15 0.5724279978962451\n",
      "12 0.021348075863002247\n",
      "16 0.6148344485628161\n",
      "16 0.726993454187278\n",
      "18 0.713821718491847\n",
      "16 0.42172626818319614\n",
      "18 0.10895612918490338\n",
      "17 0.9107189339777257\n",
      "11 0.8873144096220583\n",
      "16 0.16149964794384264\n"
     ]
    }
   ],
   "source": [
    "for _ in range(10):\n",
    "    print(random.randint(10, 20), random.random())"
   ]
  },
  {
   "cell_type": "code",
   "execution_count": 320,
   "metadata": {
    "cell_id": "00357-dee5b026-19a6-44a0-8282-fda04f38d311",
    "execution_millis": 1,
    "execution_start": 1603774802100,
    "output_cleared": false,
    "source_hash": "f949e109",
    "tags": []
   },
   "outputs": [
    {
     "name": "stdout",
     "output_type": "stream",
     "text": [
      "16 0.7579544029403025\n",
      "16 0.04048437818077755\n",
      "18 0.48592769656281265\n",
      "14 0.9677999949201714\n",
      "15 0.5833820394550312\n",
      "13 0.5046868558173903\n",
      "14 0.1397457849666789\n",
      "11 0.6183689966753316\n",
      "14 0.9872592010330129\n",
      "18 0.9827854760376531\n"
     ]
    }
   ],
   "source": [
    "random.seed(0)\n",
    "\n",
    "for _ in range(10):\n",
    "    print(random.randint(10, 20), random.random())"
   ]
  },
  {
   "cell_type": "code",
   "execution_count": 321,
   "metadata": {
    "cell_id": "00358-eca5fbef-540a-4d9e-8c49-fc7d2f08c282",
    "execution_millis": 2,
    "execution_start": 1603774806483,
    "output_cleared": false,
    "source_hash": "6bd1185b",
    "tags": []
   },
   "outputs": [
    {
     "name": "stdout",
     "output_type": "stream",
     "text": [
      "19 0.9021659504395827\n",
      "14 0.09876334465914771\n",
      "11 0.8988382879679935\n",
      "20 0.33019721859799855\n",
      "18 0.1007012080683658\n",
      "16 0.31619669952159346\n",
      "20 0.9130110532378982\n",
      "18 0.47700977655271704\n",
      "18 0.2604923103919594\n",
      "18 0.9159944803568847\n"
     ]
    }
   ],
   "source": [
    "for _ in range(10):\n",
    "    print(random.randint(10, 20), random.random())"
   ]
  },
  {
   "cell_type": "code",
   "execution_count": 322,
   "metadata": {
    "cell_id": "00359-f44af417-e8a0-4fc5-9f9f-da8dd28d6db2",
    "execution_millis": 3,
    "execution_start": 1603774811726,
    "output_cleared": false,
    "source_hash": "39ae12ab",
    "tags": []
   },
   "outputs": [],
   "source": [
    "# this time its different because we are generating \"second\" set of 10 randome numbers. \n",
    "# to get repeatability this is what we need to do"
   ]
  },
  {
   "cell_type": "code",
   "execution_count": 325,
   "metadata": {
    "cell_id": "00360-659fda30-44db-4781-a903-b8a9a5baf23d",
    "execution_millis": 2,
    "execution_start": 1603774815385,
    "output_cleared": false,
    "source_hash": "9eb877d5",
    "tags": []
   },
   "outputs": [
    {
     "name": "stdout",
     "output_type": "stream",
     "text": [
      "16 0.7579544029403025\n",
      "16 0.04048437818077755\n",
      "18 0.48592769656281265\n",
      "14 0.9677999949201714\n",
      "15 0.5833820394550312\n",
      "13 0.5046868558173903\n",
      "14 0.1397457849666789\n",
      "11 0.6183689966753316\n",
      "14 0.9872592010330129\n",
      "18 0.9827854760376531\n"
     ]
    }
   ],
   "source": [
    "random.seed(0)\n",
    "for _ in range(10):\n",
    "    print(random.randint(10, 20), random.random())"
   ]
  },
  {
   "cell_type": "code",
   "execution_count": 326,
   "metadata": {
    "cell_id": "00361-140dc507-4cd7-46af-aad6-4aaea948e433",
    "execution_millis": 2,
    "execution_start": 1603774820042,
    "output_cleared": false,
    "source_hash": "9eb877d5",
    "tags": []
   },
   "outputs": [
    {
     "name": "stdout",
     "output_type": "stream",
     "text": [
      "16 0.7579544029403025\n",
      "16 0.04048437818077755\n",
      "18 0.48592769656281265\n",
      "14 0.9677999949201714\n",
      "15 0.5833820394550312\n",
      "13 0.5046868558173903\n",
      "14 0.1397457849666789\n",
      "11 0.6183689966753316\n",
      "14 0.9872592010330129\n",
      "18 0.9827854760376531\n"
     ]
    }
   ],
   "source": [
    "random.seed(0)\n",
    "for _ in range(10):\n",
    "    print(random.randint(10, 20), random.random())"
   ]
  },
  {
   "cell_type": "code",
   "execution_count": 327,
   "metadata": {
    "cell_id": "00362-1ec8ef50-6455-4991-86f7-2f04f71c210d",
    "execution_millis": 1,
    "execution_start": 1603774845485,
    "output_cleared": false,
    "source_hash": "9293f18e",
    "tags": []
   },
   "outputs": [
    {
     "data": {
      "text/plain": [
       "50"
      ]
     },
     "execution_count": 327,
     "metadata": {},
     "output_type": "execute_result"
    }
   ],
   "source": [
    "import random\n",
    "\n",
    "l = [10, 20, 30, 40, 50]\n",
    "\n",
    "random.choice(l)"
   ]
  },
  {
   "cell_type": "code",
   "execution_count": 328,
   "metadata": {
    "cell_id": "00363-6b45b79e-cb6d-4cfd-8835-70cf6cc0f529",
    "execution_millis": 2,
    "execution_start": 1603774849788,
    "output_cleared": false,
    "source_hash": "d88a22f8",
    "tags": []
   },
   "outputs": [
    {
     "data": {
      "text/plain": [
       "[20, 30, 10, 10, 30]"
      ]
     },
     "execution_count": 328,
     "metadata": {},
     "output_type": "execute_result"
    }
   ],
   "source": [
    "[random.choice(l) for _ in range(5)]"
   ]
  },
  {
   "cell_type": "code",
   "execution_count": 329,
   "metadata": {
    "cell_id": "00364-cd2ea51c-757d-4f82-844b-871c5db58630",
    "execution_millis": 2,
    "execution_start": 1603774855061,
    "output_cleared": false,
    "source_hash": "c9bdbebd",
    "tags": []
   },
   "outputs": [
    {
     "name": "stdout",
     "output_type": "stream",
     "text": [
      "['b', 'a', 'b', 'b', 'c']\n",
      "['c', 'b', 'c', 'a', 'c']\n",
      "['b', 'a', 'c', 'b', 'c']\n",
      "['c', 'a', 'b', 'c', 'a']\n",
      "['a', 'c', 'a', 'b', 'a']\n",
      "['c', 'c', 'b', 'a', 'a']\n",
      "['b', 'c', 'a', 'b', 'c']\n",
      "['b', 'c', 'b', 'c', 'b']\n",
      "['b', 'b', 'b', 'b', 'b']\n",
      "['a', 'a', 'a', 'b', 'b']\n"
     ]
    }
   ],
   "source": [
    "l = ['a', 'b', 'c']\n",
    "\n",
    "# weights\n",
    "\n",
    "for _ in range(10):\n",
    "    print(random.choices(l, k=5))"
   ]
  },
  {
   "cell_type": "code",
   "execution_count": 330,
   "metadata": {
    "cell_id": "00365-4bb20f61-c5e8-43a3-8084-266edc56888a",
    "execution_millis": 1,
    "execution_start": 1603774863567,
    "output_cleared": false,
    "source_hash": "b7ed331f",
    "tags": []
   },
   "outputs": [
    {
     "name": "stdout",
     "output_type": "stream",
     "text": [
      "['a', 'a', 'a', 'b', 'c']\n",
      "['b', 'b', 'c', 'a', 'a']\n",
      "['a', 'a', 'a', 'b', 'b']\n",
      "['a', 'c', 'a', 'a', 'a']\n",
      "['c', 'c', 'a', 'a', 'a']\n",
      "['a', 'a', 'b', 'a', 'a']\n",
      "['a', 'a', 'a', 'a', 'a']\n",
      "['a', 'a', 'a', 'a', 'a']\n",
      "['b', 'a', 'a', 'a', 'a']\n",
      "['a', 'a', 'a', 'a', 'c']\n"
     ]
    }
   ],
   "source": [
    "weights = [10, 1, 1]\n",
    "for _ in range(10):\n",
    "    print(random.choices(l, k=5, weights=weights))"
   ]
  },
  {
   "cell_type": "code",
   "execution_count": 331,
   "metadata": {
    "cell_id": "00366-563c68a1-87af-4f96-8e40-494eceaf6b5b",
    "execution_millis": 1,
    "execution_start": 1603774966922,
    "output_cleared": false,
    "source_hash": "5f6ab4c6",
    "tags": []
   },
   "outputs": [
    {
     "data": {
      "text/plain": [
       "[0, 0, 9, 1, 1]"
      ]
     },
     "execution_count": 331,
     "metadata": {},
     "output_type": "execute_result"
    }
   ],
   "source": [
    "l = list(range(10))\n",
    "\n",
    "random.choices(l, k = 5)"
   ]
  },
  {
   "cell_type": "code",
   "execution_count": 332,
   "metadata": {
    "cell_id": "00367-c346f84e-16c7-44fa-b48a-b8db303510f5",
    "execution_millis": 1,
    "execution_start": 1603774975365,
    "output_cleared": false,
    "source_hash": "3232b8c2",
    "tags": []
   },
   "outputs": [
    {
     "data": {
      "text/plain": [
       "[3, 0, 8, 4, 9]"
      ]
     },
     "execution_count": 332,
     "metadata": {},
     "output_type": "execute_result"
    }
   ],
   "source": [
    "# you can see we have a repetition\n",
    "\n",
    "random.sample(l, k=5)"
   ]
  },
  {
   "cell_type": "markdown",
   "metadata": {
    "cell_id": "00368-60260a6c-264e-408d-a166-86fb9fc282df",
    "tags": []
   },
   "source": [
    "# Timing code using timeit\n",
    "\n",
    "The timeit module in Python is an alternative that works well for some things. It is a little more compilcated because it runs 'outside' our local namespace and you have to pass just small snippets of code to it, and you also have to make is aware of your global or local scope if that's needed by the code you want to time. \n",
    "\n",
    "one thing it does that we did not do was temporarily disable the garbage collector. "
   ]
  },
  {
   "cell_type": "code",
   "execution_count": 333,
   "metadata": {
    "cell_id": "00368-a95d7550-9024-4d6c-acfc-332cade2c868",
    "execution_millis": 14,
    "execution_start": 1603775005490,
    "output_cleared": false,
    "source_hash": "560846ea",
    "tags": []
   },
   "outputs": [
    {
     "name": "stdout",
     "output_type": "stream",
     "text": [
      "Help on function timeit in module timeit:\n",
      "\n",
      "timeit(stmt='pass', setup='pass', timer=<built-in function perf_counter>, number=1000000, globals=None)\n",
      "    Convenience function to create Timer object and call timeit method.\n",
      "\n"
     ]
    }
   ],
   "source": [
    "from timeit import timeit\n",
    "\n",
    "help(timeit)"
   ]
  },
  {
   "cell_type": "code",
   "execution_count": 334,
   "metadata": {
    "cell_id": "00370-9ac438a7-6b99-4316-b342-938907c295ff",
    "execution_millis": 0,
    "execution_start": 1603775009627,
    "output_cleared": false,
    "source_hash": "b486880",
    "tags": []
   },
   "outputs": [
    {
     "data": {
      "text/plain": [
       "1.4142135623730951"
      ]
     },
     "execution_count": 334,
     "metadata": {},
     "output_type": "execute_result"
    }
   ],
   "source": [
    "import math\n",
    "math.sqrt(2)"
   ]
  },
  {
   "cell_type": "code",
   "execution_count": 335,
   "metadata": {
    "cell_id": "00371-0acea2aa-1c5d-4378-9e81-85d6f14070f8",
    "execution_millis": 2,
    "execution_start": 1603775014449,
    "output_cleared": false,
    "source_hash": "88c0f0fe",
    "tags": []
   },
   "outputs": [
    {
     "data": {
      "text/plain": [
       "1.4142135623730951"
      ]
     },
     "execution_count": 335,
     "metadata": {},
     "output_type": "execute_result"
    }
   ],
   "source": [
    "from math import sqrt\n",
    "sqrt(2)"
   ]
  },
  {
   "cell_type": "code",
   "execution_count": 336,
   "metadata": {
    "cell_id": "00372-ab894baa-2791-49b0-ad63-6a23a068f093",
    "execution_millis": 12,
    "execution_start": 1603775020175,
    "output_cleared": false,
    "source_hash": "f786d2e9",
    "tags": []
   },
   "outputs": [
    {
     "ename": "NameError",
     "evalue": "name 'math' is not defined",
     "output_type": "error",
     "traceback": [
      "\u001b[0;31m---------------------------------------------------------------------------\u001b[0m",
      "\u001b[0;31mNameError\u001b[0m                                 Traceback (most recent call last)",
      "\u001b[0;32m<ipython-input-336-bf143366d9f4>\u001b[0m in \u001b[0;36m<module>\u001b[0;34m\u001b[0m\n\u001b[0;32m----> 1\u001b[0;31m \u001b[0mtimeit\u001b[0m\u001b[0;34m(\u001b[0m\u001b[0mstmt\u001b[0m\u001b[0;34m=\u001b[0m\u001b[0;34m'math.sqrt(2)'\u001b[0m\u001b[0;34m)\u001b[0m\u001b[0;34m\u001b[0m\u001b[0;34m\u001b[0m\u001b[0m\n\u001b[0m",
      "\u001b[0;32m~/anaconda3/lib/python3.8/timeit.py\u001b[0m in \u001b[0;36mtimeit\u001b[0;34m(stmt, setup, timer, number, globals)\u001b[0m\n\u001b[1;32m    231\u001b[0m            number=default_number, globals=None):\n\u001b[1;32m    232\u001b[0m     \u001b[0;34m\"\"\"Convenience function to create Timer object and call timeit method.\"\"\"\u001b[0m\u001b[0;34m\u001b[0m\u001b[0;34m\u001b[0m\u001b[0m\n\u001b[0;32m--> 233\u001b[0;31m     \u001b[0;32mreturn\u001b[0m \u001b[0mTimer\u001b[0m\u001b[0;34m(\u001b[0m\u001b[0mstmt\u001b[0m\u001b[0;34m,\u001b[0m \u001b[0msetup\u001b[0m\u001b[0;34m,\u001b[0m \u001b[0mtimer\u001b[0m\u001b[0;34m,\u001b[0m \u001b[0mglobals\u001b[0m\u001b[0;34m)\u001b[0m\u001b[0;34m.\u001b[0m\u001b[0mtimeit\u001b[0m\u001b[0;34m(\u001b[0m\u001b[0mnumber\u001b[0m\u001b[0;34m)\u001b[0m\u001b[0;34m\u001b[0m\u001b[0;34m\u001b[0m\u001b[0m\n\u001b[0m\u001b[1;32m    234\u001b[0m \u001b[0;34m\u001b[0m\u001b[0m\n\u001b[1;32m    235\u001b[0m def repeat(stmt=\"pass\", setup=\"pass\", timer=default_timer,\n",
      "\u001b[0;32m~/anaconda3/lib/python3.8/timeit.py\u001b[0m in \u001b[0;36mtimeit\u001b[0;34m(self, number)\u001b[0m\n\u001b[1;32m    175\u001b[0m         \u001b[0mgc\u001b[0m\u001b[0;34m.\u001b[0m\u001b[0mdisable\u001b[0m\u001b[0;34m(\u001b[0m\u001b[0;34m)\u001b[0m\u001b[0;34m\u001b[0m\u001b[0;34m\u001b[0m\u001b[0m\n\u001b[1;32m    176\u001b[0m         \u001b[0;32mtry\u001b[0m\u001b[0;34m:\u001b[0m\u001b[0;34m\u001b[0m\u001b[0;34m\u001b[0m\u001b[0m\n\u001b[0;32m--> 177\u001b[0;31m             \u001b[0mtiming\u001b[0m \u001b[0;34m=\u001b[0m \u001b[0mself\u001b[0m\u001b[0;34m.\u001b[0m\u001b[0minner\u001b[0m\u001b[0;34m(\u001b[0m\u001b[0mit\u001b[0m\u001b[0;34m,\u001b[0m \u001b[0mself\u001b[0m\u001b[0;34m.\u001b[0m\u001b[0mtimer\u001b[0m\u001b[0;34m)\u001b[0m\u001b[0;34m\u001b[0m\u001b[0;34m\u001b[0m\u001b[0m\n\u001b[0m\u001b[1;32m    178\u001b[0m         \u001b[0;32mfinally\u001b[0m\u001b[0;34m:\u001b[0m\u001b[0;34m\u001b[0m\u001b[0;34m\u001b[0m\u001b[0m\n\u001b[1;32m    179\u001b[0m             \u001b[0;32mif\u001b[0m \u001b[0mgcold\u001b[0m\u001b[0;34m:\u001b[0m\u001b[0;34m\u001b[0m\u001b[0;34m\u001b[0m\u001b[0m\n",
      "\u001b[0;32m~/anaconda3/lib/python3.8/timeit.py\u001b[0m in \u001b[0;36minner\u001b[0;34m(_it, _timer)\u001b[0m\n",
      "\u001b[0;31mNameError\u001b[0m: name 'math' is not defined"
     ]
    }
   ],
   "source": [
    "timeit(stmt='math.sqrt(2)')"
   ]
  },
  {
   "cell_type": "code",
   "execution_count": 337,
   "metadata": {
    "cell_id": "00373-ae099156-912e-4554-94ef-9acdecd911c9",
    "execution_millis": 192,
    "execution_start": 1603775028559,
    "output_cleared": false,
    "source_hash": "a66fb116",
    "tags": []
   },
   "outputs": [
    {
     "data": {
      "text/plain": [
       "0.1623304429995187"
      ]
     },
     "execution_count": 337,
     "metadata": {},
     "output_type": "execute_result"
    }
   ],
   "source": [
    "# timeit has it's own scope.. and needs to be told about stuff we..\n",
    "\n",
    "# not a good way\n",
    "timeit(stmt='import math\\nmath.sqrt(2)')\n",
    "# remember this will run million times"
   ]
  },
  {
   "cell_type": "code",
   "execution_count": 338,
   "metadata": {
    "cell_id": "00374-88f8d99b-c9d9-41be-9f1a-281262513ee0",
    "execution_millis": 10,
    "execution_start": 1603775036973,
    "output_cleared": false,
    "source_hash": "fddbb407",
    "tags": []
   },
   "outputs": [
    {
     "data": {
      "text/plain": [
       "0.0638044359984633"
      ]
     },
     "execution_count": 338,
     "metadata": {},
     "output_type": "execute_result"
    }
   ],
   "source": [
    "# above is bad because we are importing math million times as well\n",
    "\n",
    "timeit(stmt='math.sqrt(2)', setup='import math')"
   ]
  },
  {
   "cell_type": "code",
   "execution_count": 339,
   "metadata": {
    "cell_id": "00375-cdd6df5e-d89a-4e51-9c82-f8a869312761",
    "execution_millis": 15,
    "execution_start": 1603775041524,
    "output_cleared": false,
    "source_hash": "617008fc",
    "tags": []
   },
   "outputs": [
    {
     "data": {
      "text/plain": [
       "0.043327692001184914"
      ]
     },
     "execution_count": 339,
     "metadata": {},
     "output_type": "execute_result"
    }
   ],
   "source": [
    "timeit(stmt='sqrt(2)', setup='from math import sqrt')"
   ]
  },
  {
   "cell_type": "code",
   "execution_count": null,
   "metadata": {
    "cell_id": "00376-911bd43d-96b6-409a-bdfe-ec5ae2bfdbff",
    "tags": []
   },
   "outputs": [],
   "source": []
  }
 ],
 "metadata": {
  "deepnote_execution_queue": [],
  "deepnote_notebook_id": "2f4b8b2c-e6f0-476d-9a85-5942566e9eb5",
  "kernelspec": {
   "display_name": "Python 3",
   "language": "python",
   "name": "python3"
  },
  "language_info": {
   "codemirror_mode": {
    "name": "ipython",
    "version": 3
   },
   "file_extension": ".py",
   "mimetype": "text/x-python",
   "name": "python",
   "nbconvert_exporter": "python",
   "pygments_lexer": "ipython3",
   "version": "3.8.5"
  }
 },
 "nbformat": 4,
 "nbformat_minor": 2
}
