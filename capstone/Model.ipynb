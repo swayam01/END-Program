{
 "cells": [
  {
   "cell_type": "code",
   "execution_count": 3,
   "metadata": {
    "id": "LJVyVrloxtU0"
   },
   "outputs": [],
   "source": [
    "import torch\n",
    "import torch.nn as nn\n",
    "import torch.optim as optim\n",
    "\n",
    "import torchtext\n",
    "from torchtext.legacy.data import Field, BucketIterator, Example, Dataset\n",
    "\n",
    "import matplotlib.pyplot as plt\n",
    "import matplotlib.ticker as ticker\n",
    "\n",
    "import spacy\n",
    "import numpy as np\n",
    "import pandas as pd\n",
    "import re\n",
    "\n",
    "import random\n",
    "import math\n",
    "import time\n",
    "from sklearn.model_selection import train_test_split\n",
    "import tokenize\n",
    "from io import BytesIO"
   ]
  },
  {
   "cell_type": "code",
   "execution_count": 4,
   "metadata": {
    "id": "CD6T3VORx-Ak"
   },
   "outputs": [],
   "source": [
    "SEED = 1234\n",
    "\n",
    "random.seed(SEED)\n",
    "np.random.seed(SEED)\n",
    "torch.manual_seed(SEED)\n",
    "torch.cuda.manual_seed(SEED)\n",
    "torch.backends.cudnn.deterministic = True"
   ]
  },
  {
   "cell_type": "code",
   "execution_count": 5,
   "metadata": {
    "colab": {
     "base_uri": "https://localhost:8080/"
    },
    "id": "dZf2qzPKyFc2",
    "outputId": "15713bf2-82b7-401e-d7cb-25b8c54d038e"
   },
   "outputs": [
    {
     "name": "stdout",
     "output_type": "stream",
     "text": [
      "Requirement already satisfied: en_core_web_sm==2.2.5 from https://github.com/explosion/spacy-models/releases/download/en_core_web_sm-2.2.5/en_core_web_sm-2.2.5.tar.gz#egg=en_core_web_sm==2.2.5 in /usr/local/lib/python3.7/dist-packages (2.2.5)\n",
      "Requirement already satisfied: spacy>=2.2.2 in /usr/local/lib/python3.7/dist-packages (from en_core_web_sm==2.2.5) (2.2.4)\n",
      "Requirement already satisfied: requests<3.0.0,>=2.13.0 in /usr/local/lib/python3.7/dist-packages (from spacy>=2.2.2->en_core_web_sm==2.2.5) (2.23.0)\n",
      "Requirement already satisfied: plac<1.2.0,>=0.9.6 in /usr/local/lib/python3.7/dist-packages (from spacy>=2.2.2->en_core_web_sm==2.2.5) (1.1.3)\n",
      "Requirement already satisfied: numpy>=1.15.0 in /usr/local/lib/python3.7/dist-packages (from spacy>=2.2.2->en_core_web_sm==2.2.5) (1.19.5)\n",
      "Requirement already satisfied: srsly<1.1.0,>=1.0.2 in /usr/local/lib/python3.7/dist-packages (from spacy>=2.2.2->en_core_web_sm==2.2.5) (1.0.5)\n",
      "Requirement already satisfied: thinc==7.4.0 in /usr/local/lib/python3.7/dist-packages (from spacy>=2.2.2->en_core_web_sm==2.2.5) (7.4.0)\n",
      "Requirement already satisfied: murmurhash<1.1.0,>=0.28.0 in /usr/local/lib/python3.7/dist-packages (from spacy>=2.2.2->en_core_web_sm==2.2.5) (1.0.5)\n",
      "Requirement already satisfied: preshed<3.1.0,>=3.0.2 in /usr/local/lib/python3.7/dist-packages (from spacy>=2.2.2->en_core_web_sm==2.2.5) (3.0.5)\n",
      "Requirement already satisfied: cymem<2.1.0,>=2.0.2 in /usr/local/lib/python3.7/dist-packages (from spacy>=2.2.2->en_core_web_sm==2.2.5) (2.0.5)\n",
      "Requirement already satisfied: wasabi<1.1.0,>=0.4.0 in /usr/local/lib/python3.7/dist-packages (from spacy>=2.2.2->en_core_web_sm==2.2.5) (0.8.2)\n",
      "Requirement already satisfied: catalogue<1.1.0,>=0.0.7 in /usr/local/lib/python3.7/dist-packages (from spacy>=2.2.2->en_core_web_sm==2.2.5) (1.0.0)\n",
      "Requirement already satisfied: setuptools in /usr/local/lib/python3.7/dist-packages (from spacy>=2.2.2->en_core_web_sm==2.2.5) (54.1.2)\n",
      "Requirement already satisfied: tqdm<5.0.0,>=4.38.0 in /usr/local/lib/python3.7/dist-packages (from spacy>=2.2.2->en_core_web_sm==2.2.5) (4.41.1)\n",
      "Requirement already satisfied: blis<0.5.0,>=0.4.0 in /usr/local/lib/python3.7/dist-packages (from spacy>=2.2.2->en_core_web_sm==2.2.5) (0.4.1)\n",
      "Requirement already satisfied: urllib3!=1.25.0,!=1.25.1,<1.26,>=1.21.1 in /usr/local/lib/python3.7/dist-packages (from requests<3.0.0,>=2.13.0->spacy>=2.2.2->en_core_web_sm==2.2.5) (1.24.3)\n",
      "Requirement already satisfied: certifi>=2017.4.17 in /usr/local/lib/python3.7/dist-packages (from requests<3.0.0,>=2.13.0->spacy>=2.2.2->en_core_web_sm==2.2.5) (2020.12.5)\n",
      "Requirement already satisfied: chardet<4,>=3.0.2 in /usr/local/lib/python3.7/dist-packages (from requests<3.0.0,>=2.13.0->spacy>=2.2.2->en_core_web_sm==2.2.5) (3.0.4)\n",
      "Requirement already satisfied: idna<3,>=2.5 in /usr/local/lib/python3.7/dist-packages (from requests<3.0.0,>=2.13.0->spacy>=2.2.2->en_core_web_sm==2.2.5) (2.10)\n",
      "Requirement already satisfied: importlib-metadata>=0.20; python_version < \"3.8\" in /usr/local/lib/python3.7/dist-packages (from catalogue<1.1.0,>=0.0.7->spacy>=2.2.2->en_core_web_sm==2.2.5) (3.7.2)\n",
      "Requirement already satisfied: typing-extensions>=3.6.4; python_version < \"3.8\" in /usr/local/lib/python3.7/dist-packages (from importlib-metadata>=0.20; python_version < \"3.8\"->catalogue<1.1.0,>=0.0.7->spacy>=2.2.2->en_core_web_sm==2.2.5) (3.7.4.3)\n",
      "Requirement already satisfied: zipp>=0.5 in /usr/local/lib/python3.7/dist-packages (from importlib-metadata>=0.20; python_version < \"3.8\"->catalogue<1.1.0,>=0.0.7->spacy>=2.2.2->en_core_web_sm==2.2.5) (3.4.1)\n",
      "\u001b[38;5;2m✔ Download and installation successful\u001b[0m\n",
      "You can now load the model via spacy.load('en_core_web_sm')\n",
      "\u001b[38;5;2m✔ Linking successful\u001b[0m\n",
      "/usr/local/lib/python3.7/dist-packages/en_core_web_sm -->\n",
      "/usr/local/lib/python3.7/dist-packages/spacy/data/en\n",
      "You can now load the model via spacy.load('en')\n"
     ]
    }
   ],
   "source": [
    "!python -m spacy download en"
   ]
  },
  {
   "cell_type": "code",
   "execution_count": 6,
   "metadata": {
    "id": "mM7r4aI4yHrU"
   },
   "outputs": [],
   "source": [
    "lines = []\n",
    "with open('english_python_data.txt', encoding='utf-8') as f:\n",
    "    for counter, line in enumerate(f):\n",
    "            lines.append(line)\n",
    "#Removing comments with initialize in it \n",
    "comment_re = re.compile(r'#\\s*\\dx\\d\\s*matrix|#\\s*result|#\\s*iterate|#\\s*initialize|#\\s*Driver|#\\s*This function|#\\s*Iterate', \n",
    "                        re.IGNORECASE)\n",
    "lines = [x for x in lines if re.search(comment_re, x) is None]"
   ]
  },
  {
   "cell_type": "code",
   "execution_count": 7,
   "metadata": {
    "id": "q5PUgyt7yNYX"
   },
   "outputs": [],
   "source": [
    "example_start_id = [counter for counter,_ in enumerate(lines) if (_.startswith(\"#\") or _.startswith(\" #\")) and (lines[counter-1].strip() == '')]\n",
    "training_examples = []\n",
    "for num, idx in enumerate(example_start_id):\n",
    "    if idx != example_start_id[-1]:\n",
    "        example_dict = {}\n",
    "        example = lines[example_start_id[num]:example_start_id[num+1]]\n",
    "        if (re.search(r\"#\\s*\\d\", example[0], re.IGNORECASE)) and (re.search(r\"#\", example[1], re.IGNORECASE)) is not None:\n",
    "                    example_dict['ques_prompt'] = example[1].strip()\n",
    "                    example_dict['source_code'] = \"\".join(example[2:]).strip()\n",
    "        elif re.search(r'#\\s*In\\[\\d*\\]', \"\".join(example), re.IGNORECASE) is not None:\n",
    "            continue\n",
    "        else:\n",
    "            example_dict['ques_prompt'] = example[0].strip()\n",
    "            example_dict['source_code'] = \"\".join(example[1:]).strip()\n",
    "        training_examples.append(example_dict)\n",
    "    else:\n",
    "        example_dict = {}\n",
    "        example = lines[example_start_id[num]:]\n",
    "        example_dict['ques_prompt'] = example[0].strip()\n",
    "        example_dict['source_code'] = \"\".join(example[1:]).strip()\n",
    "        training_examples.append(example_dict)"
   ]
  },
  {
   "cell_type": "code",
   "execution_count": 8,
   "metadata": {
    "id": "zWDP2kEEyQCN"
   },
   "outputs": [],
   "source": [
    "full_data = pd.DataFrame(training_examples)"
   ]
  },
  {
   "cell_type": "code",
   "execution_count": 9,
   "metadata": {
    "colab": {
     "base_uri": "https://localhost:8080/",
     "height": 194
    },
    "id": "Ems44v4byg64",
    "outputId": "f4614925-8517-4677-816c-cc88881bb725"
   },
   "outputs": [
    {
     "data": {
      "text/html": [
       "<div>\n",
       "<style scoped>\n",
       "    .dataframe tbody tr th:only-of-type {\n",
       "        vertical-align: middle;\n",
       "    }\n",
       "\n",
       "    .dataframe tbody tr th {\n",
       "        vertical-align: top;\n",
       "    }\n",
       "\n",
       "    .dataframe thead th {\n",
       "        text-align: right;\n",
       "    }\n",
       "</style>\n",
       "<table border=\"1\" class=\"dataframe\">\n",
       "  <thead>\n",
       "    <tr style=\"text-align: right;\">\n",
       "      <th></th>\n",
       "      <th>ques_prompt</th>\n",
       "      <th>source_code</th>\n",
       "    </tr>\n",
       "  </thead>\n",
       "  <tbody>\n",
       "    <tr>\n",
       "      <th>0</th>\n",
       "      <td># write a python program to add two numbers</td>\n",
       "      <td>num1 = 1.5\\nnum2 = 6.3\\nsum = num1 + num2\\npri...</td>\n",
       "    </tr>\n",
       "    <tr>\n",
       "      <th>1</th>\n",
       "      <td># write a python function to add two user prov...</td>\n",
       "      <td>def add_two_numbers(num1, num2):\\n    sum = nu...</td>\n",
       "    </tr>\n",
       "    <tr>\n",
       "      <th>2</th>\n",
       "      <td># write a program to find and print the larges...</td>\n",
       "      <td>num1 = 10\\nnum2 = 12\\nnum3 = 14\\nif (num1 &gt;= n...</td>\n",
       "    </tr>\n",
       "    <tr>\n",
       "      <th>3</th>\n",
       "      <td># write a program to find and print the smalle...</td>\n",
       "      <td>num1 = 10\\nnum2 = 12\\nnum3 = 14\\nif (num1 &lt;= n...</td>\n",
       "    </tr>\n",
       "    <tr>\n",
       "      <th>4</th>\n",
       "      <td># Write a python function to merge two given l...</td>\n",
       "      <td>def merge_lists(l1, l2):\\n    return l1 + l2</td>\n",
       "    </tr>\n",
       "  </tbody>\n",
       "</table>\n",
       "</div>"
      ],
      "text/plain": [
       "                                         ques_prompt                                        source_code\n",
       "0        # write a python program to add two numbers  num1 = 1.5\\nnum2 = 6.3\\nsum = num1 + num2\\npri...\n",
       "1  # write a python function to add two user prov...  def add_two_numbers(num1, num2):\\n    sum = nu...\n",
       "2  # write a program to find and print the larges...  num1 = 10\\nnum2 = 12\\nnum3 = 14\\nif (num1 >= n...\n",
       "3  # write a program to find and print the smalle...  num1 = 10\\nnum2 = 12\\nnum3 = 14\\nif (num1 <= n...\n",
       "4  # Write a python function to merge two given l...       def merge_lists(l1, l2):\\n    return l1 + l2"
      ]
     },
     "execution_count": 9,
     "metadata": {
      "tags": []
     },
     "output_type": "execute_result"
    }
   ],
   "source": [
    "full_data.head()"
   ]
  },
  {
   "cell_type": "code",
   "execution_count": 10,
   "metadata": {
    "colab": {
     "base_uri": "https://localhost:8080/"
    },
    "id": "5-UnqkSmzrU6",
    "outputId": "15683c3a-66e5-4e25-e444-2975f3d3df1d"
   },
   "outputs": [
    {
     "data": {
      "text/plain": [
       "(4343, 2)"
      ]
     },
     "execution_count": 10,
     "metadata": {
      "tags": []
     },
     "output_type": "execute_result"
    }
   ],
   "source": [
    "full_data.shape"
   ]
  },
  {
   "cell_type": "code",
   "execution_count": 11,
   "metadata": {
    "colab": {
     "base_uri": "https://localhost:8080/"
    },
    "id": "reuv5IDFz4Le",
    "outputId": "fda2a8cb-d32b-43ec-d16f-12e3aec1f1ba"
   },
   "outputs": [
    {
     "data": {
      "text/plain": [
       "ques_prompt    0\n",
       "source_code    0\n",
       "dtype: int64"
      ]
     },
     "execution_count": 11,
     "metadata": {
      "tags": []
     },
     "output_type": "execute_result"
    }
   ],
   "source": [
    "full_data.isnull().sum()"
   ]
  },
  {
   "cell_type": "code",
   "execution_count": 12,
   "metadata": {
    "colab": {
     "base_uri": "https://localhost:8080/"
    },
    "id": "xE_kLkzpguO2",
    "outputId": "eaf133fd-4b1f-487f-8a60-a086a605a82b"
   },
   "outputs": [
    {
     "data": {
      "text/plain": [
       "247.02000000000044"
      ]
     },
     "execution_count": 12,
     "metadata": {
      "tags": []
     },
     "output_type": "execute_result"
    }
   ],
   "source": [
    "full_data['source_code'].apply(lambda x:len(x)).quantile(0.81)"
   ]
  },
  {
   "cell_type": "code",
   "execution_count": 13,
   "metadata": {
    "colab": {
     "base_uri": "https://localhost:8080/"
    },
    "id": "1r8S1idqhs-7",
    "outputId": "86cd3e67-b631-4142-9391-0afad959a67d"
   },
   "outputs": [
    {
     "data": {
      "text/plain": [
       "Int64Index([   5,    7,   53,   62,   74,  101,  177,  181,  193,  197,\n",
       "            ...\n",
       "            4282, 4295, 4304, 4317, 4318, 4319, 4320, 4321, 4322, 4323],\n",
       "           dtype='int64', length=808)"
      ]
     },
     "execution_count": 13,
     "metadata": {
      "tags": []
     },
     "output_type": "execute_result"
    }
   ],
   "source": [
    "len_filter = full_data['source_code'].apply(lambda x:len(x) > 250)\n",
    "len_filter[len_filter == True].index"
   ]
  },
  {
   "cell_type": "code",
   "execution_count": 14,
   "metadata": {
    "id": "ouTsF3vggxMV"
   },
   "outputs": [],
   "source": [
    "full_data.drop(len_filter[len_filter == True].index.tolist(), inplace = True, axis = 0)\n",
    "full_data.reset_index(drop = True, inplace = True)\n",
    "full_data['ques_prompt'] = full_data['ques_prompt'].apply(lambda x:re.sub(r'\\d*', '', x))\n",
    "full_data['ques_prompt'] = full_data['ques_prompt'].apply(lambda x:re.sub(r'(#\\s)+', '', x))\n",
    "full_data.columns = ['src', 'trg']"
   ]
  },
  {
   "cell_type": "code",
   "execution_count": 15,
   "metadata": {
    "colab": {
     "base_uri": "https://localhost:8080/",
     "height": 194
    },
    "id": "UifQzF1uIx2N",
    "outputId": "1ed0fa9d-689d-4906-b1ec-7b6c02e63579"
   },
   "outputs": [
    {
     "data": {
      "text/html": [
       "<div>\n",
       "<style scoped>\n",
       "    .dataframe tbody tr th:only-of-type {\n",
       "        vertical-align: middle;\n",
       "    }\n",
       "\n",
       "    .dataframe tbody tr th {\n",
       "        vertical-align: top;\n",
       "    }\n",
       "\n",
       "    .dataframe thead th {\n",
       "        text-align: right;\n",
       "    }\n",
       "</style>\n",
       "<table border=\"1\" class=\"dataframe\">\n",
       "  <thead>\n",
       "    <tr style=\"text-align: right;\">\n",
       "      <th></th>\n",
       "      <th>src</th>\n",
       "      <th>trg</th>\n",
       "    </tr>\n",
       "  </thead>\n",
       "  <tbody>\n",
       "    <tr>\n",
       "      <th>0</th>\n",
       "      <td>write a python program to add two numbers</td>\n",
       "      <td>num1 = 1.5\\nnum2 = 6.3\\nsum = num1 + num2\\npri...</td>\n",
       "    </tr>\n",
       "    <tr>\n",
       "      <th>1</th>\n",
       "      <td>write a python function to add two user provid...</td>\n",
       "      <td>def add_two_numbers(num1, num2):\\n    sum = nu...</td>\n",
       "    </tr>\n",
       "    <tr>\n",
       "      <th>2</th>\n",
       "      <td>write a program to find and print the largest ...</td>\n",
       "      <td>num1 = 10\\nnum2 = 12\\nnum3 = 14\\nif (num1 &gt;= n...</td>\n",
       "    </tr>\n",
       "    <tr>\n",
       "      <th>3</th>\n",
       "      <td>write a program to find and print the smallest...</td>\n",
       "      <td>num1 = 10\\nnum2 = 12\\nnum3 = 14\\nif (num1 &lt;= n...</td>\n",
       "    </tr>\n",
       "    <tr>\n",
       "      <th>4</th>\n",
       "      <td>Write a python function to merge two given lis...</td>\n",
       "      <td>def merge_lists(l1, l2):\\n    return l1 + l2</td>\n",
       "    </tr>\n",
       "  </tbody>\n",
       "</table>\n",
       "</div>"
      ],
      "text/plain": [
       "                                                 src                                                trg\n",
       "0          write a python program to add two numbers  num1 = 1.5\\nnum2 = 6.3\\nsum = num1 + num2\\npri...\n",
       "1  write a python function to add two user provid...  def add_two_numbers(num1, num2):\\n    sum = nu...\n",
       "2  write a program to find and print the largest ...  num1 = 10\\nnum2 = 12\\nnum3 = 14\\nif (num1 >= n...\n",
       "3  write a program to find and print the smallest...  num1 = 10\\nnum2 = 12\\nnum3 = 14\\nif (num1 <= n...\n",
       "4  Write a python function to merge two given lis...       def merge_lists(l1, l2):\\n    return l1 + l2"
      ]
     },
     "execution_count": 15,
     "metadata": {
      "tags": []
     },
     "output_type": "execute_result"
    }
   ],
   "source": [
    "full_data.head()"
   ]
  },
  {
   "cell_type": "code",
   "execution_count": 16,
   "metadata": {
    "colab": {
     "base_uri": "https://localhost:8080/"
    },
    "id": "MrOeitVBcxCq",
    "outputId": "72a99974-ff4d-4019-9d58-9ce0490cfb30"
   },
   "outputs": [
    {
     "data": {
      "text/plain": [
       "(3535, 2)"
      ]
     },
     "execution_count": 16,
     "metadata": {
      "tags": []
     },
     "output_type": "execute_result"
    }
   ],
   "source": [
    "full_data.shape"
   ]
  },
  {
   "cell_type": "code",
   "execution_count": 17,
   "metadata": {
    "id": "fdrOdQr80B3J"
   },
   "outputs": [],
   "source": [
    "en_tokenizer = spacy.load('en')\n",
    "py_tokenizer = spacy.load('en')"
   ]
  },
  {
   "cell_type": "code",
   "execution_count": 18,
   "metadata": {
    "id": "qtzXgqS6pfeQ"
   },
   "outputs": [],
   "source": [
    "def tokenize_py(text):\n",
    "    \"\"\"\n",
    "    Tokenizes Python text from a string into a list of strings\n",
    "    \"\"\"\n",
    "    return [tok.text for tok in py_tokenizer.tokenizer(text)]\n",
    "\n",
    "def tokenize_en(text):\n",
    "    \"\"\"\n",
    "    Tokenizes English text from a string into a list of strings\n",
    "    \"\"\"\n",
    "    return [tok.text for tok in en_tokenizer.tokenizer(text)]"
   ]
  },
  {
   "cell_type": "code",
   "execution_count": 19,
   "metadata": {
    "id": "6iSMa5iYJG-i"
   },
   "outputs": [],
   "source": [
    "SRC = Field(tokenize = tokenize_en, \n",
    "            init_token = '<sos>', \n",
    "            eos_token = '<eos>', \n",
    "            lower = True, \n",
    "            batch_first = True)\n",
    "\n",
    "TRG = Field(tokenize = tokenize_py, \n",
    "            init_token = '<sos>', \n",
    "            eos_token = '<eos>', \n",
    "            lower = False, \n",
    "            batch_first = True)"
   ]
  },
  {
   "cell_type": "code",
   "execution_count": 27,
   "metadata": {
    "colab": {
     "base_uri": "https://localhost:8080/"
    },
    "id": "4jso2VTVvbxj",
    "outputId": "e7a53212-edf3-4523-fe9f-9c9559ec872b"
   },
   "outputs": [
    {
     "name": "stdout",
     "output_type": "stream",
     "text": [
      "Target Sentence :\n",
      "def add_two_numbers(num1, num2):\n",
      "    sum = num1 + num2\n",
      "    return sum\n",
      "Tokens : ['def', 'add_two_numbers(num1', ',', 'num2', ')', ':', '\\n    ', 'sum', '=', 'num1', '+', 'num2', '\\n    ', 'return', 'sum']\n"
     ]
    }
   ],
   "source": [
    "print(f'Target Sentence :\\n{full_data.iloc[1, 1]}')\n",
    "print(f'Tokens : {tokenize_py(full_data.iloc[1, 1])}')"
   ]
  },
  {
   "cell_type": "code",
   "execution_count": 28,
   "metadata": {
    "id": "pX4CJzLKJXqE"
   },
   "outputs": [],
   "source": [
    "fields = [('src', SRC), ('trg', TRG)]"
   ]
  },
  {
   "cell_type": "code",
   "execution_count": 29,
   "metadata": {
    "id": "LvnXHuYDJ1EM"
   },
   "outputs": [],
   "source": [
    "examples = [Example.fromlist([full_data.src[i], full_data.trg[i]], fields) for i in range(full_data.shape[0])]"
   ]
  },
  {
   "cell_type": "code",
   "execution_count": 30,
   "metadata": {
    "id": "DNmuh-FiL0E_"
   },
   "outputs": [],
   "source": [
    "complete_dataset = Dataset(examples, fields)"
   ]
  },
  {
   "cell_type": "code",
   "execution_count": 31,
   "metadata": {
    "id": "5sxQcLlGMv0-"
   },
   "outputs": [],
   "source": [
    "train_data, valid_data, test_data = complete_dataset.split(split_ratio=[0.80, 0.05, 0.15], \n",
    "                                    random_state=random.seed(SEED))"
   ]
  },
  {
   "cell_type": "code",
   "execution_count": 32,
   "metadata": {
    "colab": {
     "base_uri": "https://localhost:8080/"
    },
    "id": "g6pfjzztO-HE",
    "outputId": "802731ba-c5fa-4378-cf12-43d3cd805bb0"
   },
   "outputs": [
    {
     "data": {
      "text/plain": [
       "(2828, 530, 177)"
      ]
     },
     "execution_count": 32,
     "metadata": {
      "tags": []
     },
     "output_type": "execute_result"
    }
   ],
   "source": [
    "len(train_data), len(valid_data), len(test_data)"
   ]
  },
  {
   "cell_type": "code",
   "execution_count": 33,
   "metadata": {
    "colab": {
     "base_uri": "https://localhost:8080/"
    },
    "id": "9YhWJpg8PD8B",
    "outputId": "7e9d4e40-a77d-460a-85d6-22de973e4304"
   },
   "outputs": [
    {
     "data": {
      "text/plain": [
       "{'src': ['replacing', 'a', 'string', 'with', 'another', 'string'],\n",
       " 'trg': ['word',\n",
       "  '=',\n",
       "  '\"',\n",
       "  'Hello',\n",
       "  'World',\n",
       "  '\"',\n",
       "  '\\n',\n",
       "  'replace',\n",
       "  '=',\n",
       "  '\"',\n",
       "  'Bye',\n",
       "  '\"',\n",
       "  '\\n',\n",
       "  'input',\n",
       "  '=',\n",
       "  '\"',\n",
       "  'Hello',\n",
       "  '\"',\n",
       "  '\\n',\n",
       "  'after_replace',\n",
       "  '=',\n",
       "  'word.replace(input',\n",
       "  ',',\n",
       "  'replace',\n",
       "  ')',\n",
       "  '\\n',\n",
       "  'print(f\"String',\n",
       "  'ater',\n",
       "  'replacement',\n",
       "  ':',\n",
       "  '{',\n",
       "  'after_replace',\n",
       "  '}',\n",
       "  '\"',\n",
       "  ')']}"
      ]
     },
     "execution_count": 33,
     "metadata": {
      "tags": []
     },
     "output_type": "execute_result"
    }
   ],
   "source": [
    "vars(train_data.examples[0])"
   ]
  },
  {
   "cell_type": "code",
   "execution_count": 34,
   "metadata": {
    "id": "AWATKYiJPKHY"
   },
   "outputs": [],
   "source": [
    "SRC.build_vocab(train_data, min_freq = 2)\n",
    "TRG.build_vocab(train_data, min_freq = 1)"
   ]
  },
  {
   "cell_type": "code",
   "execution_count": 35,
   "metadata": {
    "colab": {
     "base_uri": "https://localhost:8080/"
    },
    "id": "STmUMUnjSeFG",
    "outputId": "1d853ead-e648-4538-f988-957a39d1875d"
   },
   "outputs": [
    {
     "data": {
      "text/plain": [
       "device(type='cuda')"
      ]
     },
     "execution_count": 35,
     "metadata": {
      "tags": []
     },
     "output_type": "execute_result"
    }
   ],
   "source": [
    "device = torch.device('cuda' if torch.cuda.is_available() else 'cpu')\n",
    "# device = 'cpu'\n",
    "device"
   ]
  },
  {
   "cell_type": "code",
   "execution_count": 36,
   "metadata": {
    "id": "3eYIBgWrSkln"
   },
   "outputs": [],
   "source": [
    "BATCH_SIZE = 64\n",
    "\n",
    "train_iterator, valid_iterator, test_iterator = BucketIterator.splits(\n",
    "    (train_data, valid_data, test_data), sort_key = lambda x:len(x.src), sort_within_batch = False,\n",
    "     batch_size = BATCH_SIZE,\n",
    "     device = device)"
   ]
  },
  {
   "cell_type": "code",
   "execution_count": 37,
   "metadata": {
    "id": "uCkVjzBuTXFC"
   },
   "outputs": [],
   "source": [
    "class Encoder(nn.Module):\n",
    "    def __init__(self, \n",
    "                 input_dim, \n",
    "                 hid_dim, \n",
    "                 n_layers, \n",
    "                 n_heads, \n",
    "                 pf_dim,\n",
    "                 dropout, \n",
    "                 device,\n",
    "                 max_length = 200):\n",
    "        super().__init__()\n",
    "\n",
    "        self.device = device\n",
    "        \n",
    "        self.tok_embedding = nn.Embedding(input_dim, hid_dim)\n",
    "        self.pos_embedding = nn.Embedding(max_length, hid_dim)\n",
    "        \n",
    "        self.layers = nn.ModuleList([EncoderLayer(hid_dim, \n",
    "                                                  n_heads, \n",
    "                                                  pf_dim,\n",
    "                                                  dropout, \n",
    "                                                  device) \n",
    "                                     for _ in range(n_layers)])\n",
    "        \n",
    "        self.dropout = nn.Dropout(dropout)\n",
    "        \n",
    "        self.scale = torch.sqrt(torch.FloatTensor([hid_dim])).to(device)\n",
    "        \n",
    "    def forward(self, src, src_mask):\n",
    "        \n",
    "        #src = [batch size, src len]\n",
    "        #src_mask = [batch size, 1, 1, src len]\n",
    "        \n",
    "        batch_size = src.shape[0]\n",
    "        src_len = src.shape[1]\n",
    "        \n",
    "        pos = torch.arange(0, src_len).unsqueeze(0).repeat(batch_size, 1).to(self.device)\n",
    "        \n",
    "        #pos = [batch size, src len]\n",
    "        \n",
    "        src = self.dropout((self.tok_embedding(src) * self.scale) + self.pos_embedding(pos))\n",
    "        \n",
    "        #src = [batch size, src len, hid dim]\n",
    "        \n",
    "        for layer in self.layers:\n",
    "            src = layer(src, src_mask)\n",
    "            \n",
    "        #src = [batch size, src len, hid dim]\n",
    "            \n",
    "        return src"
   ]
  },
  {
   "cell_type": "code",
   "execution_count": 38,
   "metadata": {
    "id": "lKnjbUpXTaZZ"
   },
   "outputs": [],
   "source": [
    "class EncoderLayer(nn.Module):\n",
    "    def __init__(self, \n",
    "                 hid_dim, \n",
    "                 n_heads, \n",
    "                 pf_dim,  \n",
    "                 dropout, \n",
    "                 device):\n",
    "        super().__init__()\n",
    "        \n",
    "        self.self_attn_layer_norm = nn.LayerNorm(hid_dim)\n",
    "        self.ff_layer_norm = nn.LayerNorm(hid_dim)\n",
    "        self.self_attention = MultiHeadAttentionLayer(hid_dim, n_heads, dropout, device)\n",
    "        self.positionwise_feedforward = PositionwiseFeedforwardLayer(hid_dim, \n",
    "                                                                     pf_dim, \n",
    "                                                                     dropout)\n",
    "        self.dropout = nn.Dropout(dropout)\n",
    "        \n",
    "    def forward(self, src, src_mask):\n",
    "        \n",
    "        #src = [batch size, src len, hid dim]\n",
    "        #src_mask = [batch size, 1, 1, src len] \n",
    "                \n",
    "        #self attention\n",
    "        _src, _ = self.self_attention(src, src, src, src_mask)\n",
    "        \n",
    "        #dropout, residual connection and layer norm\n",
    "        src = self.self_attn_layer_norm(src + self.dropout(_src))\n",
    "        \n",
    "        #src = [batch size, src len, hid dim]\n",
    "        \n",
    "        #positionwise feedforward\n",
    "        _src = self.positionwise_feedforward(src)\n",
    "        \n",
    "        #dropout, residual and layer norm\n",
    "        src = self.ff_layer_norm(src + self.dropout(_src))\n",
    "        \n",
    "        #src = [batch size, src len, hid dim]\n",
    "        \n",
    "        return src"
   ]
  },
  {
   "cell_type": "code",
   "execution_count": 39,
   "metadata": {
    "id": "0ycLDCPuTf63"
   },
   "outputs": [],
   "source": [
    "class MultiHeadAttentionLayer(nn.Module):\n",
    "    def __init__(self, hid_dim, n_heads, dropout, device):\n",
    "        super().__init__()\n",
    "        \n",
    "        assert hid_dim % n_heads == 0\n",
    "        \n",
    "        self.hid_dim = hid_dim\n",
    "        self.n_heads = n_heads\n",
    "        self.head_dim = hid_dim // n_heads\n",
    "        \n",
    "        self.fc_q = nn.Linear(hid_dim, hid_dim)\n",
    "        self.fc_k = nn.Linear(hid_dim, hid_dim)\n",
    "        self.fc_v = nn.Linear(hid_dim, hid_dim)\n",
    "        \n",
    "        self.fc_o = nn.Linear(hid_dim, hid_dim)\n",
    "        \n",
    "        self.dropout = nn.Dropout(dropout)\n",
    "        \n",
    "        self.scale = torch.sqrt(torch.FloatTensor([self.head_dim])).to(device)\n",
    "        \n",
    "    def forward(self, query, key, value, mask = None):\n",
    "        \n",
    "        batch_size = query.shape[0]\n",
    "        \n",
    "        #query = [batch size, query len, hid dim]\n",
    "        #key = [batch size, key len, hid dim]\n",
    "        #value = [batch size, value len, hid dim]\n",
    "                \n",
    "        Q = self.fc_q(query)\n",
    "        K = self.fc_k(key)\n",
    "        V = self.fc_v(value)\n",
    "        \n",
    "        #Q = [batch size, query len, hid dim]\n",
    "        #K = [batch size, key len, hid dim]\n",
    "        #V = [batch size, value len, hid dim]\n",
    "                \n",
    "        Q = Q.view(batch_size, -1, self.n_heads, self.head_dim).permute(0, 2, 1, 3)\n",
    "        K = K.view(batch_size, -1, self.n_heads, self.head_dim).permute(0, 2, 1, 3)\n",
    "        V = V.view(batch_size, -1, self.n_heads, self.head_dim).permute(0, 2, 1, 3)\n",
    "        \n",
    "        #Q = [batch size, n heads, query len, head dim]\n",
    "        #K = [batch size, n heads, key len, head dim]\n",
    "        #V = [batch size, n heads, value len, head dim]\n",
    "                \n",
    "        energy = torch.matmul(Q, K.permute(0, 1, 3, 2)) / self.scale\n",
    "        \n",
    "        #energy = [batch size, n heads, query len, key len]\n",
    "        \n",
    "        if mask is not None:\n",
    "            energy = energy.masked_fill(mask == 0, -1e10)\n",
    "        \n",
    "        attention = torch.softmax(energy, dim = -1)\n",
    "                \n",
    "        #attention = [batch size, n heads, query len, key len]\n",
    "                \n",
    "        x = torch.matmul(self.dropout(attention), V)\n",
    "        \n",
    "        #x = [batch size, n heads, query len, head dim]\n",
    "        \n",
    "        x = x.permute(0, 2, 1, 3).contiguous()\n",
    "        \n",
    "        #x = [batch size, query len, n heads, head dim]\n",
    "        \n",
    "        x = x.view(batch_size, -1, self.hid_dim)\n",
    "        \n",
    "        #x = [batch size, query len, hid dim]\n",
    "        \n",
    "        x = self.fc_o(x)\n",
    "        \n",
    "        #x = [batch size, query len, hid dim]\n",
    "        \n",
    "        return x, attention"
   ]
  },
  {
   "cell_type": "code",
   "execution_count": 40,
   "metadata": {
    "id": "OmIaAPSlTl-K"
   },
   "outputs": [],
   "source": [
    "class PositionwiseFeedforwardLayer(nn.Module):\n",
    "    def __init__(self, hid_dim, pf_dim, dropout):\n",
    "        super().__init__()\n",
    "        \n",
    "        self.fc_1 = nn.Linear(hid_dim, pf_dim)\n",
    "        self.fc_2 = nn.Linear(pf_dim, hid_dim)\n",
    "        \n",
    "        self.dropout = nn.Dropout(dropout)\n",
    "        \n",
    "    def forward(self, x):\n",
    "        \n",
    "        #x = [batch size, seq len, hid dim]\n",
    "        \n",
    "        x = self.dropout(torch.relu(self.fc_1(x)))\n",
    "        \n",
    "        #x = [batch size, seq len, pf dim]\n",
    "        \n",
    "        x = self.fc_2(x)\n",
    "        \n",
    "        #x = [batch size, seq len, hid dim]\n",
    "        \n",
    "        return x"
   ]
  },
  {
   "cell_type": "code",
   "execution_count": 41,
   "metadata": {
    "id": "dEbFPA6XTp_g"
   },
   "outputs": [],
   "source": [
    "class Decoder(nn.Module):\n",
    "    def __init__(self, \n",
    "                 output_dim, \n",
    "                 hid_dim, \n",
    "                 n_layers, \n",
    "                 n_heads, \n",
    "                 pf_dim, \n",
    "                 dropout, \n",
    "                 device,\n",
    "                 max_length = 250):\n",
    "        super().__init__()\n",
    "        \n",
    "        self.device = device\n",
    "        \n",
    "        self.tok_embedding = nn.Embedding(output_dim, hid_dim)\n",
    "        self.pos_embedding = nn.Embedding(max_length, hid_dim)\n",
    "        \n",
    "        self.layers = nn.ModuleList([DecoderLayer(hid_dim, \n",
    "                                                  n_heads, \n",
    "                                                  pf_dim, \n",
    "                                                  dropout, \n",
    "                                                  device)\n",
    "                                     for _ in range(n_layers)])\n",
    "        \n",
    "        self.fc_out = nn.Linear(hid_dim, output_dim)\n",
    "        \n",
    "        self.dropout = nn.Dropout(dropout)\n",
    "        \n",
    "        self.scale = torch.sqrt(torch.FloatTensor([hid_dim])).to(device)\n",
    "        \n",
    "    def forward(self, trg, enc_src, trg_mask, src_mask):\n",
    "        \n",
    "        #trg = [batch size, trg len]\n",
    "        #enc_src = [batch size, src len, hid dim]\n",
    "        #trg_mask = [batch size, 1, trg len, trg len]\n",
    "        #src_mask = [batch size, 1, 1, src len]\n",
    "                \n",
    "        batch_size = trg.shape[0]\n",
    "        trg_len = trg.shape[1]\n",
    "        \n",
    "        pos = torch.arange(0, trg_len).unsqueeze(0).repeat(batch_size, 1).to(self.device)\n",
    "                            \n",
    "        #pos = [batch size, trg len]\n",
    "            \n",
    "        trg = self.dropout((self.tok_embedding(trg) * self.scale) + self.pos_embedding(pos))\n",
    "                \n",
    "        #trg = [batch size, trg len, hid dim]\n",
    "        \n",
    "        for layer in self.layers:\n",
    "            trg, attention = layer(trg, enc_src, trg_mask, src_mask)\n",
    "        \n",
    "        #trg = [batch size, trg len, hid dim]\n",
    "        #attention = [batch size, n heads, trg len, src len]\n",
    "        \n",
    "        output = self.fc_out(trg)\n",
    "        \n",
    "        #output = [batch size, trg len, output dim]\n",
    "            \n",
    "        return output, attention"
   ]
  },
  {
   "cell_type": "code",
   "execution_count": 42,
   "metadata": {
    "id": "uBHcoWU0TvW6"
   },
   "outputs": [],
   "source": [
    "class DecoderLayer(nn.Module):\n",
    "    def __init__(self, \n",
    "                 hid_dim, \n",
    "                 n_heads, \n",
    "                 pf_dim, \n",
    "                 dropout, \n",
    "                 device):\n",
    "        super().__init__()\n",
    "        \n",
    "        self.self_attn_layer_norm = nn.LayerNorm(hid_dim)\n",
    "        self.enc_attn_layer_norm = nn.LayerNorm(hid_dim)\n",
    "        self.ff_layer_norm = nn.LayerNorm(hid_dim)\n",
    "        self.self_attention = MultiHeadAttentionLayer(hid_dim, n_heads, dropout, device)\n",
    "        self.encoder_attention = MultiHeadAttentionLayer(hid_dim, n_heads, dropout, device)\n",
    "        self.positionwise_feedforward = PositionwiseFeedforwardLayer(hid_dim, \n",
    "                                                                     pf_dim, \n",
    "                                                                     dropout)\n",
    "        self.dropout = nn.Dropout(dropout)\n",
    "        \n",
    "    def forward(self, trg, enc_src, trg_mask, src_mask):\n",
    "        \n",
    "        #trg = [batch size, trg len, hid dim]\n",
    "        #enc_src = [batch size, src len, hid dim]\n",
    "        #trg_mask = [batch size, 1, trg len, trg len]\n",
    "        #src_mask = [batch size, 1, 1, src len]\n",
    "        \n",
    "        #self attention\n",
    "        _trg, _ = self.self_attention(trg, trg, trg, trg_mask)\n",
    "        \n",
    "        #dropout, residual connection and layer norm\n",
    "        trg = self.self_attn_layer_norm(trg + self.dropout(_trg))\n",
    "            \n",
    "        #trg = [batch size, trg len, hid dim]\n",
    "            \n",
    "        #encoder attention\n",
    "        _trg, attention = self.encoder_attention(trg, enc_src, enc_src, src_mask)\n",
    "        # query, key, value\n",
    "        \n",
    "        #dropout, residual connection and layer norm\n",
    "        trg = self.enc_attn_layer_norm(trg + self.dropout(_trg))\n",
    "                    \n",
    "        #trg = [batch size, trg len, hid dim]\n",
    "        \n",
    "        #positionwise feedforward\n",
    "        _trg = self.positionwise_feedforward(trg)\n",
    "        \n",
    "        #dropout, residual and layer norm\n",
    "        trg = self.ff_layer_norm(trg + self.dropout(_trg))\n",
    "        \n",
    "        #trg = [batch size, trg len, hid dim]\n",
    "        #attention = [batch size, n heads, trg len, src len]\n",
    "        \n",
    "        return trg, attention"
   ]
  },
  {
   "cell_type": "code",
   "execution_count": 43,
   "metadata": {
    "id": "06x-eTpHTxmJ"
   },
   "outputs": [],
   "source": [
    "class Seq2Seq(nn.Module):\n",
    "    def __init__(self, \n",
    "                 encoder, \n",
    "                 decoder, \n",
    "                 src_pad_idx, \n",
    "                 trg_pad_idx, \n",
    "                 device):\n",
    "        super().__init__()\n",
    "        \n",
    "        self.encoder = encoder\n",
    "        self.decoder = decoder\n",
    "        self.src_pad_idx = src_pad_idx\n",
    "        self.trg_pad_idx = trg_pad_idx\n",
    "        self.device = device\n",
    "        \n",
    "    def make_src_mask(self, src):\n",
    "        \n",
    "        #src = [batch size, src len]\n",
    "        \n",
    "        src_mask = (src != self.src_pad_idx).unsqueeze(1).unsqueeze(2)\n",
    "\n",
    "        #src_mask = [batch size, 1, 1, src len]\n",
    "\n",
    "        return src_mask\n",
    "    \n",
    "    def make_trg_mask(self, trg):\n",
    "        \n",
    "        #trg = [batch size, trg len]\n",
    "        \n",
    "        trg_pad_mask = (trg != self.trg_pad_idx).unsqueeze(1).unsqueeze(2)\n",
    "        \n",
    "        #trg_pad_mask = [batch size, 1, 1, trg len]\n",
    "        \n",
    "        trg_len = trg.shape[1]\n",
    "        \n",
    "        trg_sub_mask = torch.tril(torch.ones((trg_len, trg_len), device = self.device)).bool()\n",
    "        \n",
    "        #trg_sub_mask = [trg len, trg len]\n",
    "            \n",
    "        trg_mask = trg_pad_mask & trg_sub_mask\n",
    "        \n",
    "        #trg_mask = [batch size, 1, trg len, trg len]\n",
    "        \n",
    "        return trg_mask\n",
    "\n",
    "    def forward(self, src, trg):\n",
    "        \n",
    "        #src = [batch size, src len]\n",
    "        #trg = [batch size, trg len]\n",
    "                \n",
    "        src_mask = self.make_src_mask(src)\n",
    "        trg_mask = self.make_trg_mask(trg)\n",
    "        \n",
    "        #src_mask = [batch size, 1, 1, src len]\n",
    "        #trg_mask = [batch size, 1, trg len, trg len]\n",
    "        \n",
    "        enc_src = self.encoder(src, src_mask)\n",
    "        \n",
    "        #enc_src = [batch size, src len, hid dim]\n",
    "                \n",
    "        output, attention = self.decoder(trg, enc_src, trg_mask, src_mask)\n",
    "        \n",
    "        #output = [batch size, trg len, output dim]\n",
    "        #attention = [batch size, n heads, trg len, src len]\n",
    "        \n",
    "        return output, attention"
   ]
  },
  {
   "cell_type": "code",
   "execution_count": 57,
   "metadata": {
    "id": "jzgmVhkoTz1D"
   },
   "outputs": [],
   "source": [
    "INPUT_DIM = len(SRC.vocab)\n",
    "OUTPUT_DIM = len(TRG.vocab)\n",
    "HID_DIM = 256\n",
    "ENC_LAYERS = 3\n",
    "DEC_LAYERS = 3\n",
    "ENC_HEADS = 8\n",
    "DEC_HEADS = 8\n",
    "ENC_PF_DIM = 512\n",
    "DEC_PF_DIM = 512\n",
    "ENC_DROPOUT = 0.1\n",
    "DEC_DROPOUT = 0.1\n",
    "\n",
    "enc = Encoder(INPUT_DIM, \n",
    "              HID_DIM, \n",
    "              ENC_LAYERS, \n",
    "              ENC_HEADS, \n",
    "              ENC_PF_DIM, \n",
    "              ENC_DROPOUT, \n",
    "              device)\n",
    "\n",
    "dec = Decoder(OUTPUT_DIM, \n",
    "              HID_DIM, \n",
    "              DEC_LAYERS, \n",
    "              DEC_HEADS, \n",
    "              DEC_PF_DIM, \n",
    "              DEC_DROPOUT, \n",
    "              device)"
   ]
  },
  {
   "cell_type": "code",
   "execution_count": 58,
   "metadata": {
    "id": "7pHkV-bLT3lO"
   },
   "outputs": [],
   "source": [
    "SRC_PAD_IDX = SRC.vocab.stoi[SRC.pad_token]\n",
    "TRG_PAD_IDX = TRG.vocab.stoi[TRG.pad_token]\n",
    "\n",
    "model = Seq2Seq(enc, dec, SRC_PAD_IDX, TRG_PAD_IDX, device).to(device)"
   ]
  },
  {
   "cell_type": "code",
   "execution_count": 59,
   "metadata": {
    "colab": {
     "base_uri": "https://localhost:8080/"
    },
    "id": "a5ku2QdmT7G6",
    "outputId": "5fd9a75b-6fcb-4559-8a8d-d94ba7994611"
   },
   "outputs": [
    {
     "name": "stdout",
     "output_type": "stream",
     "text": [
      "The model has 7,738,316 trainable parameters\n"
     ]
    }
   ],
   "source": [
    "def count_parameters(model):\n",
    "    return sum(p.numel() for p in model.parameters() if p.requires_grad)\n",
    "\n",
    "print(f'The model has {count_parameters(model):,} trainable parameters')"
   ]
  },
  {
   "cell_type": "code",
   "execution_count": 60,
   "metadata": {
    "id": "KALu_7hxUJmP"
   },
   "outputs": [],
   "source": [
    "def initialize_weights(m):\n",
    "    if hasattr(m, 'weight') and m.weight.dim() > 1:\n",
    "        nn.init.xavier_uniform_(m.weight.data)"
   ]
  },
  {
   "cell_type": "code",
   "execution_count": 61,
   "metadata": {
    "id": "qlaoFi4PUMpb"
   },
   "outputs": [],
   "source": [
    "model.apply(initialize_weights);"
   ]
  },
  {
   "cell_type": "code",
   "execution_count": 62,
   "metadata": {
    "id": "_aGeLVbfUOhw"
   },
   "outputs": [],
   "source": [
    "LEARNING_RATE = 0.0001\n",
    "\n",
    "optimizer = torch.optim.Adam(model.parameters(), lr = LEARNING_RATE)"
   ]
  },
  {
   "cell_type": "code",
   "execution_count": 63,
   "metadata": {
    "id": "_iFH6VuIUQsN"
   },
   "outputs": [],
   "source": [
    "criterion = nn.CrossEntropyLoss(ignore_index = TRG_PAD_IDX)"
   ]
  },
  {
   "cell_type": "code",
   "execution_count": 64,
   "metadata": {
    "id": "xSeRKtvzUSRd"
   },
   "outputs": [],
   "source": [
    "def train(model, iterator, optimizer, criterion, clip):\n",
    "    \n",
    "    model.train()\n",
    "    \n",
    "    epoch_loss = 0\n",
    "    \n",
    "    for i, batch in enumerate(iterator):\n",
    "        \n",
    "        src = batch.src\n",
    "        trg = batch.trg\n",
    "        \n",
    "        optimizer.zero_grad()\n",
    "        \n",
    "        output, _ = model(src, trg[:,:-1])\n",
    "                \n",
    "        #output = [batch size, trg len - 1, output dim]\n",
    "        #trg = [batch size, trg len]\n",
    "            \n",
    "        output_dim = output.shape[-1]\n",
    "            \n",
    "        output = output.contiguous().view(-1, output_dim)\n",
    "        trg = trg[:,1:].contiguous().view(-1)\n",
    "                \n",
    "        #output = [batch size * trg len - 1, output dim]\n",
    "        #trg = [batch size * trg len - 1]\n",
    "            \n",
    "        loss = criterion(output, trg)\n",
    "        \n",
    "        loss.backward()\n",
    "        \n",
    "        torch.nn.utils.clip_grad_norm_(model.parameters(), clip)\n",
    "        \n",
    "        optimizer.step()\n",
    "        \n",
    "        epoch_loss += loss.item()\n",
    "        \n",
    "    return epoch_loss / len(iterator)"
   ]
  },
  {
   "cell_type": "code",
   "execution_count": 65,
   "metadata": {
    "id": "8RtYKHfPUUF3"
   },
   "outputs": [],
   "source": [
    "def evaluate(model, iterator, criterion):\n",
    "    \n",
    "    model.eval()\n",
    "    \n",
    "    epoch_loss = 0\n",
    "    \n",
    "    with torch.no_grad():\n",
    "    \n",
    "        for i, batch in enumerate(iterator):\n",
    "\n",
    "            src = batch.src\n",
    "            trg = batch.trg\n",
    "\n",
    "            output, _ = model(src, trg[:,:-1])\n",
    "            \n",
    "            #output = [batch size, trg len - 1, output dim]\n",
    "            #trg = [batch size, trg len]\n",
    "            \n",
    "            output_dim = output.shape[-1]\n",
    "            \n",
    "            output = output.contiguous().view(-1, output_dim)\n",
    "            trg = trg[:,1:].contiguous().view(-1)\n",
    "            \n",
    "            #output = [batch size * trg len - 1, output dim]\n",
    "            #trg = [batch size * trg len - 1]\n",
    "            \n",
    "            loss = criterion(output, trg)\n",
    "\n",
    "            epoch_loss += loss.item()\n",
    "        \n",
    "    return epoch_loss / len(iterator)"
   ]
  },
  {
   "cell_type": "code",
   "execution_count": 66,
   "metadata": {
    "id": "L1bzVnDHUWIR"
   },
   "outputs": [],
   "source": [
    "def epoch_time(start_time, end_time):\n",
    "    elapsed_time = end_time - start_time\n",
    "    elapsed_mins = int(elapsed_time / 60)\n",
    "    elapsed_secs = int(elapsed_time - (elapsed_mins * 60))\n",
    "    return elapsed_mins, elapsed_secs"
   ]
  },
  {
   "cell_type": "code",
   "execution_count": 67,
   "metadata": {
    "colab": {
     "base_uri": "https://localhost:8080/"
    },
    "id": "0QpGdTj_UYtL",
    "outputId": "97ed3b2f-c1e1-4676-e3bf-e3c05078662b"
   },
   "outputs": [
    {
     "name": "stdout",
     "output_type": "stream",
     "text": [
      "Epoch: 01 | Time: 0m 4s\n",
      "\tTrain Loss: 7.731 | Train PPL: 2277.700\n",
      "\t Val. Loss: 6.955 |  Val. PPL: 1048.098\n",
      "Epoch: 02 | Time: 0m 4s\n",
      "\tTrain Loss: 6.420 | Train PPL: 613.977\n",
      "\t Val. Loss: 5.816 |  Val. PPL: 335.659\n",
      "Epoch: 03 | Time: 0m 4s\n",
      "\tTrain Loss: 5.456 | Train PPL: 234.083\n",
      "\t Val. Loss: 5.077 |  Val. PPL: 160.247\n",
      "Epoch: 04 | Time: 0m 4s\n",
      "\tTrain Loss: 4.812 | Train PPL: 122.963\n",
      "\t Val. Loss: 4.546 |  Val. PPL:  94.269\n",
      "Epoch: 05 | Time: 0m 4s\n",
      "\tTrain Loss: 4.345 | Train PPL:  77.109\n",
      "\t Val. Loss: 4.212 |  Val. PPL:  67.479\n",
      "Epoch: 06 | Time: 0m 4s\n",
      "\tTrain Loss: 4.008 | Train PPL:  55.013\n",
      "\t Val. Loss: 3.979 |  Val. PPL:  53.469\n",
      "Epoch: 07 | Time: 0m 4s\n",
      "\tTrain Loss: 3.756 | Train PPL:  42.757\n",
      "\t Val. Loss: 3.798 |  Val. PPL:  44.621\n",
      "Epoch: 08 | Time: 0m 4s\n",
      "\tTrain Loss: 3.560 | Train PPL:  35.162\n",
      "\t Val. Loss: 3.663 |  Val. PPL:  38.963\n",
      "Epoch: 09 | Time: 0m 4s\n",
      "\tTrain Loss: 3.390 | Train PPL:  29.653\n",
      "\t Val. Loss: 3.545 |  Val. PPL:  34.641\n",
      "Epoch: 10 | Time: 0m 4s\n",
      "\tTrain Loss: 3.245 | Train PPL:  25.666\n",
      "\t Val. Loss: 3.464 |  Val. PPL:  31.950\n",
      "Epoch: 11 | Time: 0m 4s\n",
      "\tTrain Loss: 3.119 | Train PPL:  22.613\n",
      "\t Val. Loss: 3.383 |  Val. PPL:  29.451\n",
      "Epoch: 12 | Time: 0m 4s\n",
      "\tTrain Loss: 3.015 | Train PPL:  20.393\n",
      "\t Val. Loss: 3.312 |  Val. PPL:  27.443\n",
      "Epoch: 13 | Time: 0m 4s\n",
      "\tTrain Loss: 2.907 | Train PPL:  18.306\n",
      "\t Val. Loss: 3.257 |  Val. PPL:  25.973\n",
      "Epoch: 14 | Time: 0m 4s\n",
      "\tTrain Loss: 2.813 | Train PPL:  16.654\n",
      "\t Val. Loss: 3.199 |  Val. PPL:  24.515\n",
      "Epoch: 15 | Time: 0m 4s\n",
      "\tTrain Loss: 2.729 | Train PPL:  15.320\n",
      "\t Val. Loss: 3.140 |  Val. PPL:  23.093\n",
      "Epoch: 16 | Time: 0m 4s\n",
      "\tTrain Loss: 2.648 | Train PPL:  14.122\n",
      "\t Val. Loss: 3.095 |  Val. PPL:  22.084\n",
      "Epoch: 17 | Time: 0m 4s\n",
      "\tTrain Loss: 2.571 | Train PPL:  13.079\n",
      "\t Val. Loss: 3.055 |  Val. PPL:  21.215\n",
      "Epoch: 18 | Time: 0m 4s\n",
      "\tTrain Loss: 2.503 | Train PPL:  12.214\n",
      "\t Val. Loss: 3.002 |  Val. PPL:  20.124\n",
      "Epoch: 19 | Time: 0m 4s\n",
      "\tTrain Loss: 2.432 | Train PPL:  11.381\n",
      "\t Val. Loss: 2.971 |  Val. PPL:  19.516\n",
      "Epoch: 20 | Time: 0m 4s\n",
      "\tTrain Loss: 2.366 | Train PPL:  10.651\n",
      "\t Val. Loss: 2.939 |  Val. PPL:  18.889\n",
      "Epoch: 21 | Time: 0m 4s\n",
      "\tTrain Loss: 2.299 | Train PPL:   9.966\n",
      "\t Val. Loss: 2.917 |  Val. PPL:  18.482\n",
      "Epoch: 22 | Time: 0m 4s\n",
      "\tTrain Loss: 2.248 | Train PPL:   9.466\n",
      "\t Val. Loss: 2.884 |  Val. PPL:  17.894\n",
      "Epoch: 23 | Time: 0m 4s\n",
      "\tTrain Loss: 2.183 | Train PPL:   8.869\n",
      "\t Val. Loss: 2.843 |  Val. PPL:  17.175\n",
      "Epoch: 24 | Time: 0m 4s\n",
      "\tTrain Loss: 2.127 | Train PPL:   8.394\n",
      "\t Val. Loss: 2.815 |  Val. PPL:  16.687\n",
      "Epoch: 25 | Time: 0m 4s\n",
      "\tTrain Loss: 2.074 | Train PPL:   7.957\n",
      "\t Val. Loss: 2.771 |  Val. PPL:  15.979\n",
      "Epoch: 26 | Time: 0m 4s\n",
      "\tTrain Loss: 2.030 | Train PPL:   7.612\n",
      "\t Val. Loss: 2.766 |  Val. PPL:  15.889\n",
      "Epoch: 27 | Time: 0m 4s\n",
      "\tTrain Loss: 1.977 | Train PPL:   7.224\n",
      "\t Val. Loss: 2.756 |  Val. PPL:  15.731\n",
      "Epoch: 28 | Time: 0m 4s\n",
      "\tTrain Loss: 1.923 | Train PPL:   6.844\n",
      "\t Val. Loss: 2.713 |  Val. PPL:  15.075\n",
      "Epoch: 29 | Time: 0m 4s\n",
      "\tTrain Loss: 1.881 | Train PPL:   6.560\n",
      "\t Val. Loss: 2.691 |  Val. PPL:  14.746\n",
      "Epoch: 30 | Time: 0m 4s\n",
      "\tTrain Loss: 1.841 | Train PPL:   6.306\n",
      "\t Val. Loss: 2.681 |  Val. PPL:  14.601\n",
      "Epoch: 31 | Time: 0m 4s\n",
      "\tTrain Loss: 1.793 | Train PPL:   6.010\n",
      "\t Val. Loss: 2.665 |  Val. PPL:  14.374\n",
      "Epoch: 32 | Time: 0m 4s\n",
      "\tTrain Loss: 1.751 | Train PPL:   5.762\n",
      "\t Val. Loss: 2.635 |  Val. PPL:  13.950\n",
      "Epoch: 33 | Time: 0m 4s\n",
      "\tTrain Loss: 1.705 | Train PPL:   5.503\n",
      "\t Val. Loss: 2.627 |  Val. PPL:  13.836\n",
      "Epoch: 34 | Time: 0m 4s\n",
      "\tTrain Loss: 1.667 | Train PPL:   5.299\n",
      "\t Val. Loss: 2.598 |  Val. PPL:  13.436\n",
      "Epoch: 35 | Time: 0m 4s\n",
      "\tTrain Loss: 1.632 | Train PPL:   5.112\n",
      "\t Val. Loss: 2.608 |  Val. PPL:  13.568\n",
      "Epoch: 36 | Time: 0m 4s\n",
      "\tTrain Loss: 1.588 | Train PPL:   4.896\n",
      "\t Val. Loss: 2.569 |  Val. PPL:  13.055\n",
      "Epoch: 37 | Time: 0m 4s\n",
      "\tTrain Loss: 1.551 | Train PPL:   4.714\n",
      "\t Val. Loss: 2.557 |  Val. PPL:  12.896\n",
      "Epoch: 38 | Time: 0m 4s\n",
      "\tTrain Loss: 1.516 | Train PPL:   4.554\n",
      "\t Val. Loss: 2.535 |  Val. PPL:  12.620\n",
      "Epoch: 39 | Time: 0m 4s\n",
      "\tTrain Loss: 1.475 | Train PPL:   4.369\n",
      "\t Val. Loss: 2.543 |  Val. PPL:  12.714\n",
      "Epoch: 40 | Time: 0m 4s\n",
      "\tTrain Loss: 1.438 | Train PPL:   4.212\n",
      "\t Val. Loss: 2.526 |  Val. PPL:  12.499\n",
      "Epoch: 41 | Time: 0m 4s\n",
      "\tTrain Loss: 1.406 | Train PPL:   4.079\n",
      "\t Val. Loss: 2.498 |  Val. PPL:  12.154\n",
      "Epoch: 42 | Time: 0m 4s\n",
      "\tTrain Loss: 1.371 | Train PPL:   3.938\n",
      "\t Val. Loss: 2.484 |  Val. PPL:  11.992\n",
      "Epoch: 43 | Time: 0m 4s\n",
      "\tTrain Loss: 1.346 | Train PPL:   3.843\n",
      "\t Val. Loss: 2.477 |  Val. PPL:  11.907\n",
      "Epoch: 44 | Time: 0m 4s\n",
      "\tTrain Loss: 1.309 | Train PPL:   3.703\n",
      "\t Val. Loss: 2.472 |  Val. PPL:  11.848\n",
      "Epoch: 45 | Time: 0m 4s\n",
      "\tTrain Loss: 1.275 | Train PPL:   3.580\n",
      "\t Val. Loss: 2.448 |  Val. PPL:  11.568\n",
      "Epoch: 46 | Time: 0m 4s\n",
      "\tTrain Loss: 1.247 | Train PPL:   3.481\n",
      "\t Val. Loss: 2.438 |  Val. PPL:  11.456\n",
      "Epoch: 47 | Time: 0m 4s\n",
      "\tTrain Loss: 1.213 | Train PPL:   3.365\n",
      "\t Val. Loss: 2.436 |  Val. PPL:  11.428\n",
      "Epoch: 48 | Time: 0m 4s\n",
      "\tTrain Loss: 1.190 | Train PPL:   3.286\n",
      "\t Val. Loss: 2.417 |  Val. PPL:  11.211\n",
      "Epoch: 49 | Time: 0m 4s\n",
      "\tTrain Loss: 1.159 | Train PPL:   3.188\n",
      "\t Val. Loss: 2.399 |  Val. PPL:  11.014\n",
      "Epoch: 50 | Time: 0m 4s\n",
      "\tTrain Loss: 1.133 | Train PPL:   3.106\n",
      "\t Val. Loss: 2.396 |  Val. PPL:  10.974\n",
      "Epoch: 51 | Time: 0m 4s\n",
      "\tTrain Loss: 1.100 | Train PPL:   3.005\n",
      "\t Val. Loss: 2.400 |  Val. PPL:  11.024\n",
      "Epoch: 52 | Time: 0m 4s\n",
      "\tTrain Loss: 1.072 | Train PPL:   2.921\n",
      "\t Val. Loss: 2.384 |  Val. PPL:  10.843\n",
      "Epoch: 53 | Time: 0m 4s\n",
      "\tTrain Loss: 1.053 | Train PPL:   2.868\n",
      "\t Val. Loss: 2.370 |  Val. PPL:  10.701\n",
      "Epoch: 54 | Time: 0m 4s\n",
      "\tTrain Loss: 1.023 | Train PPL:   2.780\n",
      "\t Val. Loss: 2.360 |  Val. PPL:  10.594\n",
      "Epoch: 55 | Time: 0m 4s\n",
      "\tTrain Loss: 1.000 | Train PPL:   2.718\n",
      "\t Val. Loss: 2.350 |  Val. PPL:  10.488\n",
      "Epoch: 56 | Time: 0m 4s\n",
      "\tTrain Loss: 0.966 | Train PPL:   2.628\n",
      "\t Val. Loss: 2.337 |  Val. PPL:  10.353\n",
      "Epoch: 57 | Time: 0m 4s\n",
      "\tTrain Loss: 0.945 | Train PPL:   2.573\n",
      "\t Val. Loss: 2.326 |  Val. PPL:  10.240\n",
      "Epoch: 58 | Time: 0m 4s\n",
      "\tTrain Loss: 0.925 | Train PPL:   2.521\n",
      "\t Val. Loss: 2.315 |  Val. PPL:  10.126\n",
      "Epoch: 59 | Time: 0m 4s\n",
      "\tTrain Loss: 0.901 | Train PPL:   2.462\n",
      "\t Val. Loss: 2.298 |  Val. PPL:   9.954\n",
      "Epoch: 60 | Time: 0m 4s\n",
      "\tTrain Loss: 0.876 | Train PPL:   2.401\n",
      "\t Val. Loss: 2.303 |  Val. PPL:  10.003\n",
      "Epoch: 61 | Time: 0m 4s\n",
      "\tTrain Loss: 0.855 | Train PPL:   2.351\n",
      "\t Val. Loss: 2.305 |  Val. PPL:  10.025\n",
      "Epoch: 62 | Time: 0m 4s\n",
      "\tTrain Loss: 0.837 | Train PPL:   2.309\n",
      "\t Val. Loss: 2.289 |  Val. PPL:   9.866\n",
      "Epoch: 63 | Time: 0m 4s\n",
      "\tTrain Loss: 0.807 | Train PPL:   2.241\n",
      "\t Val. Loss: 2.293 |  Val. PPL:   9.907\n",
      "Epoch: 64 | Time: 0m 4s\n",
      "\tTrain Loss: 0.794 | Train PPL:   2.213\n",
      "\t Val. Loss: 2.289 |  Val. PPL:   9.865\n",
      "Epoch: 65 | Time: 0m 4s\n",
      "\tTrain Loss: 0.764 | Train PPL:   2.148\n",
      "\t Val. Loss: 2.286 |  Val. PPL:   9.832\n",
      "Epoch: 66 | Time: 0m 4s\n",
      "\tTrain Loss: 0.754 | Train PPL:   2.125\n",
      "\t Val. Loss: 2.272 |  Val. PPL:   9.703\n",
      "Epoch: 67 | Time: 0m 4s\n",
      "\tTrain Loss: 0.731 | Train PPL:   2.078\n",
      "\t Val. Loss: 2.287 |  Val. PPL:   9.841\n",
      "Epoch: 68 | Time: 0m 4s\n",
      "\tTrain Loss: 0.707 | Train PPL:   2.029\n",
      "\t Val. Loss: 2.264 |  Val. PPL:   9.622\n",
      "Epoch: 69 | Time: 0m 4s\n",
      "\tTrain Loss: 0.692 | Train PPL:   1.997\n",
      "\t Val. Loss: 2.258 |  Val. PPL:   9.568\n",
      "Epoch: 70 | Time: 0m 4s\n",
      "\tTrain Loss: 0.673 | Train PPL:   1.960\n",
      "\t Val. Loss: 2.259 |  Val. PPL:   9.577\n",
      "Epoch: 71 | Time: 0m 4s\n",
      "\tTrain Loss: 0.659 | Train PPL:   1.933\n",
      "\t Val. Loss: 2.267 |  Val. PPL:   9.646\n",
      "Epoch: 72 | Time: 0m 4s\n",
      "\tTrain Loss: 0.639 | Train PPL:   1.895\n",
      "\t Val. Loss: 2.257 |  Val. PPL:   9.557\n",
      "Epoch: 73 | Time: 0m 4s\n",
      "\tTrain Loss: 0.616 | Train PPL:   1.851\n",
      "\t Val. Loss: 2.251 |  Val. PPL:   9.497\n",
      "Epoch: 74 | Time: 0m 4s\n",
      "\tTrain Loss: 0.600 | Train PPL:   1.823\n",
      "\t Val. Loss: 2.237 |  Val. PPL:   9.364\n",
      "Epoch: 75 | Time: 0m 4s\n",
      "\tTrain Loss: 0.588 | Train PPL:   1.801\n",
      "\t Val. Loss: 2.244 |  Val. PPL:   9.431\n",
      "Epoch: 76 | Time: 0m 4s\n",
      "\tTrain Loss: 0.572 | Train PPL:   1.773\n",
      "\t Val. Loss: 2.250 |  Val. PPL:   9.486\n",
      "Epoch: 77 | Time: 0m 4s\n",
      "\tTrain Loss: 0.560 | Train PPL:   1.751\n",
      "\t Val. Loss: 2.252 |  Val. PPL:   9.510\n",
      "Epoch: 78 | Time: 0m 4s\n",
      "\tTrain Loss: 0.543 | Train PPL:   1.721\n",
      "\t Val. Loss: 2.258 |  Val. PPL:   9.565\n",
      "Epoch: 79 | Time: 0m 4s\n",
      "\tTrain Loss: 0.528 | Train PPL:   1.695\n",
      "\t Val. Loss: 2.243 |  Val. PPL:   9.424\n",
      "Epoch: 80 | Time: 0m 4s\n",
      "\tTrain Loss: 0.510 | Train PPL:   1.666\n",
      "\t Val. Loss: 2.233 |  Val. PPL:   9.327\n",
      "Epoch: 81 | Time: 0m 4s\n",
      "\tTrain Loss: 0.499 | Train PPL:   1.647\n",
      "\t Val. Loss: 2.232 |  Val. PPL:   9.317\n",
      "Epoch: 82 | Time: 0m 4s\n",
      "\tTrain Loss: 0.489 | Train PPL:   1.631\n",
      "\t Val. Loss: 2.240 |  Val. PPL:   9.392\n",
      "Epoch: 83 | Time: 0m 4s\n",
      "\tTrain Loss: 0.472 | Train PPL:   1.604\n",
      "\t Val. Loss: 2.259 |  Val. PPL:   9.572\n",
      "Epoch: 84 | Time: 0m 4s\n",
      "\tTrain Loss: 0.462 | Train PPL:   1.587\n",
      "\t Val. Loss: 2.231 |  Val. PPL:   9.311\n",
      "Epoch: 85 | Time: 0m 4s\n",
      "\tTrain Loss: 0.450 | Train PPL:   1.568\n",
      "\t Val. Loss: 2.243 |  Val. PPL:   9.426\n",
      "Epoch: 86 | Time: 0m 4s\n",
      "\tTrain Loss: 0.434 | Train PPL:   1.543\n",
      "\t Val. Loss: 2.250 |  Val. PPL:   9.488\n",
      "Epoch: 87 | Time: 0m 4s\n",
      "\tTrain Loss: 0.423 | Train PPL:   1.527\n",
      "\t Val. Loss: 2.229 |  Val. PPL:   9.291\n",
      "Epoch: 88 | Time: 0m 4s\n",
      "\tTrain Loss: 0.410 | Train PPL:   1.507\n",
      "\t Val. Loss: 2.254 |  Val. PPL:   9.525\n",
      "Epoch: 89 | Time: 0m 4s\n",
      "\tTrain Loss: 0.403 | Train PPL:   1.497\n",
      "\t Val. Loss: 2.265 |  Val. PPL:   9.632\n",
      "Epoch: 90 | Time: 0m 4s\n",
      "\tTrain Loss: 0.389 | Train PPL:   1.475\n",
      "\t Val. Loss: 2.243 |  Val. PPL:   9.419\n",
      "Epoch: 91 | Time: 0m 4s\n",
      "\tTrain Loss: 0.378 | Train PPL:   1.460\n",
      "\t Val. Loss: 2.243 |  Val. PPL:   9.425\n",
      "Epoch: 92 | Time: 0m 4s\n",
      "\tTrain Loss: 0.371 | Train PPL:   1.449\n",
      "\t Val. Loss: 2.251 |  Val. PPL:   9.496\n",
      "Epoch: 93 | Time: 0m 4s\n",
      "\tTrain Loss: 0.358 | Train PPL:   1.430\n",
      "\t Val. Loss: 2.233 |  Val. PPL:   9.325\n",
      "Epoch: 94 | Time: 0m 4s\n",
      "\tTrain Loss: 0.350 | Train PPL:   1.419\n",
      "\t Val. Loss: 2.261 |  Val. PPL:   9.594\n",
      "Epoch: 95 | Time: 0m 4s\n",
      "\tTrain Loss: 0.342 | Train PPL:   1.408\n",
      "\t Val. Loss: 2.247 |  Val. PPL:   9.455\n",
      "Epoch: 96 | Time: 0m 4s\n",
      "\tTrain Loss: 0.327 | Train PPL:   1.387\n",
      "\t Val. Loss: 2.253 |  Val. PPL:   9.515\n",
      "Epoch: 97 | Time: 0m 4s\n",
      "\tTrain Loss: 0.323 | Train PPL:   1.381\n",
      "\t Val. Loss: 2.262 |  Val. PPL:   9.600\n",
      "Epoch: 98 | Time: 0m 4s\n",
      "\tTrain Loss: 0.313 | Train PPL:   1.368\n",
      "\t Val. Loss: 2.255 |  Val. PPL:   9.531\n",
      "Epoch: 99 | Time: 0m 4s\n",
      "\tTrain Loss: 0.304 | Train PPL:   1.356\n",
      "\t Val. Loss: 2.253 |  Val. PPL:   9.517\n",
      "Epoch: 100 | Time: 0m 4s\n",
      "\tTrain Loss: 0.297 | Train PPL:   1.345\n",
      "\t Val. Loss: 2.268 |  Val. PPL:   9.656\n"
     ]
    }
   ],
   "source": [
    "N_EPOCHS = 100\n",
    "CLIP = 1\n",
    "\n",
    "best_valid_loss = float('inf')\n",
    "train_losses = []\n",
    "valid_losses = []\n",
    "for epoch in range(N_EPOCHS):\n",
    "    \n",
    "    start_time = time.time()\n",
    "    \n",
    "    train_loss = train(model, train_iterator, optimizer, criterion, CLIP)\n",
    "    valid_loss = evaluate(model, valid_iterator, criterion)\n",
    "    \n",
    "    end_time = time.time()\n",
    "    \n",
    "    epoch_mins, epoch_secs = epoch_time(start_time, end_time)\n",
    "    \n",
    "    if valid_loss < best_valid_loss:\n",
    "        best_valid_loss = valid_loss\n",
    "        torch.save(model.state_dict(), 'Capstone_Exp2.pt')\n",
    "    train_losses.append(train_loss)\n",
    "    valid_losses.append(valid_loss)\n",
    "    print(f'Epoch: {epoch+1:02} | Time: {epoch_mins}m {epoch_secs}s')\n",
    "    print(f'\\tTrain Loss: {train_loss:.3f} | Train PPL: {math.exp(train_loss):7.3f}')\n",
    "    print(f'\\t Val. Loss: {valid_loss:.3f} |  Val. PPL: {math.exp(valid_loss):7.3f}')"
   ]
  },
  {
   "cell_type": "code",
   "execution_count": 68,
   "metadata": {
    "colab": {
     "base_uri": "https://localhost:8080/"
    },
    "id": "x7Dty35Sf9bL",
    "outputId": "ba00ef97-7fd3-476d-ad02-255258046470"
   },
   "outputs": [
    {
     "name": "stdout",
     "output_type": "stream",
     "text": [
      "| Test Loss: 2.416 | Test PPL:  11.203 |\n"
     ]
    }
   ],
   "source": [
    "model.load_state_dict(torch.load('Capstone_Exp2.pt'))\n",
    "\n",
    "test_loss = evaluate(model, test_iterator, criterion)\n",
    "\n",
    "print(f'| Test Loss: {test_loss:.3f} | Test PPL: {math.exp(test_loss):7.3f} |')"
   ]
  },
  {
   "cell_type": "code",
   "execution_count": 69,
   "metadata": {
    "id": "I_WBWxvDzPoB"
   },
   "outputs": [],
   "source": [
    "def translate_sentence(sentence, src_field, trg_field, model, device, max_len = 50):\n",
    "    \n",
    "    model.eval()\n",
    "        \n",
    "    if isinstance(sentence, str):\n",
    "        nlp = spacy.load('en')\n",
    "        tokens = [token.text.lower() for token in nlp(sentence)]\n",
    "    else:\n",
    "        tokens = [token.lower() for token in sentence]\n",
    "\n",
    "    tokens = [src_field.init_token] + tokens + [src_field.eos_token]\n",
    "        \n",
    "    src_indexes = [src_field.vocab.stoi[token] for token in tokens]\n",
    "\n",
    "    src_tensor = torch.LongTensor(src_indexes).unsqueeze(0).to(device)\n",
    "    \n",
    "    src_mask = model.make_src_mask(src_tensor)\n",
    "    \n",
    "    with torch.no_grad():\n",
    "        enc_src = model.encoder(src_tensor, src_mask)\n",
    "\n",
    "    trg_indexes = [trg_field.vocab.stoi[trg_field.init_token]]\n",
    "\n",
    "    for i in range(max_len):\n",
    "\n",
    "        trg_tensor = torch.LongTensor(trg_indexes).unsqueeze(0).to(device)\n",
    "\n",
    "        trg_mask = model.make_trg_mask(trg_tensor)\n",
    "        \n",
    "        with torch.no_grad():\n",
    "            output, attention = model.decoder(trg_tensor, enc_src, trg_mask, src_mask)\n",
    "        \n",
    "        pred_token = output.argmax(2)[:,-1].item()\n",
    "        \n",
    "        trg_indexes.append(pred_token)\n",
    "\n",
    "        if pred_token == trg_field.vocab.stoi[trg_field.eos_token]:\n",
    "            break\n",
    "    \n",
    "    trg_tokens = [trg_field.vocab.itos[i] for i in trg_indexes]\n",
    "    \n",
    "    return trg_tokens[1:], attention"
   ]
  },
  {
   "cell_type": "code",
   "execution_count": 70,
   "metadata": {
    "id": "O7e5Ny4dzToy"
   },
   "outputs": [],
   "source": [
    "def display_attention(sentence, translation, attention, n_heads = 8, n_rows = 8, n_cols = 1):\n",
    "    \n",
    "    assert n_rows * n_cols == n_heads\n",
    "    \n",
    "    fig = plt.figure(figsize=(200,100))\n",
    "    \n",
    "    for i in range(n_heads):\n",
    "        \n",
    "        ax = fig.add_subplot(n_rows, n_cols, i+1)\n",
    "        \n",
    "        _attention = attention.squeeze(0)[i].cpu().detach().numpy()\n",
    "\n",
    "        cax = ax.matshow(_attention, cmap='bone')\n",
    "\n",
    "        ax.tick_params(labelsize=12)\n",
    "        ax.set_xticklabels(['']+['<sos>']+[t.lower() for t in sentence]+['<eos>'], \n",
    "                           rotation=45)\n",
    "        ax.set_yticklabels(['']+translation)\n",
    "\n",
    "        ax.xaxis.set_major_locator(ticker.MultipleLocator(1))\n",
    "        ax.yaxis.set_major_locator(ticker.MultipleLocator(1))\n",
    "\n",
    "    plt.show()"
   ]
  },
  {
   "cell_type": "code",
   "execution_count": 71,
   "metadata": {
    "id": "hN50LEW3zX3F"
   },
   "outputs": [],
   "source": [
    "def show_results(infer_data, example_idx):\n",
    "  src = vars(infer_data.examples[example_idx])['src']\n",
    "  trg = vars(infer_data.examples[example_idx])['trg']\n",
    "  # print(f'src = {\" \".join(src)}')\n",
    "  # print(f'trg :\\n {\" \".join(trg)}')\n",
    "\n",
    "  translation, attention = translate_sentence(src, SRC, TRG, model, device)\n",
    "\n",
    "  # print(f'predicted trg :\\n {\" \".join(translation)}')\n",
    "\n",
    "  # display_attention(src, translation, attention)\n",
    "  return \" \".join(src), \" \".join(trg), \" \".join(translation)"
   ]
  },
  {
   "cell_type": "code",
   "execution_count": 72,
   "metadata": {
    "id": "OPjskSMHzaHo"
   },
   "outputs": [],
   "source": [
    "from tqdm.notebook import tqdm"
   ]
  },
  {
   "cell_type": "code",
   "execution_count": 73,
   "metadata": {
    "colab": {
     "base_uri": "https://localhost:8080/",
     "height": 67,
     "referenced_widgets": [
      "742c45666fb743b5840ede7f31d37260",
      "c74f65d5107f4f67862d00cc9a1a4e5b",
      "d6f38e5c4ae0462b8c96207cf51e80b1",
      "04b78cdeb556442bb18f322d00e4d0b4",
      "84ef12078e7446ccbf4b274df7bf2c65",
      "966c52253a844ef78e22d8f79bbe88e2",
      "0e2bec7f12194456a4ccd41e74b84131",
      "8a591839d802486f9a32426b47d8d690"
     ]
    },
    "id": "SUib4Wduz8WM",
    "outputId": "7cfa9ec1-4c4e-428a-9b09-aa18f9fb566f"
   },
   "outputs": [
    {
     "data": {
      "application/vnd.jupyter.widget-view+json": {
       "model_id": "742c45666fb743b5840ede7f31d37260",
       "version_major": 2,
       "version_minor": 0
      },
      "text/plain": [
       "HBox(children=(FloatProgress(value=0.0, max=177.0), HTML(value='')))"
      ]
     },
     "metadata": {
      "tags": []
     },
     "output_type": "display_data"
    },
    {
     "name": "stdout",
     "output_type": "stream",
     "text": [
      "\n"
     ]
    }
   ],
   "source": [
    "results_df = pd.DataFrame()\n",
    "for i in tqdm(range(len(test_data)), total = len(test_data)):\n",
    "  # print(i)\n",
    "  src, target, translation = show_results(test_data, i)\n",
    "  row_df = pd.DataFrame({'src': src, 'target': target, 'translation': translation}, index = [0])\n",
    "  results_df = pd.concat([results_df, row_df])"
   ]
  },
  {
   "cell_type": "code",
   "execution_count": 74,
   "metadata": {
    "id": "acikDf8BzPsP"
   },
   "outputs": [],
   "source": [
    "results_df.reset_index(drop = True, inplace = True)"
   ]
  },
  {
   "cell_type": "code",
   "execution_count": 75,
   "metadata": {
    "colab": {
     "base_uri": "https://localhost:8080/",
     "height": 399
    },
    "id": "P5asPFPB0maj",
    "outputId": "3dfa31e9-8751-48ea-cbe9-6757faaf1439"
   },
   "outputs": [
    {
     "data": {
      "text/html": [
       "<div>\n",
       "<style scoped>\n",
       "    .dataframe tbody tr th:only-of-type {\n",
       "        vertical-align: middle;\n",
       "    }\n",
       "\n",
       "    .dataframe tbody tr th {\n",
       "        vertical-align: top;\n",
       "    }\n",
       "\n",
       "    .dataframe thead th {\n",
       "        text-align: right;\n",
       "    }\n",
       "</style>\n",
       "<table border=\"1\" class=\"dataframe\">\n",
       "  <thead>\n",
       "    <tr style=\"text-align: right;\">\n",
       "      <th></th>\n",
       "      <th>src</th>\n",
       "      <th>target</th>\n",
       "      <th>translation</th>\n",
       "    </tr>\n",
       "  </thead>\n",
       "  <tbody>\n",
       "    <tr>\n",
       "      <th>0</th>\n",
       "      <td>write a python function to get the surface_are...</td>\n",
       "      <td>def rec_prism_surface_area(length , width , he...</td>\n",
       "      <td>def pyramid_surface_area(base_area , height ) ...</td>\n",
       "    </tr>\n",
       "    <tr>\n",
       "      <th>1</th>\n",
       "      <td>write a python function to add elements of two...</td>\n",
       "      <td>def add_two_lists(list1 , list2 ) : \\n    list...</td>\n",
       "      <td>def add_two_lists(list1 , list2 ) : \\n    list...</td>\n",
       "    </tr>\n",
       "    <tr>\n",
       "      <th>2</th>\n",
       "      <td>write a lambda function to multiply two numbers</td>\n",
       "      <td>multiply = lambda a , b : a*b</td>\n",
       "      <td>def multiply(numbers ) : \\n     total = 1 \\n  ...</td>\n",
       "    </tr>\n",
       "    <tr>\n",
       "      <th>3</th>\n",
       "      <td>write a python function to generate cube numbe...</td>\n",
       "      <td>def cube_numbers(n ) : \\n     for i in range(n...</td>\n",
       "      <td>def cube(num ) \\n     return num * num * num &lt;...</td>\n",
       "    </tr>\n",
       "    <tr>\n",
       "      <th>4</th>\n",
       "      <td>define a custom exception class which takes a ...</td>\n",
       "      <td>class MyError(Exception ) : \\n     def _ _ ini...</td>\n",
       "      <td>class American(object ) : \\n     @staticmethod...</td>\n",
       "    </tr>\n",
       "    <tr>\n",
       "      <th>...</th>\n",
       "      <td>...</td>\n",
       "      <td>...</td>\n",
       "      <td>...</td>\n",
       "    </tr>\n",
       "    <tr>\n",
       "      <th>172</th>\n",
       "      <td>write a   python function that returns the h...</td>\n",
       "      <td>def calculate_hcf(x1 , x2 ) : \\n     if x1 = =...</td>\n",
       "      <td>def lcm(x , y ) : \\n    if x &gt; y : \\n        g...</td>\n",
       "    </tr>\n",
       "    <tr>\n",
       "      <th>173</th>\n",
       "      <td>write a program to compute /+/+/+ ... +n / n+ ...</td>\n",
       "      <td>n = int(raw_input ( ) ) \\n sum=0.0 \\n for i in...</td>\n",
       "      <td>num = int(input(\"Enter a number : \") ) \\n sum ...</td>\n",
       "    </tr>\n",
       "    <tr>\n",
       "      <th>174</th>\n",
       "      <td>write a python program which takes input a num...</td>\n",
       "      <td>N = int(input(\"Please enter a number \") ) \\n f...</td>\n",
       "      <td>n = int(input(\"Enter a number : \") ) \\n n = in...</td>\n",
       "    </tr>\n",
       "    <tr>\n",
       "      <th>175</th>\n",
       "      <td>write a python class that will initiate a numb...</td>\n",
       "      <td>class Number : \\n\\t def _ _ init__(self , num ...</td>\n",
       "      <td>class CircleArea ( ) : \\n     def _ _ init__(s...</td>\n",
       "    </tr>\n",
       "    <tr>\n",
       "      <th>176</th>\n",
       "      <td>write s python program to print the difference...</td>\n",
       "      <td>A = { 1 , 2 , 3 , 4 , 5 } \\n  B = { 4 , 5 , 6 ...</td>\n",
       "      <td>A = { 1 , 2 , 3 , 4 , 5 } \\n  B = { 4 , 5 , 6 ...</td>\n",
       "    </tr>\n",
       "  </tbody>\n",
       "</table>\n",
       "<p>177 rows × 3 columns</p>\n",
       "</div>"
      ],
      "text/plain": [
       "                                                   src  ...                                        translation\n",
       "0    write a python function to get the surface_are...  ...  def pyramid_surface_area(base_area , height ) ...\n",
       "1    write a python function to add elements of two...  ...  def add_two_lists(list1 , list2 ) : \\n    list...\n",
       "2      write a lambda function to multiply two numbers  ...  def multiply(numbers ) : \\n     total = 1 \\n  ...\n",
       "3    write a python function to generate cube numbe...  ...  def cube(num ) \\n     return num * num * num <...\n",
       "4    define a custom exception class which takes a ...  ...  class American(object ) : \\n     @staticmethod...\n",
       "..                                                 ...  ...                                                ...\n",
       "172    write a   python function that returns the h...  ...  def lcm(x , y ) : \\n    if x > y : \\n        g...\n",
       "173  write a program to compute /+/+/+ ... +n / n+ ...  ...  num = int(input(\"Enter a number : \") ) \\n sum ...\n",
       "174  write a python program which takes input a num...  ...  n = int(input(\"Enter a number : \") ) \\n n = in...\n",
       "175  write a python class that will initiate a numb...  ...  class CircleArea ( ) : \\n     def _ _ init__(s...\n",
       "176  write s python program to print the difference...  ...  A = { 1 , 2 , 3 , 4 , 5 } \\n  B = { 4 , 5 , 6 ...\n",
       "\n",
       "[177 rows x 3 columns]"
      ]
     },
     "execution_count": 75,
     "metadata": {
      "tags": []
     },
     "output_type": "execute_result"
    }
   ],
   "source": [
    "results_df"
   ]
  },
  {
   "cell_type": "code",
   "execution_count": 87,
   "metadata": {
    "colab": {
     "base_uri": "https://localhost:8080/"
    },
    "id": "FFnYxCTe09rr",
    "outputId": "589bbe31-42fc-4fb1-f9ba-5b6a254d0e43"
   },
   "outputs": [
    {
     "name": "stdout",
     "output_type": "stream",
     "text": [
      "write a function to print given interger to binary\n",
      "\n",
      "\n",
      "def int_to_binary(num : int ) : \n",
      "     \" \" \" \n",
      "     function to print number to binary \n",
      "     \" \" \" \n",
      "     if isinstance(num , int ) : \n",
      "         print(f'The binary of { num } is { bin(num).replace(\"0b \" , \" \" ) } ' ) \n",
      "     else : \n",
      "         raise ValueError('Invalid Input ' )\n",
      "\n",
      "\n",
      "def convertToBinary(n ) : \n",
      "    if n > 1 : \n",
      "        convertToBinary(n//2 ) \n",
      "    print(n % 2,end = '' ) <eos>\n"
     ]
    }
   ],
   "source": [
    "idx = 51\n",
    "print(results_df.iloc[idx]['src'])\n",
    "print(\"\\n\")\n",
    "print(results_df.iloc[idx]['target'])\n",
    "print(\"\\n\")\n",
    "print(results_df.iloc[idx]['translation'])"
   ]
  },
  {
   "cell_type": "code",
   "execution_count": null,
   "metadata": {
    "id": "9MZm9A-U1QMy"
   },
   "outputs": [],
   "source": [
    "results_df.to_csv('Test.csv', index = False)"
   ]
  },
  {
   "cell_type": "code",
   "execution_count": null,
   "metadata": {
    "id": "SSp6bp522is4"
   },
   "outputs": [],
   "source": []
  }
 ],
 "metadata": {
  "accelerator": "GPU",
  "colab": {
   "collapsed_sections": [],
   "name": "Baseline_Model.ipynb",
   "provenance": []
  },
  "kernelspec": {
   "display_name": "Python 3",
   "language": "python",
   "name": "python3"
  },
  "language_info": {
   "codemirror_mode": {
    "name": "ipython",
    "version": 3
   },
   "file_extension": ".py",
   "mimetype": "text/x-python",
   "name": "python",
   "nbconvert_exporter": "python",
   "pygments_lexer": "ipython3",
   "version": "3.8.5"
  },
  "widgets": {
   "application/vnd.jupyter.widget-state+json": {
    "04b78cdeb556442bb18f322d00e4d0b4": {
     "model_module": "@jupyter-widgets/controls",
     "model_name": "HTMLModel",
     "state": {
      "_dom_classes": [],
      "_model_module": "@jupyter-widgets/controls",
      "_model_module_version": "1.5.0",
      "_model_name": "HTMLModel",
      "_view_count": null,
      "_view_module": "@jupyter-widgets/controls",
      "_view_module_version": "1.5.0",
      "_view_name": "HTMLView",
      "description": "",
      "description_tooltip": null,
      "layout": "IPY_MODEL_8a591839d802486f9a32426b47d8d690",
      "placeholder": "​",
      "style": "IPY_MODEL_0e2bec7f12194456a4ccd41e74b84131",
      "value": " 177/177 [00:19&lt;00:00,  9.29it/s]"
     }
    },
    "0e2bec7f12194456a4ccd41e74b84131": {
     "model_module": "@jupyter-widgets/controls",
     "model_name": "DescriptionStyleModel",
     "state": {
      "_model_module": "@jupyter-widgets/controls",
      "_model_module_version": "1.5.0",
      "_model_name": "DescriptionStyleModel",
      "_view_count": null,
      "_view_module": "@jupyter-widgets/base",
      "_view_module_version": "1.2.0",
      "_view_name": "StyleView",
      "description_width": ""
     }
    },
    "742c45666fb743b5840ede7f31d37260": {
     "model_module": "@jupyter-widgets/controls",
     "model_name": "HBoxModel",
     "state": {
      "_dom_classes": [],
      "_model_module": "@jupyter-widgets/controls",
      "_model_module_version": "1.5.0",
      "_model_name": "HBoxModel",
      "_view_count": null,
      "_view_module": "@jupyter-widgets/controls",
      "_view_module_version": "1.5.0",
      "_view_name": "HBoxView",
      "box_style": "",
      "children": [
       "IPY_MODEL_d6f38e5c4ae0462b8c96207cf51e80b1",
       "IPY_MODEL_04b78cdeb556442bb18f322d00e4d0b4"
      ],
      "layout": "IPY_MODEL_c74f65d5107f4f67862d00cc9a1a4e5b"
     }
    },
    "84ef12078e7446ccbf4b274df7bf2c65": {
     "model_module": "@jupyter-widgets/controls",
     "model_name": "ProgressStyleModel",
     "state": {
      "_model_module": "@jupyter-widgets/controls",
      "_model_module_version": "1.5.0",
      "_model_name": "ProgressStyleModel",
      "_view_count": null,
      "_view_module": "@jupyter-widgets/base",
      "_view_module_version": "1.2.0",
      "_view_name": "StyleView",
      "bar_color": null,
      "description_width": "initial"
     }
    },
    "8a591839d802486f9a32426b47d8d690": {
     "model_module": "@jupyter-widgets/base",
     "model_name": "LayoutModel",
     "state": {
      "_model_module": "@jupyter-widgets/base",
      "_model_module_version": "1.2.0",
      "_model_name": "LayoutModel",
      "_view_count": null,
      "_view_module": "@jupyter-widgets/base",
      "_view_module_version": "1.2.0",
      "_view_name": "LayoutView",
      "align_content": null,
      "align_items": null,
      "align_self": null,
      "border": null,
      "bottom": null,
      "display": null,
      "flex": null,
      "flex_flow": null,
      "grid_area": null,
      "grid_auto_columns": null,
      "grid_auto_flow": null,
      "grid_auto_rows": null,
      "grid_column": null,
      "grid_gap": null,
      "grid_row": null,
      "grid_template_areas": null,
      "grid_template_columns": null,
      "grid_template_rows": null,
      "height": null,
      "justify_content": null,
      "justify_items": null,
      "left": null,
      "margin": null,
      "max_height": null,
      "max_width": null,
      "min_height": null,
      "min_width": null,
      "object_fit": null,
      "object_position": null,
      "order": null,
      "overflow": null,
      "overflow_x": null,
      "overflow_y": null,
      "padding": null,
      "right": null,
      "top": null,
      "visibility": null,
      "width": null
     }
    },
    "966c52253a844ef78e22d8f79bbe88e2": {
     "model_module": "@jupyter-widgets/base",
     "model_name": "LayoutModel",
     "state": {
      "_model_module": "@jupyter-widgets/base",
      "_model_module_version": "1.2.0",
      "_model_name": "LayoutModel",
      "_view_count": null,
      "_view_module": "@jupyter-widgets/base",
      "_view_module_version": "1.2.0",
      "_view_name": "LayoutView",
      "align_content": null,
      "align_items": null,
      "align_self": null,
      "border": null,
      "bottom": null,
      "display": null,
      "flex": null,
      "flex_flow": null,
      "grid_area": null,
      "grid_auto_columns": null,
      "grid_auto_flow": null,
      "grid_auto_rows": null,
      "grid_column": null,
      "grid_gap": null,
      "grid_row": null,
      "grid_template_areas": null,
      "grid_template_columns": null,
      "grid_template_rows": null,
      "height": null,
      "justify_content": null,
      "justify_items": null,
      "left": null,
      "margin": null,
      "max_height": null,
      "max_width": null,
      "min_height": null,
      "min_width": null,
      "object_fit": null,
      "object_position": null,
      "order": null,
      "overflow": null,
      "overflow_x": null,
      "overflow_y": null,
      "padding": null,
      "right": null,
      "top": null,
      "visibility": null,
      "width": null
     }
    },
    "c74f65d5107f4f67862d00cc9a1a4e5b": {
     "model_module": "@jupyter-widgets/base",
     "model_name": "LayoutModel",
     "state": {
      "_model_module": "@jupyter-widgets/base",
      "_model_module_version": "1.2.0",
      "_model_name": "LayoutModel",
      "_view_count": null,
      "_view_module": "@jupyter-widgets/base",
      "_view_module_version": "1.2.0",
      "_view_name": "LayoutView",
      "align_content": null,
      "align_items": null,
      "align_self": null,
      "border": null,
      "bottom": null,
      "display": null,
      "flex": null,
      "flex_flow": null,
      "grid_area": null,
      "grid_auto_columns": null,
      "grid_auto_flow": null,
      "grid_auto_rows": null,
      "grid_column": null,
      "grid_gap": null,
      "grid_row": null,
      "grid_template_areas": null,
      "grid_template_columns": null,
      "grid_template_rows": null,
      "height": null,
      "justify_content": null,
      "justify_items": null,
      "left": null,
      "margin": null,
      "max_height": null,
      "max_width": null,
      "min_height": null,
      "min_width": null,
      "object_fit": null,
      "object_position": null,
      "order": null,
      "overflow": null,
      "overflow_x": null,
      "overflow_y": null,
      "padding": null,
      "right": null,
      "top": null,
      "visibility": null,
      "width": null
     }
    },
    "d6f38e5c4ae0462b8c96207cf51e80b1": {
     "model_module": "@jupyter-widgets/controls",
     "model_name": "FloatProgressModel",
     "state": {
      "_dom_classes": [],
      "_model_module": "@jupyter-widgets/controls",
      "_model_module_version": "1.5.0",
      "_model_name": "FloatProgressModel",
      "_view_count": null,
      "_view_module": "@jupyter-widgets/controls",
      "_view_module_version": "1.5.0",
      "_view_name": "ProgressView",
      "bar_style": "success",
      "description": "100%",
      "description_tooltip": null,
      "layout": "IPY_MODEL_966c52253a844ef78e22d8f79bbe88e2",
      "max": 177,
      "min": 0,
      "orientation": "horizontal",
      "style": "IPY_MODEL_84ef12078e7446ccbf4b274df7bf2c65",
      "value": 177
     }
    }
   }
  }
 },
 "nbformat": 4,
 "nbformat_minor": 1
}
